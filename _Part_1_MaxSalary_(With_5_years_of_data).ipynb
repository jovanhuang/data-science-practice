{
  "nbformat": 4,
  "nbformat_minor": 0,
  "metadata": {
    "colab": {
      "name": "***Part 1_MaxSalary (With 5 years of data).ipynb",
      "provenance": [],
      "collapsed_sections": [],
      "include_colab_link": true
    },
    "kernelspec": {
      "display_name": "Python 3",
      "name": "python3"
    }
  },
  "cells": [
    {
      "cell_type": "markdown",
      "metadata": {
        "id": "view-in-github",
        "colab_type": "text"
      },
      "source": [
        "<a href=\"https://colab.research.google.com/github/jovanhuang/data-science-practice/blob/main/_Part_1_MaxSalary_(With_5_years_of_data).ipynb\" target=\"_parent\"><img src=\"https://colab.research.google.com/assets/colab-badge.svg\" alt=\"Open In Colab\"/></a>"
      ]
    },
    {
      "cell_type": "code",
      "metadata": {
        "id": "tMVcHxyvZmfR"
      },
      "source": [
        "import numpy as np\n",
        "import pandas as pd\n",
        "import re\n",
        "from google.colab import files\n",
        "import seaborn as sns\n",
        "import matplotlib.pyplot as plt"
      ],
      "execution_count": null,
      "outputs": []
    },
    {
      "cell_type": "code",
      "metadata": {
        "colab": {
          "resources": {
            "http://localhost:8080/nbextensions/google.colab/files.js": {
              "data": "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",
              "ok": true,
              "headers": [
                [
                  "content-type",
                  "application/javascript"
                ]
              ],
              "status": 200,
              "status_text": ""
            }
          },
          "base_uri": "https://localhost:8080/",
          "height": 72
        },
        "id": "4pgMact0PJR0",
        "outputId": "ca45d8e4-93f3-4f59-c28f-a61dc1301a45"
      },
      "source": [
        "uploaded = files.upload()"
      ],
      "execution_count": null,
      "outputs": [
        {
          "output_type": "display_data",
          "data": {
            "text/html": [
              "\n",
              "     <input type=\"file\" id=\"files-199edfa1-99d9-4eec-b102-e98f18bc6f37\" name=\"files[]\" multiple disabled\n",
              "        style=\"border:none\" />\n",
              "     <output id=\"result-199edfa1-99d9-4eec-b102-e98f18bc6f37\">\n",
              "      Upload widget is only available when the cell has been executed in the\n",
              "      current browser session. Please rerun this cell to enable.\n",
              "      </output>\n",
              "      <script src=\"/nbextensions/google.colab/files.js\"></script> "
            ],
            "text/plain": [
              "<IPython.core.display.HTML object>"
            ]
          },
          "metadata": {
            "tags": []
          }
        },
        {
          "output_type": "stream",
          "text": [
            "Saving player_train_Norm.csv to player_train_Norm.csv\n"
          ],
          "name": "stdout"
        }
      ]
    },
    {
      "cell_type": "code",
      "metadata": {
        "id": "vCI_pooVZaZ-"
      },
      "source": [
        "pt1 = pd.read_csv(\"player_train_Norm.csv\")\n",
        "# pt1.count()"
      ],
      "execution_count": null,
      "outputs": []
    },
    {
      "cell_type": "code",
      "metadata": {
        "id": "QecmlUzboeMU"
      },
      "source": [
        "# pt1.isna().sum()"
      ],
      "execution_count": null,
      "outputs": []
    },
    {
      "cell_type": "code",
      "metadata": {
        "colab": {
          "base_uri": "https://localhost:8080/",
          "height": 197
        },
        "id": "0tf8i0Ojj0rw",
        "outputId": "9e70d3da-b50a-41c1-b0de-20eb66e90c3c"
      },
      "source": [
        "pt1.head()"
      ],
      "execution_count": null,
      "outputs": [
        {
          "output_type": "execute_result",
          "data": {
            "text/html": [
              "<div>\n",
              "<style scoped>\n",
              "    .dataframe tbody tr th:only-of-type {\n",
              "        vertical-align: middle;\n",
              "    }\n",
              "\n",
              "    .dataframe tbody tr th {\n",
              "        vertical-align: top;\n",
              "    }\n",
              "\n",
              "    .dataframe thead th {\n",
              "        text-align: right;\n",
              "    }\n",
              "</style>\n",
              "<table border=\"1\" class=\"dataframe\">\n",
              "  <thead>\n",
              "    <tr style=\"text-align: right;\">\n",
              "      <th></th>\n",
              "      <th>Unnamed: 0</th>\n",
              "      <th>Rk</th>\n",
              "      <th>Player</th>\n",
              "      <th>Pos</th>\n",
              "      <th>Age</th>\n",
              "      <th>Tm</th>\n",
              "      <th>G</th>\n",
              "      <th>MP</th>\n",
              "      <th>PER</th>\n",
              "      <th>TS%</th>\n",
              "      <th>3PAr</th>\n",
              "      <th>FTr</th>\n",
              "      <th>ORB%</th>\n",
              "      <th>DRB%</th>\n",
              "      <th>TRB%</th>\n",
              "      <th>AST%</th>\n",
              "      <th>STL%</th>\n",
              "      <th>BLK%</th>\n",
              "      <th>TOV%</th>\n",
              "      <th>USG%</th>\n",
              "      <th>OWS</th>\n",
              "      <th>DWS</th>\n",
              "      <th>WS</th>\n",
              "      <th>WS/48</th>\n",
              "      <th>OBPM</th>\n",
              "      <th>DBPM</th>\n",
              "      <th>BPM</th>\n",
              "      <th>VORP</th>\n",
              "      <th>Year</th>\n",
              "      <th>Salary</th>\n",
              "      <th>Norm</th>\n",
              "    </tr>\n",
              "  </thead>\n",
              "  <tbody>\n",
              "    <tr>\n",
              "      <th>0</th>\n",
              "      <td>0</td>\n",
              "      <td>1</td>\n",
              "      <td>Álex Abrines</td>\n",
              "      <td>SG</td>\n",
              "      <td>25</td>\n",
              "      <td>OKC</td>\n",
              "      <td>31</td>\n",
              "      <td>588</td>\n",
              "      <td>6.3</td>\n",
              "      <td>0.507</td>\n",
              "      <td>0.809</td>\n",
              "      <td>0.083</td>\n",
              "      <td>0.9</td>\n",
              "      <td>7.8</td>\n",
              "      <td>4.2</td>\n",
              "      <td>4.3</td>\n",
              "      <td>1.3</td>\n",
              "      <td>0.9</td>\n",
              "      <td>7.9</td>\n",
              "      <td>12.2</td>\n",
              "      <td>0.1</td>\n",
              "      <td>0.6</td>\n",
              "      <td>0.6</td>\n",
              "      <td>0.053</td>\n",
              "      <td>-3.7</td>\n",
              "      <td>0.4</td>\n",
              "      <td>-3.3</td>\n",
              "      <td>-0.2</td>\n",
              "      <td>19</td>\n",
              "      <td>NaN</td>\n",
              "      <td>0.000000</td>\n",
              "    </tr>\n",
              "    <tr>\n",
              "      <th>1</th>\n",
              "      <td>1</td>\n",
              "      <td>2</td>\n",
              "      <td>Quincy Acy</td>\n",
              "      <td>PF</td>\n",
              "      <td>28</td>\n",
              "      <td>PHO</td>\n",
              "      <td>10</td>\n",
              "      <td>123</td>\n",
              "      <td>2.9</td>\n",
              "      <td>0.379</td>\n",
              "      <td>0.833</td>\n",
              "      <td>0.556</td>\n",
              "      <td>2.7</td>\n",
              "      <td>20.1</td>\n",
              "      <td>11.3</td>\n",
              "      <td>8.2</td>\n",
              "      <td>0.4</td>\n",
              "      <td>2.7</td>\n",
              "      <td>15.2</td>\n",
              "      <td>9.2</td>\n",
              "      <td>-0.1</td>\n",
              "      <td>0.0</td>\n",
              "      <td>-0.1</td>\n",
              "      <td>-0.022</td>\n",
              "      <td>-7.6</td>\n",
              "      <td>-0.5</td>\n",
              "      <td>-8.1</td>\n",
              "      <td>-0.2</td>\n",
              "      <td>19</td>\n",
              "      <td>NaN</td>\n",
              "      <td>0.000000</td>\n",
              "    </tr>\n",
              "    <tr>\n",
              "      <th>2</th>\n",
              "      <td>2</td>\n",
              "      <td>3</td>\n",
              "      <td>Jaylen Adams</td>\n",
              "      <td>PG</td>\n",
              "      <td>22</td>\n",
              "      <td>ATL</td>\n",
              "      <td>34</td>\n",
              "      <td>428</td>\n",
              "      <td>7.6</td>\n",
              "      <td>0.474</td>\n",
              "      <td>0.673</td>\n",
              "      <td>0.082</td>\n",
              "      <td>2.6</td>\n",
              "      <td>12.3</td>\n",
              "      <td>7.4</td>\n",
              "      <td>19.8</td>\n",
              "      <td>1.5</td>\n",
              "      <td>1.0</td>\n",
              "      <td>19.7</td>\n",
              "      <td>13.5</td>\n",
              "      <td>-0.1</td>\n",
              "      <td>0.2</td>\n",
              "      <td>0.1</td>\n",
              "      <td>0.011</td>\n",
              "      <td>-3.8</td>\n",
              "      <td>-0.5</td>\n",
              "      <td>-4.3</td>\n",
              "      <td>-0.2</td>\n",
              "      <td>19</td>\n",
              "      <td>164410.0</td>\n",
              "      <td>0.004060</td>\n",
              "    </tr>\n",
              "    <tr>\n",
              "      <th>3</th>\n",
              "      <td>3</td>\n",
              "      <td>4</td>\n",
              "      <td>Steven Adams</td>\n",
              "      <td>C</td>\n",
              "      <td>25</td>\n",
              "      <td>OKC</td>\n",
              "      <td>80</td>\n",
              "      <td>2669</td>\n",
              "      <td>18.5</td>\n",
              "      <td>0.591</td>\n",
              "      <td>0.002</td>\n",
              "      <td>0.361</td>\n",
              "      <td>14.7</td>\n",
              "      <td>14.8</td>\n",
              "      <td>14.7</td>\n",
              "      <td>6.6</td>\n",
              "      <td>2.0</td>\n",
              "      <td>2.4</td>\n",
              "      <td>12.6</td>\n",
              "      <td>16.4</td>\n",
              "      <td>5.1</td>\n",
              "      <td>4.0</td>\n",
              "      <td>9.1</td>\n",
              "      <td>0.163</td>\n",
              "      <td>0.7</td>\n",
              "      <td>0.4</td>\n",
              "      <td>1.1</td>\n",
              "      <td>2.1</td>\n",
              "      <td>19</td>\n",
              "      <td>26009571.0</td>\n",
              "      <td>0.642346</td>\n",
              "    </tr>\n",
              "    <tr>\n",
              "      <th>4</th>\n",
              "      <td>4</td>\n",
              "      <td>5</td>\n",
              "      <td>Bam Adebayo</td>\n",
              "      <td>C</td>\n",
              "      <td>21</td>\n",
              "      <td>MIA</td>\n",
              "      <td>82</td>\n",
              "      <td>1913</td>\n",
              "      <td>17.9</td>\n",
              "      <td>0.623</td>\n",
              "      <td>0.031</td>\n",
              "      <td>0.465</td>\n",
              "      <td>9.2</td>\n",
              "      <td>24.0</td>\n",
              "      <td>16.6</td>\n",
              "      <td>14.2</td>\n",
              "      <td>1.8</td>\n",
              "      <td>3.0</td>\n",
              "      <td>17.1</td>\n",
              "      <td>15.8</td>\n",
              "      <td>3.4</td>\n",
              "      <td>3.4</td>\n",
              "      <td>6.8</td>\n",
              "      <td>0.171</td>\n",
              "      <td>-0.4</td>\n",
              "      <td>2.2</td>\n",
              "      <td>1.8</td>\n",
              "      <td>1.8</td>\n",
              "      <td>19</td>\n",
              "      <td>3476384.0</td>\n",
              "      <td>0.085855</td>\n",
              "    </tr>\n",
              "  </tbody>\n",
              "</table>\n",
              "</div>"
            ],
            "text/plain": [
              "   Unnamed: 0  Rk        Player Pos  Age  ...  BPM  VORP  Year      Salary      Norm\n",
              "0           0   1  Álex Abrines  SG   25  ... -3.3  -0.2    19         NaN  0.000000\n",
              "1           1   2    Quincy Acy  PF   28  ... -8.1  -0.2    19         NaN  0.000000\n",
              "2           2   3  Jaylen Adams  PG   22  ... -4.3  -0.2    19    164410.0  0.004060\n",
              "3           3   4  Steven Adams   C   25  ...  1.1   2.1    19  26009571.0  0.642346\n",
              "4           4   5   Bam Adebayo   C   21  ...  1.8   1.8    19   3476384.0  0.085855\n",
              "\n",
              "[5 rows x 31 columns]"
            ]
          },
          "metadata": {
            "tags": []
          },
          "execution_count": 40
        }
      ]
    },
    {
      "cell_type": "code",
      "metadata": {
        "colab": {
          "resources": {
            "http://localhost:8080/nbextensions/google.colab/files.js": {
              "data": "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",
              "ok": true,
              "headers": [
                [
                  "content-type",
                  "application/javascript"
                ]
              ],
              "status": 200,
              "status_text": ""
            }
          },
          "base_uri": "https://localhost:8080/",
          "height": 72
        },
        "id": "leYu8AA7Z2AJ",
        "outputId": "3cfc853d-b7d4-4150-ac0e-7a4523bbfbcd"
      },
      "source": [
        "uploaded1 = files.upload()"
      ],
      "execution_count": null,
      "outputs": [
        {
          "output_type": "display_data",
          "data": {
            "text/html": [
              "\n",
              "     <input type=\"file\" id=\"files-16f05ecf-e277-4f64-9aa7-843a94544671\" name=\"files[]\" multiple disabled\n",
              "        style=\"border:none\" />\n",
              "     <output id=\"result-16f05ecf-e277-4f64-9aa7-843a94544671\">\n",
              "      Upload widget is only available when the cell has been executed in the\n",
              "      current browser session. Please rerun this cell to enable.\n",
              "      </output>\n",
              "      <script src=\"/nbextensions/google.colab/files.js\"></script> "
            ],
            "text/plain": [
              "<IPython.core.display.HTML object>"
            ]
          },
          "metadata": {
            "tags": []
          }
        },
        {
          "output_type": "stream",
          "text": [
            "Saving player_test_Norm.csv to player_test_Norm.csv\n"
          ],
          "name": "stdout"
        }
      ]
    },
    {
      "cell_type": "code",
      "metadata": {
        "id": "ue8Tfle5ZbbH"
      },
      "source": [
        "pt2 = pd.read_csv(\"player_test_Norm.csv\")"
      ],
      "execution_count": null,
      "outputs": []
    },
    {
      "cell_type": "code",
      "metadata": {
        "id": "CUTzrj5548Qo"
      },
      "source": [
        "pt1 = pt1.dropna()\n",
        "pt2 = pt2.dropna()"
      ],
      "execution_count": null,
      "outputs": []
    },
    {
      "cell_type": "code",
      "metadata": {
        "colab": {
          "base_uri": "https://localhost:8080/"
        },
        "id": "EmIQXD89ZuQZ",
        "outputId": "917977cc-098b-40ba-d187-7d698f4e95bf"
      },
      "source": [
        "pt1.shape"
      ],
      "execution_count": null,
      "outputs": [
        {
          "output_type": "execute_result",
          "data": {
            "text/plain": [
              "(2221, 31)"
            ]
          },
          "metadata": {
            "tags": []
          },
          "execution_count": 43
        }
      ]
    },
    {
      "cell_type": "code",
      "metadata": {
        "id": "HAAmM8EwaELs"
      },
      "source": [
        "# pt1.head()"
      ],
      "execution_count": null,
      "outputs": []
    },
    {
      "cell_type": "code",
      "metadata": {
        "colab": {
          "base_uri": "https://localhost:8080/"
        },
        "id": "XLxOUEiXlmnB",
        "outputId": "fd471f29-fd51-4854-cf82-42fdd814436f"
      },
      "source": [
        "''' Assume players with dual position, the first position is their main position'''\n",
        "pt1[\"Pos\"] = pt1[\"Pos\"].str.replace('SF-SG', 'SF')\n",
        "pt1[\"Pos\"] = pt1[\"Pos\"].str.replace('PF-C', 'PF')\n",
        "pt1[\"Pos\"] = pt1[\"Pos\"].str.replace('SF-PF','SF')\n",
        "pt1[\"Pos\"] = pt1[\"Pos\"].str.replace('PF-SF','PF')\n",
        "pt1[\"Pos\"] = pt1[\"Pos\"].str.replace('SG-PG','SG')\n",
        "pt1[\"Pos\"] = pt1[\"Pos\"].str.replace('SF-C','SF')\n",
        "pt1[\"Pos\"] = pt1[\"Pos\"].str.replace('PG-SG','PG')\n",
        "pt1[\"Pos\"] = pt1[\"Pos\"].str.replace('SG-SF','SG')\n",
        "pt1[\"Pos\"] = pt1[\"Pos\"].str.replace('SG-PF','SG')\n",
        "pt1[\"Pos\"] = pt1[\"Pos\"].str.replace('C-PF','C')\n",
        "pt1['Pos'].value_counts()"
      ],
      "execution_count": null,
      "outputs": [
        {
          "output_type": "execute_result",
          "data": {
            "text/plain": [
              "SG    499\n",
              "PF    467\n",
              "PG    461\n",
              "C     399\n",
              "SF    395\n",
              "Name: Pos, dtype: int64"
            ]
          },
          "metadata": {
            "tags": []
          },
          "execution_count": 7
        }
      ]
    },
    {
      "cell_type": "code",
      "metadata": {
        "colab": {
          "base_uri": "https://localhost:8080/"
        },
        "id": "X0bRCX3fTOf5",
        "outputId": "3f5c168d-22a0-4ab1-b6e8-0ca10b67c2af"
      },
      "source": [
        "''' Assume players with dual position, the first position is their main position'''\n",
        "pt2[\"Pos\"] = pt2[\"Pos\"].str.replace('SF-SG', 'SF')\n",
        "pt2[\"Pos\"] = pt2[\"Pos\"].str.replace('PF-C', 'PF')\n",
        "pt2[\"Pos\"] = pt2[\"Pos\"].str.replace('SF-PF','SF')\n",
        "pt2[\"Pos\"] = pt2[\"Pos\"].str.replace('PF-SF','PF')\n",
        "pt2[\"Pos\"] = pt2[\"Pos\"].str.replace('SG-PG','SG')\n",
        "pt2[\"Pos\"] = pt2[\"Pos\"].str.replace('SF-C','SF')\n",
        "pt2[\"Pos\"] = pt2[\"Pos\"].str.replace('PG-SG','PG')\n",
        "pt2[\"Pos\"] = pt2[\"Pos\"].str.replace('SG-SF','SG')\n",
        "pt2[\"Pos\"] = pt2[\"Pos\"].str.replace('SG-PF','SG')\n",
        "pt2[\"Pos\"] = pt2[\"Pos\"].str.replace('C-PF','C')\n",
        "pt2['Pos'].value_counts()"
      ],
      "execution_count": null,
      "outputs": [
        {
          "output_type": "execute_result",
          "data": {
            "text/plain": [
              "SG    110\n",
              "C     101\n",
              "PF     95\n",
              "SF     93\n",
              "PG     77\n",
              "Name: Pos, dtype: int64"
            ]
          },
          "metadata": {
            "tags": []
          },
          "execution_count": 8
        }
      ]
    },
    {
      "cell_type": "markdown",
      "metadata": {
        "id": "rZluYjgpjq2I"
      },
      "source": [
        "# Exploratory Analysis"
      ]
    },
    {
      "cell_type": "markdown",
      "metadata": {
        "id": "0VHdGNDpmyI8"
      },
      "source": [
        "## Salary across states\n",
        "\n",
        "Ohio most highly paid"
      ]
    },
    {
      "cell_type": "code",
      "metadata": {
        "colab": {
          "base_uri": "https://localhost:8080/",
          "height": 197
        },
        "id": "qERitaEuknUa",
        "outputId": "d74cfd28-0912-4b9c-a27f-e218a07673d0"
      },
      "source": [
        "#Map geographical location to the team (Used Tm_y as we are looking only at current team)\n",
        "\n",
        "''' Geographical '''\n",
        "state = {'GSW':'California', 'WAS':'Washington, D.C.', 'PHO':'Arizona',\n",
        "         'HOU':'Texas', 'BRK':'New York', 'LAL':'California',\n",
        "         'DET':'Michigan', 'LAC':'California', 'UTA':'Utah',\n",
        "         'MIA':'Florida', 'BOS':'Massachusetts', 'PHI':'Pennsylvania',\n",
        "         'MIL':'Wisconsin', 'POR':'Oregon', 'CLE':'Ohio',\n",
        "         'TOR':'Canada', 'DAL':'Texas', 'MIN':'Minnesota',\n",
        "         'DEN':'Colorado', 'CHO':'North Carolina', 'CHI':'Illinois',\n",
        "         'SAS':'Texas', 'NOP':'Louisiana', 'OKC':'Oklahoma',\n",
        "         'ORL':'Florida', 'SAC':'California', 'IND':'Indiana',\n",
        "         'ATL':'Georgia', 'NYK':'New York', 'MEM':'Tennessee'}\n",
        "\n",
        "\n",
        "pt1[\"State\"] = pt1[\"Tm\"].map(state)\n",
        "pt1.head()\n",
        "\n",
        "# Download this df to use in Tablaeu\n",
        "# pt1.to_excel(\"output.xlsx\")\n",
        "# files.download(\"output.xlsx\")"
      ],
      "execution_count": null,
      "outputs": [
        {
          "output_type": "execute_result",
          "data": {
            "text/html": [
              "<div>\n",
              "<style scoped>\n",
              "    .dataframe tbody tr th:only-of-type {\n",
              "        vertical-align: middle;\n",
              "    }\n",
              "\n",
              "    .dataframe tbody tr th {\n",
              "        vertical-align: top;\n",
              "    }\n",
              "\n",
              "    .dataframe thead th {\n",
              "        text-align: right;\n",
              "    }\n",
              "</style>\n",
              "<table border=\"1\" class=\"dataframe\">\n",
              "  <thead>\n",
              "    <tr style=\"text-align: right;\">\n",
              "      <th></th>\n",
              "      <th>Unnamed: 0</th>\n",
              "      <th>Rk</th>\n",
              "      <th>Player</th>\n",
              "      <th>Pos</th>\n",
              "      <th>Age</th>\n",
              "      <th>Tm</th>\n",
              "      <th>G</th>\n",
              "      <th>MP</th>\n",
              "      <th>PER</th>\n",
              "      <th>TS%</th>\n",
              "      <th>3PAr</th>\n",
              "      <th>FTr</th>\n",
              "      <th>ORB%</th>\n",
              "      <th>DRB%</th>\n",
              "      <th>TRB%</th>\n",
              "      <th>AST%</th>\n",
              "      <th>STL%</th>\n",
              "      <th>BLK%</th>\n",
              "      <th>TOV%</th>\n",
              "      <th>USG%</th>\n",
              "      <th>OWS</th>\n",
              "      <th>DWS</th>\n",
              "      <th>WS</th>\n",
              "      <th>WS/48</th>\n",
              "      <th>OBPM</th>\n",
              "      <th>DBPM</th>\n",
              "      <th>BPM</th>\n",
              "      <th>VORP</th>\n",
              "      <th>Year</th>\n",
              "      <th>Salary</th>\n",
              "      <th>Norm</th>\n",
              "      <th>State</th>\n",
              "    </tr>\n",
              "  </thead>\n",
              "  <tbody>\n",
              "    <tr>\n",
              "      <th>2</th>\n",
              "      <td>2</td>\n",
              "      <td>3</td>\n",
              "      <td>Jaylen Adams</td>\n",
              "      <td>PG</td>\n",
              "      <td>22</td>\n",
              "      <td>ATL</td>\n",
              "      <td>34</td>\n",
              "      <td>428</td>\n",
              "      <td>7.6</td>\n",
              "      <td>0.474</td>\n",
              "      <td>0.673</td>\n",
              "      <td>0.082</td>\n",
              "      <td>2.6</td>\n",
              "      <td>12.3</td>\n",
              "      <td>7.4</td>\n",
              "      <td>19.8</td>\n",
              "      <td>1.5</td>\n",
              "      <td>1.0</td>\n",
              "      <td>19.7</td>\n",
              "      <td>13.5</td>\n",
              "      <td>-0.1</td>\n",
              "      <td>0.2</td>\n",
              "      <td>0.1</td>\n",
              "      <td>0.011</td>\n",
              "      <td>-3.8</td>\n",
              "      <td>-0.5</td>\n",
              "      <td>-4.3</td>\n",
              "      <td>-0.2</td>\n",
              "      <td>19</td>\n",
              "      <td>164410.0</td>\n",
              "      <td>0.004060</td>\n",
              "      <td>Georgia</td>\n",
              "    </tr>\n",
              "    <tr>\n",
              "      <th>3</th>\n",
              "      <td>3</td>\n",
              "      <td>4</td>\n",
              "      <td>Steven Adams</td>\n",
              "      <td>C</td>\n",
              "      <td>25</td>\n",
              "      <td>OKC</td>\n",
              "      <td>80</td>\n",
              "      <td>2669</td>\n",
              "      <td>18.5</td>\n",
              "      <td>0.591</td>\n",
              "      <td>0.002</td>\n",
              "      <td>0.361</td>\n",
              "      <td>14.7</td>\n",
              "      <td>14.8</td>\n",
              "      <td>14.7</td>\n",
              "      <td>6.6</td>\n",
              "      <td>2.0</td>\n",
              "      <td>2.4</td>\n",
              "      <td>12.6</td>\n",
              "      <td>16.4</td>\n",
              "      <td>5.1</td>\n",
              "      <td>4.0</td>\n",
              "      <td>9.1</td>\n",
              "      <td>0.163</td>\n",
              "      <td>0.7</td>\n",
              "      <td>0.4</td>\n",
              "      <td>1.1</td>\n",
              "      <td>2.1</td>\n",
              "      <td>19</td>\n",
              "      <td>26009571.0</td>\n",
              "      <td>0.642346</td>\n",
              "      <td>Oklahoma</td>\n",
              "    </tr>\n",
              "    <tr>\n",
              "      <th>4</th>\n",
              "      <td>4</td>\n",
              "      <td>5</td>\n",
              "      <td>Bam Adebayo</td>\n",
              "      <td>C</td>\n",
              "      <td>21</td>\n",
              "      <td>MIA</td>\n",
              "      <td>82</td>\n",
              "      <td>1913</td>\n",
              "      <td>17.9</td>\n",
              "      <td>0.623</td>\n",
              "      <td>0.031</td>\n",
              "      <td>0.465</td>\n",
              "      <td>9.2</td>\n",
              "      <td>24.0</td>\n",
              "      <td>16.6</td>\n",
              "      <td>14.2</td>\n",
              "      <td>1.8</td>\n",
              "      <td>3.0</td>\n",
              "      <td>17.1</td>\n",
              "      <td>15.8</td>\n",
              "      <td>3.4</td>\n",
              "      <td>3.4</td>\n",
              "      <td>6.8</td>\n",
              "      <td>0.171</td>\n",
              "      <td>-0.4</td>\n",
              "      <td>2.2</td>\n",
              "      <td>1.8</td>\n",
              "      <td>1.8</td>\n",
              "      <td>19</td>\n",
              "      <td>3476384.0</td>\n",
              "      <td>0.085855</td>\n",
              "      <td>Florida</td>\n",
              "    </tr>\n",
              "    <tr>\n",
              "      <th>7</th>\n",
              "      <td>7</td>\n",
              "      <td>8</td>\n",
              "      <td>LaMarcus Aldridge</td>\n",
              "      <td>C</td>\n",
              "      <td>33</td>\n",
              "      <td>SAS</td>\n",
              "      <td>81</td>\n",
              "      <td>2687</td>\n",
              "      <td>22.9</td>\n",
              "      <td>0.576</td>\n",
              "      <td>0.032</td>\n",
              "      <td>0.312</td>\n",
              "      <td>10.3</td>\n",
              "      <td>19.8</td>\n",
              "      <td>15.1</td>\n",
              "      <td>11.6</td>\n",
              "      <td>0.8</td>\n",
              "      <td>3.4</td>\n",
              "      <td>8.8</td>\n",
              "      <td>26.9</td>\n",
              "      <td>6.4</td>\n",
              "      <td>2.9</td>\n",
              "      <td>9.3</td>\n",
              "      <td>0.167</td>\n",
              "      <td>2.4</td>\n",
              "      <td>-0.6</td>\n",
              "      <td>1.8</td>\n",
              "      <td>2.6</td>\n",
              "      <td>19</td>\n",
              "      <td>26167890.0</td>\n",
              "      <td>0.646256</td>\n",
              "      <td>Texas</td>\n",
              "    </tr>\n",
              "    <tr>\n",
              "      <th>9</th>\n",
              "      <td>9</td>\n",
              "      <td>10</td>\n",
              "      <td>Grayson Allen</td>\n",
              "      <td>SG</td>\n",
              "      <td>23</td>\n",
              "      <td>UTA</td>\n",
              "      <td>38</td>\n",
              "      <td>416</td>\n",
              "      <td>7.5</td>\n",
              "      <td>0.516</td>\n",
              "      <td>0.556</td>\n",
              "      <td>0.337</td>\n",
              "      <td>0.8</td>\n",
              "      <td>5.1</td>\n",
              "      <td>3.0</td>\n",
              "      <td>8.9</td>\n",
              "      <td>0.7</td>\n",
              "      <td>1.1</td>\n",
              "      <td>13.9</td>\n",
              "      <td>24.4</td>\n",
              "      <td>-0.4</td>\n",
              "      <td>0.4</td>\n",
              "      <td>0.0</td>\n",
              "      <td>0.002</td>\n",
              "      <td>-4.2</td>\n",
              "      <td>-2.1</td>\n",
              "      <td>-6.3</td>\n",
              "      <td>-0.5</td>\n",
              "      <td>19</td>\n",
              "      <td>2445087.0</td>\n",
              "      <td>0.060385</td>\n",
              "      <td>Utah</td>\n",
              "    </tr>\n",
              "  </tbody>\n",
              "</table>\n",
              "</div>"
            ],
            "text/plain": [
              "   Unnamed: 0  Rk             Player Pos  ...  Year      Salary      Norm     State\n",
              "2           2   3       Jaylen Adams  PG  ...    19    164410.0  0.004060   Georgia\n",
              "3           3   4       Steven Adams   C  ...    19  26009571.0  0.642346  Oklahoma\n",
              "4           4   5        Bam Adebayo   C  ...    19   3476384.0  0.085855   Florida\n",
              "7           7   8  LaMarcus Aldridge   C  ...    19  26167890.0  0.646256     Texas\n",
              "9           9  10      Grayson Allen  SG  ...    19   2445087.0  0.060385      Utah\n",
              "\n",
              "[5 rows x 32 columns]"
            ]
          },
          "metadata": {
            "tags": []
          },
          "execution_count": 48
        }
      ]
    },
    {
      "cell_type": "code",
      "metadata": {
        "colab": {
          "base_uri": "https://localhost:8080/",
          "height": 416
        },
        "id": "9l7ADgffk1hk",
        "outputId": "4cb846be-da76-4846-eb20-a94898d36161"
      },
      "source": [
        "# Visualisation of Salary distribution across states in US using plotly\n",
        "# Group salaries by states, then calculate and plot mean\n",
        "salaries_compare = pt1[[\"Norm\", \"State\"]].groupby(['State'], as_index=False).mean()\n",
        "salaries_compare = salaries_compare.sort_values('Norm', ascending=True)\n",
        "\n",
        "import plotly.express as px\n",
        "fig = px.bar(salaries_compare, x='State', y='Norm', color='Norm',\n",
        "             labels={'2020-21 Average Salaries':'Norm'}, height=400)\n",
        "fig.show()"
      ],
      "execution_count": null,
      "outputs": [
        {
          "output_type": "display_data",
          "data": {
            "text/html": [
              "<html>\n",
              "<head><meta charset=\"utf-8\" /></head>\n",
              "<body>\n",
              "    <div>\n",
              "            <script src=\"https://cdnjs.cloudflare.com/ajax/libs/mathjax/2.7.5/MathJax.js?config=TeX-AMS-MML_SVG\"></script><script type=\"text/javascript\">if (window.MathJax) {MathJax.Hub.Config({SVG: {font: \"STIX-Web\"}});}</script>\n",
              "                <script type=\"text/javascript\">window.PlotlyConfig = {MathJaxConfig: 'local'};</script>\n",
              "        <script src=\"https://cdn.plot.ly/plotly-latest.min.js\"></script>    \n",
              "            <div id=\"d8e3307a-6196-44b1-83a7-086a3f491d2b\" class=\"plotly-graph-div\" style=\"height:400px; width:100%;\"></div>\n",
              "            <script type=\"text/javascript\">\n",
              "                \n",
              "                    window.PLOTLYENV=window.PLOTLYENV || {};\n",
              "                    \n",
              "                if (document.getElementById(\"d8e3307a-6196-44b1-83a7-086a3f491d2b\")) {\n",
              "                    Plotly.newPlot(\n",
              "                        'd8e3307a-6196-44b1-83a7-086a3f491d2b',\n",
              "                        [{\"alignmentgroup\": \"True\", \"hoverlabel\": {\"namelength\": 0}, \"hovertemplate\": \"State=%{x}<br>Norm=%{marker.color}\", \"legendgroup\": \"\", \"marker\": {\"color\": [0.1345452969428571, 0.15987468390277776, 0.17717132117073173, 0.20360850927586222, 0.20678488286363636, 0.20738262665753426, 0.20747885485185186, 0.20985940272222217, 0.20990941993749992, 0.2115286378103448, 0.21354704452346557, 0.21443949068750004, 0.21488809303030298, 0.2170164760983607, 0.225646109115942, 0.22694335126942994, 0.23355173624999997, 0.24684739644615378, 0.25061602128358207, 0.25359504092424257, 0.25632902914925365, 0.26527918114084503, 0.28210034754285707], \"coloraxis\": \"coloraxis\"}, \"name\": \"\", \"offsetgroup\": \"\", \"orientation\": \"v\", \"showlegend\": false, \"textposition\": \"auto\", \"type\": \"bar\", \"x\": [\"Pennsylvania\", \"Arizona\", \"New York\", \"Indiana\", \"Illinois\", \"Utah\", \"Tennessee\", \"Louisiana\", \"Massachusetts\", \"Georgia\", \"California\", \"Minnesota\", \"Colorado\", \"Florida\", \"Michigan\", \"Texas\", \"Wisconsin\", \"North Carolina\", \"Oregon\", \"Canada\", \"Washington, D.C.\", \"Oklahoma\", \"Ohio\"], \"xaxis\": \"x\", \"y\": [0.1345452969428571, 0.15987468390277776, 0.17717132117073173, 0.20360850927586222, 0.20678488286363636, 0.20738262665753426, 0.20747885485185186, 0.20985940272222217, 0.20990941993749992, 0.2115286378103448, 0.21354704452346557, 0.21443949068750004, 0.21488809303030298, 0.2170164760983607, 0.225646109115942, 0.22694335126942994, 0.23355173624999997, 0.24684739644615378, 0.25061602128358207, 0.25359504092424257, 0.25632902914925365, 0.26527918114084503, 0.28210034754285707], \"yaxis\": \"y\"}],\n",
              "                        {\"barmode\": \"relative\", \"coloraxis\": {\"colorbar\": {\"title\": {\"text\": \"Norm\"}}, \"colorscale\": [[0.0, \"#0d0887\"], [0.1111111111111111, \"#46039f\"], [0.2222222222222222, \"#7201a8\"], [0.3333333333333333, \"#9c179e\"], [0.4444444444444444, \"#bd3786\"], [0.5555555555555556, \"#d8576b\"], [0.6666666666666666, \"#ed7953\"], [0.7777777777777778, \"#fb9f3a\"], [0.8888888888888888, \"#fdca26\"], [1.0, \"#f0f921\"]]}, \"height\": 400, \"legend\": {\"tracegroupgap\": 0}, \"margin\": {\"t\": 60}, \"template\": {\"data\": {\"bar\": [{\"error_x\": {\"color\": \"#2a3f5f\"}, \"error_y\": {\"color\": \"#2a3f5f\"}, \"marker\": {\"line\": {\"color\": \"#E5ECF6\", \"width\": 0.5}}, \"type\": \"bar\"}], \"barpolar\": [{\"marker\": {\"line\": {\"color\": \"#E5ECF6\", \"width\": 0.5}}, \"type\": \"barpolar\"}], \"carpet\": [{\"aaxis\": {\"endlinecolor\": \"#2a3f5f\", \"gridcolor\": \"white\", \"linecolor\": \"white\", \"minorgridcolor\": \"white\", \"startlinecolor\": \"#2a3f5f\"}, \"baxis\": {\"endlinecolor\": \"#2a3f5f\", \"gridcolor\": \"white\", \"linecolor\": \"white\", \"minorgridcolor\": \"white\", \"startlinecolor\": \"#2a3f5f\"}, \"type\": \"carpet\"}], \"choropleth\": [{\"colorbar\": {\"outlinewidth\": 0, \"ticks\": \"\"}, \"type\": \"choropleth\"}], \"contour\": [{\"colorbar\": {\"outlinewidth\": 0, \"ticks\": \"\"}, \"colorscale\": [[0.0, \"#0d0887\"], [0.1111111111111111, \"#46039f\"], [0.2222222222222222, \"#7201a8\"], [0.3333333333333333, \"#9c179e\"], [0.4444444444444444, \"#bd3786\"], [0.5555555555555556, \"#d8576b\"], [0.6666666666666666, \"#ed7953\"], [0.7777777777777778, \"#fb9f3a\"], [0.8888888888888888, \"#fdca26\"], [1.0, \"#f0f921\"]], \"type\": \"contour\"}], \"contourcarpet\": [{\"colorbar\": {\"outlinewidth\": 0, \"ticks\": \"\"}, \"type\": \"contourcarpet\"}], \"heatmap\": [{\"colorbar\": {\"outlinewidth\": 0, \"ticks\": \"\"}, \"colorscale\": [[0.0, \"#0d0887\"], [0.1111111111111111, \"#46039f\"], [0.2222222222222222, \"#7201a8\"], [0.3333333333333333, \"#9c179e\"], [0.4444444444444444, \"#bd3786\"], [0.5555555555555556, \"#d8576b\"], [0.6666666666666666, \"#ed7953\"], [0.7777777777777778, \"#fb9f3a\"], [0.8888888888888888, \"#fdca26\"], [1.0, \"#f0f921\"]], \"type\": \"heatmap\"}], \"heatmapgl\": [{\"colorbar\": {\"outlinewidth\": 0, \"ticks\": \"\"}, \"colorscale\": [[0.0, \"#0d0887\"], [0.1111111111111111, \"#46039f\"], [0.2222222222222222, \"#7201a8\"], [0.3333333333333333, \"#9c179e\"], [0.4444444444444444, \"#bd3786\"], [0.5555555555555556, \"#d8576b\"], [0.6666666666666666, \"#ed7953\"], [0.7777777777777778, \"#fb9f3a\"], [0.8888888888888888, \"#fdca26\"], [1.0, \"#f0f921\"]], \"type\": \"heatmapgl\"}], \"histogram\": [{\"marker\": {\"colorbar\": {\"outlinewidth\": 0, \"ticks\": \"\"}}, \"type\": \"histogram\"}], \"histogram2d\": [{\"colorbar\": {\"outlinewidth\": 0, \"ticks\": \"\"}, \"colorscale\": [[0.0, \"#0d0887\"], [0.1111111111111111, \"#46039f\"], [0.2222222222222222, \"#7201a8\"], [0.3333333333333333, \"#9c179e\"], [0.4444444444444444, \"#bd3786\"], [0.5555555555555556, \"#d8576b\"], [0.6666666666666666, \"#ed7953\"], [0.7777777777777778, \"#fb9f3a\"], [0.8888888888888888, \"#fdca26\"], [1.0, \"#f0f921\"]], \"type\": \"histogram2d\"}], \"histogram2dcontour\": [{\"colorbar\": {\"outlinewidth\": 0, \"ticks\": \"\"}, \"colorscale\": [[0.0, \"#0d0887\"], [0.1111111111111111, \"#46039f\"], [0.2222222222222222, \"#7201a8\"], [0.3333333333333333, \"#9c179e\"], [0.4444444444444444, \"#bd3786\"], [0.5555555555555556, \"#d8576b\"], [0.6666666666666666, \"#ed7953\"], [0.7777777777777778, \"#fb9f3a\"], [0.8888888888888888, \"#fdca26\"], [1.0, \"#f0f921\"]], \"type\": \"histogram2dcontour\"}], \"mesh3d\": [{\"colorbar\": {\"outlinewidth\": 0, \"ticks\": \"\"}, \"type\": \"mesh3d\"}], \"parcoords\": [{\"line\": {\"colorbar\": {\"outlinewidth\": 0, \"ticks\": \"\"}}, \"type\": \"parcoords\"}], \"pie\": [{\"automargin\": true, \"type\": \"pie\"}], \"scatter\": [{\"marker\": {\"colorbar\": {\"outlinewidth\": 0, \"ticks\": \"\"}}, \"type\": \"scatter\"}], \"scatter3d\": [{\"line\": {\"colorbar\": {\"outlinewidth\": 0, \"ticks\": \"\"}}, \"marker\": {\"colorbar\": {\"outlinewidth\": 0, \"ticks\": \"\"}}, \"type\": \"scatter3d\"}], \"scattercarpet\": [{\"marker\": {\"colorbar\": {\"outlinewidth\": 0, \"ticks\": \"\"}}, \"type\": \"scattercarpet\"}], \"scattergeo\": [{\"marker\": {\"colorbar\": {\"outlinewidth\": 0, \"ticks\": \"\"}}, \"type\": \"scattergeo\"}], \"scattergl\": [{\"marker\": {\"colorbar\": {\"outlinewidth\": 0, \"ticks\": \"\"}}, \"type\": \"scattergl\"}], \"scattermapbox\": [{\"marker\": {\"colorbar\": {\"outlinewidth\": 0, \"ticks\": \"\"}}, \"type\": \"scattermapbox\"}], \"scatterpolar\": [{\"marker\": {\"colorbar\": {\"outlinewidth\": 0, \"ticks\": \"\"}}, \"type\": \"scatterpolar\"}], \"scatterpolargl\": [{\"marker\": {\"colorbar\": {\"outlinewidth\": 0, \"ticks\": \"\"}}, \"type\": \"scatterpolargl\"}], \"scatterternary\": [{\"marker\": {\"colorbar\": {\"outlinewidth\": 0, \"ticks\": \"\"}}, \"type\": \"scatterternary\"}], \"surface\": [{\"colorbar\": {\"outlinewidth\": 0, \"ticks\": \"\"}, \"colorscale\": [[0.0, \"#0d0887\"], [0.1111111111111111, \"#46039f\"], [0.2222222222222222, \"#7201a8\"], [0.3333333333333333, \"#9c179e\"], [0.4444444444444444, \"#bd3786\"], [0.5555555555555556, \"#d8576b\"], [0.6666666666666666, \"#ed7953\"], [0.7777777777777778, \"#fb9f3a\"], [0.8888888888888888, \"#fdca26\"], [1.0, \"#f0f921\"]], \"type\": \"surface\"}], \"table\": [{\"cells\": {\"fill\": {\"color\": \"#EBF0F8\"}, \"line\": {\"color\": \"white\"}}, \"header\": {\"fill\": {\"color\": \"#C8D4E3\"}, \"line\": {\"color\": \"white\"}}, \"type\": \"table\"}]}, \"layout\": {\"annotationdefaults\": {\"arrowcolor\": \"#2a3f5f\", \"arrowhead\": 0, \"arrowwidth\": 1}, \"coloraxis\": {\"colorbar\": {\"outlinewidth\": 0, \"ticks\": \"\"}}, \"colorscale\": {\"diverging\": [[0, \"#8e0152\"], [0.1, \"#c51b7d\"], [0.2, \"#de77ae\"], [0.3, \"#f1b6da\"], [0.4, \"#fde0ef\"], [0.5, \"#f7f7f7\"], [0.6, \"#e6f5d0\"], [0.7, \"#b8e186\"], [0.8, \"#7fbc41\"], [0.9, \"#4d9221\"], [1, \"#276419\"]], \"sequential\": [[0.0, \"#0d0887\"], [0.1111111111111111, \"#46039f\"], [0.2222222222222222, \"#7201a8\"], [0.3333333333333333, \"#9c179e\"], [0.4444444444444444, \"#bd3786\"], [0.5555555555555556, \"#d8576b\"], [0.6666666666666666, \"#ed7953\"], [0.7777777777777778, \"#fb9f3a\"], [0.8888888888888888, \"#fdca26\"], [1.0, \"#f0f921\"]], \"sequentialminus\": [[0.0, \"#0d0887\"], [0.1111111111111111, \"#46039f\"], [0.2222222222222222, \"#7201a8\"], [0.3333333333333333, \"#9c179e\"], [0.4444444444444444, \"#bd3786\"], [0.5555555555555556, \"#d8576b\"], [0.6666666666666666, \"#ed7953\"], [0.7777777777777778, \"#fb9f3a\"], [0.8888888888888888, \"#fdca26\"], [1.0, \"#f0f921\"]]}, \"colorway\": [\"#636efa\", \"#EF553B\", \"#00cc96\", \"#ab63fa\", \"#FFA15A\", \"#19d3f3\", \"#FF6692\", \"#B6E880\", \"#FF97FF\", \"#FECB52\"], \"font\": {\"color\": \"#2a3f5f\"}, \"geo\": {\"bgcolor\": \"white\", \"lakecolor\": \"white\", \"landcolor\": \"#E5ECF6\", \"showlakes\": true, \"showland\": true, \"subunitcolor\": \"white\"}, \"hoverlabel\": {\"align\": \"left\"}, \"hovermode\": \"closest\", \"mapbox\": {\"style\": \"light\"}, \"paper_bgcolor\": \"white\", \"plot_bgcolor\": \"#E5ECF6\", \"polar\": {\"angularaxis\": {\"gridcolor\": \"white\", \"linecolor\": \"white\", \"ticks\": \"\"}, \"bgcolor\": \"#E5ECF6\", \"radialaxis\": {\"gridcolor\": \"white\", \"linecolor\": \"white\", \"ticks\": \"\"}}, \"scene\": {\"xaxis\": {\"backgroundcolor\": \"#E5ECF6\", \"gridcolor\": \"white\", \"gridwidth\": 2, \"linecolor\": \"white\", \"showbackground\": true, \"ticks\": \"\", \"zerolinecolor\": \"white\"}, \"yaxis\": {\"backgroundcolor\": \"#E5ECF6\", \"gridcolor\": \"white\", \"gridwidth\": 2, \"linecolor\": \"white\", \"showbackground\": true, \"ticks\": \"\", \"zerolinecolor\": \"white\"}, \"zaxis\": {\"backgroundcolor\": \"#E5ECF6\", \"gridcolor\": \"white\", \"gridwidth\": 2, \"linecolor\": \"white\", \"showbackground\": true, \"ticks\": \"\", \"zerolinecolor\": \"white\"}}, \"shapedefaults\": {\"line\": {\"color\": \"#2a3f5f\"}}, \"ternary\": {\"aaxis\": {\"gridcolor\": \"white\", \"linecolor\": \"white\", \"ticks\": \"\"}, \"baxis\": {\"gridcolor\": \"white\", \"linecolor\": \"white\", \"ticks\": \"\"}, \"bgcolor\": \"#E5ECF6\", \"caxis\": {\"gridcolor\": \"white\", \"linecolor\": \"white\", \"ticks\": \"\"}}, \"title\": {\"x\": 0.05}, \"xaxis\": {\"automargin\": true, \"gridcolor\": \"white\", \"linecolor\": \"white\", \"ticks\": \"\", \"title\": {\"standoff\": 15}, \"zerolinecolor\": \"white\", \"zerolinewidth\": 2}, \"yaxis\": {\"automargin\": true, \"gridcolor\": \"white\", \"linecolor\": \"white\", \"ticks\": \"\", \"title\": {\"standoff\": 15}, \"zerolinecolor\": \"white\", \"zerolinewidth\": 2}}}, \"xaxis\": {\"anchor\": \"y\", \"domain\": [0.0, 1.0], \"title\": {\"text\": \"State\"}}, \"yaxis\": {\"anchor\": \"x\", \"domain\": [0.0, 1.0], \"title\": {\"text\": \"Norm\"}}},\n",
              "                        {\"responsive\": true}\n",
              "                    ).then(function(){\n",
              "                            \n",
              "var gd = document.getElementById('d8e3307a-6196-44b1-83a7-086a3f491d2b');\n",
              "var x = new MutationObserver(function (mutations, observer) {{\n",
              "        var display = window.getComputedStyle(gd).display;\n",
              "        if (!display || display === 'none') {{\n",
              "            console.log([gd, 'removed!']);\n",
              "            Plotly.purge(gd);\n",
              "            observer.disconnect();\n",
              "        }}\n",
              "}});\n",
              "\n",
              "// Listen for the removal of the full notebook cells\n",
              "var notebookContainer = gd.closest('#notebook-container');\n",
              "if (notebookContainer) {{\n",
              "    x.observe(notebookContainer, {childList: true});\n",
              "}}\n",
              "\n",
              "// Listen for the clearing of the current output cell\n",
              "var outputEl = gd.closest('.output');\n",
              "if (outputEl) {{\n",
              "    x.observe(outputEl, {childList: true});\n",
              "}}\n",
              "\n",
              "                        })\n",
              "                };\n",
              "                \n",
              "            </script>\n",
              "        </div>\n",
              "</body>\n",
              "</html>"
            ]
          },
          "metadata": {
            "tags": []
          }
        }
      ]
    },
    {
      "cell_type": "markdown",
      "metadata": {
        "id": "kojGLkbmm8Lq"
      },
      "source": [
        "## Boxplot of all players' statistics on efficiency"
      ]
    },
    {
      "cell_type": "code",
      "metadata": {
        "colab": {
          "base_uri": "https://localhost:8080/",
          "height": 542
        },
        "id": "xyYayW02mGQ5",
        "outputId": "df2c788c-6ae5-480f-86a1-1243025f71d0"
      },
      "source": [
        "import plotly.graph_objects as go\n",
        "\n",
        "x_data = [\"PER\", \"OWS\", \"DWS\", \"WS\",\n",
        "                  \"OBPM\", \"DBPM\", \"BPM\"]\n",
        "\n",
        "y_data = [pt1[\"PER\"], pt1[\"OWS\"], pt1[\"DWS\"],\n",
        "          pt1[\"WS\"], pt1[\"OBPM\"], pt1[\"DBPM\"], pt1[\"BPM\"]]\n",
        "\n",
        "colors = ['rgba(93, 164, 214, 0.5)', 'rgba(255, 144, 14, 0.5)', 'rgba(44, 160, 101, 0.5)',\n",
        "          'rgba(255, 65, 54, 0.5)', 'rgba(207, 114, 255, 0.5)', 'rgba(127, 96, 0, 0.5)','rgba(93, 164, 214, 0.5)']\n",
        "\n",
        "fig = go.Figure()\n",
        "\n",
        "for xd, yd, cls in zip(x_data, y_data, colors):\n",
        "        fig.add_trace(go.Box(\n",
        "            y=yd,\n",
        "            name=xd,\n",
        "            whiskerwidth=0.2,\n",
        "            fillcolor=cls,\n",
        "            marker_size=2,\n",
        "            line_width=1)\n",
        "        )\n",
        "\n",
        "\n",
        "fig.update_layout(\n",
        "    title='All Players Statistics (Efficiency) over the past 5 years',\n",
        "    yaxis=dict(\n",
        "        autorange=True,\n",
        "        showgrid=True,\n",
        "        zeroline=True,\n",
        "        dtick=5,\n",
        "        gridcolor='rgb(255, 255, 255)',\n",
        "        gridwidth=1,\n",
        "        zerolinecolor='rgb(255, 255, 255)',\n",
        "        zerolinewidth=2,\n",
        "    ),\n",
        "    margin=dict(\n",
        "        l=40,\n",
        "        r=30,\n",
        "        b=80,\n",
        "        t=100,\n",
        "    ),\n",
        "    paper_bgcolor='rgb(243, 243, 243)',\n",
        "    plot_bgcolor='rgb(243, 243, 243)',\n",
        "    showlegend=False,\n",
        ")\n",
        "\n",
        "fig.show()"
      ],
      "execution_count": null,
      "outputs": [
        {
          "output_type": "display_data",
          "data": {
            "text/html": [
              "<html>\n",
              "<head><meta charset=\"utf-8\" /></head>\n",
              "<body>\n",
              "    <div>\n",
              "            <script src=\"https://cdnjs.cloudflare.com/ajax/libs/mathjax/2.7.5/MathJax.js?config=TeX-AMS-MML_SVG\"></script><script type=\"text/javascript\">if (window.MathJax) {MathJax.Hub.Config({SVG: {font: \"STIX-Web\"}});}</script>\n",
              "                <script type=\"text/javascript\">window.PlotlyConfig = {MathJaxConfig: 'local'};</script>\n",
              "        <script src=\"https://cdn.plot.ly/plotly-latest.min.js\"></script>    \n",
              "            <div id=\"bdbd4804-4f81-4538-b55b-ff76f5bfdac7\" class=\"plotly-graph-div\" style=\"height:525px; width:100%;\"></div>\n",
              "            <script type=\"text/javascript\">\n",
              "                \n",
              "                    window.PLOTLYENV=window.PLOTLYENV || {};\n",
              "                    \n",
              "                if (document.getElementById(\"bdbd4804-4f81-4538-b55b-ff76f5bfdac7\")) {\n",
              "                    Plotly.newPlot(\n",
              "                        'bdbd4804-4f81-4538-b55b-ff76f5bfdac7',\n",
              "                        [{\"fillcolor\": \"rgba(93, 164, 214, 0.5)\", \"line\": {\"width\": 1}, \"marker\": {\"size\": 2}, \"name\": \"PER\", \"type\": \"box\", \"whiskerwidth\": 0.2, \"y\": [7.6, 18.5, 17.9, 22.9, 7.5, 18.5, 13.2, 12.8, 30.9, -0.9, 10.9, 9.8, 11.6, 12.0, 10.5, 13.0, 20.5, 11.7, 11.7, 14.9, 12.8, 13.1, 12.3, 11.0, 9.6, 11.9, 14.0, 11.9, 20.8, 14.2, 11.9, 12.9, 9.5, 11.8, 19.2, 14.4, 15.4, 19.3, 12.7, 6.0, 20.2, 22.2, 7.6, 5.5, 14.5, 19.6, 11.6, 10.8, 12.0, 10.8, 13.1, 10.7, 17.8, 7.6, 6.9, 13.5, 10.9, 12.8, 21.0, 10.5, 11.0, 9.1, 16.5, 15.6, 17.9, 12.7, 12.4, 13.2, 9.0, 7.0, 20.2, 22.3, 19.8, 12.4, 12.9, 23.8, 12.1, 7.8, 11.8, 14.7, 12.7, 16.1, 13.9, 18.0, 11.2, 11.5, 11.2, 8.5, 9.1, 5.8, 2.0, 7.0, 9.2, 16.8, 21.8, 13.5, 21.4, 13.6, 13.1, 13.3, 11.0, 14.7, 10.4, 11.7, 12.1, 11.4, 24.4, 9.8, 30.3, 17.3, 16.0, 11.1, 7.5, 11.5, 19.6, 17.5, 10.1, 18.1, 16.3, 9.1, 10.8, 16.0, 23.4, 7.8, 12.4, 24.2, 11.8, 10.8, 12.5, 26.1, 11.0, 11.3, 9.9, 15.1, 3.5, 11.2, 21.8, 6.4, 12.7, 11.0, 12.0, 12.3, 18.1, 1.2, 10.5, 21.0, 10.7, 16.7, 16.9, 16.0, 17.5, 23.3, 17.8, 14.4, 13.4, 24.6, 8.3, 15.1, 12.2, 6.1, 13.8, 10.8, 13.0, 12.9, 14.7, 14.9, 14.3, 13.6, 21.0, 30.6, 23.4, 12.2, 13.5, 17.2, 18.2, 15.3, 12.4, 9.3, 3.6, 15.6, 17.1, 10.8, 17.5, 12.1, 13.5, 11.6, 6.8, 11.9, 19.4, 10.0, 11.0, 8.9, 12.5, 20.7, 12.3, 13.0, 10.9, 20.2, 12.2, 17.4, 10.1, 8.8, 18.7, 13.1, 13.4, 13.4, 24.3, 13.0, 8.7, 9.4, 10.6, 11.3, 10.1, 13.9, 15.2, 25.6, 6.3, 10.9, 9.6, 9.8, 8.9, 12.4, 12.3, 12.8, 15.3, 13.7, 19.0, 18.0, 22.1, 11.0, 16.8, 22.3, 21.8, 23.5, 11.9, 13.3, 13.1, 8.9, 0.8, 10.5, 8.7, 11.5, 14.8, 11.2, 11.3, 11.2, 11.0, 14.0, 17.3, 18.7, 13.5, 10.3, 13.7, 8.3, 11.9, 17.2, 25.8, 15.8, 14.9, 23.7, 17.3, 14.6, 15.9, 19.5, 16.5, 12.7, 12.0, 11.3, 12.9, 10.2, 17.1, 10.3, 11.3, 2.9, 9.2, 7.5, -0.7, 8.7, 17.0, 11.6, 21.8, 9.4, 11.2, 10.5, 14.3, 9.9, 6.4, 16.5, 8.4, 13.7, 17.9, 9.3, 17.2, 11.8, 11.5, 14.2, 11.7, 12.3, 10.4, 16.2, 18.9, 14.6, 16.0, 10.8, 10.4, 12.5, 6.0, 5.8, 9.8, 8.8, 15.3, 13.5, 13.0, 18.6, 19.3, 6.0, 12.5, 9.0, 16.8, 8.5, 17.9, 7.6, 9.4, 17.6, 14.4, 11.5, 15.5, 14.6, 17.0, 8.1, 10.5, 19.7, 11.5, 10.3, 15.3, 14.0, 36.9, 8.1, 17.8, 19.4, 15.9, 15.0, 18.0, 16.1, 17.2, 15.3, 20.4, 13.3, 11.9, 9.9, 21.0, 14.0, 7.7, 6.8, 8.2, 7.6, 8.7, 7.2, 22.0, 12.1, 19.5, 15.4, 12.9, 14.0, 19.4, 21.9, 22.5, 8.6, 9.4, 7.7, 12.1, 12.0, 11.0, 10.7, 11.3, 18.7, 20.0, 11.1, 13.1, 9.5, 10.7, 12.4, 7.6, 4.7, 3.1, 11.7, 15.1, 15.4, 8.5, 8.6, 8.0, 17.0, 6.2, 16.6, 18.4, 5.2, 8.6, 26.3, 11.6, 18.0, 12.4, 13.7, 13.9, 10.1, 11.4, 21.7, 10.8, 18.0, 14.3, 3.3, 21.1, 14.8, 23.5, 12.4, 15.1, 9.7, 12.6, 18.8, 12.8, 21.9, 17.1, 23.4, 15.5, 14.5, 16.6, 16.2, 17.0, 17.2, 17.3, 1.5, 19.4, 18.9, 19.5, 18.3, 11.9, 12.8, 14.1, 10.7, 11.7, 8.2, 12.0, 18.1, 22.8, 14.9, 14.6, 14.4, 16.1, 10.6, 8.2, 15.6, 14.8, 21.5, 14.7, 12.7, 11.5, 14.4, 11.1, 2.1, 15.3, 16.6, 13.4, 11.3, 13.6, 8.3, 15.9, 16.3, 13.1, 11.1, 15.9, 9.7, 14.0, 10.6, 12.4, 11.4, 11.3, 15.2, 14.7, 11.6, 16.3, 7.7, 9.5, 18.4, 15.8, 10.1, 15.3, 19.8, 11.5, 9.4, 13.9, 13.8, 14.0, 14.4, 11.0, 9.1, 12.2, 6.2, 8.8, -3.1, 12.6, 13.0, 9.3, 21.3, 11.4, -1.8, 11.2, 12.4, 11.8, 12.8, 12.1, 15.9, 9.6, 14.1, 12.8, 16.3, 14.4, 11.7, 20.1, 13.2, 8.8, 8.3, 11.6, 16.9, 10.9, 9.9, 12.6, 17.5, 11.2, 18.6, 7.4, 14.5, 25.2, 14.7, 8.7, 16.6, 13.9, 12.7, 14.1, 8.9, 7.3, -11.4, 28.0, 11.8, 9.6, 4.5, 7.4, 16.1, 30.8, 20.0, 13.3, 8.5, 15.5, 17.4, 12.7, 17.2, 10.2, 11.1, 11.2, 21.4, 12.3, 11.6, 27.6, 8.4, 11.6, 16.5, 11.5, 7.3, 12.0, 6.6, 20.5, 17.7, 5.7, 16.2, 18.4, 9.9, 21.8, 12.4, 12.4, 11.0, 8.1, 5.9, 13.7, 9.8, 9.5, 16.8, 12.3, 21.7, 22.7, 19.7, 13.0, 14.0, 9.7, 13.0, 16.1, 21.6, 11.9, 11.2, 11.4, 12.7, 18.2, 8.6, 8.7, 16.5, 16.4, 8.9, 15.4, 14.9, 9.9, 15.8, 14.4, 14.6, 14.2, 22.8, 8.3, 13.3, 26.7, 14.8, 4.9, 5.6, 16.7, 10.6, 9.8, 10.4, 20.2, 13.2, 18.0, 15.4, 14.3, 21.5, 16.2, 10.2, 6.8, 18.8, 12.1, 13.1, 12.3, 21.4, 19.2, 15.4, 16.6, 12.3, 9.6, 21.5, 14.6, 17.2, 15.6, 19.8, 25.9, 19.7, 13.2, 11.3, 15.9, 19.7, 15.0, 14.5, 15.5, 15.4, 17.9, 14.1, 4.8, 12.0, 11.1, 11.1, 6.9, 18.3, 21.0, 15.5, 17.3, 20.3, 17.5, 24.9, 10.5, 8.6, 15.1, 10.0, 17.1, 18.5, 10.5, 14.8, 14.2, 14.9, 14.9, 10.9, 10.5, 11.3, 18.5, 11.5, 17.8, 13.5, 22.0, 14.8, 11.9, 20.7, 15.6, 12.9, 22.7, 16.2, 18.8, 19.3, 13.2, 10.8, 5.9, 12.4, 1.6, 16.7, 16.1, 10.6, 17.7, 12.5, 13.1, 6.1, 16.6, 14.4, 16.7, 6.8, 10.4, 10.2, 14.1, 0.5, 15.6, 13.3, 14.3, 12.3, 4.6, 7.4, 11.1, 3.6, 7.9, 20.0, 8.7, 21.2, 10.3, 40.8, 13.7, 15.8, 14.8, 16.6, 13.8, 18.7, 19.9, 18.0, 9.3, 11.1, 9.9, 15.1, 12.1, 9.9, 8.7, 14.5, 10.3, 15.3, 15.0, 5.2, 8.6, 14.5, 1.3, 19.2, 3.8, 14.8, 15.9, 15.9, 15.6, 7.8, 14.5, 15.9, 16.3, 14.6, 26.0, 7.7, 2.9, 7.8, 13.8, 7.0, 7.4, 4.7, 15.2, 18.0, 13.4, 13.1, 15.0, 9.9, 7.1, 11.1, 11.6, 13.8, 34.9, 13.0, 11.8, 10.2, 12.2, 12.7, 11.4, 12.0, 10.6, 16.9, 11.8, -7.5, 19.5, 10.3, 10.1, 10.6, 9.1, 11.7, 8.5, 8.2, 8.6, 10.6, 10.6, 10.4, 15.3, 11.0, 19.3, 13.5, 15.4, 12.4, 15.9, 11.2, 15.2, 0.8, 10.9, 9.4, 15.2, 16.8, 15.1, 13.8, 11.1, 8.1, 14.7, 11.4, 11.9, 11.1, 14.5, 8.5, 9.4, 5.8, 13.1, 11.0, 10.2, 12.0, 14.9, 14.3, 15.2, 5.2, -16.6, 22.7, 10.2, 19.5, 18.9, 7.5, 8.8, 18.6, 15.4, 17.9, 20.6, 10.9, 11.4, 20.6, 19.7, 22.3, 8.0, 6.6, 8.6, 10.9, 10.2, 20.8, 15.6, 15.0, 15.8, 8.3, 11.1, 7.8, 11.8, 12.8, 15.4, 17.4, 13.2, 21.4, 10.9, 12.2, 10.1, 17.6, 19.9, 6.2, 5.9, 16.0, 29.1, 26.2, 20.0, 13.9, 15.7, 12.8, 8.7, 14.4, 5.6, 11.8, 17.6, 20.4, 25.7, 15.0, 17.8, 13.4, 14.9, 8.5, 14.2, 15.7, 15.0, 17.1, 14.1, 18.9, 14.7, 17.3, 15.5, 10.9, 21.3, 22.4, 12.4, 12.9, 12.7, 15.3, 17.6, 15.1, 9.2, 12.3, 12.9, 17.2, 18.8, 20.3, 14.1, 12.9, 12.5, 11.6, 11.7, 12.3, 11.7, 16.0, 17.4, 15.6, 12.4, 17.8, 13.4, 15.5, 22.5, 9.4, 10.4, 13.0, 14.9, 11.2, 12.3, 20.0, 15.9, 11.9, 14.4, 20.2, 13.2, 11.4, 9.9, 11.8, 4.9, 12.0, 14.0, 14.3, 11.3, 21.3, -7.7, 12.4, 11.1, 18.3, 11.9, 12.7, 13.9, 13.9, 15.3, 14.7, 32.0, 11.5, 14.3, 10.8, 15.9, 7.7, 19.4, 4.6, 23.6, 13.2, 12.2, 14.0, 15.8, 8.6, 13.8, 31.5, 14.9, 25.0, 18.7, 17.0, 11.3, 15.0, 21.5, 14.0, 17.1, 8.9, 14.7, 21.2, 11.7, 9.1, 28.2, 11.0, 10.1, 13.7, 17.8, 18.3, 18.1, 10.7, 12.6, 17.9, 17.7, 21.0, 13.2, 21.6, 11.9, 14.6, 7.6, 7.8, 7.1, 13.9, 4.7, 19.1, 12.9, 11.8, 14.9, 19.0, 11.7, 17.7, 21.7, 15.5, 8.4, 20.9, 15.7, 17.5, 11.1, 17.0, 13.5, 19.0, 12.6, 11.2, 10.5, 19.3, 10.1, 14.6, 13.0, 13.4, 12.0, 22.1, 25.3, 14.6, 13.1, 12.7, 3.4, 16.2, 15.0, 18.2, 4.3, 9.1, 12.4, 18.3, 12.9, 18.6, 9.4, 11.2, 16.8, 13.2, 16.4, 12.2, 10.7, 19.7, 9.4, 4.7, 11.8, 14.2, 15.9, 14.1, 19.4, 18.9, 10.4, 6.7, 13.1, 11.8, 13.5, 14.9, 13.9, 12.2, 10.3, 19.9, 14.5, 19.6, 27.5, 18.2, 9.7, 10.0, 7.2, 11.9, 13.7, 13.1, 14.3, 10.3, 16.0, 11.4, 12.0, 10.7, 15.2, 8.7, 13.8, 11.0, 10.3, 11.6, 13.5, 11.2, 20.6, 12.4, 12.5, 24.0, 12.5, 10.3, 16.9, 15.6, 8.0, 16.7, 14.7, 9.7, 15.1, 15.9, 22.4, 15.7, 14.3, 9.7, 8.9, 13.7, 11.5, 11.7, 11.2, 19.6, 15.5, 24.0, 12.4, 26.0, 11.3, 16.2, 22.2, 13.8, 13.8, 18.6, 21.7, 17.6, 19.0, 22.2, 11.6, 13.6, 15.4, 13.2, 16.6, 14.0, 11.5, 11.9, 10.1, 10.9, 7.3, 15.9, 9.1, 10.3, 7.7, 17.7, 12.2, 10.9, 7.4, 19.9, 8.6, 14.2, 14.2, 14.2, 9.9, 13.5, 16.8, 15.3, 16.8, 6.5, 21.3, 21.8, 11.4, 12.7, 12.2, 10.8, 14.0, 10.7, 14.6, 9.9, 15.2, 13.6, 9.6, 13.5, 9.5, 10.2, 14.8, 14.1, 16.2, 15.6, 14.4, 20.8, 6.7, 19.0, 7.4, 17.5, 17.1, 16.7, 16.3, 16.2, 14.8, 16.2, 16.2, 5.1, 10.6, 26.2, 5.6, 12.9, 13.9, 8.2, 17.2, 17.4, 14.5, 13.8, 16.8, 13.3, 10.6, 11.8, 8.6, 9.6, 10.2, 13.9, 18.3, 11.4, 11.1, 10.2, 13.8, 13.9, 13.7, 11.4, 14.5, 16.9, 13.4, 12.9, 5.0, 17.6, 10.1, 13.2, 13.6, 14.0, 12.4, 15.9, 8.4, 11.9, 13.9, 6.6, 11.3, 14.6, 10.6, 13.2, 7.7, 6.4, 17.1, 13.7, 9.2, 13.5, 9.8, 17.1, 20.0, 21.8, 12.6, 16.7, 17.9, 9.3, 10.2, 21.5, 10.4, 9.2, 14.2, 13.3, 14.7, 18.6, 15.9, 14.7, 14.6, 15.5, 10.2, 7.1, 22.5, 13.6, 15.4, 9.5, 12.6, 8.9, 4.2, 8.6, 20.3, 9.4, 20.8, 19.8, 8.9, 8.3, 39.3, 17.6, 27.6, 25.7, 16.5, 21.1, 14.6, 17.2, 3.3, 16.8, 8.4, 17.7, 16.4, 8.3, 18.3, 17.8, 1.8, 3.6, 9.1, 17.5, 16.1, 15.4, 11.8, -1.4, 13.1, 16.5, 8.9, 12.7, 18.6, 11.6, 13.3, 11.3, 13.9, 14.7, 12.8, 12.5, 13.5, 26.1, 17.9, 12.4, 12.8, 8.3, 7.5, 6.5, 11.5, 16.3, 10.3, 10.2, 10.7, 15.5, 15.8, 8.7, 13.1, 11.5, 20.1, 13.7, 17.8, 13.3, 5.3, 13.0, 12.2, 11.0, 15.0, 20.5, 9.3, 9.4, 19.7, 14.6, 15.7, 14.4, 9.1, 7.5, 13.3, 14.9, 9.5, 7.2, 5.9, 18.5, 10.8, 10.3, 11.7, 10.8, 11.6, 25.1, 14.6, 12.8, 8.1, 21.4, 11.9, 11.7, 9.9, 10.0, 11.4, 10.0, 7.5, 16.3, 16.6, 14.9, 12.3, 13.1, 13.2, 15.3, 12.9, 23.2, 11.8, 11.8, 6.9, 15.3, 25.8, 26.5, 23.2, 13.2, 11.6, 12.0, 17.6, 14.9, 10.2, 15.5, 24.6, 10.4, 27.5, 10.6, 11.5, 16.0, 13.1, 7.5, 9.4, 10.1, 24.0, 16.8, 14.2, 12.7, 20.9, 10.6, 10.1, 7.6, 11.9, 8.1, 27.6, 9.7, 7.5, 12.6, 9.9, 24.1, 10.6, 10.9, 4.0, 14.3, 15.5, 15.8, 14.9, 8.5, 20.3, 15.8, 11.4, 10.9, 13.1, 6.5, 14.1, 7.7, 5.9, 13.9, 12.4, 15.6, 17.4, 10.4, 11.2, 8.0, 20.3, 20.2, 17.9, -2.1, 20.2, 10.2, 9.5, 15.0, 15.4, 13.8, 23.3, 14.5, 13.2, 15.4, 10.6, 10.1, 3.0, 10.3, 13.2, 10.1, 16.5, 11.9, 13.5, 10.5, 22.6, 13.6, 27.4, 19.2, 13.8, 16.5, 9.0, 16.9, -2.2, 8.7, 8.8, 15.6, 14.8, 18.6, 22.2, 10.8, 15.3, 7.2, 11.8, 9.9, 14.9, 18.9, 19.3, 8.0, 5.9, 17.1, 12.7, 13.7, 18.6, 12.4, 17.7, 20.8, 26.1, 16.4, 17.5, 13.8, 14.3, 12.4, 8.5, 23.0, 7.7, 30.8, 14.9, 27.0, 18.9, 8.3, 12.1, 12.7, 9.7, 9.3, 15.0, 17.2, 17.0, 12.8, 7.2, 15.9, 8.4, 5.3, 13.8, 21.8, 13.2, 13.0, 23.7, 14.3, 13.1, 12.4, 12.1, 10.8, 13.5, 13.8, 12.4, 17.0, 12.6, 12.9, 11.6, 14.6, 15.4, 4.9, 12.2, 15.0, 27.6, 8.9, 14.2, 12.3, 7.5, 7.2, 17.6, 24.1, 19.2, 10.1, 13.6, 20.4, 14.4, 21.1, 22.9, 9.9, 10.1, 10.9, 14.1, 14.0, 8.7, 11.9, 10.2, 13.1, 8.6, 19.9, 15.2, 16.8, 1.1, 10.7, 11.3, 9.3, 25.2, 9.1, 9.8, 9.8, 13.1, 14.8, 9.8, 15.0, 17.8, 21.1, 12.1, 12.4, 13.7, 12.3, 10.9, 14.9, 9.6, 11.9, 14.4, 13.6, 11.5, 10.7, 0.1, 5.9, 6.3, 5.0, 15.2, 20.4, 20.8, 19.8, 15.5, 17.0, 12.2, 14.9, 14.4, 15.5, 20.5, 6.6, 14.8, 13.6, 15.3, 12.3, 16.1, 12.7, 19.1, 13.0, 7.7, 10.8, 26.2, 14.4, 5.5, 6.1, 4.0, 17.2, 4.5, 5.7, 10.9, 18.1, 18.9, 16.3, 8.4, 8.0, 9.0, 12.2, 17.3, 14.9, 17.6, 14.0, 13.2, 5.9, 9.8, 10.2, 13.6, 17.7, 12.3, 16.3, 18.5, 17.1, 10.7, 9.6, 11.4, 9.6, 11.5, 13.6, 17.0, 13.4, 14.9, 11.1, 10.9, 16.8, 6.6, 15.3, 6.9, 6.5, 5.9, 11.9, 6.9, 10.0, 6.2, 12.4, 9.0, 11.5, 9.9, 5.9, 12.0, 13.6, 9.7, 17.5, 9.0, 9.6, 10.3, 6.6, 10.3, -1.2, 0.3, 19.2, 11.2, 9.1, 26.5, 8.4, 17.4, 15.3, 11.1, 25.9, 11.4, 18.5, 13.0, 7.3, 10.5, 7.8, 10.8, 18.5, 14.5, 21.3, 23.2, 11.0, 5.9, 12.5, 16.6, 30.6, 7.5, 7.6, 22.6, 16.5, 19.5, 14.0, 15.0, 11.4, 10.6, 10.1, 11.1, 13.7, 9.0, 7.8, 12.8, 8.2, 18.8, 18.5, 15.0, 10.0, 14.1, 14.9, 16.7, 13.0, 6.9, 17.0, 8.2, 20.6, 15.7, 6.0, 25.0, 17.5, 2.6, 12.0, 13.0, 15.9, 12.6, 21.6, 27.3, 12.7, 10.0, 7.3, 11.8, 8.4, 5.8, 9.3, 16.6, 12.5, 15.8, 16.2, 14.4, 7.5, 12.0, 14.5, 18.4, 9.0, 17.8, 14.1, 14.1, 14.2, 18.0, 7.1, 12.4, 16.4, 12.1, 14.1, 12.6, 10.1, 19.7, 13.0, 20.0, 10.9, 18.1, -28.5, 9.6, 9.7, 9.0, 9.5, 11.2, 8.9, 14.2, 14.3, 9.8, 26.1, 13.6, 8.2, 9.1, 9.9, 13.6, 21.0, 13.1, 23.7, 7.4, -0.1, 7.9, 13.2, 13.5, -7.3, 13.7, 24.5, 14.3, 10.8, 10.8, 8.7, 15.5, 17.6, 13.0, 14.2, 10.9, 11.1, 9.4, 16.4, 16.9, 15.4, 18.3, 7.5, 18.8, 15.4, 9.3, 12.8, -5.1, 22.6, 12.9, 12.3, 9.8, 13.0, 10.4, 10.2, 10.8, 10.0, 8.4, 13.8, 28.2, 9.8, 28.9, 16.6, 15.5, 15.8, 11.5, 8.6, 5.5, 21.0, 17.0, 14.7, 15.9, 10.0, 11.6, -5.0, 22.9, 8.8, 14.5, 26.0, 10.5, 12.5, 22.9, 11.6, 11.9, 11.2, 7.2, 21.1, 16.7, 17.4, 18.8, 13.0, 7.4, 11.4, 7.6, 9.1, 15.5, 11.2, 11.3, 13.1, 13.9, 10.2, 12.4, 13.8, 12.2, 17.4, 18.9, 18.0, 18.7, 25.4, 15.4, 20.7, 16.5, 15.2, 14.7, 9.0, 16.2, 14.3, 11.4, 16.1, 14.1, 14.0, 14.8, 19.6, 20.4, 18.5, 18.2, 29.8, 24.7, 13.0, 13.5, 12.4, 16.5, 13.3, 17.1, 16.7, 17.7, 12.7, 15.6, 12.2, 1.8, 7.3, 15.7, 13.7, 6.8, 16.1, 16.4, 13.3, 14.0, 12.2, 4.8, 17.8, 10.8, 5.9, 16.9, 17.4, 14.3, 15.1, 12.7, -4.6, 17.6, 12.4, 20.5, 14.7, 11.2, 14.4, 16.3, 13.8, 25.0, 9.8, 7.8, 5.4, 0.2, 24.5, 11.8, 9.2, 15.9, 28.6, 20.2, 13.2, 14.9, 16.4, 15.8, 9.0, 13.0, 9.8, 6.8, 10.3, 5.0, 10.9, 14.1, 20.2, 11.0, 14.4, 24.0, 12.1, 12.5, 13.4, 3.4, 13.6, 13.4, 17.5, 14.2, 17.0, 14.6, 4.9, 13.0, 12.0, 19.4, 26.0, 17.8, 8.9, 14.2, 25.2, 15.9, 11.6, 14.8, 16.5, 14.7, 22.4, 19.5, 17.9, 13.3, 12.2, 10.2, 15.6, 10.5, 11.4, 10.3, 7.4, 17.0, 10.4, 9.9, 11.5, 22.3, 12.0, 10.1, 9.7, 12.4, 17.8, 17.4, 9.3, 8.9, 17.0, 16.7, 10.3, 21.2, 11.1, 21.0, 23.0, 12.1, 13.9, 6.5, 14.5, 13.2, 27.1, 17.2, 12.3, 11.5, 12.3, 10.2, 15.1, 16.1, 14.4, 5.1, 14.2, 11.9, 9.2, 15.6, 16.2, 16.7, 7.0, 12.2, 10.8, 20.0, 4.6, 15.3, 8.8, 15.8, 23.1, 17.8, 11.0, 17.0, 12.2, 10.7, 58.1, 17.1, 12.7, 13.6, 10.0, 19.8, 24.4, 14.0, 16.5, 18.1, 13.1, 9.8, 7.6, 11.8, 16.9, 10.6, 17.5, 4.0, 18.3, 19.7, 18.8, 8.5, 7.8, 12.8, 1.9, 16.6, 19.9, 17.3, 4.8, 13.6, 5.9, 5.8, 10.5, 12.6, 10.9, 10.5, 10.8, 15.3, 11.5, 11.6, 11.2, 9.9, 15.1, 15.4, 15.2, 17.5, 13.9, 13.6, 15.8, 11.8, 6.4, 14.5, 20.0, 12.7, 7.7, 5.9, 10.8, 8.8, 3.5, 8.5, 9.0, 0.9, 9.8, 12.4, 39.8, 7.5, 15.2, 16.4, 10.2, 16.1, 12.6, 12.3, 12.8, 6.3, 16.0, 13.6, 8.2, 13.9, 24.9, 9.9, 16.6, 15.2, 10.1, 12.1, 15.9, 12.8, 12.0, 13.9, 15.0, 15.9, 13.1, 10.5, 20.6, 19.1, 10.1, 24.7, 15.9, 8.9, 11.5, 24.1, 13.0, 9.3, 13.9, 15.1, -2.4, 16.2, 11.5, 16.5, 12.3, 10.0, 14.8, 15.9, 16.0, 15.3, 17.1, 15.3]}, {\"fillcolor\": \"rgba(255, 144, 14, 0.5)\", \"line\": {\"width\": 1}, \"marker\": {\"size\": 2}, \"name\": \"OWS\", \"type\": \"box\", \"whiskerwidth\": 0.2, \"y\": [-0.1, 5.1, 3.4, 6.4, -0.4, 4.4, 3.0, 0.8, 8.9, -0.1, 0.1, 0.3, 2.8, 1.3, 0.2, 1.1, 4.1, 0.9, -0.2, 0.3, 2.0, 0.8, 1.1, 0.1, 0.0, 2.0, 1.3, -0.7, 5.9, 2.9, 1.4, 0.5, 0.0, 2.8, 1.8, 1.2, 2.7, 4.4, 0.5, -0.3, 3.3, 0.2, -0.6, -1.0, 0.3, 0.0, 0.4, -0.1, 0.5, 1.7, 1.4, 0.5, 4.2, -0.3, -0.1, 0.7, 0.7, 1.5, 4.3, 1.6, 1.4, 0.2, 1.4, 0.4, 1.0, 0.7, 0.2, 0.6, 0.0, -0.2, 5.4, 1.0, 4.4, 0.6, 2.3, 7.8, 1.5, -0.7, 1.2, 0.2, 0.0, 0.2, 0.5, 3.8, 0.9, 0.1, 0.9, 0.5, 0.6, -0.1, 0.0, 0.0, 0.3, 1.9, 5.0, 1.4, 5.7, 2.0, 1.0, 0.9, 0.0, 0.9, 1.4, 0.1, 1.3, 1.5, 7.2, 0.2, 6.4, 3.3, 2.1, 0.5, 0.0, 0.5, 3.6, 1.4, 0.1, 1.5, 3.5, 0.0, 0.7, 0.1, 4.1, 0.6, -0.5, 8.6, 1.3, 0.4, 0.9, 4.9, 1.6, 1.4, 0.2, 0.1, -0.3, 0.2, 4.4, 1.2, 1.3, 1.2, 2.5, 0.8, 3.2, -0.2, -0.1, 6.4, 2.1, 2.0, 1.0, 0.9, 2.2, 7.0, 3.7, 0.0, 1.5, 8.7, 0.0, 1.8, 1.7, -0.1, 4.0, 0.5, 3.0, 1.1, 0.9, 0.4, 0.5, 2.8, 5.1, 11.4, 6.1, 1.1, 3.8, 4.5, 3.2, 1.2, -0.1, 0.2, -0.2, 2.6, 0.1, -1.1, 4.3, 1.5, 0.5, 1.0, 0.1, 0.1, 3.5, -0.4, 0.2, -0.6, -0.5, 3.1, 2.1, 1.5, 0.6, 4.5, 1.6, 0.4, 0.7, 0.0, 2.8, 2.4, 2.5, 0.6, 6.2, 0.9, 0.5, 0.1, -2.8, 2.0, 1.0, 1.0, 3.1, 4.7, -0.1, 0.0, -1.1, -0.7, -0.3, 0.9, 0.5, 0.4, 1.0, 2.1, 4.0, 2.7, 1.3, 0.5, 1.3, 3.9, 2.4, 1.5, 1.3, 1.5, 1.6, -0.1, -0.3, 0.3, -2.2, 0.4, 0.6, 1.0, 0.2, 0.8, 0.1, 1.2, 3.3, 1.7, 1.9, 0.1, 0.2, -0.1, 0.3, 2.2, 6.1, 2.1, 0.5, 9.7, 4.2, 2.3, 2.0, 1.0, 3.6, -0.2, 0.5, 0.5, 0.4, 0.1, 1.3, 1.1, 1.0, -0.1, 0.3, 0.0, -0.2, 0.2, 4.0, 1.8, 3.0, 0.4, 1.2, 0.1, 0.3, -0.8, -0.5, 2.5, 1.1, 0.1, 3.2, 0.1, 1.3, -0.4, 1.2, 2.1, 0.6, 0.4, 0.2, 4.4, 0.1, 0.1, 2.8, 1.2, 0.9, 0.3, -0.4, -0.4, 0.0, 0.0, 1.0, 0.5, 0.7, 1.0, 1.9, -1.3, 1.1, 0.7, 0.2, 0.2, 1.4, -0.7, -0.1, 0.4, 2.3, 1.2, 0.1, -0.2, 0.3, 0.2, 0.0, 4.4, 0.1, -0.1, 0.2, 0.6, 0.1, -0.2, 2.9, 3.5, 1.8, 1.0, 0.8, 0.5, 0.3, 0.2, 5.6, 1.0, 0.8, 0.4, 4.2, 3.0, 0.4, -0.4, 0.8, 0.0, 0.1, -0.2, 4.0, -0.2, 2.6, 1.7, 0.9, 0.9, 2.4, 4.3, 0.3, 0.4, 0.1, 0.2, 0.2, -0.1, 2.7, 1.6, 1.1, 5.7, 4.6, 0.0, 2.2, 0.0, 1.6, 0.6, -0.2, -0.5, -0.4, 0.0, 1.6, 1.7, 0.3, 0.1, 0.2, 2.3, -0.2, 2.9, 2.1, -0.3, 0.6, 7.2, 0.5, 1.9, -0.1, 2.4, 1.5, -0.3, 0.1, 5.5, -0.1, 0.5, 0.6, -0.4, 1.8, 1.7, 2.3, -0.6, 0.7, 0.3, 1.9, 0.5, 0.2, 0.4, 0.1, 0.3, 1.9, 1.0, 0.9, 3.0, 2.5, 2.6, 0.2, 0.0, 0.2, 1.9, 1.1, 0.7, 1.0, 0.0, 1.9, 1.6, 1.4, 0.2, 0.7, 0.8, 4.9, 1.3, 0.9, 1.2, 2.1, 1.7, -0.3, 2.6, 2.2, 2.2, 0.5, 2.7, -0.1, 0.6, 1.1, -0.1, 1.6, 0.8, 3.7, 2.2, 0.2, -0.4, 0.6, 3.4, 2.0, 0.3, 2.3, -0.4, 1.3, -0.6, 1.5, -0.1, 1.7, 1.8, 2.2, 0.5, 1.7, -0.2, 0.7, 4.1, 1.9, 1.3, 1.7, 2.1, 0.4, -0.1, 1.0, 0.0, 1.0, 1.7, 0.1, -0.2, 1.1, -0.2, 0.1, -0.3, 0.8, 1.1, 1.3, 8.2, 1.0, -0.1, 1.1, 0.8, 0.3, 0.4, -0.2, 4.3, -0.5, -2.1, -2.1, 0.0, 2.0, 0.8, 7.2, 2.1, 0.0, 0.0, 0.0, 2.0, 0.4, -0.1, 0.5, 3.0, 1.0, 4.2, -0.9, 0.1, 2.8, 1.6, 0.5, 2.5, 1.9, 0.3, 1.6, 0.5, -0.1, -0.1, 11.5, -0.4, 0.1, -0.1, -0.1, 0.2, 9.9, 4.6, 0.7, 1.4, 3.7, 2.6, 1.3, 3.4, -0.3, 0.4, 0.0, 3.4, 2.0, 2.4, 3.8, -0.8, 1.1, 1.4, 1.2, -0.8, 0.0, -0.8, 0.9, 2.4, -1.1, 0.8, 3.5, 0.2, 5.0, 0.0, 1.5, 0.6, -0.3, -0.4, 0.1, 0.0, 0.7, 3.0, 0.7, 5.5, 6.0, 4.8, 0.6, 0.7, -0.1, -0.2, 2.7, 5.0, 0.5, -0.2, 0.3, 2.2, 4.4, 0.2, -0.9, 4.0, 3.3, -0.1, 1.0, 0.1, 0.0, 0.1, 2.7, 1.0, 1.7, 6.6, 0.1, 2.6, 12.2, 2.9, -1.2, 0.0, 3.0, 0.4, -0.3, 0.3, 5.8, 1.3, 1.3, 1.0, 0.5, 3.7, 1.1, 0.9, -0.3, 2.3, 0.2, 0.7, 1.3, 5.1, 1.4, 1.6, 2.9, 2.3, 0.5, 8.4, 1.1, 3.3, 1.8, 1.5, 7.4, 1.3, 0.2, 1.4, 0.6, 2.6, 2.0, 1.2, 0.8, 3.5, 2.5, 2.6, -0.4, 0.1, 1.0, 1.2, -0.3, 1.7, 7.4, 2.7, 1.1, 4.3, 1.4, 2.9, 0.3, 0.4, 1.6, 0.1, 2.0, 2.0, 0.0, 5.0, 0.8, 1.0, 2.3, 0.8, -0.2, -0.7, 6.0, 2.5, 1.6, 1.2, 4.2, 1.6, 0.2, 7.3, 1.8, 1.5, 4.7, 3.2, 5.8, 5.1, 0.5, 0.1, -0.3, 0.3, -0.3, 2.0, 4.0, -0.9, 0.2, 0.8, 0.7, -0.3, 0.6, 0.1, 0.2, -0.1, 1.7, 0.1, 2.2, -0.2, 3.2, 1.4, 1.0, 0.3, -0.1, -0.2, -0.1, -0.1, -1.0, 4.0, -0.1, 4.0, 0.3, 0.0, 2.2, 1.8, 4.4, 3.5, 0.9, 2.5, 2.1, 1.2, -0.3, -0.2, -0.6, 0.4, 0.6, 0.3, -0.2, 0.5, -0.2, 2.4, -0.2, -0.1, 0.2, 0.3, -0.1, 5.2, -0.8, 0.5, 1.5, 1.5, 1.3, -0.4, 0.4, 2.4, 3.8, 4.4, 12.9, -0.7, 0.0, -0.6, 0.0, -1.2, -0.8, -0.4, 3.2, 2.5, 0.9, 0.8, 0.1, 2.1, 0.2, 1.9, 1.0, 0.3, 0.0, 0.3, 0.0, 0.2, 1.3, 0.7, 0.6, 1.3, 0.4, 0.5, 0.4, -0.1, 3.4, 0.5, 0.4, 0.1, 0.5, 0.6, 0.0, 0.0, 0.0, 0.0, 0.1, -0.1, 0.0, -0.3, 0.3, -0.7, -0.2, -0.5, 0.0, 1.3, 0.1, -0.7, 0.3, -0.5, 0.4, 1.7, 1.6, 0.8, 0.4, -0.4, 0.8, 0.1, -0.1, 0.1, 0.5, 0.9, 0.8, 0.0, 0.9, 0.7, 0.5, 0.5, -1.1, -1.1, -0.1, -0.2, -0.3, 0.1, 1.2, 2.2, 2.3, 0.3, -2.7, 0.3, 1.9, 1.9, 5.0, 0.4, 2.0, 5.0, 3.2, 1.8, -0.9, -0.2, -0.6, 1.3, 0.9, 5.7, 4.7, 0.6, 0.8, -0.2, 1.8, 0.1, 1.8, -0.3, 2.0, 0.6, 0.1, 2.1, -0.6, -0.3, -0.3, 1.8, 3.6, -0.3, -0.3, 1.4, 7.5, 2.8, 0.3, 2.1, 2.3, 1.7, 0.0, 0.0, 0.0, 1.5, 0.5, 4.3, 2.2, 0.1, 2.0, 0.7, -0.6, 0.1, 1.1, 1.6, 0.8, 0.8, 1.6, 4.5, 1.8, 0.0, 4.2, 1.8, 1.4, 5.6, 1.6, 0.5, 1.7, 0.8, 0.1, 0.7, 0.2, 0.3, 0.7, 3.1, 4.2, 3.9, 0.2, 3.1, 1.0, 0.8, 0.9, 3.1, 0.4, 2.4, 3.4, 2.0, 1.8, 2.4, 0.3, 1.4, 0.6, 0.2, 0.0, 3.1, 2.8, 1.4, 0.3, 1.6, 2.6, 1.2, 1.8, 4.1, 2.0, -0.1, 0.1, 0.2, -0.4, 0.8, 0.9, 0.7, 0.1, 6.5, -0.3, 2.6, 0.9, 2.4, 0.2, 1.0, -0.4, 2.1, 2.4, 2.1, 0.0, 0.3, 1.7, -0.6, 4.5, 0.1, 4.2, -0.3, 2.4, -0.1, 3.1, 1.8, 3.8, 1.5, 1.2, 13.8, 0.6, 4.4, 4.4, 1.2, 2.2, 3.5, 7.5, 1.6, 3.4, 0.0, 1.6, 2.0, 2.6, 0.4, 11.0, 0.0, 0.5, 0.4, 0.7, 0.0, 0.7, 0.1, 0.3, 0.8, 1.4, 4.0, 0.2, 3.8, 1.0, 4.0, -0.4, -0.5, 0.0, 0.4, -0.5, 0.9, 1.6, 0.8, 0.9, 5.5, 1.4, 1.8, 3.2, 1.8, 1.0, 4.4, 3.2, 2.6, -0.4, 3.2, 1.7, 4.2, 0.5, -0.2, 0.2, 6.0, 0.3, 1.2, 1.3, 1.2, 0.1, 2.2, 10.7, 0.7, 1.2, 2.8, 0.0, 4.1, 1.7, 2.3, -0.2, 0.0, 0.6, 5.5, 1.0, 1.2, -0.1, 1.1, 1.1, 3.4, 1.6, 0.8, 0.2, 2.2, -0.3, -0.5, 0.2, 0.5, 1.0, 3.4, 4.9, 3.5, -0.2, 0.0, 0.5, 0.3, -0.1, 0.4, 2.5, 2.3, 0.7, 3.2, 0.5, 4.9, 9.6, 1.0, 1.4, 0.0, -0.2, 0.3, 0.8, 0.4, 0.3, 0.9, 3.0, 0.3, 1.9, 0.6, 1.3, -1.3, 1.2, 0.0, 0.0, 0.7, 0.8, 0.0, 6.0, 1.8, 1.2, 6.0, 0.0, -0.3, 0.4, 1.0, 0.0, 0.9, 0.7, 1.2, 2.1, 1.0, 1.8, 1.6, 1.9, 0.2, 0.0, 0.2, 2.1, 1.5, 0.7, 1.7, 0.2, 1.5, -0.5, 8.3, 1.2, 1.4, 7.7, 1.3, 2.9, 0.1, 4.5, 3.7, 4.7, 8.0, 0.6, 0.2, -0.1, 0.2, 2.9, 0.5, 0.7, 0.7, 0.0, 1.9, 0.2, 0.5, -0.2, 0.1, -0.3, 4.4, -0.1, 2.1, -0.1, 0.6, -0.4, 0.2, 0.1, 0.1, 0.1, 0.1, 0.6, 0.0, 4.3, 0.1, 4.1, 5.0, 0.9, 2.9, -1.2, -1.3, 0.2, 1.4, 1.8, -3.3, 2.6, 0.7, -0.3, 0.9, 0.1, 0.2, 0.8, 0.0, 0.3, 0.3, 0.1, 0.1, 0.0, 4.2, -0.2, 0.5, 0.3, 2.2, 2.1, 3.4, 2.4, 2.9, 2.6, -0.3, 1.6, 9.2, -0.9, 0.6, 0.5, -0.6, 3.4, 1.4, 3.0, 0.3, 1.8, 0.7, -0.4, -0.2, -0.2, 0.4, 0.3, -0.3, 2.8, 1.3, 0.6, 1.8, 0.7, 0.5, 0.2, 0.2, -0.5, 2.3, -0.8, 2.1, -0.6, 3.6, 0.8, -0.7, 1.4, 1.7, 1.3, 2.5, -0.1, 0.7, 0.2, 0.3, 0.5, 0.4, -1.2, -0.6, -0.7, -0.5, 0.5, 0.9, 0.0, 0.9, 0.1, 0.8, 0.1, 0.0, 0.5, 1.3, 2.8, 1.0, 1.1, 7.2, 1.2, 0.7, 0.9, 0.3, 0.6, 5.5, 5.6, 1.0, 0.9, 0.1, 1.5, 0.2, 5.5, 1.0, 0.8, -0.1, 0.0, -0.1, -1.2, 0.0, 2.4, 0.3, 6.3, 2.2, -0.2, -0.2, 0.0, 2.4, 10.0, 5.0, 3.4, 0.1, 2.2, 2.4, 0.0, 4.7, -0.2, 1.1, 0.2, -0.2, 0.4, 0.3, -0.8, -0.2, 0.1, 1.9, 3.6, 0.8, 0.5, -0.2, 0.6, 3.3, 1.2, 0.6, 3.5, 0.9, 0.2, -0.1, 0.6, 0.1, 0.5, 0.7, 4.0, 7.9, 3.2, 2.8, 0.6, 0.8, -0.6, -0.8, 0.3, 2.5, 0.3, -0.1, 0.3, 2.5, 1.7, -0.1, 1.4, -0.6, 6.9, 0.1, 0.8, 2.0, -0.7, 2.9, 0.8, 0.6, 1.5, 4.0, -0.3, -0.3, 0.1, 1.3, 1.0, 1.1, 0.0, 0.0, 0.0, 2.6, -0.2, -0.2, -0.2, 0.0, 0.1, 0.2, 0.4, 0.3, -0.1, 10.1, 0.0, 2.0, 0.0, 3.8, 1.7, 1.9, -1.0, 0.1, 0.1, 0.0, 0.0, 1.4, 2.7, 2.4, 0.3, 1.0, 0.5, 3.1, 0.3, 7.5, 0.4, 0.1, -0.1, 0.2, 3.9, 3.4, 0.5, 0.0, 3.1, 0.5, 0.6, 4.1, 1.4, 2.9, 8.7, 0.5, 5.9, 0.1, 1.0, 2.3, 1.9, -1.2, 0.3, 0.1, 6.7, 0.2, 3.2, 1.9, 1.4, 1.1, 0.8, 0.1, 0.7, -1.2, 8.0, 0.1, -0.4, 2.1, -0.7, 0.5, 1.4, 0.1, -0.4, 0.5, -0.2, -0.1, 0.0, -0.1, 3.3, 0.5, -0.3, 0.2, 0.8, -0.2, 1.0, -0.1, -0.2, 1.7, 1.0, 2.3, 6.2, 0.2, 0.2, 0.0, 4.2, 3.3, 0.8, -0.1, 3.9, 0.1, -0.3, 1.6, 1.4, 0.2, 8.3, 2.0, 2.5, 3.9, 0.3, 1.1, -0.2, 1.3, 1.4, 0.4, 2.8, 0.1, 3.2, -0.2, 5.4, 1.0, 11.5, 3.1, 1.1, 3.9, 0.1, 4.0, -0.1, 0.0, 0.0, 0.7, 0.3, 0.4, 7.1, 1.0, 1.2, -1.4, 0.0, -0.4, 0.4, 2.5, 4.0, 0.4, -0.6, 1.3, 1.3, 0.4, 2.2, 0.7, 3.6, 3.8, 0.1, 2.5, 2.1, 0.4, 4.1, 2.0, -1.0, 7.4, 0.0, 0.1, 0.8, 9.8, 1.2, 1.3, 0.7, 0.8, -0.1, 0.8, 2.9, -0.1, 1.9, 1.7, -1.4, 3.1, -0.3, -0.1, 1.0, 7.2, 1.7, 0.4, 4.0, 2.7, 0.4, 0.1, 2.3, 0.7, 1.6, 1.2, 0.8, 1.4, 0.4, 0.6, -0.2, 2.6, 2.2, -0.4, 3.1, 1.2, 8.9, 0.5, 2.5, 0.8, -0.4, -0.5, 0.1, 8.8, 1.3, 1.1, 0.7, 3.1, 1.8, 4.0, 7.8, -0.9, 0.3, -0.1, 0.5, 0.8, -0.2, 1.0, 1.3, 0.3, 0.5, 6.2, 0.1, 0.1, 0.0, 1.6, 1.1, 0.5, 2.0, 1.2, -0.1, -0.1, 0.5, 1.3, -0.1, 0.7, 2.6, 3.0, 1.2, 1.4, 1.6, 0.7, -0.4, 2.5, -0.4, 0.6, 1.8, 0.1, 2.3, 0.2, -0.4, -0.5, -0.3, -0.2, 1.0, 2.1, 1.1, 0.9, 1.7, 0.6, 0.6, 0.1, 0.1, 0.0, 2.1, -0.1, 0.1, 1.7, 2.2, 0.1, 2.3, 0.1, 2.6, 1.4, -0.5, 1.7, 7.9, 0.0, -0.8, -0.4, -0.4, 2.4, -0.3, -0.2, 0.0, 3.6, 2.8, 0.8, -0.1, -0.2, 0.1, 0.9, 6.4, 1.1, 2.7, 1.4, 0.2, -0.1, -0.4, -0.1, 0.5, 0.2, 0.3, 2.0, 0.8, 2.1, 0.3, 0.0, 1.2, 1.1, 1.3, -0.4, 2.4, 1.5, 1.6, 0.0, 0.0, 4.5, 0.1, 0.3, -1.0, 0.0, -0.3, 0.6, -0.1, 0.0, -0.1, 0.3, 0.7, 0.4, -0.1, 0.0, 0.5, 1.0, 2.1, 2.5, 0.1, -0.2, 0.0, -0.1, -0.1, -0.1, -0.1, 5.7, 0.9, 1.2, 10.9, 0.6, 4.2, 5.0, 1.5, 9.9, 0.0, 4.3, 0.3, -0.5, -0.1, -0.5, 0.6, 0.9, 0.2, 5.9, 5.8, 0.0, -0.1, 0.1, 0.9, 8.5, 0.1, -1.7, 4.2, 3.3, 1.1, 1.5, 1.1, 0.4, 0.4, -0.1, 0.6, 2.4, -0.3, -0.6, 0.2, -0.9, 1.0, 1.1, 0.5, 0.1, 3.0, 2.0, 3.4, 0.5, -0.3, 0.6, -0.1, 6.7, 2.3, -0.1, 7.4, 2.7, -0.2, 0.9, 0.6, 2.4, 3.1, 0.1, 8.3, 1.2, 1.4, 0.1, 2.6, -0.2, -0.7, 0.1, 0.2, -0.5, 2.0, 4.4, 1.7, 0.2, 0.5, 0.2, 4.4, 0.1, 0.9, 2.4, 1.3, 1.1, 1.6, -0.7, 0.1, 1.2, 0.1, 1.1, 1.7, -0.2, 3.1, -0.1, 3.2, 0.1, 1.9, 0.0, -1.4, -1.4, -0.1, 0.0, 0.7, -0.2, 0.9, 2.0, 0.1, 0.6, 1.2, 0.0, 0.0, 0.0, 2.8, 2.0, 0.2, 7.1, -0.1, 0.0, -0.1, 2.6, 0.5, 0.0, 0.5, 6.2, 2.3, 0.3, -0.2, -0.1, 1.2, 1.7, 0.9, 1.9, 2.1, -0.8, 0.3, 1.9, 1.1, 0.8, 3.4, -0.7, 5.8, 0.4, 1.2, 1.1, -0.2, 1.5, 1.6, 1.8, 0.5, 0.9, 1.0, 1.1, -0.1, 1.1, 0.7, 0.4, 7.2, 1.4, 8.8, 1.9, 2.5, 1.8, 0.6, 0.3, 0.0, 6.8, 1.1, 1.6, 4.3, 0.0, 0.3, 0.0, 4.6, 0.5, -1.0, 7.5, -0.2, 2.6, 2.3, 2.0, 1.5, 0.5, -0.8, 3.1, 0.3, 0.9, 4.5, 0.9, 0.7, 1.5, -0.2, 0.8, 2.4, -1.7, 0.4, 0.9, 0.7, 0.2, -0.2, 0.8, 0.5, 1.5, 2.7, 1.0, 5.0, 0.1, 5.4, 4.2, 0.9, 2.9, 2.4, 1.1, 3.5, 2.3, 0.1, 2.6, 1.0, 1.3, 3.1, 3.2, 2.0, 1.1, 0.1, 11.6, 4.3, 1.6, 0.7, 0.9, 3.9, 3.0, 4.2, 2.6, 1.6, 1.0, 0.4, 1.9, -0.1, 0.0, 2.8, 0.5, -0.1, 1.3, 1.5, 2.3, 1.6, 0.8, -0.2, 4.2, 0.1, -0.3, 2.1, 1.6, 1.2, 0.6, 0.6, 0.0, 4.0, 0.4, 2.9, 2.1, 1.6, 4.0, 0.1, 1.0, 6.3, -0.6, 0.0, -0.2, -0.3, 0.1, -2.0, 0.4, 1.1, 11.0, 0.8, 1.8, 2.1, 0.4, 2.2, -0.6, 1.9, -0.1, 0.0, 0.0, 0.0, -0.1, 2.3, 6.0, 1.2, 2.3, 5.5, 1.1, 1.7, 1.6, -0.1, 0.2, 2.8, 2.3, 1.5, 3.0, -0.1, -0.3, 2.7, 0.0, 3.2, 0.3, 0.7, 0.0, 0.7, 9.9, 0.0, 0.9, 1.5, 1.9, 1.2, 4.7, 7.0, 2.7, 1.0, 0.8, 0.3, 1.7, 0.1, 1.0, 0.8, -0.3, 3.7, 1.7, 1.1, 0.6, 1.7, 0.5, 0.0, -0.2, 1.3, 1.3, 4.6, 2.1, 0.1, 1.4, 1.4, -0.5, 1.8, -0.1, 1.0, 0.8, 2.8, 0.7, -0.2, 1.1, 1.2, 0.1, 0.1, 0.1, -0.8, 0.0, -0.7, -0.2, 4.3, 1.5, -0.9, 1.2, 0.3, -0.1, 0.0, 0.4, 2.6, -2.0, 1.1, 0.5, 2.7, -0.2, 0.3, 0.0, 0.3, 4.3, 2.8, 0.5, 1.8, -0.1, -0.2, 0.0, 0.6, 0.4, 0.7, 1.2, 0.0, 7.5, 0.3, 1.4, 1.6, -0.2, 0.0, 0.0, 0.0, 1.8, 0.1, 3.1, -0.3, 5.0, 2.0, 4.6, -0.6, 0.1, 0.0, -0.5, 0.7, 4.0, 0.3, -0.5, 1.8, -0.2, -0.2, 0.0, 1.4, 0.8, 0.0, 0.4, 1.9, -0.2, -0.1, -0.1, -0.2, 2.2, 1.5, -0.5, 2.5, 0.4, 1.4, 1.0, 0.1, -0.2, 2.1, 4.2, 0.8, -0.4, -0.1, -0.6, -0.2, 0.0, 1.6, 0.1, -0.1, 0.2, -0.2, 0.0, -0.3, 3.0, 3.4, 0.3, 1.6, -0.1, -0.1, 0.0, 0.3, 3.1, 1.8, 0.1, 3.8, 10.6, 0.5, 2.2, 1.3, -0.7, 1.0, 2.7, 0.5, 0.4, 0.0, -0.4, 0.4, -0.8, -0.7, 6.5, 1.2, 0.2, 5.5, 0.3, 0.1, -0.3, 2.3, 0.5, -0.1, 3.1, 0.2, -0.1, 0.3, 0.2, 2.5, 0.3, 0.8, 2.3, 1.2, 2.0, 1.0, 1.1, 0.5]}, {\"fillcolor\": \"rgba(44, 160, 101, 0.5)\", \"line\": {\"width\": 1}, \"marker\": {\"size\": 2}, \"name\": \"DWS\", \"type\": \"box\", \"whiskerwidth\": 0.2, \"y\": [0.2, 4.0, 3.4, 2.9, 0.4, 3.3, 2.8, 1.8, 5.5, 0.0, 0.2, 1.7, 0.9, 1.2, 0.5, 0.8, 1.7, 0.3, 1.7, 1.4, 1.6, 1.1, 0.5, 1.1, 0.4, 1.7, 1.1, 1.4, 1.7, 1.6, 1.1, 1.1, 0.4, 2.0, 1.0, 0.8, 1.9, 3.7, 0.9, 0.2, 0.3, 0.4, 1.0, 0.6, 0.4, 0.1, 0.6, 0.2, 0.4, 1.2, 1.5, 0.3, 2.3, 0.3, 1.6, 2.4, 1.4, 1.0, 1.3, 1.4, 1.0, 0.4, 0.5, 0.2, 0.3, 0.8, 0.3, 0.3, 0.2, 0.3, 2.5, 0.4, 2.1, 0.9, 1.8, 3.0, 1.6, 0.7, 0.7, 0.6, 0.2, 0.4, 0.6, 2.9, 1.2, 0.1, 1.1, 1.0, 0.9, 0.2, 0.0, 0.0, 0.7, -0.1, 1.0, 1.5, 2.3, 1.9, 0.8, 1.6, 0.7, 0.9, 1.7, 0.0, 3.1, 0.9, 2.5, 0.1, 3.1, 2.5, 1.9, 0.0, 0.1, -0.1, 2.6, 1.2, 0.7, 1.3, 1.4, 0.6, 0.9, 0.1, 5.9, 1.2, 1.2, 2.9, 1.4, 0.6, 0.7, 3.8, 1.0, 0.8, 0.2, 0.2, 0.2, 0.7, 3.5, 1.6, 0.6, 2.0, 1.3, 2.5, 2.5, 0.0, 0.4, 1.8, 1.3, 4.0, 2.8, 1.2, 2.2, 4.9, 1.4, 1.0, 1.9, 5.7, 0.0, 3.3, 1.0, 0.6, 3.3, 1.1, 2.9, 3.2, 1.9, 1.4, 0.6, 0.8, 2.9, 3.8, 2.6, 1.5, 1.7, 2.6, 1.8, 0.9, 1.6, 1.9, 0.1, 2.3, 0.4, 1.1, 1.6, 1.3, 0.0, 1.4, 0.4, 0.8, 1.9, 2.5, 1.1, 1.4, 1.7, 1.1, 0.5, 0.0, 0.5, 2.9, 0.7, 0.2, 0.7, 0.6, 3.3, 1.8, 3.6, 1.4, 2.9, 3.1, 1.4, 0.4, 1.1, 0.9, 0.6, 0.3, 1.9, 2.6, 0.1, 1.5, 1.6, 1.4, 0.2, 1.4, 1.3, 0.1, 0.5, 0.9, 3.1, 2.5, 0.6, 2.9, 0.5, 1.6, 0.9, 0.6, 1.3, 1.0, 1.8, 0.0, 0.0, 0.0, 0.9, 0.7, 0.7, 1.3, 0.0, 1.3, 1.5, 1.9, 2.0, 1.1, 1.2, 0.4, 0.1, 0.3, 0.4, 1.0, 3.4, 0.9, 1.2, 2.4, 1.8, 4.3, 0.7, 0.4, 3.0, 1.4, 0.5, 1.5, 0.7, 0.8, 1.5, 1.5, 0.8, 0.0, 0.7, 0.5, 0.0, 0.5, 1.7, 1.1, 2.9, 1.6, 0.9, 0.1, 0.2, 0.8, 0.2, 3.6, 0.6, 0.1, 2.9, 0.3, 3.7, 0.7, 0.5, 2.5, 1.1, 0.5, 0.5, 1.8, 0.2, 0.7, 2.3, 1.2, 1.0, 0.3, 0.3, 0.3, 0.0, 0.9, 1.0, 0.6, 0.7, 1.2, 2.5, 0.4, 0.3, 2.5, 0.8, 0.5, 0.8, 0.2, 1.4, 1.9, 2.5, 0.2, 1.3, 0.7, 0.6, 0.9, 0.0, 2.2, 0.3, 0.3, 0.1, 0.9, 0.0, 0.2, 2.9, 1.6, 1.5, 1.1, 0.4, 1.1, 0.4, 0.7, 1.9, 1.4, 0.7, 0.2, 1.9, 2.6, 0.8, 0.2, 0.6, 0.2, 0.6, 0.3, 2.2, 1.5, 0.3, 2.6, 2.3, 2.8, 2.6, 3.3, 0.1, 1.2, 0.7, 0.5, 1.2, -0.5, 0.9, 0.6, 0.3, 3.6, 3.6, 0.0, 3.1, 0.1, 1.6, 0.5, 0.3, 0.2, 0.2, 0.1, 3.4, 0.5, 2.0, 1.5, 0.5, 1.3, 0.2, 2.3, 0.5, 0.3, 0.5, 3.2, 1.5, 4.4, 0.1, 1.9, 1.7, 0.5, 1.1, 1.9, 0.2, 0.7, 0.4, 0.2, 5.0, 1.9, 4.0, 1.3, 0.3, 0.9, 1.9, 0.6, 2.6, 0.3, 0.1, 0.3, 2.4, 1.3, 1.1, 3.9, 0.7, 1.2, 0.1, 0.0, 0.1, 1.3, 0.6, 0.7, 0.7, 0.4, 2.2, 1.0, 0.4, 0.5, 0.7, 1.4, 3.7, 1.6, 3.2, 2.0, 1.5, 1.1, 0.6, 0.9, 4.0, 0.6, 0.7, 3.9, 0.9, 0.6, 0.5, 0.0, 1.2, 0.2, 3.0, 2.1, 1.1, 0.4, 0.7, 1.9, 3.2, 2.0, 1.6, 1.9, 2.4, 0.5, 1.4, 0.4, 1.8, 2.2, 0.9, 0.4, 0.4, 0.3, 1.4, 2.9, 3.4, 0.9, 1.9, 1.5, 2.1, 0.8, 2.1, 0.4, 1.6, 1.5, 0.2, 0.7, 0.2, 0.3, 0.3, 0.0, 1.6, 0.6, 1.0, 3.0, 1.6, 0.0, 1.8, 0.7, 0.3, 0.3, 0.2, 2.8, 1.4, 2.9, 1.6, 1.3, 0.6, 2.0, 3.1, 1.5, 0.2, 0.1, 0.0, 0.4, 1.0, 0.8, 0.3, 0.8, 1.2, 2.7, 0.8, 0.1, 3.2, 2.3, 0.8, 1.2, 2.0, 0.3, 1.8, 1.2, 0.1, 0.0, 4.1, 0.7, 0.1, 0.0, 0.0, 0.1, 4.2, 1.6, 1.0, 0.5, 1.6, 1.4, 2.3, 1.5, 0.4, 1.5, 0.2, 4.3, 2.1, 1.7, 1.0, 0.4, 0.1, 2.2, 0.8, 0.5, 0.0, 0.4, 0.4, 2.2, 1.0, 0.9, 2.1, 0.4, 3.3, 0.2, 0.6, 0.4, 0.2, 0.1, 0.1, 0.2, 1.4, 1.0, 0.6, 4.7, 4.4, 1.3, 0.6, 0.4, 0.2, 0.2, 2.1, 4.3, 1.2, 0.4, 0.7, 0.7, 4.2, 0.3, 1.4, 3.9, 5.2, 0.1, 1.0, 0.3, 0.0, 0.2, 2.4, 1.0, 1.5, 2.4, 0.1, 0.9, 4.2, 1.3, 0.5, 0.2, 1.8, 1.0, 1.5, 0.2, 2.9, 2.3, 2.4, 3.2, 2.5, 1.6, 1.1, 2.6, 1.3, 1.1, 1.0, 0.3, 0.9, 3.6, 2.2, 2.1, 2.7, 2.8, 1.6, 2.0, 1.4, 1.7, 1.1, 0.5, 2.9, 3.4, 0.6, 0.9, 0.3, 0.7, 1.4, 0.7, 0.7, 1.6, 1.6, 1.5, 0.2, 0.7, 0.7, 0.4, 0.5, 1.3, 5.4, 1.8, 2.2, 2.1, 1.3, 0.8, 0.4, 0.3, 2.2, 0.0, 2.5, 2.4, 0.1, 2.4, 2.5, 0.7, 0.5, 0.9, 0.3, 0.0, 1.0, 2.4, 1.6, 2.1, 4.4, 1.2, 1.2, 3.3, 0.8, 1.8, 2.2, 1.9, 2.9, 2.0, 0.8, 2.0, 0.2, 0.5, 0.1, -0.1, 2.2, 2.0, 0.3, 0.5, 1.1, 0.2, 0.7, 0.3, 0.2, 0.0, 0.8, 0.3, 0.9, 0.0, 3.5, 0.8, 0.6, 0.2, 0.5, 0.2, 0.1, 0.0, 1.4, 4.3, 0.2, 2.8, 0.5, 0.0, 1.8, 2.7, 1.2, 2.2, 0.9, 1.3, -0.1, 0.7, 0.8, 0.8, 0.7, 0.0, 0.8, 0.3, 0.2, 0.3, 0.3, 3.1, 4.2, 0.1, 0.1, 0.1, 0.0, 2.0, 0.3, 1.1, 2.0, 2.1, 2.9, 0.9, 1.0, 1.7, 1.7, 1.7, 3.2, 0.2, 0.0, 0.2, 2.3, 1.3, 1.2, 0.2, 2.3, 2.3, 1.7, 1.4, 0.3, 0.8, 0.4, 0.4, 1.8, 0.3, 0.0, 0.2, 0.7, 0.6, 1.0, 0.5, 0.5, 1.2, 0.6, 0.2, 0.4, 0.0, 3.8, 1.0, 0.3, 0.7, 1.6, 1.2, 0.1, 0.0, 0.1, 0.2, 0.1, 0.1, 1.4, 0.8, 0.7, 2.3, 1.1, 1.2, 1.2, 1.0, 0.4, 0.4, 0.6, 1.1, 1.2, 2.7, 1.1, 1.7, 0.7, 0.1, 0.6, 1.4, 0.3, 1.1, 1.5, 1.2, 0.8, 0.4, 1.1, 2.2, 0.3, 0.7, 3.4, 1.3, 2.2, 0.1, 0.0, 0.1, 1.2, 1.8, 1.7, 0.2, 1.8, 0.2, 2.2, 2.1, 2.8, 1.1, 1.5, 1.1, 0.7, 0.3, 0.4, 0.3, 0.2, 1.3, 1.5, 3.1, 2.1, 0.7, 0.6, 0.1, 0.9, 0.2, 0.8, 2.8, 1.6, 0.7, 0.4, 1.4, 1.7, 0.7, 1.0, 2.6, 4.2, 0.4, 0.3, 2.8, 3.2, 2.4, 0.2, 0.0, 1.3, 0.4, 0.1, 0.0, 0.0, 2.9, 0.3, 1.8, 0.6, 0.1, 1.1, 0.8, 0.9, 0.3, 0.1, 1.4, 0.6, 0.8, 2.2, 2.0, 0.7, 0.0, 2.3, 0.9, 2.0, 4.5, 2.1, 1.9, 2.3, 0.4, 0.1, 0.4, 0.2, 0.8, 2.8, 0.8, 2.9, 2.5, 0.2, 2.3, 1.3, 0.3, 1.2, 1.9, 2.2, 1.9, 0.7, 2.9, 0.6, 1.7, 3.8, 1.3, 0.3, 0.3, 0.1, 1.3, 3.1, 0.6, 0.4, 1.0, 2.9, 0.7, 2.6, 2.3, 2.8, 0.3, 1.2, 0.7, 0.1, 0.4, 1.2, 0.8, 0.1, 2.7, 0.0, 2.7, 0.5, 2.0, 1.0, 0.8, 1.6, 1.5, 1.4, 1.6, 0.0, 0.6, 0.4, 0.5, 0.7, 0.7, 1.1, 0.1, 3.3, 2.1, 1.2, 1.5, 3.5, 0.7, 0.2, 4.1, 0.4, 2.8, 2.3, 1.1, 1.6, 2.8, 2.4, 2.2, 2.5, 0.1, 0.9, 5.5, 2.0, 0.5, 3.5, 0.1, 0.3, 3.9, 0.2, 0.1, 0.1, 0.3, 0.3, 0.6, 1.3, 1.5, 0.2, 3.4, 1.7, 1.7, 0.9, 0.4, 0.4, 0.5, 0.2, 0.3, 1.3, 0.8, 0.6, 0.9, 1.8, 1.9, 3.9, 2.1, 0.9, 4.8, 2.2, 3.8, 0.5, 2.2, 0.4, 3.1, 1.6, 1.0, 4.1, 5.1, 1.4, 1.4, 1.7, 1.0, 0.8, 1.6, 2.6, 0.2, 1.3, 1.2, 0.0, 2.5, 1.6, 0.9, 0.1, 0.4, 1.4, 3.4, 1.0, 1.1, 1.0, 1.0, 1.6, 2.8, 2.3, 1.3, 0.3, 1.2, 0.9, 0.4, 0.5, 0.7, 0.5, 2.5, 4.5, 3.1, 0.1, 0.1, 1.1, 0.5, 0.1, 0.5, 3.0, 2.1, 1.6, 1.7, 0.4, 1.9, 4.0, 1.8, 1.3, 0.2, 0.1, 0.1, 0.7, 0.4, 0.4, 1.5, 2.9, 1.0, 0.8, 0.2, 0.6, 1.9, 0.9, 2.7, 0.1, 0.5, 0.7, 0.3, 5.5, 1.7, 2.1, 2.1, 0.2, 0.3, 0.2, 0.0, 0.0, 0.0, 0.9, 2.9, 1.4, 1.8, 0.3, 0.7, 0.7, 0.7, 0.4, 0.3, 1.7, 0.8, 1.0, 1.4, 0.7, 0.7, 1.8, 5.5, 1.0, 1.3, 1.4, 2.3, 1.7, 0.0, 1.7, 2.1, 3.8, 3.7, 1.7, 1.2, 0.3, 0.9, 3.3, 0.2, 0.5, 0.1, 0.4, 1.8, 1.3, 0.3, 0.5, 0.4, 0.1, 1.7, 0.4, 0.7, 0.1, 0.5, 0.7, 0.1, 0.0, 0.1, 0.7, 0.0, 0.7, 0.1, 1.8, 0.3, 6.0, 2.4, 1.0, 2.5, 1.7, 0.8, 0.9, 0.5, 1.9, 1.2, 0.2, 0.9, 0.4, 0.5, 0.4, 1.6, 0.8, 1.1, 2.8, 0.4, 0.0, 0.0, 0.0, 2.6, 0.4, 1.2, 0.9, 2.7, 2.0, 2.7, 1.2, 2.9, 1.6, 0.5, 2.0, 3.5, 0.4, 0.8, 1.7, 1.4, 2.7, 0.8, 2.7, 1.3, 1.3, 0.9, 0.3, 0.2, 0.1, 1.0, 1.1, 1.9, 1.5, 1.2, 1.3, 1.6, 0.3, 0.3, 0.1, 0.6, 1.1, 2.3, 1.2, 1.6, 0.3, 2.2, 1.2, 0.7, 1.9, 1.5, 3.2, 1.3, 1.8, 1.3, 0.3, 0.8, 2.4, 1.4, 1.2, 0.9, 0.3, 1.0, 1.2, 0.9, 0.5, 1.3, 0.8, 0.5, 0.0, 0.0, 1.5, 3.6, 3.0, 1.7, 0.4, 2.5, 0.5, 0.5, 0.7, 0.3, 0.4, 2.6, 3.1, 0.7, 0.4, 0.3, 1.3, 0.1, 2.8, 3.0, 2.3, 0.5, 0.0, 0.5, 0.4, 1.1, 2.6, 1.8, 3.6, 3.5, 0.2, 0.2, 0.0, 2.9, 4.0, 5.3, 0.7, 0.2, 1.4, 1.2, 0.0, 3.2, 2.7, 1.3, 0.1, 0.3, 0.2, 0.2, 0.0, 0.2, 0.0, 2.2, 2.7, 0.9, 0.5, 0.0, 0.5, 3.1, 0.2, 0.7, 3.7, 0.8, 2.9, 2.0, 1.3, 0.9, 0.4, 2.0, 1.1, 4.5, 1.5, 3.2, 0.4, 1.0, 0.5, 0.5, 0.4, 2.1, 1.7, 1.0, 0.6, 0.8, 2.8, 0.0, 1.5, 2.8, 1.6, 0.1, 1.0, 1.2, 0.3, 2.4, 2.1, 0.9, 0.8, 1.4, 1.0, 1.0, 0.1, 0.6, 2.2, 2.0, 1.2, 0.8, 0.3, 1.5, 0.5, 0.2, 0.2, 0.0, 0.0, 1.3, 0.5, 0.3, 0.9, 3.8, 0.1, 2.5, 0.6, 2.1, 2.1, 2.1, 1.3, 0.4, 0.3, 0.0, 0.2, 1.5, 1.3, 1.1, 1.5, 1.3, 0.7, 0.8, 0.1, 2.5, 0.2, 0.1, 0.0, 0.1, 3.8, 2.6, 1.1, 3.2, 1.0, 1.4, 0.3, 2.5, 1.6, 1.7, 3.9, 0.8, 5.1, 0.4, 0.7, 3.0, 1.2, 1.3, 0.9, 0.8, 2.4, 0.3, 2.5, 0.9, 5.3, 0.7, 0.7, 0.2, 0.5, 1.3, 4.0, 0.0, 0.2, 1.2, 1.7, 1.5, 1.7, 0.3, 0.1, 0.1, 0.9, 0.7, 0.3, 1.3, 1.2, 2.2, 0.4, 1.8, 1.0, 0.0, 0.9, 1.5, 0.2, 1.1, 1.4, 1.4, 0.7, 1.1, 1.0, 0.1, 3.5, 3.1, 1.0, 0.0, 3.1, 0.0, 0.2, 2.5, 1.9, 0.6, 6.0, 1.7, 1.4, 2.9, 0.2, 1.8, 0.0, 1.7, 1.2, 3.0, 5.4, 0.4, 2.6, 0.9, 2.4, 1.0, 3.6, 1.0, 1.1, 0.7, 0.6, 2.8, 0.0, 1.5, 0.2, 1.0, 0.8, 0.2, 3.3, 1.0, 1.6, 0.8, 1.3, 0.9, 0.4, 1.6, 1.9, 2.3, 0.4, 2.6, 1.2, 2.2, 1.6, 1.9, 2.7, 4.5, 0.0, 2.6, 1.7, 0.8, 2.9, 3.0, 0.7, 1.5, 0.0, 0.0, 1.2, 3.0, 1.1, 0.8, 1.0, 0.7, 0.3, 1.3, 2.1, 0.0, 3.2, 2.1, 1.8, 2.7, 1.2, 0.1, 0.6, 4.6, 1.7, 1.9, 1.8, 3.1, 1.1, 0.2, 1.3, 1.0, 0.4, 1.4, 0.4, 1.3, 1.1, 0.8, 0.3, 0.4, 1.0, 0.1, 1.1, 1.7, 4.7, 0.8, 2.0, 1.0, 0.9, 0.9, 0.0, 1.5, 0.8, 1.6, 0.8, 1.8, 2.4, 2.4, 2.3, 1.6, 0.2, 1.5, 0.9, 0.5, 0.8, 2.1, 1.8, 0.8, 1.2, 1.4, 0.1, 0.0, 0.0, 1.0, 0.8, 0.2, 1.5, 1.7, 0.5, 0.4, 0.6, 1.7, 0.2, 0.9, 3.8, 2.6, 1.5, 2.4, 2.5, 0.4, 0.5, 0.2, 0.5, 0.7, 1.6, 0.5, 0.5, 0.6, 0.1, 0.4, 0.3, 0.1, 1.2, 1.9, 1.0, 0.9, 2.0, 1.9, 0.2, 0.0, 0.0, 0.0, 1.8, 0.1, 1.1, 2.3, 1.9, 0.1, 2.5, 0.3, 1.5, 1.7, 0.7, 1.6, 2.6, 0.2, 0.4, 0.3, 0.1, 2.0, 0.1, 0.3, 0.1, 2.4, 1.8, 0.6, 0.5, 0.3, 0.2, 0.7, 3.0, 1.2, 1.9, 1.4, 0.1, 0.1, 1.5, 0.1, 0.1, 0.1, 0.1, 1.5, 2.4, 1.5, 1.9, 0.1, 1.3, 3.1, 1.2, 2.7, 0.6, 2.0, 1.3, 0.6, 1.4, 1.7, 0.3, 1.0, 1.8, 0.0, 0.2, 2.7, 0.2, 0.0, 0.1, 0.6, 1.4, 1.2, 2.1, 0.3, 2.7, 1.3, 1.3, 1.7, 1.4, 0.2, 0.1, 0.0, 0.1, 0.0, 0.0, 2.4, 1.3, 0.9, 1.6, 0.4, 2.9, 2.3, 0.8, 2.8, 1.2, 3.7, 0.4, 1.1, 0.4, 0.4, 1.2, 2.5, 1.5, 2.2, 3.0, 0.2, 0.1, 0.2, 1.7, 4.6, 0.5, 0.9, 5.3, 0.9, 0.9, 0.9, 0.7, 0.2, 0.6, 0.4, 0.2, 2.6, 0.7, 0.6, 0.1, 0.8, 0.9, 0.5, 0.6, 0.2, 0.2, 2.7, 2.2, 0.6, 0.8, 0.5, 1.1, 3.0, 1.9, 0.1, 3.5, 1.5, 0.1, 3.2, 0.7, 3.8, 1.7, 0.0, 3.6, 2.5, 1.6, 0.2, 2.8, 0.1, 0.6, 0.4, 0.1, 2.5, 1.9, 1.8, 1.8, 0.9, 2.5, 2.0, 2.5, 0.3, 1.5, 1.3, 0.6, 0.7, 1.4, 0.8, 0.3, 0.6, 0.2, 1.8, 1.1, 0.1, 2.5, 0.0, 2.4, 0.3, 0.6, 0.0, 1.2, 1.1, 0.1, 0.0, 1.6, 0.9, 0.7, 0.7, 1.1, 0.2, 3.2, 0.1, 0.7, 0.1, 1.4, 0.3, 1.6, 1.8, 0.1, 0.0, 0.1, 2.7, 0.1, 0.0, 0.1, 4.1, 1.8, 0.9, 1.1, 0.6, 1.0, 2.2, 0.3, 0.8, 1.2, 1.5, 0.8, 1.2, 1.0, 0.2, 2.0, 1.3, 1.8, 0.2, 1.3, 0.4, 0.0, 3.2, 4.5, 1.4, 0.4, 0.3, 1.6, 0.6, 1.0, 1.3, 0.9, 0.4, 1.9, 0.0, 4.9, 0.8, 2.5, 1.9, 0.6, 0.2, 0.0, 2.8, 0.8, 1.4, 1.4, 0.4, 0.3, 0.0, 5.7, 0.4, 1.9, 2.9, 0.4, 1.9, 3.8, 1.1, 0.6, 0.5, 0.6, 1.2, 0.3, 0.4, 3.5, 1.3, 0.5, 1.5, 0.3, 1.3, 0.9, 1.1, 1.0, 0.6, 0.5, 0.1, 0.4, 0.4, 0.9, 2.6, 3.3, 2.1, 3.9, 0.0, 1.7, 3.9, 2.0, 1.8, 2.4, 0.7, 1.9, 1.0, 2.9, 3.4, 1.0, 1.3, 0.8, 1.8, 1.0, 0.8, 0.0, 3.8, 1.3, 0.9, 0.7, 0.2, 1.5, 0.9, 2.5, 1.5, 1.0, 0.7, 0.4, 1.5, 0.1, 0.0, 2.2, 1.8, 0.1, 1.5, 1.1, 0.9, 0.6, 0.3, 0.2, 2.9, 1.6, 0.1, 2.0, 1.3, 1.5, 1.3, 0.2, 0.0, 3.8, 0.1, 3.9, 3.0, 1.6, 3.6, 0.1, 1.8, 2.7, 0.8, 0.7, 0.1, 0.1, 0.0, 1.2, 0.5, 0.9, 3.0, 0.8, 1.6, 2.0, 0.2, 2.8, 2.4, 2.3, 1.7, 0.1, 0.2, 0.0, 0.1, 1.2, 3.4, 2.0, 1.3, 2.1, 1.4, 1.6, 1.2, 0.1, 0.3, 0.6, 1.5, 2.3, 1.9, 0.5, 0.2, 1.2, 0.4, 1.3, 0.5, 0.3, 0.1, 1.6, 2.7, 0.0, 0.9, 1.3, 1.9, 0.7, 1.6, 3.1, 1.2, 1.0, 1.4, 1.1, 1.6, 1.2, 1.6, 2.1, 0.8, 2.9, 0.6, 0.3, 0.3, 1.1, 0.3, 0.1, 0.7, 0.8, 1.3, 2.3, 0.9, 0.1, 1.1, 3.8, 0.5, 1.6, 0.0, 0.4, 1.1, 1.6, 1.6, 0.1, 2.2, 2.1, 0.0, 0.2, 0.3, 0.7, 0.3, 0.4, 3.4, 1.2, 0.9, 0.8, 2.0, 0.6, 0.1, 0.1, 1.0, 2.2, 1.1, 1.4, 1.8, 2.1, 1.3, 0.3, 0.0, 0.3, 4.0, 2.7, 0.4, 1.4, 0.1, 0.1, 0.0, 0.6, 1.1, 0.4, 1.4, 0.0, 2.7, 0.4, 1.4, 1.1, 0.3, 0.2, 0.1, 0.1, 1.8, 0.7, 2.4, 0.1, 3.1, 1.5, 2.1, 1.2, 0.1, 2.0, 0.2, 0.5, 2.6, 1.2, 0.2, 3.5, 0.1, 0.1, 0.0, 1.0, 1.3, 0.0, 0.3, 1.7, 0.1, 0.0, 0.0, 0.5, 3.4, 3.8, 0.9, 2.2, 0.4, 1.0, 1.6, 0.2, 0.2, 2.5, 5.0, 1.1, 0.2, 0.0, 2.5, 0.3, 0.0, 0.7, 0.3, 0.1, 0.2, 2.0, 0.0, 0.3, 4.0, 1.4, 0.9, 1.9, 0.3, 0.1, 0.2, 0.6, 1.8, 0.7, 0.9, 1.5, 3.4, 2.1, 2.5, 1.8, 0.5, 1.5, 2.0, 1.2, 0.7, 0.4, 1.6, 0.9, 0.7, 0.8, 2.0, 1.5, 0.5, 4.5, 0.2, 0.1, 0.2, 3.0, 1.6, 0.1, 1.9, 0.4, 0.0, 0.3, 2.4, 2.1, 0.3, 0.9, 3.2, 0.7, 0.9, 0.6, 0.3, 0.5]}, {\"fillcolor\": \"rgba(255, 65, 54, 0.5)\", \"line\": {\"width\": 1}, \"marker\": {\"size\": 2}, \"name\": \"WS\", \"type\": \"box\", \"whiskerwidth\": 0.2, \"y\": [0.1, 9.1, 6.8, 9.3, 0.0, 7.6, 5.8, 2.7, 14.4, -0.1, 0.3, 2.0, 3.7, 2.5, 0.6, 1.9, 5.8, 1.2, 1.6, 1.7, 3.6, 1.9, 1.7, 1.2, 0.3, 3.7, 2.4, 0.7, 7.6, 4.5, 2.5, 1.6, 0.5, 4.8, 2.8, 2.0, 4.5, 8.2, 1.4, -0.1, 3.5, 0.7, 0.3, -0.3, 0.7, 0.1, 1.0, 0.1, 0.8, 2.9, 2.9, 0.8, 6.5, 0.0, 1.5, 3.0, 2.1, 2.6, 5.6, 3.1, 2.4, 0.7, 1.9, 0.6, 1.3, 1.5, 0.5, 0.9, 0.2, 0.1, 7.9, 1.3, 6.6, 1.5, 4.0, 10.8, 3.1, 0.0, 1.9, 0.8, 0.1, 0.6, 1.0, 6.7, 2.1, 0.2, 1.9, 1.5, 1.5, 0.0, 0.0, 0.0, 1.0, 1.8, 6.0, 2.9, 8.0, 3.9, 1.8, 2.5, 0.7, 1.8, 3.0, 0.2, 4.4, 2.4, 9.7, 0.3, 9.5, 5.7, 4.0, 0.5, 0.1, 0.4, 6.3, 2.6, 0.8, 2.8, 4.8, 0.6, 1.5, 0.1, 10.0, 1.8, 0.6, 11.5, 2.6, 1.0, 1.6, 8.7, 2.6, 2.2, 0.4, 0.3, -0.1, 1.0, 7.9, 2.8, 1.9, 3.3, 3.8, 3.2, 5.6, -0.1, 0.3, 8.2, 3.4, 6.0, 3.9, 2.1, 4.4, 11.9, 5.1, 1.0, 3.3, 14.4, 0.0, 5.1, 2.6, 0.5, 7.3, 1.7, 5.9, 4.3, 2.9, 1.8, 1.1, 3.6, 8.0, 15.2, 8.7, 2.6, 5.5, 7.1, 5.0, 2.1, 1.4, 2.1, -0.1, 4.9, 0.6, -0.1, 5.9, 2.8, 0.5, 2.3, 0.5, 0.9, 5.4, 2.1, 1.3, 0.8, 1.2, 4.3, 2.6, 1.5, 1.1, 7.5, 2.3, 0.6, 1.5, 0.6, 6.1, 4.2, 6.0, 2.0, 9.1, 4.0, 1.9, 0.4, -1.7, 2.9, 1.6, 1.3, 5.0, 7.2, 0.0, 1.5, 0.5, 0.7, -0.1, 2.3, 1.8, 0.5, 1.5, 3.0, 7.1, 5.3, 1.9, 3.5, 1.8, 5.4, 3.4, 2.1, 2.5, 2.5, 3.5, 0.0, -0.3, 0.2, -1.3, 1.1, 1.4, 2.3, 0.2, 2.0, 1.6, 3.1, 5.3, 2.8, 3.1, 0.4, 0.3, 0.2, 0.7, 3.2, 9.5, 3.0, 1.7, 12.1, 6.0, 6.7, 2.7, 1.3, 6.6, 1.2, 1.0, 2.0, 1.1, 0.9, 2.7, 2.7, 1.8, -0.1, 1.0, 0.5, -0.2, 0.7, 5.6, 2.9, 5.9, 1.9, 2.1, 0.2, 0.5, 0.0, -0.3, 6.1, 1.6, 0.2, 6.1, 0.3, 5.0, 0.3, 1.7, 4.5, 1.6, 0.9, 0.7, 6.2, 0.3, 0.8, 5.1, 2.5, 1.9, 0.6, -0.1, -0.1, 0.0, 0.9, 2.0, 1.1, 1.3, 2.2, 4.3, -0.8, 1.4, 3.3, 1.0, 0.7, 2.2, -0.5, 1.2, 2.3, 4.7, 1.5, 1.4, 0.5, 0.9, 1.1, 0.0, 6.6, 0.5, 0.2, 0.3, 1.5, 0.1, 0.0, 5.8, 5.1, 3.2, 2.1, 1.1, 1.6, 0.7, 0.9, 7.5, 2.4, 1.5, 0.6, 6.1, 5.6, 1.2, -0.2, 1.4, 0.2, 0.7, 0.1, 6.1, 1.3, 3.0, 4.3, 3.2, 3.7, 5.0, 7.6, 0.5, 1.6, 0.9, 0.7, 1.5, -0.6, 3.6, 2.2, 1.4, 9.3, 8.2, 0.1, 5.3, 0.1, 3.2, 1.2, 0.1, -0.2, -0.3, 0.0, 5.0, 2.2, 2.2, 1.6, 0.6, 3.5, 0.0, 5.3, 2.6, 0.0, 1.2, 10.4, 2.0, 6.3, 0.1, 4.3, 3.2, 0.2, 1.2, 7.4, 0.0, 1.2, 1.0, -0.2, 6.8, 3.6, 6.3, 0.6, 1.0, 1.2, 3.8, 1.2, 2.8, 0.8, 0.2, 0.6, 4.3, 2.3, 2.0, 6.9, 3.3, 3.9, 0.3, 0.0, 0.3, 3.2, 1.8, 1.4, 1.7, 0.4, 4.1, 2.6, 1.8, 0.8, 1.4, 2.2, 8.6, 2.8, 4.1, 3.3, 3.6, 2.7, 0.3, 3.5, 6.2, 2.9, 1.2, 6.6, 0.9, 1.2, 1.6, -0.1, 2.8, 0.9, 6.7, 4.3, 1.3, 0.0, 1.3, 5.3, 5.2, 2.4, 3.9, 1.6, 3.7, -0.1, 2.9, 0.3, 3.5, 4.0, 3.1, 0.9, 2.2, 0.1, 2.1, 7.0, 5.2, 2.1, 3.6, 3.6, 2.5, 0.7, 3.1, 0.4, 2.7, 3.3, 0.3, 0.5, 1.3, 0.1, 0.4, -0.3, 2.4, 1.7, 2.4, 11.2, 2.6, -0.1, 2.8, 1.4, 0.6, 0.8, 0.0, 7.0, 1.0, 0.8, -0.5, 1.3, 2.7, 2.8, 10.3, 3.6, 0.2, 0.1, 0.1, 2.4, 1.4, 0.6, 0.7, 3.8, 2.2, 6.8, -0.1, 0.2, 6.0, 4.0, 1.3, 3.6, 3.9, 0.5, 3.3, 1.6, 0.0, 0.0, 15.7, 0.3, 0.2, 0.0, -0.1, 0.3, 14.0, 6.3, 1.7, 1.9, 5.4, 4.0, 3.6, 4.9, 0.1, 1.9, 0.2, 7.7, 4.1, 4.1, 4.8, -0.4, 1.2, 3.6, 1.9, -0.3, 0.0, -0.3, 1.3, 4.6, -0.1, 1.7, 5.6, 0.6, 8.3, 0.2, 2.1, 1.0, -0.1, -0.3, 0.2, 0.2, 2.1, 3.9, 1.3, 10.2, 10.4, 6.1, 1.2, 1.1, 0.1, 0.0, 4.8, 9.3, 1.7, 0.2, 1.0, 2.9, 8.6, 0.6, 0.5, 7.8, 8.5, 0.0, 1.9, 0.4, 0.0, 0.4, 5.2, 2.0, 3.1, 9.0, 0.1, 3.4, 16.4, 4.2, -0.7, 0.2, 4.8, 1.4, 1.2, 0.5, 8.7, 3.6, 3.6, 4.2, 3.0, 5.4, 2.2, 3.5, 1.0, 3.4, 1.3, 1.0, 2.2, 8.7, 3.6, 3.8, 5.6, 5.1, 2.2, 10.4, 2.6, 4.9, 2.9, 2.0, 10.4, 4.7, 0.8, 2.3, 0.9, 3.3, 3.5, 1.9, 1.5, 5.1, 4.1, 4.1, -0.1, 0.8, 1.7, 1.5, 0.2, 3.0, 12.8, 4.5, 3.3, 6.4, 2.7, 3.7, 0.7, 0.7, 3.8, 0.1, 4.5, 4.4, 0.1, 7.5, 3.3, 1.6, 2.8, 1.7, 0.1, -0.7, 7.0, 4.8, 3.2, 3.4, 8.6, 2.8, 1.3, 10.6, 2.7, 3.3, 7.0, 5.1, 8.7, 7.1, 1.3, 2.1, -0.1, 0.8, -0.2, 1.9, 6.2, 1.1, 0.5, 1.4, 1.8, 0.0, 1.3, 0.4, 0.4, -0.1, 2.5, 0.4, 3.1, -0.2, 6.7, 2.2, 1.6, 0.6, 0.4, -0.1, 0.0, -0.1, 0.4, 8.3, 0.1, 6.8, 0.8, 0.0, 4.0, 4.6, 5.7, 5.7, 1.8, 3.9, 2.0, 1.9, 0.5, 0.6, 0.1, 0.4, 1.4, 0.6, 0.0, 0.8, 0.1, 5.6, 4.0, 0.0, 0.3, 0.4, -0.1, 7.2, -0.5, 1.6, 3.5, 3.6, 4.2, 0.5, 1.3, 4.1, 5.5, 6.1, 16.1, -0.5, 0.0, -0.5, 2.3, 0.1, 0.3, -0.2, 5.5, 4.8, 2.6, 2.1, 0.4, 2.9, 0.6, 2.3, 2.7, 0.6, 0.0, 0.6, 0.8, 0.7, 2.3, 1.2, 1.1, 2.5, 1.0, 0.7, 0.9, -0.1, 7.2, 1.5, 0.7, 0.8, 2.1, 1.8, 0.1, 0.0, 0.0, 0.3, 0.2, 0.0, 1.5, 0.5, 1.0, 1.6, 0.9, 0.6, 1.2, 2.4, 0.5, -0.3, 0.8, 0.6, 1.6, 4.4, 2.7, 2.5, 1.1, -0.3, 1.4, 1.5, 0.3, 1.2, 2.1, 2.0, 1.6, 0.4, 2.0, 2.9, 0.8, 1.2, 2.3, 0.2, 2.1, -0.1, -0.3, 0.2, 2.4, 4.0, 4.0, 0.5, -0.9, 0.5, 4.0, 4.0, 7.7, 1.5, 3.6, 6.1, 4.0, 2.1, -0.4, 0.0, -0.5, 2.6, 2.4, 8.8, 6.8, 1.2, 1.4, -0.1, 2.7, 0.2, 2.5, 2.5, 3.6, 1.4, 0.5, 3.5, 1.1, 0.5, 0.7, 4.5, 7.8, 0.1, 0.0, 4.3, 10.6, 5.3, 0.4, 2.1, 3.6, 2.1, 0.1, 0.1, 0.0, 4.3, 0.8, 6.1, 2.9, 0.2, 3.0, 1.6, 0.3, 0.3, 1.2, 3.1, 1.4, 1.6, 3.8, 6.5, 2.5, 0.0, 6.5, 2.7, 3.5, 10.1, 3.7, 2.4, 4.0, 1.3, 0.1, 1.1, 0.3, 1.1, 3.5, 3.9, 7.1, 6.4, 0.4, 5.4, 2.3, 1.1, 2.1, 4.9, 2.6, 4.3, 4.1, 5.0, 2.4, 4.1, 4.1, 2.7, 1.0, 0.5, 0.1, 4.4, 5.9, 1.9, 0.7, 2.5, 5.4, 1.9, 4.3, 6.4, 4.8, 0.2, 1.2, 0.9, -0.3, 1.2, 2.1, 1.5, 0.3, 9.1, -0.3, 5.3, 1.4, 4.4, 1.2, 1.8, 1.2, 3.6, 3.8, 3.8, 0.0, 0.9, 2.1, -0.1, 5.2, 0.8, 5.3, -0.2, 5.7, 2.0, 4.3, 3.3, 7.3, 2.1, 1.4, 17.9, 1.1, 7.2, 6.7, 2.4, 3.8, 6.4, 9.9, 3.8, 5.9, 0.1, 2.5, 7.4, 4.6, 0.9, 14.5, 0.1, 0.8, 4.3, 0.9, 0.1, 0.8, 0.4, 0.6, 1.4, 2.7, 5.5, 0.4, 7.1, 2.7, 5.7, 0.4, 0.0, 0.4, 1.0, -0.3, 1.2, 3.0, 1.5, 1.5, 6.3, 3.3, 3.7, 7.1, 3.8, 1.9, 9.2, 5.4, 6.4, 0.1, 5.4, 2.1, 7.3, 2.1, 0.8, 4.2, 11.1, 1.7, 2.6, 3.1, 2.2, 0.9, 3.8, 13.3, 0.9, 2.5, 4.0, 0.0, 6.6, 3.3, 3.3, 0.0, 0.4, 1.9, 8.9, 2.0, 2.3, 0.9, 2.2, 2.7, 6.2, 3.9, 2.1, 0.5, 3.4, 0.6, -0.1, 0.8, 1.2, 1.5, 6.0, 9.4, 6.6, -0.1, 0.0, 1.6, 0.7, 0.0, 0.9, 5.5, 4.4, 2.3, 5.0, 0.9, 6.9, 13.6, 2.8, 2.7, 0.2, -0.1, 0.4, 1.5, 0.8, 0.7, 2.4, 5.9, 1.3, 2.7, 0.7, 2.0, 0.6, 2.0, 2.6, 0.1, 1.2, 1.5, 0.3, 11.5, 3.5, 3.3, 8.1, 0.2, 0.1, 0.6, 1.0, 0.1, 0.9, 1.7, 4.1, 3.5, 2.7, 2.1, 2.3, 2.6, 0.9, 0.4, 0.5, 3.9, 2.2, 1.6, 3.0, 0.9, 2.1, 1.3, 13.7, 2.2, 2.7, 9.2, 3.5, 4.6, 0.1, 6.2, 5.8, 8.5, 11.6, 2.3, 1.3, 0.2, 1.2, 6.2, 0.8, 1.2, 0.8, 0.4, 3.7, 1.6, 0.8, 0.3, 0.5, -0.2, 6.0, 0.3, 2.8, 0.0, 1.1, 0.3, 0.4, 0.2, 0.2, 0.8, 0.1, 1.3, 0.1, 6.1, 0.3, 10.1, 7.5, 1.8, 5.4, 0.5, -0.5, 1.1, 1.9, 3.7, -2.1, 2.7, 1.6, 0.1, 1.4, 0.5, 1.8, 1.6, 1.1, 3.0, 0.7, 0.1, 0.1, 0.0, 6.8, 0.3, 1.6, 1.2, 4.9, 4.1, 6.0, 3.6, 5.8, 4.3, 0.2, 3.6, 12.7, -0.5, 1.4, 2.2, 0.9, 6.1, 2.2, 5.6, 1.5, 3.1, 1.6, -0.1, 0.0, -0.1, 1.4, 1.5, 1.6, 4.3, 2.5, 1.9, 3.4, 1.0, 0.8, 0.3, 0.8, 0.6, 4.6, 0.4, 3.6, -0.3, 5.8, 2.0, 0.0, 3.3, 3.2, 4.5, 3.8, 1.7, 2.0, 0.4, 1.1, 2.9, 1.8, 0.0, 0.3, -0.4, 0.4, 1.8, 1.7, 0.5, 2.2, 0.9, 1.2, 0.1, 0.1, 2.0, 4.8, 5.9, 2.7, 1.5, 9.7, 1.7, 1.2, 1.6, 0.6, 1.0, 8.0, 8.7, 1.7, 1.3, 0.4, 2.8, 0.3, 8.3, 4.0, 3.1, 0.4, 0.1, 0.4, -0.8, 1.2, 4.9, 2.1, 9.9, 5.7, 0.0, 0.0, 0.0, 5.4, 14.0, 10.3, 4.1, 0.2, 3.7, 3.6, 0.0, 7.8, 2.5, 2.3, 0.3, 0.1, 0.7, 0.6, -0.8, 0.1, 0.1, 4.1, 6.3, 1.7, 0.9, -0.1, 1.1, 6.5, 1.4, 1.3, 7.2, 1.7, 3.1, 1.9, 1.9, 1.0, 0.9, 2.7, 5.2, 12.4, 4.7, 6.0, 1.1, 1.8, -0.1, -0.3, 0.6, 4.6, 2.0, 1.0, 1.0, 3.3, 4.6, -0.1, 3.0, 2.1, 8.5, 0.2, 1.8, 3.2, -0.3, 5.3, 2.9, 1.5, 2.4, 5.3, 0.7, 0.7, 0.2, 2.0, 3.1, 3.1, 1.2, 0.9, 0.3, 4.1, 0.3, 0.0, 0.0, 0.0, 0.1, 1.5, 1.0, 0.5, 0.8, 13.8, 0.1, 4.5, 0.5, 5.9, 3.8, 4.0, 0.2, 0.5, 0.4, 0.0, 0.1, 2.9, 4.1, 3.5, 1.8, 2.3, 1.2, 3.9, 0.4, 10.0, 0.6, 0.2, -0.1, 0.3, 7.6, 6.0, 1.6, 3.1, 4.2, 1.9, 0.9, 6.7, 3.0, 4.6, 12.6, 1.3, 11.0, 0.5, 1.7, 5.2, 3.1, 0.1, 1.2, 0.9, 9.0, 0.5, 5.7, 2.8, 6.7, 1.8, 1.5, 0.3, 1.2, 0.1, 12.0, 0.1, -0.2, 3.3, 1.1, 1.9, 3.1, 0.4, -0.2, 0.6, 0.7, 0.5, 0.2, 1.2, 4.5, 2.7, 0.1, 1.9, 1.8, -0.2, 2.0, 1.4, 0.1, 2.8, 2.4, 3.7, 6.8, 1.3, 1.2, 0.1, 7.7, 6.4, 1.8, -0.1, 7.1, 0.1, -0.1, 4.0, 3.3, 0.8, 14.3, 3.7, 3.8, 6.8, 0.4, 2.9, -0.1, 3.0, 2.5, 3.4, 8.2, 0.6, 5.8, 0.7, 7.7, 2.1, 15.0, 4.1, 2.2, 4.6, 0.8, 6.8, -0.1, 1.6, 0.2, 1.7, 1.1, 0.6, 10.4, 2.0, 2.7, -0.7, 1.3, 0.5, 0.8, 4.1, 5.9, 2.7, -0.2, 3.8, 2.5, 2.6, 3.8, 2.6, 6.3, 8.3, 0.2, 5.1, 3.8, 1.3, 6.9, 5.0, -0.3, 8.9, 0.0, 0.1, 1.9, 12.9, 2.3, 2.1, 1.7, 1.5, 0.2, 2.1, 5.0, 0.0, 5.1, 3.8, 0.4, 5.8, 0.9, 0.0, 1.5, 11.8, 3.4, 2.3, 5.8, 5.8, 1.4, 0.3, 3.7, 1.6, 2.0, 2.6, 1.2, 2.7, 1.5, 1.4, 0.1, 3.0, 3.2, -0.3, 4.2, 3.0, 13.6, 1.4, 4.5, 1.8, 0.5, 0.4, 0.1, 10.4, 2.1, 2.6, 1.4, 4.9, 4.3, 6.4, 10.1, 0.8, 0.5, 1.4, 1.4, 1.3, 0.6, 3.1, 3.1, 1.1, 1.7, 7.6, 0.1, 0.1, 0.0, 2.6, 1.9, 0.7, 3.5, 2.9, 0.4, 0.3, 1.1, 3.0, 0.1, 1.6, 6.4, 5.6, 2.7, 3.9, 4.1, 1.1, 0.2, 2.7, 0.0, 1.3, 3.4, 0.6, 2.8, 0.7, -0.3, -0.1, -0.1, -0.1, 2.2, 4.0, 2.2, 1.8, 3.7, 2.5, 0.8, 0.1, 0.1, 0.1, 3.9, 0.0, 1.2, 4.0, 4.1, 0.1, 4.7, 0.4, 4.0, 3.0, 0.2, 3.3, 10.6, 0.2, -0.3, -0.1, -0.3, 4.4, -0.2, 0.1, 0.2, 6.0, 4.6, 1.4, 0.5, 0.1, 0.3, 1.6, 9.4, 2.4, 4.6, 2.8, 0.3, 0.0, 1.1, -0.1, 0.7, 0.3, 0.4, 3.5, 3.2, 3.6, 2.2, 0.1, 2.5, 4.2, 2.5, 2.3, 3.0, 3.5, 2.9, 0.6, 1.4, 6.1, 0.4, 1.3, 0.8, 0.0, -0.1, 3.3, 0.1, 0.1, 0.0, 0.9, 2.0, 1.6, 2.0, 0.3, 3.2, 2.3, 3.4, 4.2, 1.4, 0.1, 0.1, -0.1, 0.0, -0.1, 0.0, 8.1, 2.2, 2.1, 12.5, 0.9, 7.1, 7.3, 2.3, 12.7, 1.2, 8.0, 0.7, 0.6, 0.2, 0.0, 1.8, 3.4, 1.6, 8.1, 8.8, 0.3, 0.0, 0.3, 2.6, 13.1, 0.6, -0.8, 9.5, 4.2, 2.1, 2.4, 1.8, 0.6, 1.1, 0.3, 0.8, 5.0, 0.4, 0.0, 0.3, -0.1, 1.8, 1.6, 1.1, 0.3, 3.2, 4.6, 5.6, 1.0, 0.5, 1.1, 1.0, 9.7, 4.2, 0.0, 10.9, 4.2, -0.1, 4.2, 1.2, 6.2, 4.8, 0.1, 11.9, 3.7, 3.0, 0.3, 5.3, 0.0, -0.1, 0.5, 0.3, 2.0, 3.8, 6.2, 3.5, 1.1, 3.0, 2.2, 6.9, 0.3, 2.4, 3.7, 1.9, 1.8, 2.9, 0.1, 0.4, 1.8, 0.2, 2.9, 2.8, 0.0, 5.6, 0.0, 5.7, 0.4, 2.4, 0.0, -0.2, -0.2, 0.0, 0.0, 2.3, 0.7, 1.6, 2.7, 1.2, 0.7, 4.5, 0.2, 0.7, 0.1, 4.2, 2.4, 1.9, 8.9, 0.0, 0.0, 0.0, 5.3, 0.6, 0.0, 0.7, 10.2, 4.1, 1.2, 0.9, 0.5, 2.2, 3.9, 1.2, 2.7, 3.3, 0.7, 1.1, 3.0, 2.1, 1.0, 5.4, 0.6, 7.6, 0.6, 2.5, 1.6, -0.2, 4.7, 6.1, 3.2, 0.9, 1.3, 2.6, 1.7, 0.9, 2.4, 1.6, 0.9, 9.1, 1.4, 13.7, 2.7, 5.0, 3.7, 1.2, 0.5, 0.0, 9.6, 1.9, 2.9, 5.7, 0.4, 0.6, 0.0, 10.3, 0.8, 0.9, 10.4, 0.1, 4.5, 6.2, 3.1, 2.0, 1.0, -0.2, 4.2, 0.7, 1.3, 8.0, 2.2, 1.2, 3.0, 0.1, 2.1, 3.3, -0.6, 1.4, 1.5, 1.2, 0.3, 0.2, 1.2, 1.4, 4.0, 6.0, 3.1, 8.9, 0.2, 7.2, 8.1, 2.9, 4.7, 4.9, 1.8, 5.4, 3.3, 2.9, 6.1, 2.1, 2.6, 3.9, 4.9, 3.0, 1.9, 0.1, 15.4, 5.5, 2.5, 1.4, 1.1, 5.5, 4.0, 6.7, 4.1, 2.6, 1.7, 0.8, 3.4, -0.1, 0.0, 4.9, 2.3, 0.0, 2.8, 2.6, 3.2, 2.1, 1.1, -0.1, 7.1, 1.7, -0.2, 4.1, 2.8, 2.7, 1.9, 0.8, 0.0, 7.8, 0.6, 6.8, 5.1, 3.2, 7.6, 0.2, 2.8, 8.9, 0.2, 0.7, -0.1, -0.2, 0.1, -0.7, 1.0, 2.0, 14.0, 1.6, 3.4, 4.1, 0.6, 5.0, 1.8, 4.2, 1.7, 0.1, 0.1, 0.0, 0.1, 3.6, 9.4, 3.1, 3.6, 7.6, 2.6, 3.3, 2.8, 0.0, 0.5, 3.4, 3.9, 3.8, 4.9, 0.3, -0.1, 3.9, 0.4, 4.5, 0.9, 1.1, 0.1, 2.3, 12.6, 0.0, 1.8, 2.8, 3.8, 1.9, 6.4, 10.2, 3.9, 1.9, 2.2, 1.5, 3.3, 1.3, 2.6, 2.8, 0.6, 6.6, 2.3, 1.3, 1.0, 2.7, 0.8, 0.1, 0.5, 2.0, 2.7, 6.9, 3.0, 0.2, 2.5, 5.2, 0.0, 3.4, 0.0, 1.4, 2.0, 4.4, 2.3, -0.1, 3.2, 3.3, 0.2, 0.3, 0.4, 0.0, 0.3, -0.3, 3.2, 5.5, 2.4, -0.1, 3.2, 0.9, 0.0, 0.1, 1.3, 4.8, -0.9, 2.4, 2.4, 4.8, 1.2, 0.6, 0.0, 0.6, 8.2, 5.5, 0.9, 3.3, 0.0, 0.0, 0.1, 1.2, 1.4, 1.1, 2.6, 0.0, 10.2, 0.8, 2.8, 2.7, 0.1, 0.2, 0.0, 0.2, 3.6, 0.9, 5.6, -0.2, 8.1, 3.5, 6.6, 0.6, 0.1, 2.0, -0.3, 1.2, 6.6, 1.5, -0.3, 5.4, -0.1, -0.1, 0.0, 2.4, 2.2, 0.0, 0.6, 3.6, -0.2, -0.1, -0.1, 0.3, 5.6, 5.3, 0.4, 4.7, 0.8, 2.5, 2.6, 0.3, 0.0, 4.7, 9.2, 1.9, -0.2, 0.0, 1.9, 0.0, 0.0, 2.4, 0.3, 0.0, 0.4, 1.8, 0.0, 0.0, 7.1, 4.9, 1.2, 3.5, 0.2, -0.1, 0.2, 0.9, 4.9, 2.5, 1.0, 5.3, 14.0, 2.6, 4.7, 3.2, -0.2, 2.5, 4.7, 1.6, 1.2, 0.5, 1.1, 1.3, -0.1, 0.1, 8.6, 2.7, 0.7, 10.1, 0.5, 0.2, -0.1, 5.3, 2.1, 0.0, 5.0, 0.5, -0.1, 0.6, 2.6, 4.5, 0.6, 1.7, 5.5, 1.9, 2.9, 1.5, 1.4, 1.0]}, {\"fillcolor\": \"rgba(207, 114, 255, 0.5)\", \"line\": {\"width\": 1}, \"marker\": {\"size\": 2}, \"name\": \"OBPM\", \"type\": \"box\", \"whiskerwidth\": 0.2, \"y\": [-3.8, 0.7, -0.4, 2.4, -4.2, 0.2, 0.1, -1.6, 6.3, -12.6, -1.3, -2.4, -2.0, -0.7, -1.1, -0.5, 1.3, -2.1, -1.6, -2.8, -0.2, 0.0, -0.5, -1.1, -2.8, -0.7, -1.8, -2.5, 3.8, 0.8, -0.5, -2.2, -3.4, -0.3, 0.1, -2.4, 0.4, 1.9, -1.8, -7.0, 3.3, -0.2, -2.8, -3.7, 0.1, -3.6, -2.9, -5.1, -2.0, -2.0, -0.9, -0.5, 2.0, -5.0, -4.4, -1.6, -1.8, -1.2, 2.3, -0.7, -0.1, -2.1, 1.5, 0.9, 2.3, -0.6, -0.4, -0.2, -3.9, -4.9, 2.8, 4.7, 2.4, -1.1, -0.3, 3.3, -0.9, -4.1, -0.4, -1.4, -2.8, -0.5, -1.0, 0.2, -2.9, -4.8, -2.7, -2.3, -1.8, -4.5, -8.5, -2.7, -1.1, 2.1, 2.8, -1.5, 4.6, 0.3, -0.5, -0.5, -1.7, 0.1, -2.0, -1.1, -0.3, -0.4, 7.1, -1.7, 7.1, -0.6, -0.3, -1.7, -3.5, -1.4, 1.0, -1.1, -4.4, -0.3, 1.4, -2.8, -1.7, -1.3, 1.3, -2.9, -2.8, 5.4, -0.3, -0.7, 0.0, 4.0, -1.4, -1.0, -2.6, -1.9, -6.9, -2.0, 1.8, -3.9, -1.0, -1.8, -0.3, -1.8, 1.3, -11.3, -3.3, 4.9, -0.9, 0.8, 1.1, 0.1, 0.8, 5.6, 0.3, -3.4, -0.9, 3.0, -4.7, 0.3, 0.5, -3.7, -0.4, -2.9, 1.1, -1.3, -1.3, -1.8, -0.3, 0.0, 4.9, 9.4, 2.6, -1.2, 0.8, 2.1, 2.7, 0.9, -2.8, -2.3, -8.4, 0.4, 0.4, -3.5, 3.5, -1.9, -0.7, -2.3, -3.1, -1.7, 3.1, -2.3, -1.3, -3.3, -3.0, 0.1, -1.2, -1.0, -1.7, 3.3, 0.1, -1.3, -1.6, -3.4, 0.2, 0.1, 0.3, -1.3, 6.0, -1.4, -3.8, -2.9, -3.3, -0.8, -1.3, 0.4, 1.3, 6.4, -5.7, -2.4, -3.1, -2.9, -3.9, -0.7, -0.7, -0.5, -0.6, -0.9, 0.8, 0.4, 2.2, -2.1, 1.4, 2.5, 2.5, 2.6, -0.4, -2.3, -0.8, -3.5, -9.5, -2.3, -3.4, -1.6, 1.4, -0.2, 0.6, -0.4, -2.9, -0.2, 1.2, 2.4, -0.1, -3.4, -1.8, -4.3, -1.2, 0.0, 6.1, 1.5, -0.3, 6.6, 0.1, 0.4, -0.6, 3.3, 1.7, -1.8, -3.5, -2.2, -1.3, -2.9, 1.4, -1.4, -0.8, -5.3, -2.0, -4.8, -7.8, -4.4, 2.1, -0.5, 0.3, -2.2, -2.2, -2.1, -0.9, -3.8, -7.3, 0.7, -2.1, 1.2, 0.7, -2.6, 1.2, -1.3, -1.2, -0.2, -2.1, -1.8, -2.8, 1.1, -1.2, -0.2, 1.4, -0.8, -1.1, 0.3, -3.9, -4.1, 0.6, -3.6, 0.9, -1.1, -0.2, -0.3, -1.2, -5.2, -1.8, -2.6, -2.5, -2.8, -0.6, -4.2, -3.5, 1.8, -0.2, -1.4, -0.7, -1.1, 0.0, -2.0, -5.2, 2.7, -2.3, -3.1, 0.1, -0.7, 8.3, -3.6, -0.5, 1.3, 0.8, 0.0, 2.6, -0.2, 0.5, -0.6, 2.0, -0.9, -1.0, -2.7, 2.1, 0.1, -3.3, -4.1, -2.9, -3.4, -2.8, -4.2, 0.1, -1.7, 3.2, 1.1, -0.7, -1.0, 4.0, 1.9, 3.6, -1.9, -1.5, -2.3, -1.6, -1.4, -0.3, -0.7, 0.4, 1.6, 2.2, -1.5, -1.2, -2.8, -1.0, -0.5, -5.8, -7.1, -7.9, -3.8, -0.4, 0.8, -3.3, -3.1, -4.1, -0.8, -4.9, 1.1, 1.4, -5.8, -1.7, 5.4, -1.8, 0.0, -5.2, 0.4, -1.2, -3.9, -0.5, 5.2, -3.4, 2.2, -1.3, -7.0, 2.8, -0.4, 1.1, -1.2, -2.0, -2.3, -0.4, -1.7, -1.3, 1.4, 0.3, 1.7, 0.1, 0.1, 0.0, 0.4, 2.3, -0.6, -3.1, -8.7, -2.3, -0.2, -0.3, -0.2, -2.1, -1.2, -1.5, -1.4, -0.7, -3.0, -3.9, -0.8, 3.2, -0.5, -1.5, -0.7, 0.0, -1.7, -3.8, 1.8, -1.2, 4.9, -2.9, -0.1, -2.4, -2.4, 0.0, -7.0, 0.0, 1.1, 0.2, -0.5, -1.2, -4.7, 0.3, 0.5, 0.3, -2.5, -1.4, -3.2, -0.1, -4.2, -0.3, -2.5, -0.4, -2.4, -1.0, -2.3, -0.4, -7.5, -1.8, 1.6, -0.9, -0.5, -0.3, 2.5, -1.5, -4.3, -1.2, -1.9, -0.8, 0.3, -2.8, -3.0, -0.5, -3.2, -1.5, -8.9, -0.1, -0.5, -1.9, 3.4, -0.5, -11.5, -1.3, 0.1, 0.2, 0.0, -5.3, 1.2, -2.1, -1.3, -1.7, -0.8, 0.3, -2.6, 2.4, 0.2, -3.0, -2.3, -6.7, 1.2, -2.1, -2.6, -1.1, 2.3, -1.9, 2.6, -2.5, -0.6, 2.8, 0.3, -2.4, 1.9, -0.2, -0.6, -0.2, -2.8, -6.1, -20.1, 8.2, -3.8, -0.8, -3.3, -2.6, 3.1, 6.6, 1.4, -3.3, -2.0, 1.1, 0.5, -0.6, -0.1, -3.0, -3.8, -3.5, 0.6, -0.5, -0.3, 8.6, -3.7, -0.5, 0.0, -1.0, -4.1, 0.3, -4.8, 2.0, 1.4, -3.6, -2.2, 0.6, -1.2, 1.9, -1.3, -0.5, -0.3, -4.5, -5.6, -1.8, -3.6, -1.5, 2.6, -1.5, 2.7, 2.9, 3.4, -1.3, -0.5, -3.8, -2.3, -0.5, 1.7, -1.5, -2.8, -2.6, 0.2, 0.6, -2.5, -3.9, 2.6, 0.7, -3.0, 1.2, -1.9, -5.3, -1.2, 0.5, 0.2, 0.8, 3.8, -1.7, -0.7, 7.0, 0.6, -5.6, -4.0, 1.1, -3.0, -3.0, -2.1, 3.5, -1.3, -1.5, -1.8, -1.7, 4.1, -0.6, -2.0, -3.8, 2.5, -2.4, -2.1, -1.0, 2.6, -0.3, -1.0, 0.5, -0.4, -2.3, 4.4, -0.4, 1.8, 0.9, 3.2, 6.1, 0.9, -2.1, -0.8, 0.8, 4.0, 0.2, 0.0, 0.5, 0.0, 0.7, 0.7, -5.6, -2.0, -1.1, 0.2, -4.0, 0.7, 2.2, 0.2, -0.8, 1.6, 0.0, 4.4, -2.1, -3.0, -1.1, -1.4, 1.9, 2.5, -1.2, 2.4, -2.0, 0.9, -0.5, -3.0, -4.8, -2.2, 3.0, -1.0, 0.1, -2.8, 2.8, 0.1, -2.5, 4.3, 0.1, -1.4, 1.8, 0.1, 3.2, 3.2, -0.7, -3.6, -4.7, -0.7, -6.6, 1.7, 2.0, -2.7, -2.1, -0.9, -1.3, -4.1, -1.4, -2.6, -1.8, -5.0, -1.3, -3.0, -0.3, -8.0, 0.5, -1.1, -0.6, -1.6, -3.7, -4.4, -2.5, -6.4, -5.1, 1.7, -4.9, 2.0, -2.7, 8.7, 0.1, -0.5, 1.9, -0.6, -1.9, 0.4, 3.5, 0.3, -2.7, -2.1, -2.7, 0.2, -0.1, -0.5, -4.2, 1.0, -3.4, 0.1, -2.6, -10.0, -0.1, 3.6, -4.7, 2.7, -7.3, -1.7, -0.1, -0.5, -0.4, -2.4, -0.1, 0.1, 2.0, 2.3, 6.4, -5.0, -8.7, -4.9, -1.5, -5.5, -5.0, -8.6, 1.2, -0.2, -1.5, -1.7, -0.8, -1.1, -2.9, -0.3, -1.1, -1.7, 4.0, -1.9, -2.2, -3.5, -1.4, -1.0, -2.1, -0.4, -0.9, 2.6, -1.0, -9.6, 1.4, -2.5, -2.5, -2.6, -2.4, -1.5, -3.0, -3.2, -2.9, -1.8, -1.7, -1.9, -2.3, -4.6, 0.0, -1.1, -0.5, -1.4, 1.6, -0.1, -0.3, -7.1, -2.9, -4.2, -2.4, -0.5, 0.6, -0.8, -1.8, -3.2, -0.2, -1.5, -1.7, -1.5, -2.1, -2.1, -1.6, -3.4, 0.0, -1.9, -3.1, -2.4, -0.6, -0.7, -0.5, -7.6, -18.9, 1.5, -1.3, -0.9, 0.8, -2.4, -4.3, -1.3, 0.1, 1.3, 2.7, -2.0, -0.1, 4.1, 3.2, 6.0, -3.9, -4.0, -3.8, -1.6, -2.6, 4.5, 0.1, 1.6, 2.5, -5.3, -0.6, -1.3, -0.4, -1.8, 0.3, 2.7, -2.1, 3.5, -2.5, -2.6, -2.5, 1.7, 2.6, -4.5, -4.4, 0.3, 6.9, 2.5, -0.3, -0.4, 1.1, -0.3, -2.7, 3.1, -5.8, -1.4, -0.4, 2.1, 4.3, 0.1, 1.0, 0.3, 0.0, -2.5, 0.8, 0.0, -0.4, 0.7, -2.0, 1.0, -0.2, -2.5, 0.0, -1.3, -0.9, 2.0, -1.7, -2.2, -0.2, 0.7, 1.2, 0.6, -2.4, -1.1, -1.7, 2.2, 1.3, 3.8, -2.9, 0.1, -1.3, -1.0, -1.9, -0.2, -1.1, 1.2, 0.6, 1.1, 0.2, -0.5, -1.2, 1.2, 2.2, -2.1, -2.9, 0.0, -1.3, -0.9, -3.1, 2.5, -0.9, -1.2, -1.0, 3.6, -0.4, -4.7, -2.7, -1.3, -4.5, 0.1, 0.7, 0.2, -2.5, 3.2, -14.0, -1.1, -0.8, -0.3, -0.8, -0.4, -1.4, 0.4, -0.8, -0.8, 5.6, -1.5, -0.1, -2.9, 0.9, -3.6, 3.5, -4.8, 2.7, -1.1, -0.9, 0.1, 0.8, -2.3, 0.7, 10.3, 1.8, 3.6, 1.0, -1.6, -0.7, 0.7, 3.2, -0.1, -0.1, -4.6, -0.4, 0.8, -0.8, -2.6, 8.4, -0.3, -1.5, -1.0, 2.5, 2.4, 2.7, -3.1, -1.5, 1.8, -0.6, 1.7, -0.5, 2.1, -1.7, 0.1, -2.7, -3.0, -2.2, -1.5, -6.3, 1.3, 0.3, -0.2, 1.3, 3.4, -1.7, 0.8, 2.7, -0.1, -3.2, 3.7, -0.4, 0.0, -2.1, 0.9, 0.9, 0.5, -2.1, -2.8, -1.0, 2.6, -2.1, -1.5, -0.8, -0.4, -1.8, 3.4, 6.4, -0.5, -1.4, -0.6, -5.0, 1.2, 0.5, 2.4, -7.2, -3.2, -1.6, 2.4, -1.1, -1.2, -2.4, -3.5, -1.3, 0.1, -0.7, -1.1, -1.9, 2.7, -3.3, -6.1, -1.9, -1.4, -1.1, 0.7, 2.2, 0.3, -2.7, -2.2, -1.6, -1.4, -1.1, -2.2, -0.6, -0.2, -1.4, 3.2, 0.0, 3.4, 7.0, -0.9, -1.6, -1.9, -4.3, -0.3, 0.2, 0.1, 0.3, -2.0, -0.4, -1.5, -0.6, -1.2, 0.8, -3.5, -0.1, -1.7, -2.7, -0.2, -0.9, -1.9, 1.5, -1.1, -1.0, 3.3, -3.3, -2.9, 0.2, 1.0, -2.3, 1.5, 0.9, -1.5, -1.3, 0.1, 2.6, -0.3, 0.2, -2.4, -2.6, -1.3, -1.3, -0.9, -2.1, 0.7, -0.7, 2.3, -3.5, 6.1, -1.1, 0.1, 5.7, -1.0, -0.7, 1.6, 1.9, 0.4, 3.0, 4.7, -1.6, -1.2, -1.9, -1.0, -0.9, -2.0, -1.6, -1.2, -3.1, -0.9, -3.2, -1.5, -2.6, -2.3, -3.0, 2.3, -2.7, -1.0, -6.0, -0.2, -3.1, 0.0, -0.9, 0.7, -2.6, -0.2, -1.6, -2.6, 1.2, -3.8, 1.5, 2.7, -1.9, -0.3, -2.3, -3.1, -1.3, -0.1, -1.7, -2.3, 0.6, -2.1, -2.0, -0.1, -2.2, -2.3, 0.0, -1.5, -1.7, -1.7, 3.5, 6.6, -0.2, 2.4, -4.2, -1.0, -0.5, 0.9, 1.2, -0.3, -0.4, 0.2, 1.8, -5.4, -0.1, 5.9, -6.1, -1.3, -0.7, -3.0, 0.0, -0.2, 0.3, -1.5, -0.6, -0.5, -3.3, -3.0, -3.7, -3.2, -2.5, -1.9, 1.4, -1.1, -2.2, -0.7, -0.9, -0.9, -0.8, -1.6, -2.7, 1.0, -0.6, 0.6, -4.7, 1.0, -0.6, -0.7, -0.8, -0.1, -1.5, 0.2, -3.0, -3.1, -3.5, -3.1, -2.2, -2.5, -3.5, -2.8, -4.3, -3.5, -2.3, -2.2, -2.3, -0.9, -2.7, 0.8, 1.9, 2.0, -1.8, 0.0, 1.5, -2.5, -0.7, 4.9, -1.7, -1.6, -2.1, -3.4, -1.2, 3.4, 0.5, 0.9, 1.1, 0.4, -0.1, -3.6, 2.5, -0.9, -2.2, -2.7, -0.2, -3.2, -4.4, -3.9, 2.3, -2.4, 3.5, 3.1, -4.7, -4.9, 5.0, 0.3, 6.4, 1.7, 0.9, -2.0, 0.4, 1.5, -5.3, 2.1, -3.3, -1.0, 0.4, -3.2, 0.0, 1.1, -8.4, -5.3, -1.6, 0.1, -1.1, -2.1, -1.5, -10.3, -0.6, -0.2, -2.1, -2.3, 0.7, -1.5, -2.0, -1.4, -0.9, -1.0, -0.8, -1.4, 1.7, 4.9, 2.3, -0.1, 0.1, -2.0, -4.5, -5.8, -1.7, 0.4, -1.7, -1.6, -2.0, 1.2, 0.6, -2.1, -3.2, -2.1, 4.2, -0.4, 0.0, -0.6, -4.3, -0.2, -3.4, -1.8, -2.3, 3.7, -5.2, -5.1, 2.3, 0.3, -0.9, 0.0, -3.5, -4.0, -2.3, 0.0, -2.4, -4.5, -5.0, -0.1, -0.1, -3.0, -1.0, -1.3, -2.2, 5.6, 0.2, -0.6, -3.6, 1.3, -0.4, -0.3, -4.5, -2.6, -1.8, -2.0, -4.3, -1.2, 0.7, 0.5, -2.2, -1.0, -0.9, 0.3, -1.3, 6.0, -0.4, -1.6, -3.8, 0.0, 5.0, 5.6, 3.0, -1.2, -0.7, -0.8, 2.2, 1.0, -1.9, 0.8, 6.7, 0.2, 4.4, -5.0, -3.2, -1.4, 0.3, -5.3, -2.5, -1.4, 4.1, -1.8, -0.8, -1.3, 0.1, -1.1, -1.3, -2.7, -0.3, -4.5, 6.7, -0.8, -4.1, 0.8, -3.1, 1.9, -1.9, -2.4, -6.4, -0.5, -0.1, -0.9, 1.0, -3.2, 1.5, -1.2, -3.1, -2.0, -0.9, -4.1, -0.4, -3.3, -3.9, -0.2, -2.5, 1.4, 2.8, -1.5, -1.2, -2.6, 3.8, 2.6, 1.4, -9.2, 3.0, -4.0, -3.1, -1.1, -1.0, -1.7, 2.2, -0.3, 1.3, -0.3, -1.8, -2.1, -8.0, -1.9, -1.3, -1.0, 1.0, -1.0, -0.9, -2.4, 4.2, -0.5, 7.5, 0.9, -1.0, 1.5, -2.6, 1.3, -10.1, -4.0, -6.1, -0.3, -1.1, 2.3, 4.6, -2.2, -2.3, -4.1, -0.6, -1.7, 1.1, 0.0, 3.0, -3.5, -5.8, 1.0, -0.5, -2.2, 0.5, -0.6, 2.3, 0.6, 7.6, 0.4, 0.9, -0.8, 0.8, -0.7, -3.0, 4.7, -4.8, 9.7, 0.4, 6.4, -0.3, -2.5, -1.2, -0.8, -2.8, -2.3, -0.7, -6.6, 1.1, 0.4, -4.4, 0.4, -3.1, -7.7, -0.6, 2.5, -0.9, -0.5, 3.0, -1.6, -0.9, -0.8, 0.5, -0.9, 1.9, -2.1, -0.6, 0.5, -1.5, -1.0, -2.9, 1.5, -0.2, -5.2, -0.7, -2.4, 7.1, -2.6, -0.4, -1.3, -4.5, -4.6, -1.3, 6.1, 1.9, -3.0, -2.4, 2.9, -1.4, 3.3, 5.8, -2.2, -2.2, -2.5, -3.0, -1.1, -5.3, -0.8, -1.6, -2.7, -2.4, 3.4, -1.2, -0.2, -9.9, -0.9, -0.9, -1.0, 1.0, -1.8, -2.5, -1.9, -1.3, -3.0, -3.9, -0.4, 0.8, 1.3, -1.7, -0.8, -1.4, -2.9, -1.6, 0.5, -4.2, -0.6, -0.1, -0.8, -0.8, -3.5, -8.8, -6.1, -5.7, -6.7, -0.9, 0.1, 0.4, -0.2, -1.0, 0.8, -2.1, -0.5, 0.7, -2.1, 0.2, -7.0, -1.9, -0.3, -0.3, -2.8, -1.1, -3.1, 2.1, -1.6, -3.6, 0.0, 6.3, -3.8, -5.2, -4.8, -6.2, 0.8, -6.3, -4.7, -3.6, 0.6, 1.2, -1.1, -5.0, -5.1, -4.8, -3.0, 2.4, -0.6, -0.1, -0.6, -0.8, -5.7, -3.5, -2.0, -1.1, 1.4, -2.0, -0.6, 1.0, -0.9, -2.0, -3.4, -1.2, -2.5, -0.5, -1.6, 1.0, -0.3, 1.1, -2.5, -1.6, 1.2, -2.0, 0.7, -4.5, -13.4, -4.7, -2.1, -4.6, -3.3, -4.9, -2.0, -2.3, -3.0, -3.7, -4.1, -1.9, -2.1, -1.0, 0.9, -2.1, -3.4, -3.3, -4.7, -2.9, -14.9, -6.9, 2.3, -1.5, -1.4, 7.8, -2.4, 2.4, 0.0, -0.1, 5.5, -2.3, -0.1, -0.9, -3.5, -3.6, -3.2, -3.0, 1.6, 0.3, 4.9, 4.6, -4.5, -8.1, -3.4, -0.7, 8.7, -3.6, -4.3, 0.9, 0.7, -0.8, 0.0, 0.5, -1.2, -1.9, -2.9, -1.0, -0.1, -4.3, -5.6, -0.5, -4.6, -0.4, 1.0, -0.1, -1.7, 1.7, -0.3, -0.9, -2.2, -4.2, -1.2, -2.6, 1.7, -1.1, -6.8, 4.3, -0.9, -8.3, -0.7, -0.6, -0.4, 0.9, 1.8, 5.3, -0.6, -1.2, -4.7, 0.0, -4.8, -4.8, -2.8, 0.2, -0.7, 0.8, 1.6, 0.5, -2.7, -3.6, -0.4, 2.9, -2.4, 0.6, 0.4, 0.6, 0.0, 0.0, -2.9, -0.3, -0.7, -2.7, -2.6, -0.1, -2.8, 2.3, -0.7, 2.4, -4.7, 2.9, -21.7, -3.0, -2.8, -4.1, -3.0, -3.2, -4.7, -1.2, -0.1, -2.9, 7.5, -0.8, -3.9, -2.8, -3.1, 0.7, 3.9, -1.3, 5.0, -4.8, -8.2, -4.5, -0.4, -0.5, -12.4, -0.4, 2.4, 0.5, -1.9, -3.3, -3.8, -0.9, -0.4, -0.4, -0.8, -1.0, -3.2, -2.7, 1.5, 1.9, 0.5, -0.4, -4.5, 2.4, 1.3, -1.7, -0.1, -10.4, 2.5, -0.2, 0.0, -2.2, 0.1, -1.9, -1.9, -1.9, -1.5, -1.9, -0.6, 7.8, -0.5, 5.3, -0.9, -1.2, -0.4, -2.3, -2.4, -5.3, 3.3, -1.3, -0.9, 1.3, -1.4, -1.6, -17.7, 1.5, -3.0, -2.4, 6.7, -2.6, 1.0, 2.0, -1.1, -0.5, -2.2, -5.4, 4.9, -0.3, -0.3, 0.9, -0.3, -3.2, -1.3, -3.8, -2.5, 0.8, -2.7, -2.8, -0.5, -0.4, -1.0, -3.3, 0.4, -0.2, 1.7, 1.5, 0.2, 2.3, 4.9, 0.1, 0.9, 0.9, 2.0, -0.8, -2.8, 0.0, -0.9, -1.0, 0.9, 1.0, -0.8, -0.3, 3.6, 3.8, 3.4, 1.0, 8.5, 3.1, -1.5, -1.7, -1.1, 1.0, 0.7, 2.3, 2.2, 2.3, -1.0, -2.3, -0.6, -5.9, -6.6, -1.0, -0.9, -6.4, 1.6, -1.6, -0.2, 0.0, -0.7, -5.3, 1.3, -1.6, -3.6, -0.3, -0.3, 0.8, 1.6, -0.8, -9.2, 2.4, -0.8, -0.3, -0.1, -1.1, 1.0, 1.7, -0.9, 6.4, -3.8, -4.2, -6.1, -9.2, 5.3, -2.8, -2.4, 1.0, 7.3, 0.6, -0.4, -1.2, -1.2, 0.0, -4.0, -0.5, -2.5, -5.3, -3.4, -4.3, -3.3, -0.8, 1.7, -1.8, 0.6, 3.3, -0.9, -2.1, -1.0, -6.6, 0.4, 1.5, -0.2, 0.3, 1.3, -0.8, -4.8, -0.1, -2.3, 0.6, 5.2, 1.0, -4.3, -0.8, 7.0, -1.0, -2.8, -1.2, 0.7, -0.9, 4.5, 4.7, 2.0, -1.2, -4.6, -3.2, 1.0, -3.3, -1.0, -1.6, -4.3, 1.8, -1.0, -0.7, -1.5, 0.3, -1.0, -2.6, -2.9, -0.3, -2.0, 0.8, -1.1, -0.8, 0.4, 0.9, -1.3, 1.3, -3.2, 2.1, 1.2, -1.0, -2.8, -4.4, -0.1, -1.3, 4.3, -1.3, -3.3, -2.1, -1.4, -3.3, -1.6, 1.2, 0.3, -5.5, -0.7, -1.6, -4.9, -2.5, -2.2, 1.7, -4.5, -2.7, -2.0, 0.4, -4.6, -1.8, -6.4, -1.4, 4.1, 1.1, -2.1, -0.7, -3.9, -4.7, 20.2, 0.9, -2.3, 1.2, -1.2, -2.2, 5.2, -0.1, 0.1, 1.0, -2.1, -3.5, -4.6, -2.5, -1.0, -3.7, -0.7, -7.0, 2.6, 2.2, 0.6, -3.2, -3.8, -0.5, -10.3, -0.9, 0.6, 0.5, -5.8, -0.6, -5.0, -5.0, -5.6, -0.3, -1.9, -4.2, -1.2, 0.0, -2.1, -1.8, -2.9, -2.8, 0.9, -0.7, 0.8, -0.6, -2.3, -0.6, 0.2, -0.9, -3.4, -0.3, 2.0, -1.7, -4.7, -5.0, -2.1, -5.4, -8.4, -1.5, -1.3, -8.2, -0.6, -1.5, -2.4, -6.6, 0.0, 1.1, -2.2, -2.0, -0.9, -1.2, -0.7, -3.2, 1.7, -1.0, -3.4, 1.2, 4.9, -2.9, -0.6, -1.3, -3.0, -1.0, 1.4, -1.1, -1.5, -0.6, -0.9, -0.1, -2.8, -2.1, 4.7, 3.5, -3.1, 4.8, 0.8, -1.0, -3.4, 1.5, -0.8, -7.3, 0.6, -1.0, -12.4, -0.3, -2.2, 1.4, -1.4, -1.6, -0.2, -1.2, -0.5, -0.7, -0.3, -1.8]}, {\"fillcolor\": \"rgba(127, 96, 0, 0.5)\", \"line\": {\"width\": 1}, \"marker\": {\"size\": 2}, \"name\": \"DBPM\", \"type\": \"box\", \"whiskerwidth\": 0.2, \"y\": [-0.5, 0.4, 2.2, -0.6, -2.1, 1.4, 0.6, 2.4, 4.1, -0.1, -1.4, 0.1, 0.1, -0.6, 0.0, -0.9, -1.1, -1.6, 1.3, 1.4, -1.2, -1.2, -1.2, -0.8, -0.6, 0.4, 0.3, 0.2, -0.8, -0.7, -1.2, 1.3, -0.8, 1.2, 1.0, 0.0, 0.5, 1.2, 1.1, 2.2, -2.3, 2.8, -0.9, -0.9, -1.0, -2.4, 1.6, 1.5, 1.6, 0.4, 0.1, -0.5, 0.1, -1.2, 1.0, -0.4, 0.3, -0.5, -0.3, -0.4, -0.5, -0.1, -1.4, -1.5, -1.1, -0.7, -0.2, -1.2, 2.8, 0.6, 0.9, 2.2, 0.7, 0.1, -0.1, -0.3, -0.6, 0.1, -0.3, 2.2, 1.2, 2.9, 0.7, 1.1, 0.8, 0.2, 0.9, -0.5, -0.2, -1.6, -6.0, 1.4, 0.4, -2.6, -1.9, 0.3, 0.1, 0.8, -1.6, 2.1, 2.2, 2.1, 0.2, -2.8, 0.6, -0.7, -0.5, -2.0, 2.3, 0.7, 0.8, -2.8, -0.6, -3.0, 0.1, 0.1, 0.2, 0.9, -0.8, 0.6, -0.9, -0.6, 0.8, 1.1, 0.2, 0.1, 0.3, 0.9, -0.1, 0.9, -0.2, 0.1, -1.1, 0.7, -1.2, -0.1, 1.5, 0.1, -0.4, 0.4, -0.9, -0.6, 0.2, -3.2, 0.2, -0.5, -0.6, 2.3, 2.1, 2.8, 0.6, 1.6, -0.4, 0.4, 0.4, 2.5, -4.8, 0.3, -1.8, 0.0, 0.6, 1.3, 0.8, 2.7, -0.4, 0.0, -1.2, -1.4, 0.2, 1.6, 0.7, -0.4, -0.3, -0.5, -0.2, -1.0, 1.5, 1.0, -2.4, 0.4, 2.1, -0.3, -1.4, 0.5, -1.2, 1.1, -0.4, 0.1, -0.1, 0.5, 1.1, -0.1, 0.4, 0.5, -0.8, -1.1, -0.3, 1.9, -0.5, -1.7, -0.8, -0.5, 0.1, 1.7, 1.1, -0.7, 1.1, 1.0, 0.6, -1.7, -1.2, -0.8, -0.5, -1.4, -0.9, 1.7, -2.0, 1.1, 0.9, 1.3, -0.5, 0.3, 0.6, -0.6, 1.7, 0.3, 1.3, 1.3, 1.3, 1.7, -1.1, -1.5, -1.6, -1.3, -0.6, -0.1, 1.2, -2.0, -2.9, -1.8, -2.3, -0.2, 0.7, -0.3, -1.3, 0.0, 0.3, -1.2, 0.0, -1.6, -0.3, 0.8, 1.1, 0.7, -1.1, -1.3, 1.1, 0.3, 0.5, -0.3, 0.4, 1.8, -1.4, -1.6, 0.6, -0.7, 0.6, 1.0, 1.3, 0.8, -1.5, -0.5, -0.5, -1.3, -0.4, 1.9, -3.2, 2.7, -1.0, -0.9, 1.2, -0.1, -1.3, -1.4, -0.8, 1.1, -1.4, 0.1, -0.8, -1.6, 1.0, -0.6, 0.1, -1.7, -1.1, -0.7, -0.6, -0.9, 0.1, 0.3, -0.7, -1.8, -0.8, -0.3, -0.4, 0.4, -1.1, -1.1, -1.1, 0.3, 0.6, 0.8, 0.2, 2.4, 3.3, -0.8, -0.3, 2.1, 3.0, -1.2, -0.9, -1.5, 0.4, 1.2, 0.9, -1.8, -0.9, -1.1, -0.6, -0.4, 3.2, 1.1, -0.7, -0.7, -0.8, -0.7, 10.6, 0.4, 2.6, 0.7, 0.1, 0.3, -0.4, -2.3, -2.4, -2.2, 0.9, 0.2, -1.0, -1.3, -0.6, 0.2, -1.0, -1.2, -0.9, 0.0, -0.1, -0.5, 2.4, 0.2, -1.7, -0.3, 0.5, 0.8, -0.6, 1.3, 0.2, -0.7, 0.0, -1.4, 3.1, -3.3, -1.3, -1.1, -1.6, 0.8, 1.3, -3.7, 2.0, -2.2, 0.3, -0.7, 0.5, 0.0, -0.3, 1.1, 0.2, -1.2, 0.5, 0.4, 1.0, 0.9, -0.1, -1.4, -1.9, 1.0, -0.7, 0.6, 0.5, 2.4, 1.0, 0.1, 0.5, -0.4, -0.6, -1.0, 1.0, -1.4, 0.7, -2.1, 2.4, 1.3, 1.2, -1.8, -1.1, 0.4, 0.2, 3.4, 0.7, -1.0, -1.5, -0.8, 1.4, 1.6, 1.2, 1.1, -2.8, 0.7, -1.9, -1.6, -1.9, -0.2, 0.1, -0.5, -1.0, 2.6, 0.2, -1.1, -1.2, -0.8, 0.4, 1.1, -0.3, 0.5, 3.1, 1.5, 1.0, 0.2, 2.3, -2.1, 1.2, -1.9, 3.1, 1.1, 0.7, 0.3, -0.3, -2.0, 0.4, -2.2, -0.1, 0.2, 1.1, 1.4, 0.9, -0.5, 1.8, 0.4, -0.4, 1.1, 0.2, -0.3, -0.7, -1.4, 0.5, 1.3, -1.1, -1.7, -0.8, -0.9, 0.0, 0.5, 3.3, -0.2, 0.1, -1.3, -0.6, 1.4, 0.2, 1.1, -0.3, -1.1, 0.3, 0.4, -1.3, 0.0, 0.3, -1.2, -1.3, -1.2, 0.1, 1.2, -0.3, -6.7, -0.4, -0.9, -0.6, -1.1, 0.0, 0.4, 0.4, 0.3, -0.4, 1.4, -1.1, 0.1, 0.2, -0.7, 0.0, -0.3, 1.7, -0.9, -0.7, -0.4, -1.2, -0.2, 0.9, 0.2, -1.2, -1.7, 1.5, 0.4, 1.5, -1.2, 0.7, 0.5, 0.8, 0.4, -2.0, -3.0, 1.7, 0.7, -2.4, -3.1, -3.2, -1.0, 2.3, 0.1, -0.2, -0.8, -1.1, -1.4, 0.2, 0.3, 0.2, 0.7, 1.7, -0.7, 1.0, 0.2, 1.4, -1.5, -1.8, -0.1, -0.5, -0.2, -2.1, 0.1, 2.1, -0.2, -0.7, 0.3, -0.7, -0.1, 0.6, -0.2, -1.3, -0.9, -0.7, -1.3, 1.0, -1.2, -0.1, -0.2, -0.9, 2.4, 0.6, -0.7, 0.7, 0.7, 0.6, 0.1, 0.1, 2.5, 0.1, -0.6, -0.1, -1.2, 0.9, -1.3, 0.6, 2.0, 2.8, -1.3, -1.5, 0.6, 1.1, 0.5, -0.7, -1.3, -0.2, 0.2, -0.7, -0.6, 1.8, 0.8, 0.3, -1.6, -0.6, -0.8, 0.7, 1.0, 0.5, 0.0, 2.2, 0.6, 0.9, 1.2, -1.6, 0.5, 0.0, 0.3, 1.0, -0.1, 0.3, 1.5, -0.1, 0.0, 0.4, 1.4, 1.1, -0.4, -0.7, -0.6, -0.2, -1.3, 1.0, 0.7, -0.9, 0.0, -0.5, -0.6, 0.6, 1.0, 0.2, -0.1, 1.7, -0.8, -0.9, 1.0, -0.8, -0.9, -0.4, 0.5, 0.7, 1.3, 0.1, -2.5, -2.7, -2.3, 0.5, -0.3, 0.6, -0.9, -0.3, 0.0, -1.7, 0.4, 0.7, 0.8, -1.7, 0.2, -0.8, -2.5, -0.9, 0.5, 0.8, 1.0, 3.1, 0.5, -0.3, 0.3, -0.5, 0.6, -0.7, 0.1, -0.4, -0.1, -1.0, 1.2, -0.1, -0.1, -0.6, -2.4, 1.1, -0.1, -0.2, -1.1, 0.8, -1.9, -0.5, -0.2, 0.6, -2.7, -0.9, 0.2, -0.2, -3.2, 1.1, -1.0, 0.0, -2.0, 0.3, 0.6, 2.5, -1.3, 2.1, 1.7, 0.4, 0.0, 1.1, 8.5, 0.0, 0.2, -0.1, -0.1, -0.1, -0.1, -2.7, -0.2, -0.5, -1.3, -1.5, -0.7, -0.9, -0.9, 0.3, -1.0, -1.6, 2.0, 2.3, -0.6, -1.8, -1.2, -2.5, -0.5, -2.2, 1.5, -0.3, 0.9, 0.8, 0.4, -0.4, -1.4, -0.4, 0.2, 1.6, -2.0, -1.9, -2.0, 0.3, 0.1, 0.3, -1.1, 0.3, 0.3, 1.0, 1.0, 0.8, -1.0, -1.0, -0.9, 0.6, 0.7, 8.9, 0.3, 1.0, 0.9, 1.3, 1.0, 1.9, -0.2, -0.8, 1.4, -0.1, -5.6, -0.1, -0.3, -0.5, -0.1, 1.7, -0.2, -2.3, -2.2, -2.4, -1.2, -1.4, -0.8, 0.3, 1.4, -0.7, 0.3, 0.9, -0.1, -2.2, -1.3, 0.2, -0.3, -0.6, 0.0, 1.4, 0.2, -1.1, 1.8, -0.9, -1.9, 0.3, 0.7, -0.3, 1.4, -0.7, 0.0, -0.1, 0.2, -0.1, 1.5, 0.5, -1.4, 1.2, 2.2, 0.7, -1.2, -6.3, 2.9, -0.1, -1.1, 1.5, -1.0, -0.1, 0.1, 0.2, -0.2, 0.3, 2.6, 0.6, -0.9, -0.8, -1.3, -1.7, -0.7, -2.1, -0.3, -0.2, -0.1, -1.4, -0.4, -0.5, 0.4, -0.8, -1.2, -0.7, 0.8, 0.3, -1.2, -0.9, -1.4, -0.8, 0.0, -1.2, 0.6, 1.0, 1.4, -1.2, 1.3, 1.2, 1.6, 0.7, -2.0, -0.9, -1.6, -0.2, 0.6, -0.6, 1.4, -0.1, 1.6, 1.2, 0.8, 1.9, 1.5, -1.2, -0.9, -2.1, -0.2, -0.1, -0.3, 1.4, 0.0, 0.2, 9.4, 0.2, -1.6, 3.4, 0.3, 0.1, 1.2, 0.2, 0.0, 3.3, -0.3, 0.1, 1.4, 3.1, -2.4, 0.7, -0.5, 3.3, 0.3, 0.5, -1.5, -0.1, -1.1, 0.2, -0.4, 0.0, 0.1, -1.0, 0.3, 1.5, -0.9, -1.2, -1.7, -1.1, 0.1, 1.1, 0.2, -0.2, 0.8, 3.2, -1.7, 1.0, 0.5, 0.3, 1.3, -0.3, -1.3, -1.0, 0.7, -1.2, -0.6, 0.6, 1.2, -3.6, 0.8, -1.6, -0.1, 1.1, -0.6, 0.6, -0.2, 0.1, -0.2, 0.9, -0.4, -1.5, -0.9, -0.8, 0.5, -0.5, -3.2, 0.6, 0.1, -0.1, -1.5, 1.4, -0.5, -0.9, 1.6, -1.0, 0.4, 0.9, 0.7, -0.5, 0.2, -0.7, 0.9, 0.8, -0.6, 0.4, 0.3, 0.7, -0.9, 1.6, -1.1, -1.3, 1.1, -1.0, 2.0, -1.5, -1.1, 1.0, -0.1, 0.4, -1.4, -0.2, 1.2, 0.1, -0.5, -0.5, -0.8, -0.1, -0.5, -0.4, -0.6, 0.5, 0.9, -0.2, -0.7, 0.7, 0.9, 2.3, -0.3, 0.6, 1.2, 0.4, 2.2, -1.5, 0.1, -1.0, 0.1, 0.4, -0.3, 2.1, 2.9, -0.9, -1.0, -0.9, -1.0, -0.7, 1.1, 0.2, -0.1, 1.5, -0.2, -0.9, 0.3, 0.1, 0.7, 0.9, 0.6, 1.0, 0.2, -0.7, 1.3, -0.7, 0.2, 1.6, 0.7, 0.0, 1.2, -0.5, -0.6, 0.1, 0.4, 0.0, 2.2, -0.4, 0.0, 1.6, -0.2, -2.2, -0.6, -0.4, -0.9, -1.6, 0.8, 0.0, 1.3, 1.6, -0.8, -0.7, -0.6, 2.0, 0.4, 0.5, -1.0, -1.3, -0.7, -0.7, -0.2, -1.2, 0.0, 1.6, 0.5, -1.3, -1.4, -1.0, 0.2, 0.7, 1.5, -0.3, -0.1, -1.2, -0.5, 1.3, -0.1, 0.2, -2.1, 0.5, -0.6, -0.2, -3.1, -1.4, -3.4, -1.5, 0.6, -0.6, 0.7, -1.4, -1.3, -1.6, -1.2, -1.5, 0.2, 0.3, -0.1, 1.1, 0.6, 0.7, 0.6, -0.8, 3.0, -0.6, 0.0, -1.3, 0.0, 1.1, -4.1, -0.5, -0.5, 0.3, 1.1, -0.2, -0.4, -1.0, -0.3, 1.9, -1.8, -1.6, -2.0, -0.4, -0.1, 0.6, -0.3, -0.5, 0.5, -1.6, -1.0, 0.4, -1.9, -1.3, -0.2, -0.7, -1.9, -0.2, -3.0, 1.0, -2.8, 1.8, 1.1, -0.5, 1.3, 2.7, -0.6, 0.0, 0.1, -0.1, -0.5, 0.5, -1.0, 0.3, -1.9, -3.1, 1.2, -1.0, -1.3, -0.8, 0.3, -1.1, 3.1, 1.5, 1.7, -2.4, -1.4, -3.5, 0.1, -1.7, 1.4, -1.8, 0.9, 0.8, 0.1, -1.6, 0.2, 0.2, 0.3, 0.0, 2.0, -0.2, 0.6, -0.6, -0.3, 1.6, -1.3, 0.8, -1.8, 0.7, 0.3, 0.1, 0.3, -0.2, 1.4, 2.1, -1.3, -1.7, 0.7, -0.5, 1.3, -0.7, -0.5, -1.3, 0.5, -1.1, 0.0, -1.9, -0.3, -1.4, 0.8, -0.2, -1.6, -0.3, 0.0, 2.3, -0.5, 1.4, 0.4, -0.8, -0.1, 1.2, 0.3, 0.4, 2.3, -1.6, -0.5, -1.5, 0.5, -1.5, -0.3, 0.7, -1.3, 0.1, 1.7, 0.4, 0.7, -0.2, 0.4, -0.9, -0.6, -1.5, -1.7, 1.2, 2.2, 0.6, -1.6, -0.3, -1.4, -1.9, 0.4, 0.5, -1.0, -0.4, 0.9, 0.6, -1.0, -1.7, -0.8, -1.3, -0.3, -0.4, -0.4, 0.5, 0.4, 1.0, 0.9, 7.9, 2.6, 1.4, 2.4, -2.2, 1.8, -0.7, -1.2, -2.6, 0.5, 0.7, 2.0, -0.6, -0.3, 0.7, -0.3, -5.0, 0.8, -2.1, -0.1, 1.0, -1.2, -0.6, -4.1, -0.2, 0.0, -1.5, 1.5, 0.1, -0.2, 1.1, 0.4, -0.4, 0.0, -1.0, 3.2, -2.0, 2.4, -1.6, 1.1, -0.2, -0.1, -0.3, 0.3, -0.9, -1.2, 0.3, -0.1, 1.3, -1.0, 0.2, -2.4, 0.5, 1.1, -1.0, -0.2, -0.8, -0.5, -0.7, 1.4, 0.2, 0.2, -0.9, -0.1, 2.6, 2.6, 1.1, -2.3, 0.3, -0.5, 0.8, 0.6, 1.3, -0.4, -1.2, 0.1, 0.5, -3.1, -3.5, -0.8, 1.3, -1.8, 0.0, 1.7, 0.8, 0.4, 0.4, -0.1, 0.4, 1.1, 1.3, -0.5, -0.9, -3.3, 0.4, 0.2, -0.3, -1.5, -0.1, -0.5, -1.6, -1.2, 1.1, 0.8, -0.4, -1.5, -2.4, -1.0, 1.8, 1.6, 2.5, 1.4, -0.6, -1.3, -0.9, -0.1, 0.3, 0.4, 0.3, -1.9, 1.4, 0.4, -0.8, 2.0, -0.6, -0.3, -1.8, -0.6, -1.0, -1.9, 0.6, 0.4, 0.8, 0.1, -0.1, -0.4, 0.2, 1.8, 2.2, -1.7, -1.8, -0.9, 0.2, 2.7, 0.7, -0.8, -1.6, -0.4, 0.5, 0.9, -0.1, -0.1, -1.2, 1.2, 0.7, 0.7, -0.3, -3.3, 0.2, 0.6, -1.5, -1.1, -0.2, -0.4, -1.4, -0.7, -0.2, -2.1, 1.4, 1.5, 0.5, -2.9, 0.1, -0.5, -0.7, -0.4, -0.2, -0.9, 2.2, -0.7, -1.4, -0.5, 0.8, 0.8, -0.3, 0.9, 1.4, 1.9, 3.9, -2.0, 0.2, -1.2, 0.5, -0.3, 1.2, 0.1, 0.7, -0.9, -0.9, 0.3, -1.7, 0.6, 0.9, 0.8, 0.9, 0.5, 0.5, -0.9, 0.7, -0.9, -1.4, -1.1, -1.9, 0.8, 0.8, 0.8, -0.2, 0.2, 0.2, 0.9, 0.5, -0.3, 1.1, 0.8, 1.2, -0.3, -0.2, -0.6, 1.7, 2.3, -1.4, -1.3, 3.4, 0.1, -1.4, 1.2, -1.1, -0.6, -1.2, -1.2, -1.2, 0.0, 1.3, 4.5, 1.7, 0.1, 1.4, 1.0, 1.1, -1.9, 0.7, 0.9, -0.4, -0.6, -1.3, 0.9, -1.4, -2.1, -0.5, 0.6, -1.6, -0.4, -1.4, 0.1, -0.7, -0.5, -1.2, -1.4, -0.8, -1.2, -0.2, 0.1, 2.2, -0.6, 0.3, 0.3, 2.4, 2.4, 2.4, -1.1, 0.1, 0.5, 0.7, -0.6, -0.8, -1.2, 0.4, 0.0, -0.1, 0.2, 1.6, -0.9, -0.6, 0.0, 1.3, 0.9, 0.1, -1.4, -2.4, -2.8, 0.8, -1.4, -1.2, -1.7, 0.2, -0.1, -1.7, 0.2, -0.4, 2.3, -0.8, 0.1, 1.3, 0.5, 0.1, -0.3, -0.1, -1.5, -1.6, -2.9, -0.5, -1.4, 1.2, 0.5, -1.2, 3.4, -3.0, 0.1, 0.2, -0.1, 0.4, 2.3, 2.8, 1.7, 3.0, 0.1, -0.1, -1.9, -2.3, -1.4, 1.7, -1.5, -0.6, -0.1, 0.6, 1.4, 1.6, -0.6, -1.4, -0.9, -0.2, 0.1, 2.5, 1.5, -0.9, -0.6, -1.5, 0.0, -0.2, 0.1, -1.0, 1.4, 1.6, 1.0, 0.0, -0.2, 0.4, -0.1, 0.9, -0.9, 1.1, 0.1, -2.1, 2.3, 1.7, -0.9, -0.6, 1.5, -1.3, -0.3, -1.6, 0.0, 0.9, -1.4, -1.0, 1.4, 0.2, 1.0, -2.0, 0.1, 0.2, 0.0, 0.1, -0.2, -0.5, -1.5, -0.1, -1.7, -0.7, 2.5, -1.0, 1.6, -1.6, -0.4, 0.1, 0.7, 1.1, -0.2, 0.6, 0.4, -0.7, -0.3, -0.8, -0.6, -0.4, -2.6, 0.2, -5.9, -0.9, -0.1, 0.8, 0.5, -1.1, -1.1, -1.6, -0.7, -0.8, -0.7, -0.1, 1.1, -1.4, 0.1, 1.6, -0.4, -0.9, 0.9, -0.4, -0.8, 0.1, 0.8, -0.3, 1.1, 3.5, 2.4, 0.4, -0.8, 0.5, -2.4, -0.6, -1.8, -1.8, -1.8, -1.0, -0.5, -1.5, 0.1, 0.6, 1.2, -1.3, 0.8, 1.9, 0.7, 2.1, 0.4, -1.8, 0.8, 1.1, -0.2, -0.2, -0.6, 0.1, -0.6, 0.7, -0.7, -0.4, 0.1, 0.6, 1.1, -0.3, 3.3, -0.8, 0.1, 0.9, -1.3, 0.6, 0.6, 0.7, -0.5, 0.1, 2.4, 1.7, 1.6, -1.3, -0.4, -0.1, -0.2, 0.7, 1.0, -0.7, -1.4, -0.8, -0.8, -0.8, -0.8, 2.8, -0.8, 0.8, -0.2, -0.4, 0.2, 0.2, -2.4, 0.3, -2.4, 0.4, 1.9, -2.0, -11.4, -1.0, -1.1, -0.3, -4.5, 1.9, 1.6, 2.3, -1.0, -1.1, -0.4, 0.3, 1.5, -0.2, -0.2, 0.0, -1.4, 0.4, 0.7, -1.0, 5.7, -1.5, 0.6, -0.7, -4.5, -0.7, 1.0, -0.4, 0.7, 1.8, 0.9, 0.0, 0.3, -1.5, -0.6, -1.1, 0.4, -0.8, -1.4, -1.1, -1.8, 0.2, 0.2, 0.3, -0.8, -0.1, -1.5, -4.0, 2.2, 1.7, -0.7, -0.7, -2.5, -0.6, -1.0, 0.2, -0.2, -0.1, -0.4, 0.0, -2.1, 1.4, -0.6, 0.6, 0.5, -0.6, -2.0, 2.4, -0.6, 0.1, -0.1, -0.7, -1.5, -0.6, -2.7, 1.7, 0.5, 1.1, 0.6, -1.9, -0.6, 1.3, -0.1, -0.1, -0.2, 0.4, -0.5, 0.4, -1.7, 0.7, -0.3, -0.1, 0.0, -0.8, -0.6, -1.4, -1.5, 1.8, 0.0, 0.1, -0.5, 0.7, -0.9, 0.2, 0.6, 1.9, 0.6, 0.6, -0.8, -0.7, 2.5, -0.6, -1.6, 0.3, 0.1, 0.3, -0.5, 1.4, 1.9, -0.8, -1.5, -1.5, -0.2, -0.4, 0.1, 1.3, 1.4, 0.2, -0.3, 0.7, -1.8, -0.2, -0.6, -0.4, -0.5, -0.2, -0.5, 1.7, 0.5, -1.8, -0.8, 0.1, 0.4, -1.2, -0.5, 0.6, -0.5, -0.6, -0.5, 0.5, 0.3, -0.3, -1.9, 0.4, 1.4, -0.9, -1.0, -0.7, -4.7, 2.0, -0.8, 0.1, 0.0, 0.8, 1.3, 2.5, -0.3, 0.9, 2.4, -0.1, 0.9, 0.6, 2.1, -1.4, -1.1, -1.4, 1.4, 1.5, 0.4, 2.2, 0.9, 1.6, 1.1, 0.2, 1.7, -1.8, -2.6, -3.0, -2.6, 1.7, -0.3, 0.3, -0.8, -1.1, 0.1, 0.0, 0.5, -1.0, -0.2, -1.2, -0.2, -1.0, 0.2, -1.5, 0.4, -0.2, 0.4, -0.3, 4.9, 0.9, -0.3, 0.0, 0.3, -4.4, -0.4, 1.0, 0.2, -1.3, -1.3, 0.5, -0.7, -0.2, 0.2, -0.4, -1.2, -0.7, 0.1, 1.4, 0.1, -0.5, -1.3, -1.4, -1.0, 1.2, -0.4, -0.4, -1.0, -0.8, 2.8, -0.8, -0.8, -0.2, 0.0, 0.3, -2.0, 1.0, -2.4, 0.0, 2.4, -0.5, 3.3, -1.0, -0.1, 0.1, 5.0, -2.0, -0.6, -1.8, -2.1, -1.4, 2.2, -1.5, 0.1, 0.2, 1.4, 0.2, 0.9, 1.7, 2.7, 0.6, -0.5, 0.2, 1.8, 2.6, -0.1, 0.0, 0.1, 0.0, 1.7, 1.2, -0.7, 0.7, -0.3, -1.0, 19.7, -1.7, -0.9, -0.4, 1.0, 5.4, 1.8, -0.3, -0.3, 0.1, -1.1, -0.4, -0.7, -0.1, 1.4, -0.1, 1.1, -0.4, 1.0, -1.3, 1.0, 0.2, -1.3, -0.6, 0.2, -1.2, 0.0, -1.5, -0.6, 1.3, -1.0, -1.0, -3.0, -0.9, 1.8, 2.1, 0.4, -0.4, -3.3, -3.5, -2.6, 0.1, 1.2, 1.5, -2.0, -0.5, 1.1, -1.1, 2.5, -2.2, 0.0, 1.6, 2.5, -1.3, -2.1, -1.6, 1.0, -1.0, -6.2, -0.8, -1.0, 2.3, -1.3, -0.3, 9.3, 1.2, 1.2, -0.7, -0.3, 2.3, -3.9, -3.6, -4.2, -0.5, -2.1, -1.9, 1.0, -0.3, 0.2, 0.4, 0.4, 4.4, -1.4, 0.0, 1.0, -0.2, 0.6, -1.2, -0.1, -0.1, 0.0, -1.4, -0.7, -0.5, -0.4, 1.5, 1.5, 0.3, -0.4, 1.1, -1.7, 2.3, 0.3, 0.5, -3.3, 0.7, 1.1, 1.8, 0.2, -1.9, 0.4, 0.0, -0.9, -0.4, -1.8, -0.3]}, {\"fillcolor\": \"rgba(93, 164, 214, 0.5)\", \"line\": {\"width\": 1}, \"marker\": {\"size\": 2}, \"name\": \"BPM\", \"type\": \"box\", \"whiskerwidth\": 0.2, \"y\": [-4.3, 1.1, 1.8, 1.8, -6.3, 1.6, 0.7, 0.8, 10.4, -12.7, -2.7, -2.4, -1.9, -1.3, -1.1, -1.4, 0.2, -3.7, -0.3, -1.4, -1.4, -1.2, -1.7, -1.8, -3.4, -0.3, -1.5, -2.3, 2.9, 0.1, -1.7, -0.9, -4.1, 0.9, 1.2, -2.5, 0.9, 3.1, -0.7, -4.8, 1.0, 2.6, -3.7, -4.6, -0.9, -6.0, -1.3, -3.6, -0.4, -1.6, -0.8, -1.0, 2.2, -6.3, -3.3, -2.1, -1.5, -1.7, 2.0, -1.1, -0.6, -2.2, 0.1, -0.6, 1.2, -1.2, -0.6, -1.4, -1.1, -4.3, 3.7, 6.9, 3.1, -1.1, -0.5, 3.0, -1.5, -4.0, -0.7, 0.8, -1.6, 2.4, -0.2, 1.2, -2.1, -4.6, -1.8, -2.8, -2.0, -6.1, -14.6, -1.3, -0.7, -0.5, 0.9, -1.2, 4.7, 1.2, -2.1, 1.6, 0.5, 2.2, -1.9, -3.9, 0.3, -1.0, 6.6, -3.7, 9.4, 0.0, 0.5, -4.4, -4.1, -4.5, 1.1, -0.9, -4.2, 0.6, 0.6, -2.2, -2.6, -2.0, 2.1, -1.8, -2.7, 5.5, 0.0, 0.2, -0.1, 4.9, -1.5, -0.9, -3.7, -1.3, -8.2, -2.1, 3.3, -3.8, -1.4, -1.4, -1.2, -2.4, 1.5, -14.5, -3.1, 4.3, -1.5, 3.1, 3.2, 2.9, 1.4, 7.2, -0.1, -3.0, -0.5, 5.4, -9.5, 0.6, -1.3, -3.7, 0.2, -1.6, 2.0, 1.4, -1.7, -1.8, -1.5, -1.4, 5.1, 11.0, 3.3, -1.6, 0.5, 1.6, 2.4, -0.1, -1.3, -1.3, -10.9, 0.8, 2.5, -3.8, 2.1, -1.4, -2.0, -1.2, -3.6, -1.6, 3.0, -1.8, -0.3, -3.4, -2.6, 0.6, -2.0, -2.1, -2.0, 5.1, -0.5, -3.0, -2.4, -3.9, 0.2, 1.8, 1.4, -2.0, 7.2, -0.4, -3.2, -4.6, -4.6, -1.6, -1.9, -1.0, 0.4, 8.0, -7.7, -1.2, -2.2, -1.6, -4.5, -0.4, -0.1, -1.0, 1.1, -0.6, 2.1, 1.7, 3.4, -0.4, 0.3, 1.0, 0.8, 1.3, -1.1, -2.4, 0.4, -5.4, -12.4, -4.1, -5.7, -1.8, 2.1, -0.5, -0.7, -0.4, -2.6, -1.4, 1.2, 0.8, -0.5, -2.5, -0.8, -3.6, -2.2, -1.2, 7.2, 1.8, 0.2, 6.4, 0.5, 2.2, -1.9, 1.6, 2.3, -2.4, -3.0, -1.2, 0.0, -2.1, -0.2, -1.8, -1.3, -6.6, -2.4, -3.0, -11.0, -1.7, 1.0, -1.4, 1.4, -2.3, -3.5, -3.5, -1.7, -2.7, -8.7, 0.8, -2.9, -0.5, 1.7, -3.2, 1.3, -3.0, -2.3, -0.9, -2.7, -2.7, -2.8, 1.5, -1.9, -2.0, 0.6, -1.1, -1.5, 0.7, -5.0, -5.2, -0.5, -3.2, 1.5, -0.3, 0.0, 2.1, 2.1, -6.0, -2.1, -0.5, 0.4, -4.0, -1.5, -5.7, -3.1, 2.9, 0.7, -3.2, -1.5, -2.1, -0.6, -2.5, -2.0, 3.9, -3.0, -3.8, -0.7, -1.4, 18.9, -3.2, 2.1, 2.0, 0.9, 0.3, 2.2, -2.4, -1.9, -2.8, 2.9, -0.7, -2.0, -4.0, 1.5, 0.3, -4.3, -5.3, -3.8, -3.4, -3.0, -4.7, 2.5, -1.5, 1.4, 0.8, -0.2, -0.2, 3.4, 3.1, 3.7, -2.5, -1.5, -3.7, 1.5, -4.7, -1.6, -1.9, -1.2, 2.4, 3.6, -5.3, 0.8, -5.0, -0.7, -1.2, -5.3, -7.2, -8.2, -2.7, -0.2, -0.4, -2.8, -2.7, -3.1, 0.0, -5.0, -0.3, -0.5, -4.7, -2.4, 6.0, -1.3, 2.5, -4.2, 0.5, -0.7, -4.3, -1.1, 4.2, -2.4, 0.9, -0.7, -9.1, 5.2, 0.9, 2.3, -3.0, -3.2, -1.9, -0.3, 1.8, -0.6, 0.4, -1.3, 0.9, 1.5, 1.7, 1.2, 1.5, -0.6, 0.1, -5.0, -10.2, -4.3, -0.5, -0.2, -0.7, -3.1, 1.4, -1.3, -2.5, -1.9, -3.8, -3.6, 0.3, 2.9, 0.0, 1.6, 0.7, 1.1, -1.5, -1.4, -0.3, 0.0, 3.0, 0.2, 1.0, -1.7, -2.2, -0.4, -9.0, 0.3, -1.1, 0.1, -0.3, -0.2, -3.3, 1.2, 0.0, 2.1, -2.1, -1.8, -2.1, 0.1, -4.5, -1.0, -3.9, 0.1, -1.1, -2.1, -3.9, -1.3, -8.4, -1.8, 2.1, 2.4, -0.7, -0.2, 1.3, -2.2, -3.0, -1.0, -0.8, -1.1, -0.8, -2.5, -2.6, -1.8, -3.2, -1.2, -10.2, -1.4, -1.7, -1.7, 4.6, -0.8, -18.2, -1.7, -0.8, -0.4, -1.1, -5.4, 1.7, -1.7, -1.1, -2.0, 0.6, -0.8, -2.5, 2.6, -0.6, -3.0, -2.6, -5.0, 0.2, -2.8, -3.0, -2.4, 2.1, -1.0, 2.8, -3.7, -2.2, 4.3, 0.7, -0.8, 0.7, 0.5, -0.1, 0.6, -2.5, -8.1, -23.1, 9.9, -3.1, -3.2, -6.4, -5.8, 2.2, 8.9, 1.5, -3.5, -2.8, 0.0, -0.9, -0.4, 0.2, -2.8, -3.1, -1.7, -0.1, 0.6, 0.0, 10.0, -5.2, -2.3, -0.1, -1.5, -4.3, -1.8, -4.8, 4.2, 1.2, -4.3, -1.8, -0.1, -1.4, 2.5, -1.4, -1.8, -1.2, -5.2, -6.9, -0.8, -4.7, -1.5, 2.4, -2.3, 5.1, 3.5, 2.7, -0.6, 0.2, -3.2, -2.2, -0.4, 4.2, -1.4, -3.4, -2.7, -1.0, 1.5, -3.9, -3.3, 4.6, 3.5, -4.3, -0.3, -1.3, -4.2, -0.7, -0.2, -1.1, 0.6, 4.0, -2.4, -1.3, 8.8, 1.4, -5.3, -5.6, 0.5, -3.7, -2.3, -1.0, 4.0, -1.4, 0.7, -1.2, -0.8, 5.3, -2.2, -1.5, -3.8, 2.8, -1.4, -2.3, -0.7, 4.1, -0.4, -1.0, 0.9, 0.9, -1.2, 4.1, -1.1, 1.1, 0.7, 1.9, 7.1, 1.6, -3.0, -0.8, 0.3, 3.3, 0.9, 1.0, 0.6, -0.1, 2.4, -0.1, -6.5, -0.9, -1.9, -0.7, -4.4, 1.2, 2.9, 1.4, -0.8, -0.9, -2.7, 2.0, -1.7, -3.3, -0.5, -2.2, 1.6, 2.5, -2.9, 2.8, -1.2, 1.6, -2.3, -2.8, -5.6, -4.6, 2.2, -0.5, 0.9, -1.8, 5.9, 0.6, -2.8, 4.7, -0.4, -0.8, 1.2, 0.1, 2.7, 3.0, -1.7, -2.5, -4.8, -0.8, -7.2, -0.7, 3.1, -2.8, -2.3, -2.0, -0.6, -6.0, -1.9, -2.8, -1.2, -7.7, -2.2, -2.8, -0.5, -11.3, 1.6, -2.1, -0.5, -3.6, -3.4, -3.8, -0.1, -7.7, -3.1, 3.4, -4.5, 2.0, -1.5, 17.2, 0.1, -0.3, 1.8, -0.7, -1.9, 0.3, 0.7, 0.1, -3.2, -3.4, -4.3, -0.5, -1.0, -1.4, -3.9, 0.0, -4.9, 2.1, -0.3, -10.5, -1.9, 2.4, -7.2, 2.2, -9.5, -0.3, -0.4, 0.4, 0.4, -2.0, -0.5, -1.3, 1.6, 2.5, 8.0, -6.9, -10.6, -6.8, -1.2, -5.4, -4.6, -9.7, 1.5, 0.1, -0.6, -0.7, 0.1, -2.1, -3.9, -1.3, -0.5, -1.0, 12.9, -1.6, -1.2, -2.6, 0.0, 0.1, -0.2, -0.6, -1.6, 4.0, -1.2, -15.1, 1.3, -2.8, -3.0, -2.7, -0.7, -1.7, -5.4, -5.4, -5.4, -3.0, -3.1, -2.7, -2.0, -3.3, -0.7, -0.8, 0.4, -1.5, -0.6, -1.4, -0.1, -7.3, -3.5, -4.2, -1.0, -0.3, -0.5, 1.0, -2.7, -5.1, 0.1, -0.9, -2.0, -0.1, -2.8, -2.1, -1.7, -3.2, -0.1, -0.5, -2.6, -3.8, 0.7, 1.5, 0.2, -8.8, -25.2, 4.4, -1.4, -1.9, 2.3, -3.3, -4.5, -1.1, 0.3, 1.1, 2.9, 0.6, 0.5, 3.2, 2.5, 4.6, -5.6, -4.7, -5.9, -1.8, -2.8, 4.4, -1.2, 1.2, 2.0, -4.9, -1.4, -2.5, -1.1, -1.0, 0.5, 1.5, -3.1, 2.1, -3.3, -2.6, -3.7, 2.3, 3.6, -3.1, -5.6, 1.6, 8.1, 4.1, 0.4, -2.4, 0.2, -2.0, -2.8, 3.6, -6.4, 0.0, -0.5, 3.7, 5.6, 1.0, 2.9, 1.8, -1.2, -3.4, -1.3, -0.1, -0.5, 0.5, -0.6, 0.9, -0.1, 6.9, 0.2, -2.9, 2.4, 2.3, -1.6, -1.0, 0.1, 0.7, 4.5, 0.4, -2.3, 0.3, 1.4, -0.2, 2.1, 3.3, 0.4, 0.4, -0.8, -2.5, -2.0, -1.3, -0.9, 0.8, 0.6, 1.2, -0.8, -0.2, 0.3, 0.3, 0.9, -3.8, -3.9, 0.2, -0.2, -0.7, -3.3, 3.3, 2.4, -2.8, 0.0, 4.0, -0.1, -3.4, -2.9, -2.6, -5.5, 0.8, -0.5, -0.4, -1.8, 4.4, -17.6, -0.3, -2.4, -0.4, 0.3, -1.0, -0.7, 0.1, -0.8, -1.1, 6.5, -1.9, -1.6, -3.8, 0.1, -3.1, 3.0, -8.0, 3.3, -0.9, -1.0, -1.4, 2.2, -2.8, -0.2, 11.9, 0.7, 3.9, 1.9, -0.9, -1.2, 0.8, 2.5, 0.8, 0.8, -5.2, 0.0, 1.1, -0.1, -3.5, 9.9, -1.5, -2.8, 0.1, 1.5, 4.4, 1.2, -4.3, -0.4, 1.7, -0.1, 0.3, -0.7, 3.3, -1.6, -0.3, -3.3, -3.7, -2.3, -2.0, -6.8, 0.8, 0.8, 0.7, 1.0, 2.7, -1.0, 1.7, 4.9, -0.3, -2.6, 4.9, 0.0, 2.2, -3.7, 1.0, -0.1, 0.6, -1.7, -3.1, 1.1, 5.5, -3.1, -2.5, -1.8, -1.4, -2.5, 4.5, 6.6, -0.6, 0.1, -0.9, -5.9, 1.5, 0.6, 3.1, -6.3, -2.6, -0.6, 2.6, -1.8, 0.2, -3.1, -3.2, 0.4, 0.7, -0.7, 0.1, -2.5, 2.1, -3.1, -5.6, -1.9, 0.8, -1.5, 0.7, 3.8, 0.1, -5.0, -2.8, -2.0, -2.3, -2.7, -1.4, -0.6, 1.1, 0.2, 2.3, -0.7, 2.7, 9.0, -0.5, -1.2, -2.9, -5.7, -1.1, -0.4, 0.0, -0.8, -2.0, 1.2, -1.0, -1.9, -2.6, -0.1, -3.3, 0.7, -0.2, -3.0, -0.3, -2.1, -2.4, 2.8, -1.2, -0.8, 1.2, -2.8, -3.5, 0.0, -2.2, -3.8, -1.9, -0.6, -1.0, -2.0, 0.8, 1.2, -1.6, -1.5, -3.6, -4.1, -1.2, -1.0, -0.9, -1.0, 1.3, 0.0, 2.8, -4.3, 9.1, -1.7, 0.0, 4.4, -0.9, 0.3, -2.5, 1.4, -0.2, 3.3, 5.8, -1.8, -1.6, -2.9, -1.3, 0.9, -3.7, -3.2, -3.2, -3.4, -1.0, -2.6, -1.8, -3.1, -1.7, -4.7, 1.3, -2.4, -2.9, -7.3, -0.3, -3.8, -1.8, -1.1, -2.4, -1.6, -2.9, 0.2, -1.5, 0.6, -2.5, 4.2, 2.1, -1.9, -0.2, -2.4, -3.7, -0.9, -1.1, -1.4, -4.2, -2.5, -0.9, -3.0, -1.5, -3.0, -2.0, -1.1, 1.6, -0.2, 0.0, 1.2, 5.2, -3.6, 2.5, -5.9, 0.4, -2.3, 1.7, 1.9, -0.2, -2.0, 0.4, 2.0, -5.1, -0.1, 7.9, -6.2, -0.7, -1.2, -3.3, 1.5, -1.5, 1.1, -3.3, 0.1, -0.3, -3.2, -2.6, -3.9, -1.8, -0.4, -3.2, -0.3, -0.4, -2.7, 0.5, -1.6, -1.4, -2.2, -1.1, -3.8, 1.0, -2.5, 0.3, -6.1, 1.8, -0.8, -2.3, -1.1, -0.1, 0.8, -0.3, -1.5, -2.7, -4.3, -3.2, -1.0, -2.2, -3.1, -0.5, -5.9, -4.0, -3.7, -1.7, -3.8, -1.2, -1.9, -0.5, 2.0, 3.7, -1.4, 0.6, 1.3, -2.1, -1.6, 4.3, -3.2, -3.4, -0.8, -1.3, -0.6, 1.8, 0.2, -0.5, -0.8, 0.8, 0.4, -4.7, 2.2, 0.0, -1.6, -3.6, -1.9, -4.0, -5.7, -4.2, 1.9, -2.8, 4.0, 3.5, -3.7, -4.0, 12.9, 2.9, 7.8, 4.1, -1.3, -0.2, -0.3, 0.3, -7.9, 2.7, -2.6, 1.0, -0.2, -3.5, 0.7, 0.9, -13.4, -4.5, -3.7, 0.0, -0.1, -3.3, -2.1, -14.3, -0.9, -0.2, -3.6, -0.8, 0.8, -1.7, -1.0, -1.1, -1.3, -1.0, -1.9, 1.8, -0.4, 7.3, 0.7, 1.0, -0.1, -2.0, -4.7, -5.5, -2.5, -0.8, -1.4, -1.6, -0.7, 0.2, 0.8, -4.4, -2.7, -1.0, 3.3, -0.6, -0.8, -1.1, -5.1, 1.1, -3.2, -1.6, -3.2, 3.6, -2.6, -2.5, 3.4, -1.9, -0.6, -0.6, -2.7, -3.4, -1.0, -0.4, -3.7, -4.4, -4.5, -3.2, -3.6, -3.7, 0.3, -3.0, -2.3, 7.3, 1.0, -0.2, -3.3, 1.2, 0.0, 0.8, -3.2, -3.2, -2.6, -5.3, -3.9, -1.0, 0.3, -1.0, -2.2, -1.5, -2.5, -0.9, -0.2, 6.8, -0.8, -3.1, -6.2, -1.0, 6.8, 7.2, 5.5, 0.2, -1.3, -2.1, 1.3, 0.9, -1.6, 1.2, 6.9, -1.8, 5.9, -4.6, -4.1, 0.6, -0.2, -5.6, -4.2, -2.1, 3.0, -3.7, -0.1, -1.0, 1.0, -1.0, -1.4, -3.1, -0.1, -2.8, 8.9, -2.4, -5.9, -0.1, -2.9, 4.5, -1.2, -3.2, -8.0, -0.8, 0.4, 0.0, 0.9, -3.3, 0.3, -0.1, -2.4, -1.3, -1.1, -7.5, -0.2, -2.6, -5.4, -1.3, -2.7, 1.0, 1.4, -2.3, -1.5, -4.7, 5.2, 4.0, 1.9, -12.1, 3.1, -4.5, -3.7, -1.5, -1.2, -2.5, 4.4, -1.0, -0.1, -0.8, -1.0, -1.3, -8.3, -1.1, 0.1, 0.8, 4.9, -3.0, -0.8, -3.6, 4.7, -0.8, 8.7, 1.0, -0.4, 0.7, -3.5, 1.6, -11.8, -3.4, -5.3, 0.5, -0.1, 2.8, 5.0, -3.1, -1.6, -5.0, -2.0, -2.8, -0.8, 0.8, 3.8, -2.7, -6.0, 1.3, -0.3, -1.3, 1.0, -0.9, 3.4, 1.4, 8.8, 0.1, 0.7, -1.5, 2.5, 1.6, -4.4, 3.4, -1.4, 9.8, -1.0, 7.6, -1.4, -3.1, -2.4, -2.0, -4.0, -2.4, 0.6, -2.0, 2.8, 0.4, -3.0, 1.4, -2.0, -9.7, 0.2, 3.3, -1.3, -1.2, 1.7, -0.7, -2.3, -2.8, 0.0, -0.4, 0.3, -2.5, -1.9, 0.5, -2.2, -1.6, -4.1, 0.1, -1.0, -6.4, -0.9, -2.3, 9.4, -3.3, -0.1, -1.1, -2.2, -2.3, 1.0, 5.0, 2.0, -2.5, -1.7, 2.3, -2.2, 2.1, 6.1, -2.2, -2.3, -2.3, -1.4, -2.0, -5.8, -0.8, -0.2, -1.8, -2.4, 2.0, -3.6, -3.0, -9.1, -2.3, -2.1, -2.7, 1.2, -1.9, -4.2, -1.6, -1.8, -0.7, -4.7, -0.3, 2.1, 1.8, -1.6, -1.1, -1.5, -4.3, -3.2, -2.4, -4.8, -2.0, 1.1, -0.4, -2.0, -0.1, -11.7, -6.0, -5.6, -6.8, -0.5, 2.4, 3.2, 1.4, 2.0, 0.8, -2.2, -2.4, -1.6, -3.5, 1.9, -8.4, -2.5, -0.5, 0.3, -1.5, 0.6, -3.8, 0.7, -2.6, -3.8, 0.1, 8.7, -2.3, -6.1, -5.3, -7.7, 0.8, -6.5, -4.7, -4.6, 2.0, 2.8, -0.1, -5.0, -5.4, -4.4, -3.1, 3.3, -1.5, 1.0, -0.5, -2.9, -3.4, -1.8, -2.8, -1.7, 2.9, -3.2, -0.9, -0.5, -0.9, -1.1, -4.8, -2.2, -1.0, -0.3, -0.5, -1.0, -0.2, 1.2, -2.5, -1.4, 0.9, -2.5, -0.8, -4.5, -15.0, -5.5, 0.4, -5.5, -1.8, -6.5, -2.4, -2.3, -2.4, -2.6, -4.3, -1.3, -1.8, -1.7, 0.6, -2.8, -4.0, -3.6, -7.3, -2.7, -20.8, -7.8, 2.2, -0.8, -0.9, 6.7, -3.5, 0.8, -0.7, -1.0, 4.7, -2.5, 1.1, -2.4, -3.3, -2.1, -3.6, -3.9, 2.5, -0.1, 4.1, 4.7, -3.7, -8.4, -2.3, 2.8, 11.1, -3.1, -5.1, 1.5, -1.7, -1.3, -1.8, -1.3, -3.0, -2.9, -3.4, -2.5, 0.0, -3.8, -4.4, -1.9, -3.8, 1.4, 1.7, 2.0, -1.3, -0.1, 0.5, 0.2, -2.4, -4.4, -1.7, -2.5, 1.1, -0.4, -7.5, 3.9, -0.8, -7.7, 0.4, -0.9, 2.9, 0.1, 1.9, 6.2, -1.9, -0.6, -4.1, 0.7, -5.3, -4.7, -0.4, 1.9, 1.0, -0.5, 1.1, 0.4, -2.8, -2.9, 0.6, 2.2, -3.8, -0.2, -0.5, -0.2, -0.8, 2.8, -3.7, 0.5, -0.9, -3.1, -2.4, 0.1, -5.2, 2.5, -3.2, 2.8, -2.8, 0.9, -33.1, -4.0, -3.9, -4.4, -7.5, -1.3, -3.1, 1.1, -1.2, -4.0, 7.1, -0.5, -2.5, -3.1, -3.3, 0.7, 2.5, -0.9, 5.8, -5.8, -2.6, -6.1, 0.3, -1.3, -16.9, -1.1, 3.4, 0.2, -1.2, -1.5, -2.9, -0.9, -0.1, -1.9, -1.4, -2.1, -2.8, -3.5, 0.1, 0.8, -1.3, -0.2, -4.3, 2.7, 0.5, -1.8, -1.6, -14.4, 4.7, 1.5, -0.7, -2.9, -2.3, -2.5, -3.0, -1.7, -1.7, -2.0, -0.9, 7.7, -2.6, 6.7, -1.5, -0.6, 0.1, -2.9, -4.4, -2.9, 2.8, -1.2, -1.0, 0.6, -2.9, -2.3, -20.4, 3.2, -2.5, -1.3, 7.3, -4.4, 0.4, 3.3, -1.2, -0.6, -2.3, -5.0, 4.5, 0.1, -2.1, 1.5, -0.6, -3.3, -1.4, -4.6, -3.1, -0.6, -4.2, -0.9, -0.5, -0.3, -1.5, -2.6, -0.5, 0.1, 2.3, 3.4, 0.8, 2.9, 4.1, -0.5, 3.4, 0.3, 0.4, -0.6, -2.7, 0.3, -1.3, 0.4, 2.8, 0.3, -2.3, -1.8, 3.4, 3.4, 3.4, 2.3, 9.9, 3.3, -1.8, -1.0, -2.9, 0.8, 0.1, 1.9, 1.7, 2.1, -1.5, -0.7, -0.1, -7.7, -7.4, -0.9, -0.5, -7.6, 1.0, -1.0, -0.8, -0.5, -1.2, -4.8, 1.6, -1.9, -5.5, 0.1, 1.1, -0.1, 0.5, -1.5, -14.0, 4.4, -1.6, -0.1, -0.1, -0.3, 2.3, 4.3, -1.2, 7.3, -1.4, -4.3, -5.2, -8.5, 7.3, -4.2, -3.5, -0.4, 8.7, 2.0, 0.1, 1.0, -0.3, 1.6, -2.9, -0.3, -0.7, -7.1, -6.0, -7.3, -5.9, 0.8, 1.4, -1.5, -0.2, 2.2, -0.8, -2.1, -0.5, -7.6, 0.2, 0.2, -0.4, -0.7, 1.6, -2.3, -4.3, -0.3, -1.9, 0.3, 10.1, 2.0, -4.6, -0.8, 7.2, -5.4, -3.1, -0.2, 0.9, -2.2, 3.3, 5.2, 1.3, -1.4, -4.4, -3.5, -0.2, -4.0, -0.9, -0.2, -4.1, 1.2, -2.2, -2.1, -2.6, 1.5, -1.4, -3.0, -3.9, -1.1, 0.7, 0.0, -1.9, -1.0, 0.4, 1.2, -3.4, 2.2, -5.6, 2.1, 3.6, -1.6, 0.5, -5.4, -0.1, -1.3, 9.4, -3.3, -3.9, -3.9, -3.5, -4.6, 0.5, -0.3, 0.3, -5.3, 0.7, -1.4, -4.0, -0.8, 0.5, 2.3, -5.0, -2.5, -0.2, 3.1, -4.7, -1.7, -6.3, -1.4, 5.8, 2.3, -2.9, 0.0, -4.1, -5.6, 39.9, -0.8, -3.3, 0.8, -0.2, 3.2, 7.1, -0.4, -0.2, 1.1, -3.2, -3.9, -5.3, -2.6, 0.5, -3.8, 0.4, -7.4, 3.5, 0.8, 1.6, -2.9, -5.1, -1.1, -10.1, -2.0, 0.6, -1.0, -6.4, 0.7, -6.0, -6.0, -8.6, -1.2, -0.1, -2.1, -0.7, -0.3, -5.4, -5.4, -5.5, -2.7, 2.1, 0.7, -1.2, -1.1, -1.2, -1.7, 2.7, -3.1, -3.3, 1.3, 4.5, -3.1, -6.9, -6.7, -1.2, -6.4, -14.6, -2.3, -2.3, -5.9, -2.0, -1.8, 6.9, -5.5, 1.2, 0.4, -2.5, 0.3, -4.9, -4.8, -4.9, -3.7, -0.4, -2.9, -2.4, 0.9, 5.1, -2.5, -0.2, 3.1, -4.4, -1.0, 2.4, -1.3, -0.9, -1.7, -1.0, -0.2, -2.8, -3.5, 4.0, 3.0, -3.5, 6.3, 2.3, -0.7, -3.8, 2.6, -2.4, -5.0, 1.0, -0.5, -15.7, 0.4, -1.1, 3.3, -1.2, -3.5, 0.2, -1.2, -1.4, -1.0, -2.1, -2.0]}],\n",
              "                        {\"margin\": {\"b\": 80, \"l\": 40, \"r\": 30, \"t\": 100}, \"paper_bgcolor\": \"rgb(243, 243, 243)\", \"plot_bgcolor\": \"rgb(243, 243, 243)\", \"showlegend\": false, \"template\": {\"data\": {\"bar\": [{\"error_x\": {\"color\": \"#2a3f5f\"}, \"error_y\": {\"color\": \"#2a3f5f\"}, \"marker\": {\"line\": {\"color\": \"#E5ECF6\", \"width\": 0.5}}, \"type\": \"bar\"}], \"barpolar\": [{\"marker\": {\"line\": {\"color\": \"#E5ECF6\", \"width\": 0.5}}, \"type\": \"barpolar\"}], \"carpet\": [{\"aaxis\": {\"endlinecolor\": \"#2a3f5f\", \"gridcolor\": \"white\", \"linecolor\": \"white\", \"minorgridcolor\": \"white\", \"startlinecolor\": \"#2a3f5f\"}, \"baxis\": {\"endlinecolor\": \"#2a3f5f\", \"gridcolor\": \"white\", \"linecolor\": \"white\", \"minorgridcolor\": \"white\", \"startlinecolor\": \"#2a3f5f\"}, \"type\": \"carpet\"}], \"choropleth\": [{\"colorbar\": {\"outlinewidth\": 0, \"ticks\": \"\"}, \"type\": \"choropleth\"}], \"contour\": [{\"colorbar\": {\"outlinewidth\": 0, \"ticks\": \"\"}, \"colorscale\": [[0.0, \"#0d0887\"], [0.1111111111111111, \"#46039f\"], [0.2222222222222222, \"#7201a8\"], [0.3333333333333333, \"#9c179e\"], [0.4444444444444444, \"#bd3786\"], [0.5555555555555556, \"#d8576b\"], [0.6666666666666666, \"#ed7953\"], [0.7777777777777778, \"#fb9f3a\"], [0.8888888888888888, \"#fdca26\"], [1.0, \"#f0f921\"]], \"type\": \"contour\"}], \"contourcarpet\": [{\"colorbar\": {\"outlinewidth\": 0, \"ticks\": \"\"}, \"type\": \"contourcarpet\"}], \"heatmap\": [{\"colorbar\": {\"outlinewidth\": 0, \"ticks\": \"\"}, \"colorscale\": [[0.0, \"#0d0887\"], [0.1111111111111111, \"#46039f\"], [0.2222222222222222, \"#7201a8\"], [0.3333333333333333, \"#9c179e\"], [0.4444444444444444, \"#bd3786\"], [0.5555555555555556, \"#d8576b\"], [0.6666666666666666, \"#ed7953\"], [0.7777777777777778, \"#fb9f3a\"], [0.8888888888888888, \"#fdca26\"], [1.0, \"#f0f921\"]], \"type\": \"heatmap\"}], \"heatmapgl\": [{\"colorbar\": {\"outlinewidth\": 0, \"ticks\": \"\"}, \"colorscale\": [[0.0, \"#0d0887\"], [0.1111111111111111, \"#46039f\"], [0.2222222222222222, \"#7201a8\"], [0.3333333333333333, \"#9c179e\"], [0.4444444444444444, \"#bd3786\"], [0.5555555555555556, \"#d8576b\"], [0.6666666666666666, \"#ed7953\"], [0.7777777777777778, \"#fb9f3a\"], [0.8888888888888888, \"#fdca26\"], [1.0, \"#f0f921\"]], \"type\": \"heatmapgl\"}], \"histogram\": [{\"marker\": {\"colorbar\": {\"outlinewidth\": 0, \"ticks\": \"\"}}, \"type\": \"histogram\"}], \"histogram2d\": [{\"colorbar\": {\"outlinewidth\": 0, \"ticks\": \"\"}, \"colorscale\": [[0.0, \"#0d0887\"], [0.1111111111111111, \"#46039f\"], [0.2222222222222222, \"#7201a8\"], [0.3333333333333333, \"#9c179e\"], [0.4444444444444444, \"#bd3786\"], [0.5555555555555556, \"#d8576b\"], [0.6666666666666666, \"#ed7953\"], [0.7777777777777778, \"#fb9f3a\"], [0.8888888888888888, \"#fdca26\"], [1.0, \"#f0f921\"]], \"type\": \"histogram2d\"}], \"histogram2dcontour\": [{\"colorbar\": {\"outlinewidth\": 0, \"ticks\": \"\"}, \"colorscale\": [[0.0, \"#0d0887\"], [0.1111111111111111, \"#46039f\"], [0.2222222222222222, \"#7201a8\"], [0.3333333333333333, \"#9c179e\"], [0.4444444444444444, \"#bd3786\"], [0.5555555555555556, \"#d8576b\"], [0.6666666666666666, \"#ed7953\"], [0.7777777777777778, \"#fb9f3a\"], [0.8888888888888888, \"#fdca26\"], [1.0, \"#f0f921\"]], \"type\": \"histogram2dcontour\"}], \"mesh3d\": [{\"colorbar\": {\"outlinewidth\": 0, \"ticks\": \"\"}, \"type\": \"mesh3d\"}], \"parcoords\": [{\"line\": {\"colorbar\": {\"outlinewidth\": 0, \"ticks\": \"\"}}, \"type\": \"parcoords\"}], \"pie\": [{\"automargin\": true, \"type\": \"pie\"}], \"scatter\": [{\"marker\": {\"colorbar\": {\"outlinewidth\": 0, \"ticks\": \"\"}}, \"type\": \"scatter\"}], \"scatter3d\": [{\"line\": {\"colorbar\": {\"outlinewidth\": 0, \"ticks\": \"\"}}, \"marker\": {\"colorbar\": {\"outlinewidth\": 0, \"ticks\": \"\"}}, \"type\": \"scatter3d\"}], \"scattercarpet\": [{\"marker\": {\"colorbar\": {\"outlinewidth\": 0, \"ticks\": \"\"}}, \"type\": \"scattercarpet\"}], \"scattergeo\": [{\"marker\": {\"colorbar\": {\"outlinewidth\": 0, \"ticks\": \"\"}}, \"type\": \"scattergeo\"}], \"scattergl\": [{\"marker\": {\"colorbar\": {\"outlinewidth\": 0, \"ticks\": \"\"}}, \"type\": \"scattergl\"}], \"scattermapbox\": [{\"marker\": {\"colorbar\": {\"outlinewidth\": 0, \"ticks\": \"\"}}, \"type\": \"scattermapbox\"}], \"scatterpolar\": [{\"marker\": {\"colorbar\": {\"outlinewidth\": 0, \"ticks\": \"\"}}, \"type\": \"scatterpolar\"}], \"scatterpolargl\": [{\"marker\": {\"colorbar\": {\"outlinewidth\": 0, \"ticks\": \"\"}}, \"type\": \"scatterpolargl\"}], \"scatterternary\": [{\"marker\": {\"colorbar\": {\"outlinewidth\": 0, \"ticks\": \"\"}}, \"type\": \"scatterternary\"}], \"surface\": [{\"colorbar\": {\"outlinewidth\": 0, \"ticks\": \"\"}, \"colorscale\": [[0.0, \"#0d0887\"], [0.1111111111111111, \"#46039f\"], [0.2222222222222222, \"#7201a8\"], [0.3333333333333333, \"#9c179e\"], [0.4444444444444444, \"#bd3786\"], [0.5555555555555556, \"#d8576b\"], [0.6666666666666666, \"#ed7953\"], [0.7777777777777778, \"#fb9f3a\"], [0.8888888888888888, \"#fdca26\"], [1.0, \"#f0f921\"]], \"type\": \"surface\"}], \"table\": [{\"cells\": {\"fill\": {\"color\": \"#EBF0F8\"}, \"line\": {\"color\": \"white\"}}, \"header\": {\"fill\": {\"color\": \"#C8D4E3\"}, \"line\": {\"color\": \"white\"}}, \"type\": \"table\"}]}, \"layout\": {\"annotationdefaults\": {\"arrowcolor\": \"#2a3f5f\", \"arrowhead\": 0, \"arrowwidth\": 1}, \"coloraxis\": {\"colorbar\": {\"outlinewidth\": 0, \"ticks\": \"\"}}, \"colorscale\": {\"diverging\": [[0, \"#8e0152\"], [0.1, \"#c51b7d\"], [0.2, \"#de77ae\"], [0.3, \"#f1b6da\"], [0.4, \"#fde0ef\"], [0.5, \"#f7f7f7\"], [0.6, \"#e6f5d0\"], [0.7, \"#b8e186\"], [0.8, \"#7fbc41\"], [0.9, \"#4d9221\"], [1, \"#276419\"]], \"sequential\": [[0.0, \"#0d0887\"], [0.1111111111111111, \"#46039f\"], [0.2222222222222222, \"#7201a8\"], [0.3333333333333333, \"#9c179e\"], [0.4444444444444444, \"#bd3786\"], [0.5555555555555556, \"#d8576b\"], [0.6666666666666666, \"#ed7953\"], [0.7777777777777778, \"#fb9f3a\"], [0.8888888888888888, \"#fdca26\"], [1.0, \"#f0f921\"]], \"sequentialminus\": [[0.0, \"#0d0887\"], [0.1111111111111111, \"#46039f\"], [0.2222222222222222, \"#7201a8\"], [0.3333333333333333, \"#9c179e\"], [0.4444444444444444, \"#bd3786\"], [0.5555555555555556, \"#d8576b\"], [0.6666666666666666, \"#ed7953\"], [0.7777777777777778, \"#fb9f3a\"], [0.8888888888888888, \"#fdca26\"], [1.0, \"#f0f921\"]]}, \"colorway\": [\"#636efa\", \"#EF553B\", \"#00cc96\", \"#ab63fa\", \"#FFA15A\", \"#19d3f3\", \"#FF6692\", \"#B6E880\", \"#FF97FF\", \"#FECB52\"], \"font\": {\"color\": \"#2a3f5f\"}, \"geo\": {\"bgcolor\": \"white\", \"lakecolor\": \"white\", \"landcolor\": \"#E5ECF6\", \"showlakes\": true, \"showland\": true, \"subunitcolor\": \"white\"}, \"hoverlabel\": {\"align\": \"left\"}, \"hovermode\": \"closest\", \"mapbox\": {\"style\": \"light\"}, \"paper_bgcolor\": \"white\", \"plot_bgcolor\": \"#E5ECF6\", \"polar\": {\"angularaxis\": {\"gridcolor\": \"white\", \"linecolor\": \"white\", \"ticks\": \"\"}, \"bgcolor\": \"#E5ECF6\", \"radialaxis\": {\"gridcolor\": \"white\", \"linecolor\": \"white\", \"ticks\": \"\"}}, \"scene\": {\"xaxis\": {\"backgroundcolor\": \"#E5ECF6\", \"gridcolor\": \"white\", \"gridwidth\": 2, \"linecolor\": \"white\", \"showbackground\": true, \"ticks\": \"\", \"zerolinecolor\": \"white\"}, \"yaxis\": {\"backgroundcolor\": \"#E5ECF6\", \"gridcolor\": \"white\", \"gridwidth\": 2, \"linecolor\": \"white\", \"showbackground\": true, \"ticks\": \"\", \"zerolinecolor\": \"white\"}, \"zaxis\": {\"backgroundcolor\": \"#E5ECF6\", \"gridcolor\": \"white\", \"gridwidth\": 2, \"linecolor\": \"white\", \"showbackground\": true, \"ticks\": \"\", \"zerolinecolor\": \"white\"}}, \"shapedefaults\": {\"line\": {\"color\": \"#2a3f5f\"}}, \"ternary\": {\"aaxis\": {\"gridcolor\": \"white\", \"linecolor\": \"white\", \"ticks\": \"\"}, \"baxis\": {\"gridcolor\": \"white\", \"linecolor\": \"white\", \"ticks\": \"\"}, \"bgcolor\": \"#E5ECF6\", \"caxis\": {\"gridcolor\": \"white\", \"linecolor\": \"white\", \"ticks\": \"\"}}, \"title\": {\"x\": 0.05}, \"xaxis\": {\"automargin\": true, \"gridcolor\": \"white\", \"linecolor\": \"white\", \"ticks\": \"\", \"title\": {\"standoff\": 15}, \"zerolinecolor\": \"white\", \"zerolinewidth\": 2}, \"yaxis\": {\"automargin\": true, \"gridcolor\": \"white\", \"linecolor\": \"white\", \"ticks\": \"\", \"title\": {\"standoff\": 15}, \"zerolinecolor\": \"white\", \"zerolinewidth\": 2}}}, \"title\": {\"text\": \"All Players Statistics (Efficiency) over the past 5 years\"}, \"yaxis\": {\"autorange\": true, \"dtick\": 5, \"gridcolor\": \"rgb(255, 255, 255)\", \"gridwidth\": 1, \"showgrid\": true, \"zeroline\": true, \"zerolinecolor\": \"rgb(255, 255, 255)\", \"zerolinewidth\": 2}},\n",
              "                        {\"responsive\": true}\n",
              "                    ).then(function(){\n",
              "                            \n",
              "var gd = document.getElementById('bdbd4804-4f81-4538-b55b-ff76f5bfdac7');\n",
              "var x = new MutationObserver(function (mutations, observer) {{\n",
              "        var display = window.getComputedStyle(gd).display;\n",
              "        if (!display || display === 'none') {{\n",
              "            console.log([gd, 'removed!']);\n",
              "            Plotly.purge(gd);\n",
              "            observer.disconnect();\n",
              "        }}\n",
              "}});\n",
              "\n",
              "// Listen for the removal of the full notebook cells\n",
              "var notebookContainer = gd.closest('#notebook-container');\n",
              "if (notebookContainer) {{\n",
              "    x.observe(notebookContainer, {childList: true});\n",
              "}}\n",
              "\n",
              "// Listen for the clearing of the current output cell\n",
              "var outputEl = gd.closest('.output');\n",
              "if (outputEl) {{\n",
              "    x.observe(outputEl, {childList: true});\n",
              "}}\n",
              "\n",
              "                        })\n",
              "                };\n",
              "                \n",
              "            </script>\n",
              "        </div>\n",
              "</body>\n",
              "</html>"
            ]
          },
          "metadata": {
            "tags": []
          }
        }
      ]
    },
    {
      "cell_type": "markdown",
      "metadata": {
        "id": "H9QNE9HFnSH6"
      },
      "source": [
        "## Boxplot analysis on all players' statistics that are in percentage"
      ]
    },
    {
      "cell_type": "code",
      "metadata": {
        "colab": {
          "base_uri": "https://localhost:8080/",
          "height": 542
        },
        "id": "jW_2UdUJnWjs",
        "outputId": "3a421d21-0c07-4263-fbf9-eafa42188096"
      },
      "source": [
        "import plotly.graph_objects as go\n",
        "\n",
        "x_data = [\"ORB%\", \"DRB%\", \"TRB%\", \"AST%\",\n",
        "                  \"STL%\", \"BLK%\", \"TOV%\", \"USG%\"]\n",
        "\n",
        "y_data = [pt1[\"ORB%\"], pt1[\"DRB%\"], pt1[\"TRB%\"],\n",
        "          pt1[\"AST%\"], pt1[\"STL%\"], pt1[\"BLK%\"], pt1[\"TOV%\"], pt1[\"USG%\"]]\n",
        "\n",
        "colors = ['rgba(93, 164, 214, 0.5)', 'rgba(255, 144, 14, 0.5)', 'rgba(44, 160, 101, 0.5)',\n",
        "          'rgba(255, 65, 54, 0.5)', 'rgba(207, 114, 255, 0.5)', 'rgba(127, 96, 0, 0.5)','rgba(93, 164, 214, 0.5)','rgba(255, 65, 54, 0.5)']\n",
        "\n",
        "fig = go.Figure()\n",
        "\n",
        "for xd, yd, cls in zip(x_data, y_data, colors):\n",
        "        fig.add_trace(go.Box(\n",
        "            y=yd,\n",
        "            name=xd,\n",
        "            whiskerwidth=0.2,\n",
        "            fillcolor=cls,\n",
        "            marker_size=2,\n",
        "            line_width=1)\n",
        "        )\n",
        "\n",
        "fig.update_layout(\n",
        "    title='All Players stats that is in percentage (%) over the past 5 years',\n",
        "    yaxis=dict(\n",
        "        autorange=True,\n",
        "        showgrid=True,\n",
        "        zeroline=True,\n",
        "        dtick=5,\n",
        "        gridcolor='rgb(255, 255, 255)',\n",
        "        gridwidth=1,\n",
        "        zerolinecolor='rgb(255, 255, 255)',\n",
        "        zerolinewidth=2,\n",
        "    ),\n",
        "    margin=dict(\n",
        "        l=40,\n",
        "        r=30,\n",
        "        b=80,\n",
        "        t=100,\n",
        "    ),\n",
        "    paper_bgcolor='rgb(243, 243, 243)',\n",
        "    plot_bgcolor='rgb(243, 243, 243)',\n",
        "    showlegend=False\n",
        ")\n",
        "\n",
        "fig.show()"
      ],
      "execution_count": null,
      "outputs": [
        {
          "output_type": "display_data",
          "data": {
            "text/html": [
              "<html>\n",
              "<head><meta charset=\"utf-8\" /></head>\n",
              "<body>\n",
              "    <div>\n",
              "            <script src=\"https://cdnjs.cloudflare.com/ajax/libs/mathjax/2.7.5/MathJax.js?config=TeX-AMS-MML_SVG\"></script><script type=\"text/javascript\">if (window.MathJax) {MathJax.Hub.Config({SVG: {font: \"STIX-Web\"}});}</script>\n",
              "                <script type=\"text/javascript\">window.PlotlyConfig = {MathJaxConfig: 'local'};</script>\n",
              "        <script src=\"https://cdn.plot.ly/plotly-latest.min.js\"></script>    \n",
              "            <div id=\"7188d706-09f4-453d-a7eb-65a4e95b34c9\" class=\"plotly-graph-div\" style=\"height:525px; width:100%;\"></div>\n",
              "            <script type=\"text/javascript\">\n",
              "                \n",
              "                    window.PLOTLYENV=window.PLOTLYENV || {};\n",
              "                    \n",
              "                if (document.getElementById(\"7188d706-09f4-453d-a7eb-65a4e95b34c9\")) {\n",
              "                    Plotly.newPlot(\n",
              "                        '7188d706-09f4-453d-a7eb-65a4e95b34c9',\n",
              "                        [{\"fillcolor\": \"rgba(93, 164, 214, 0.5)\", \"line\": {\"width\": 1}, \"marker\": {\"size\": 2}, \"name\": \"ORB%\", \"type\": \"box\", \"whiskerwidth\": 0.2, \"y\": [2.6, 14.7, 9.2, 10.3, 0.8, 9.6, 5.3, 4.1, 7.3, 0.0, 3.3, 4.8, 1.5, 2.3, 2.0, 2.5, 11.1, 1.1, 4.0, 8.8, 2.4, 2.4, 2.2, 2.9, 3.4, 3.2, 11.4, 2.3, 3.1, 2.0, 1.0, 7.8, 4.5, 3.9, 13.0, 11.0, 7.0, 3.9, 8.0, 7.9, 1.9, 10.9, 2.5, 2.6, 2.0, 27.6, 5.4, 3.1, 6.3, 2.5, 4.2, 1.9, 3.8, 3.0, 3.5, 3.6, 3.0, 1.7, 8.1, 1.2, 1.6, 0.4, 2.6, 2.2, 3.2, 2.3, 0.8, 2.8, 1.6, 1.7, 6.0, 4.7, 6.3, 5.8, 2.5, 14.4, 4.2, 2.7, 2.4, 5.4, 2.2, 7.4, 4.0, 8.2, 11.1, 8.6, 11.4, 4.4, 5.0, 1.9, 0.0, 3.3, 4.1, 3.9, 12.3, 8.8, 1.9, 5.2, 2.3, 2.5, 1.7, 2.9, 6.4, 0.7, 3.1, 2.1, 2.2, 1.9, 9.9, 15.8, 6.7, 0.8, 0.0, 0.9, 2.2, 8.8, 7.2, 8.3, 1.4, 4.2, 1.7, 12.5, 16.8, 2.9, 1.5, 1.4, 1.1, 1.2, 1.1, 8.1, 5.3, 4.2, 8.9, 5.8, 3.3, 2.7, 12.9, 1.7, 1.2, 7.5, 0.9, 1.6, 1.7, 7.2, 6.6, 2.9, 3.0, 3.6, 3.5, 4.1, 3.8, 3.7, 10.8, 8.1, 2.9, 13.2, 1.9, 5.2, 0.9, 3.4, 3.7, 2.1, 3.0, 3.2, 8.3, 8.8, 7.4, 2.9, 4.0, 2.5, 9.3, 2.7, 2.4, 2.6, 2.1, 3.7, 2.5, 2.2, 4.3, 2.9, 9.2, 2.4, 4.1, 3.2, 3.7, 3.0, 4.1, 0.9, 3.3, 1.9, 1.5, 2.3, 7.1, 10.6, 1.4, 1.6, 1.2, 6.5, 2.8, 11.1, 3.0, 3.7, 8.6, 3.4, 1.5, 2.5, 3.4, 5.2, 3.2, 2.2, 3.6, 2.8, 2.3, 3.9, 2.1, 3.1, 7.1, 2.0, 3.0, 2.7, 3.8, 2.4, 1.8, 4.0, 8.4, 1.6, 11.7, 11.2, 13.3, 2.1, 5.5, 16.4, 15.5, 18.3, 0.9, 7.9, 6.5, 1.4, 0.9, 1.5, 2.9, 2.6, 3.6, 0.7, 0.0, 0.9, 4.6, 2.7, 3.1, 2.0, 4.6, 2.2, 3.8, 1.2, 2.4, 10.5, 4.2, 6.1, 3.5, 2.6, 14.6, 1.5, 9.4, 5.9, 2.1, 4.2, 10.3, 4.5, 4.5, 4.5, 4.7, 1.7, 1.6, 1.9, 1.7, 2.0, 0.0, 2.3, 2.9, 1.4, 12.3, 4.1, 9.0, 1.9, 1.9, 2.8, 6.8, 2.3, 0.8, 1.7, 8.7, 3.7, 2.5, 1.3, 2.5, 3.9, 5.0, 5.0, 5.2, 1.9, 12.6, 2.1, 2.9, 4.7, 5.3, 2.4, 2.2, 2.0, 5.3, 2.0, 1.9, 1.4, 2.4, 9.2, 12.1, 1.4, 4.4, 1.5, 8.9, 4.3, 9.2, 1.4, 2.5, 2.1, 4.2, 2.0, 4.9, 4.2, 5.9, 4.9, 10.4, 2.1, 2.0, 2.0, 1.8, 4.1, 6.7, 2.0, 10.3, 15.4, 3.4, 3.6, 3.1, 9.0, 9.3, 8.8, 9.1, 1.6, 1.5, 1.4, 7.6, 2.3, 1.3, 1.6, 1.2, 1.3, 2.9, 1.0, 13.3, 2.6, 2.5, 1.3, 1.9, 1.9, 2.3, 11.5, 4.2, 3.4, 3.5, 3.2, 1.4, 2.3, 1.3, 1.4, 1.1, 5.4, 6.9, 2.3, 2.8, 2.9, 2.4, 9.2, 4.9, 10.2, 9.8, 12.2, 3.0, 1.3, 1.5, 1.3, 2.1, 10.2, 2.2, 1.6, 15.4, 1.7, 1.5, 10.9, 2.5, 5.4, 10.9, 1.3, 6.7, 4.0, 0.7, 1.9, 0.0, 1.5, 0.9, 2.5, 4.1, 2.2, 16.3, 3.5, 13.6, 5.4, 3.8, 10.2, 3.4, 7.2, 7.0, 7.2, 4.4, 4.8, 4.0, 8.7, 2.6, 9.4, 12.9, 18.7, 12.1, 11.9, 11.0, 12.7, 6.9, 4.2, 12.2, 1.1, 1.3, 0.9, 14.9, 11.6, 7.7, 12.8, 7.2, 9.1, 8.2, 2.0, 1.6, 7.3, 4.5, 5.7, 8.2, 2.9, 5.6, 11.2, 1.6, 10.5, 2.6, 4.6, 5.6, 2.6, 2.8, 1.1, 3.5, 7.8, 2.8, 1.5, 11.2, 1.9, 3.1, 2.9, 2.2, 6.5, 4.3, 13.7, 12.8, 16.3, 11.1, 10.3, 1.1, 2.8, 9.9, 3.6, 10.3, 3.6, 2.0, 6.8, 4.2, 5.2, 3.8, 1.9, 2.8, 2.3, 2.8, 0.3, 0.0, 1.4, 1.6, 2.5, 1.4, 5.1, 2.1, 5.0, 1.9, 2.1, 3.3, 1.3, 12.3, 5.3, 2.8, 3.2, 3.2, 3.2, 4.5, 1.2, 14.1, 4.1, 2.4, 2.9, 0.0, 4.0, 0.9, 1.3, 0.2, 1.4, 8.9, 1.5, 3.1, 2.2, 10.8, 3.4, 1.1, 1.2, 4.7, 5.0, 4.7, 4.8, 1.3, 0.0, 2.4, 10.9, 2.2, 0.0, 4.3, 1.6, 8.0, 13.3, 15.5, 3.1, 5.2, 2.3, 4.5, 11.3, 0.9, 13.3, 1.3, 18.3, 3.0, 1.7, 1.9, 3.8, 2.0, 1.4, 6.0, 1.9, 1.9, 2.0, 11.3, 3.5, 1.7, 13.3, 12.1, 1.7, 10.0, 0.8, 1.9, 0.9, 2.6, 2.4, 3.2, 1.8, 1.6, 2.3, 2.9, 4.9, 9.2, 4.8, 5.9, 5.9, 5.8, 4.9, 10.7, 14.3, 9.6, 5.5, 6.4, 1.6, 8.5, 4.0, 3.7, 2.7, 5.1, 1.8, 2.5, 13.3, 13.9, 13.2, 2.9, 2.1, 3.6, 6.1, 1.9, 11.6, 2.8, 0.8, 3.0, 1.7, 3.4, 8.8, 2.7, 8.1, 2.4, 1.7, 11.7, 9.0, 5.7, 2.2, 9.9, 3.3, 1.4, 2.8, 2.0, 9.6, 1.0, 6.7, 10.0, 10.1, 7.0, 2.4, 1.5, 2.3, 1.0, 2.6, 2.2, 3.4, 2.4, 5.3, 10.0, 2.2, 0.8, 1.9, 8.0, 7.0, 9.4, 9.3, 5.1, 2.1, 5.5, 2.9, 3.2, 1.6, 1.0, 9.7, 16.2, 3.5, 11.6, 14.6, 12.9, 17.5, 4.5, 1.1, 7.4, 1.5, 1.6, 1.8, 0.6, 0.7, 10.3, 1.4, 9.8, 1.7, 10.5, 1.6, 1.6, 1.0, 10.0, 10.2, 4.8, 5.9, 7.0, 1.8, 1.4, 3.3, 11.5, 12.7, 6.5, 2.6, 1.1, 10.2, 2.7, 0.6, 0.0, 1.6, 2.1, 4.4, 12.2, 4.3, 1.6, 2.1, 11.9, 7.3, 7.5, 6.8, 1.4, 2.9, 0.9, 0.0, 2.3, 3.4, 3.8, 3.0, 0.7, 3.7, 3.9, 3.6, 3.5, 6.9, 9.6, 11.2, 2.7, 0.0, 3.9, 4.6, 2.4, 11.0, 10.6, 11.4, 8.1, 12.2, 2.1, 1.3, 1.6, 0.0, 2.5, 2.6, 2.7, 2.4, 3.8, 11.9, 8.3, 10.0, 1.1, 1.1, 1.2, 2.1, 8.2, 6.2, 2.2, 7.0, 13.1, 5.4, 7.8, 0.9, 3.2, 6.8, 2.1, 7.2, 6.2, 7.2, 4.8, 8.7, 8.9, 7.7, 2.7, 11.3, 10.3, 10.3, 10.4, 3.4, 4.2, 3.0, 5.6, 8.3, 0.0, 8.7, 2.3, 2.1, 2.8, 2.5, 3.3, 4.1, 3.8, 3.3, 4.6, 0.0, 11.2, 2.0, 1.8, 2.2, 5.1, 1.0, 6.1, 4.1, 7.4, 3.1, 3.1, 2.7, 12.6, 9.2, 15.8, 3.9, 3.9, 4.0, 2.6, 1.8, 3.0, 1.6, 8.4, 3.2, 13.2, 9.3, 4.7, 6.4, 2.3, 2.4, 2.1, 4.1, 4.0, 4.2, 8.9, 2.0, 1.9, 2.4, 1.2, 3.6, 7.8, 6.2, 7.2, 6.1, 7.9, 1.8, 0.0, 3.2, 2.5, 10.1, 10.2, 1.1, 2.7, 14.6, 2.1, 10.1, 1.6, 3.8, 1.0, 2.1, 2.4, 1.4, 4.8, 6.8, 4.0, 3.1, 8.2, 1.2, 14.5, 3.4, 3.2, 5.4, 3.7, 2.4, 4.1, 1.9, 1.5, 4.8, 11.6, 3.6, 2.1, 1.8, 2.2, 1.8, 1.5, 6.4, 3.3, 6.4, 5.9, 15.6, 10.3, 5.0, 1.5, 3.3, 0.0, 0.0, 0.0, 3.1, 10.1, 9.6, 11.0, 8.8, 8.9, 2.6, 2.5, 2.9, 1.8, 5.8, 5.2, 7.1, 7.0, 9.1, 8.1, 0.0, 12.5, 1.1, 11.9, 9.2, 11.1, 7.0, 4.5, 9.9, 9.8, 9.9, 0.6, 3.1, 2.4, 7.0, 4.6, 4.3, 8.8, 2.6, 6.2, 3.2, 3.0, 4.3, 4.2, 2.7, 8.1, 2.4, 1.6, 11.9, 1.5, 2.6, 8.8, 0.7, 8.3, 3.9, 11.7, 5.4, 9.2, 1.8, 9.5, 1.4, 11.9, 3.2, 2.0, 4.2, 2.8, 2.0, 1.6, 3.4, 1.5, 2.4, 3.1, 3.4, 2.7, 2.6, 1.1, 14.4, 4.6, 3.4, 3.4, 3.4, 10.3, 11.5, 18.3, 2.6, 3.8, 0.9, 1.4, 11.2, 1.6, 8.3, 7.7, 3.6, 1.4, 1.0, 3.2, 3.1, 1.4, 2.9, 1.6, 6.4, 14.4, 10.4, 2.0, 5.3, 2.7, 4.9, 8.3, 2.6, 2.1, 15.6, 2.8, 1.2, 2.0, 1.5, 1.4, 1.7, 6.9, 10.9, 6.5, 2.3, 4.8, 2.8, 13.5, 15.1, 1.5, 10.0, 1.8, 1.4, 1.6, 1.6, 1.6, 3.8, 4.4, 3.4, 3.2, 3.3, 3.1, 3.1, 2.3, 3.5, 7.3, 4.7, 3.9, 3.1, 11.4, 12.6, 2.6, 9.0, 0.7, 10.8, 5.0, 2.0, 2.7, 5.5, 1.9, 10.5, 3.6, 3.9, 3.0, 4.8, 2.2, 7.2, 1.5, 2.4, 0.0, 4.1, 4.8, 2.9, 4.7, 4.5, 5.3, 2.5, 2.3, 10.4, 2.2, 7.3, 5.2, 2.5, 11.3, 4.9, 1.4, 1.6, 1.7, 1.7, 1.7, 7.0, 9.3, 1.8, 6.3, 11.4, 2.2, 4.2, 7.5, 6.1, 15.8, 7.6, 6.5, 3.4, 1.8, 3.0, 1.0, 2.5, 4.7, 5.6, 1.3, 1.8, 2.3, 1.5, 2.0, 1.3, 2.7, 6.8, 10.3, 3.5, 2.0, 1.9, 2.3, 3.6, 3.8, 2.5, 2.7, 2.0, 6.5, 1.4, 11.4, 2.2, 4.4, 16.7, 14.4, 4.6, 6.3, 2.1, 2.7, 2.1, 2.0, 0.7, 12.4, 3.9, 9.1, 8.1, 1.4, 2.0, 1.9, 2.8, 1.4, 1.4, 1.3, 12.0, 9.1, 15.2, 10.4, 4.7, 4.1, 6.4, 1.8, 2.2, 3.2, 21.8, 9.2, 13.4, 7.0, 2.2, 5.0, 1.4, 1.2, 1.5, 8.3, 11.2, 1.5, 1.4, 1.8, 1.1, 5.2, 13.1, 1.9, 2.8, 1.0, 1.8, 7.6, 2.1, 6.4, 15.8, 2.6, 2.3, 2.6, 2.0, 4.3, 2.4, 11.4, 11.0, 1.8, 1.8, 8.4, 10.9, 1.6, 3.3, 4.8, 5.0, 4.6, 1.2, 9.5, 1.7, 7.0, 7.5, 1.6, 1.5, 2.0, 1.3, 4.5, 14.7, 8.2, 9.3, 0.0, 0.0, 0.0, 2.4, 8.7, 11.0, 8.1, 2.2, 5.4, 13.7, 5.9, 1.0, 1.8, 1.1, 4.4, 1.8, 4.8, 1.5, 3.9, 1.1, 10.4, 12.5, 4.7, 12.0, 9.3, 2.6, 1.1, 0.0, 2.8, 2.2, 5.1, 7.8, 9.7, 2.2, 1.7, 5.9, 1.4, 1.3, 1.6, 2.6, 16.4, 3.3, 2.4, 1.4, 8.1, 2.0, 2.3, 2.2, 6.0, 5.2, 3.3, 1.6, 2.8, 2.3, 8.8, 5.9, 4.8, 4.9, 6.4, 8.0, 4.7, 1.6, 10.6, 8.7, 1.3, 3.2, 3.1, 3.3, 6.1, 0.0, 1.6, 10.6, 1.6, 2.0, 1.2, 1.8, 2.9, 2.6, 7.9, 6.4, 8.8, 1.5, 13.5, 3.8, 3.8, 3.4, 3.1, 2.9, 10.3, 2.3, 5.5, 1.3, 1.8, 1.2, 1.3, 8.4, 4.3, 1.9, 2.1, 1.7, 5.2, 5.3, 0.0, 6.0, 6.1, 13.1, 4.3, 21.9, 1.0, 3.6, 2.4, 5.9, 4.2, 10.0, 9.4, 3.4, 7.2, 4.1, 1.5, 2.1, 1.4, 8.1, 8.4, 9.1, 3.9, 4.6, 3.8, 13.0, 0.7, 11.0, 8.5, 13.7, 9.6, 4.8, 6.2, 6.1, 6.4, 3.7, 5.8, 5.9, 2.6, 2.1, 4.4, 1.2, 1.5, 3.0, 1.6, 3.7, 4.6, 4.7, 4.3, 3.8, 1.9, 4.6, 10.0, 2.6, 2.2, 3.4, 5.0, 0.9, 4.2, 5.0, 9.3, 5.5, 13.9, 2.5, 10.6, 10.7, 9.0, 1.8, 8.7, 4.0, 2.7, 2.5, 3.2, 2.8, 2.3, 5.3, 4.4, 13.2, 0.0, 3.8, 2.9, 1.1, 3.1, 4.9, 14.2, 2.3, 1.1, 12.5, 3.8, 2.2, 3.0, 4.9, 5.9, 4.4, 3.1, 7.0, 12.5, 5.2, 5.8, 2.3, 2.2, 1.3, 7.8, 1.5, 3.5, 0.6, 0.0, 0.9, 7.0, 7.1, 6.8, 4.8, 0.9, 0.9, 0.9, 2.3, 3.6, 1.4, 2.7, 2.1, 6.7, 9.3, 13.4, 11.2, 7.2, 0.9, 1.4, 4.5, 3.0, 12.1, 8.1, 2.2, 15.1, 2.4, 2.4, 1.6, 3.1, 2.1, 2.2, 1.7, 5.8, 1.3, 1.1, 8.5, 5.1, 1.6, 2.2, 1.3, 1.8, 1.3, 2.6, 2.9, 15.8, 9.2, 0.9, 2.2, 1.8, 2.8, 1.7, 3.7, 0.8, 2.1, 2.3, 3.0, 2.0, 2.0, 1.9, 2.2, 2.6, 7.6, 4.0, 6.6, 2.5, 2.2, 0.5, 8.6, 8.5, 8.6, 13.6, 5.3, 1.4, 10.6, 2.9, 2.7, 0.0, 2.8, 1.8, 2.0, 4.7, 3.3, 8.8, 2.7, 6.2, 6.5, 3.5, 8.3, 1.1, 3.0, 1.5, 2.6, 0.0, 1.7, 6.7, 5.3, 5.6, 4.1, 2.3, 2.2, 9.6, 2.2, 2.0, 1.7, 2.6, 8.6, 1.8, 2.3, 0.6, 2.2, 1.8, 5.8, 8.7, 1.2, 4.9, 15.0, 14.3, 5.7, 6.2, 4.6, 3.0, 1.4, 2.8, 2.3, 0.0, 13.2, 1.5, 4.0, 9.2, 2.0, 1.8, 1.6, 2.4, 5.4, 8.3, 12.8, 3.5, 2.1, 2.8, 2.5, 3.7, 12.4, 1.5, 13.3, 2.9, 3.2, 14.1, 7.3, 1.3, 2.3, 0.5, 0.0, 0.9, 9.7, 5.0, 2.9, 8.0, 7.6, 9.3, 1.2, 3.0, 2.7, 2.3, 10.6, 3.7, 2.4, 5.5, 2.0, 2.9, 2.6, 13.3, 1.9, 1.3, 2.4, 11.5, 5.8, 11.5, 8.9, 2.4, 4.9, 1.6, 2.0, 9.6, 8.4, 8.4, 0.8, 2.8, 8.7, 2.3, 2.4, 12.1, 13.4, 0.0, 1.4, 1.4, 1.5, 15.9, 5.2, 1.9, 6.6, 0.7, 11.9, 10.4, 1.5, 5.3, 10.8, 1.9, 3.2, 5.1, 9.9, 2.3, 6.4, 2.2, 2.6, 6.9, 1.7, 1.5, 1.4, 2.4, 4.9, 5.4, 3.9, 17.1, 9.8, 9.0, 10.8, 8.5, 1.8, 4.5, 12.4, 12.1, 12.9, 13.7, 7.6, 7.8, 1.9, 5.3, 4.2, 12.9, 7.9, 5.4, 0.7, 1.0, 4.4, 2.4, 7.7, 0.7, 0.7, 0.8, 3.9, 0.0, 0.4, 14.5, 8.8, 8.7, 8.8, 9.0, 8.7, 9.4, 14.1, 5.1, 8.0, 7.7, 2.2, 7.7, 2.4, 2.8, 5.5, 2.2, 0.0, 2.9, 7.4, 11.3, 13.7, 2.4, 1.8, 1.1, 4.6, 4.5, 4.2, 3.4, 1.0, 1.3, 0.6, 3.6, 3.2, 1.8, 1.8, 3.1, 26.3, 5.7, 3.8, 0.5, 0.0, 0.6, 1.5, 2.3, 8.4, 1.7, 2.3, 3.7, 6.8, 1.1, 7.9, 1.1, 1.2, 1.9, 0.0, 0.9, 4.8, 2.1, 1.4, 2.2, 1.3, 1.9, 3.5, 2.2, 13.9, 4.0, 11.2, 2.4, 6.2, 1.9, 1.2, 1.5, 1.0, 11.4, 3.8, 1.4, 1.8, 2.4, 4.3, 0.0, 5.5, 6.5, 5.4, 5.8, 2.1, 12.8, 3.8, 14.0, 0.9, 1.2, 0.2, 2.6, 4.7, 0.8, 4.2, 3.0, 1.6, 7.1, 4.0, 14.3, 7.7, 4.1, 3.1, 1.7, 6.7, 8.6, 9.2, 1.9, 7.1, 3.1, 16.6, 9.7, 7.0, 10.8, 10.5, 4.1, 5.2, 5.4, 4.7, 6.2, 19.0, 6.7, 2.9, 3.4, 0.3, 1.7, 2.4, 0.6, 1.4, 1.4, 4.2, 3.1, 3.0, 3.1, 1.8, 9.7, 1.6, 2.3, 2.7, 6.5, 1.1, 1.3, 0.9, 8.9, 2.0, 5.3, 13.2, 5.8, 10.5, 4.4, 1.3, 2.6, 3.8, 2.5, 12.9, 1.5, 0.0, 1.7, 1.6, 2.0, 15.8, 3.8, 3.6, 4.2, 1.9, 2.4, 4.7, 3.4, 0.8, 4.1, 4.5, 1.7, 1.8, 2.1, 4.2, 7.1, 0.0, 7.6, 2.6, 1.5, 0.0, 1.5, 13.5, 5.1, 1.9, 4.7, 2.9, 4.9, 7.0, 9.7, 12.2, 4.9, 5.2, 0.8, 3.3, 3.8, 2.3, 11.0, 4.7, 2.1, 0.0, 2.7, 1.6, 0.0, 6.8, 2.4, 1.3, 7.2, 1.4, 3.2, 3.5, 2.8, 5.5, 5.0, 6.6, 2.7, 0.8, 7.7, 9.0, 13.7, 7.2, 5.6, 2.3, 0.0, 2.5, 9.1, 9.1, 1.8, 1.9, 2.1, 0.0, 16.4, 1.2, 1.6, 1.6, 3.3, 1.3, 8.4, 5.1, 5.7, 3.9, 1.3, 3.1, 2.0, 16.7, 10.6, 2.0, 2.7, 1.2, 5.3, 0.9, 1.4, 1.8, 2.4, 1.9, 2.1, 1.4, 4.9, 1.5, 1.6, 3.7, 7.8, 6.8, 2.7, 0.0, 8.1, 10.4, 5.0, 1.3, 9.9, 4.3, 5.6, 1.9, 2.5, 3.9, 1.8, 10.8, 3.7, 4.1, 4.5, 3.5, 0.0, 1.8, 8.9, 1.0, 1.2, 0.6, 1.8, 2.7, 2.4, 2.5, 2.2, 2.0, 2.5, 3.1, 4.7, 0.0, 9.0, 2.7, 4.6, 3.0, 8.1, 2.6, 2.1, 3.4, 5.4, 2.4, 1.4, 3.9, 5.5, 8.6, 1.6, 1.5, 1.7, 0.0, 5.0, 3.4, 11.0, 4.3, 3.7, 1.1, 1.7, 3.1, 1.9, 3.3, 3.9, 7.1, 7.2, 6.6, 5.1, 2.0, 2.6, 3.7, 7.0, 5.4, 11.8, 10.7, 3.5, 1.9, 1.9, 2.2, 6.8, 7.7, 0.0, 8.6, 1.2, 15.1, 2.0, 2.7, 16.6, 1.6, 4.8, 6.3, 2.8, 3.8, 0.7, 11.7, 3.9, 2.7, 1.4, 2.8, 1.4, 3.0, 13.2, 3.1, 5.2, 5.6, 3.0, 2.6, 0.0, 3.4, 11.0, 4.6, 8.2, 7.0, 3.0, 4.5, 1.8, 13.4, 7.1, 4.0, 6.6, 1.4, 1.6, 2.0, 2.0, 2.5, 3.1, 1.3, 11.5, 4.1, 2.2, 3.5, 1.5, 12.5, 1.8, 1.0, 3.6, 6.4, 2.3, 1.0, 11.4, 8.9, 11.3, 11.9, 2.5, 10.9, 2.3, 3.3, 4.3, 0.0, 8.5, 9.4, 2.3, 2.4, 2.3, 7.0, 3.6, 5.9, 2.8, 1.9, 1.6, 10.8, 16.7, 10.9, 1.2, 2.4, 5.6, 2.5, 9.7, 3.6, 6.3, 17.9, 5.5, 2.1, 5.6, 3.2, 11.0, 11.6, 11.1, 27.5, 6.6, 0.7, 2.3, 2.7, 0.0, 2.3, 3.2, 3.8, 4.1, 3.2, 6.5, 4.4, 8.4, 10.4, 9.4, 12.4, 4.2, 4.8, 10.0, 8.7, 1.5, 7.7, 2.3, 5.5, 11.6, 8.9, 7.0, 0.9, 2.9, 1.7, 1.7, 0.0, 1.5, 7.8, 17.4, 3.7, 2.0, 3.5, 3.7, 3.1, 1.8, 3.4, 2.2, 2.6, 10.4, 6.7, 4.0, 4.1, 2.6, 2.9, 5.4, 5.9, 3.3, 2.5, 1.8, 3.0, 7.2, 28.1, 0.5, 0.8, 0.0, 0.9, 3.8, 0.0, 8.7, 2.3, 1.2, 1.5, 10.7, 2.2, 2.0, 2.4, 3.6, 1.5, 13.4, 3.2, 3.1, 9.3, 1.6, 5.8, 9.6, 1.5, 2.4, 1.9, 8.5, 8.1, 9.1, 3.7, 4.2, 2.6, 1.0, 1.2, 1.8, 2.7, 5.6, 4.0, 4.2, 2.3, 14.3, 3.1, 4.5, 3.9, 8.0, 6.7, 8.1, 4.3, 3.6, 8.0, 1.7, 8.0, 11.4, 11.0, 9.4, 13.6, 11.8]}, {\"fillcolor\": \"rgba(255, 144, 14, 0.5)\", \"line\": {\"width\": 1}, \"marker\": {\"size\": 2}, \"name\": \"DRB%\", \"type\": \"box\", \"whiskerwidth\": 0.2, \"y\": [12.3, 14.8, 24.0, 19.8, 5.1, 24.0, 22.6, 18.1, 30.0, 9.7, 17.3, 10.8, 10.8, 15.2, 16.4, 14.5, 26.1, 11.7, 14.0, 24.0, 12.7, 11.5, 14.8, 15.3, 14.4, 14.9, 19.8, 14.6, 11.7, 9.5, 10.8, 16.7, 20.3, 15.0, 18.8, 23.3, 18.8, 11.8, 19.0, 13.5, 11.3, 25.8, 7.3, 6.7, 9.3, 17.7, 10.7, 9.6, 11.1, 9.7, 16.6, 12.9, 11.7, 7.6, 10.7, 13.9, 14.4, 9.6, 25.1, 8.8, 8.6, 9.3, 6.7, 7.3, 5.9, 17.0, 9.9, 19.0, 16.6, 10.7, 10.5, 10.8, 10.4, 16.5, 9.4, 27.6, 17.3, 10.3, 13.2, 15.0, 7.8, 19.6, 9.0, 23.7, 25.3, 40.5, 23.6, 14.6, 13.4, 19.5, 0.0, 10.3, 16.2, 9.9, 22.1, 16.5, 9.7, 15.0, 13.0, 14.6, 14.0, 14.9, 12.6, 7.2, 15.9, 6.9, 14.2, 8.9, 27.5, 34.6, 25.0, 9.9, 9.9, 9.9, 16.4, 29.3, 12.0, 24.1, 7.6, 11.4, 12.2, 23.1, 34.7, 10.4, 13.3, 17.5, 7.9, 8.2, 7.7, 34.0, 10.9, 9.5, 15.4, 26.8, 9.5, 8.3, 21.3, 6.0, 9.5, 13.4, 10.4, 9.4, 10.8, 4.9, 10.6, 18.1, 7.9, 25.1, 25.5, 24.0, 23.9, 19.6, 18.3, 20.1, 8.3, 30.2, 3.8, 18.4, 6.9, 12.3, 13.1, 9.1, 12.2, 20.8, 24.3, 22.8, 27.3, 13.3, 20.1, 17.8, 16.7, 7.9, 10.9, 20.8, 21.3, 19.7, 14.5, 12.6, 34.5, 15.5, 28.0, 18.7, 12.4, 8.3, 5.1, 9.4, 11.5, 10.4, 11.0, 11.9, 12.4, 11.3, 19.2, 20.5, 7.9, 8.8, 6.0, 18.3, 13.3, 28.3, 9.7, 18.9, 23.2, 13.2, 12.2, 13.0, 12.7, 17.0, 13.0, 9.5, 15.9, 11.0, 11.8, 9.4, 8.5, 21.3, 25.5, 14.1, 16.9, 17.7, 13.7, 9.8, 9.7, 10.3, 11.0, 7.7, 35.2, 35.9, 33.0, 12.6, 18.1, 26.1, 27.5, 22.8, 13.5, 14.8, 16.9, 7.7, 7.7, 7.7, 13.6, 13.8, 14.6, 12.4, 13.4, 12.2, 15.4, 14.1, 18.1, 12.9, 12.6, 11.2, 14.1, 9.5, 15.3, 18.5, 18.6, 21.8, 11.4, 11.1, 15.4, 15.0, 10.0, 40.0, 12.9, 19.6, 17.7, 17.4, 18.5, 16.5, 25.9, 7.1, 6.6, 4.0, 8.1, 10.9, 6.6, 11.6, 9.7, 7.5, 22.5, 12.2, 16.9, 9.4, 11.3, 12.5, 20.1, 16.5, 6.6, 6.3, 20.2, 10.0, 10.5, 10.6, 6.4, 19.5, 17.5, 16.6, 19.6, 8.8, 21.7, 10.9, 11.2, 14.7, 14.7, 14.5, 6.2, 6.3, 5.7, 15.7, 8.7, 12.6, 15.7, 29.6, 20.0, 8.9, 14.4, 16.7, 26.4, 11.2, 21.4, 10.1, 10.9, 17.1, 17.8, 14.8, 21.8, 21.1, 23.0, 13.0, 19.6, 13.9, 9.2, 8.8, 10.6, 14.0, 6.9, 15.9, 22.5, 19.7, 17.0, 17.7, 15.4, 24.9, 23.8, 25.7, 17.3, 11.5, 12.3, 6.8, 21.6, 8.8, 7.5, 9.8, 6.4, 11.2, 10.0, 12.2, 19.4, 15.5, 8.3, 12.8, 16.4, 11.8, 11.2, 29.8, 23.4, 17.2, 20.6, 13.2, 20.1, 8.0, 6.4, 5.9, 7.3, 17.5, 20.0, 7.4, 8.6, 9.3, 9.4, 16.3, 7.8, 27.6, 28.0, 25.6, 17.7, 7.7, 10.2, 10.0, 10.9, 16.2, 9.3, 10.1, 25.7, 12.8, 16.2, 29.3, 18.9, 22.0, 25.2, 8.7, 25.8, 15.4, 10.2, 11.9, 15.6, 10.1, 11.8, 17.7, 28.3, 13.3, 35.6, 11.4, 13.9, 15.5, 17.1, 20.4, 15.9, 26.5, 24.7, 27.0, 12.8, 10.1, 15.9, 14.4, 10.2, 19.7, 15.7, 39.1, 12.5, 24.2, 21.2, 27.2, 20.5, 8.7, 19.3, 9.7, 10.2, 8.5, 20.7, 28.9, 22.9, 20.5, 12.2, 18.4, 23.2, 11.1, 20.8, 12.7, 19.7, 16.0, 17.0, 14.4, 13.4, 23.3, 13.5, 3.3, 7.2, 14.4, 15.1, 12.2, 15.3, 10.8, 17.2, 14.9, 15.6, 12.5, 20.7, 16.8, 9.6, 17.9, 10.5, 21.6, 10.8, 22.6, 21.4, 19.3, 22.5, 24.5, 8.3, 13.9, 26.5, 10.2, 19.0, 20.0, 8.9, 16.4, 11.7, 10.8, 12.1, 7.5, 12.0, 13.0, 15.1, 16.0, 16.8, 13.3, 8.7, 12.1, 12.2, 11.2, 12.4, 5.0, 9.1, 8.3, 6.6, 9.4, 31.8, 13.8, 11.1, 15.3, 17.3, 11.7, 15.9, 9.0, 27.4, 17.2, 7.1, 6.4, 10.8, 10.5, 9.3, 9.8, 8.3, 8.7, 15.3, 9.2, 11.7, 10.8, 30.6, 14.6, 10.1, 6.9, 14.9, 7.1, 16.4, 12.8, 9.9, 27.7, 11.4, 25.1, 7.2, 6.1, 10.0, 5.0, 24.1, 23.1, 24.1, 7.3, 13.3, 12.9, 15.2, 20.8, 10.9, 22.7, 12.8, 30.1, 11.6, 12.7, 18.7, 13.8, 12.3, 6.4, 14.0, 7.7, 11.4, 7.1, 19.4, 14.1, 6.6, 19.7, 22.9, 7.1, 20.7, 9.4, 8.7, 7.8, 10.2, 10.0, 10.8, 7.1, 16.4, 14.7, 12.5, 21.8, 27.6, 13.7, 9.5, 9.0, 11.1, 21.7, 14.6, 27.2, 19.3, 9.7, 17.8, 7.4, 24.1, 11.5, 12.3, 13.9, 22.4, 6.6, 11.7, 18.0, 13.4, 18.8, 12.1, 12.2, 12.0, 17.9, 12.7, 17.3, 14.2, 8.0, 6.7, 7.8, 17.3, 22.1, 19.7, 14.9, 14.0, 11.6, 17.4, 21.9, 17.0, 13.3, 23.4, 11.2, 6.6, 9.0, 9.7, 16.6, 11.7, 19.8, 28.9, 24.4, 18.1, 10.8, 10.5, 7.5, 11.3, 12.9, 13.0, 12.7, 16.6, 25.5, 20.6, 14.0, 13.8, 8.0, 17.2, 15.3, 19.8, 17.3, 16.5, 13.3, 10.9, 13.1, 12.9, 9.0, 11.7, 17.6, 32.4, 11.4, 25.2, 20.5, 20.5, 20.5, 8.9, 12.4, 21.9, 8.2, 12.0, 13.1, 6.7, 13.3, 25.8, 16.5, 15.5, 9.4, 20.9, 11.6, 8.1, 7.6, 20.3, 22.7, 20.6, 25.3, 21.7, 11.8, 10.2, 10.0, 17.1, 13.1, 26.3, 13.1, 9.5, 24.0, 14.4, 7.1, 11.4, 11.1, 9.5, 14.6, 16.8, 9.8, 8.3, 12.2, 24.4, 18.9, 19.5, 16.8, 8.6, 15.1, 7.1, 2.6, 14.3, 10.2, 9.8, 10.6, 14.0, 14.9, 18.0, 11.7, 15.2, 20.0, 22.3, 25.1, 7.1, 54.8, 16.9, 17.0, 9.1, 21.4, 22.6, 20.4, 12.4, 14.8, 11.2, 11.0, 9.7, 15.8, 8.9, 9.2, 12.9, 8.0, 15.2, 22.1, 21.0, 45.1, 11.4, 15.8, 6.0, 19.9, 11.7, 21.4, 11.2, 16.5, 19.9, 10.9, 13.5, 6.5, 13.0, 16.3, 12.5, 18.2, 17.5, 18.2, 11.2, 21.2, 21.4, 20.3, 14.3, 21.6, 19.3, 19.7, 17.4, 9.0, 7.8, 9.5, 11.6, 14.9, 12.3, 15.0, 12.4, 5.8, 8.6, 9.3, 7.4, 12.8, 11.2, 13.5, 14.3, 0.0, 25.8, 8.9, 8.2, 9.6, 16.0, 8.2, 10.6, 10.9, 10.4, 6.2, 6.0, 7.0, 28.6, 26.8, 30.2, 16.4, 22.3, 13.3, 8.7, 10.7, 18.1, 14.3, 14.6, 12.9, 19.2, 25.6, 15.2, 19.3, 11.2, 9.6, 13.1, 12.6, 11.2, 13.5, 19.4, 10.2, 10.2, 10.4, 13.0, 9.9, 16.1, 15.0, 18.3, 18.9, 17.9, 8.7, 11.7, 6.3, 10.9, 18.7, 17.4, 7.5, 17.1, 16.3, 12.4, 20.9, 7.7, 9.9, 7.1, 7.7, 7.8, 7.5, 9.9, 11.0, 9.5, 9.3, 21.5, 9.4, 19.7, 9.7, 9.4, 12.3, 14.5, 15.5, 14.3, 18.5, 9.4, 19.3, 25.3, 9.6, 7.4, 6.5, 7.9, 9.9, 12.8, 15.5, 11.3, 19.7, 16.7, 34.7, 19.3, 9.5, 11.0, 12.1, 7.7, 8.2, 7.4, 18.2, 17.9, 14.7, 12.9, 12.9, 16.0, 17.2, 8.1, 11.0, 9.1, 13.5, 12.5, 15.4, 20.1, 20.5, 15.1, 15.9, 16.1, 11.0, 27.1, 22.2, 17.8, 14.1, 18.6, 18.2, 18.3, 18.2, 15.5, 19.3, 19.4, 15.2, 20.0, 19.5, 15.4, 11.6, 15.4, 16.7, 8.4, 12.4, 18.3, 20.0, 15.0, 16.8, 9.0, 22.5, 18.0, 9.8, 21.1, 6.9, 22.8, 9.6, 29.5, 17.2, 25.4, 11.2, 26.0, 8.4, 20.4, 21.1, 7.3, 27.0, 10.4, 7.5, 11.3, 14.3, 8.0, 13.6, 10.4, 11.6, 2.6, 8.6, 8.8, 22.7, 13.1, 13.6, 15.7, 20.1, 16.6, 27.5, 0.0, 9.7, 9.6, 13.5, 6.8, 15.2, 9.3, 15.9, 28.2, 20.9, 9.7, 6.3, 14.2, 10.4, 7.9, 13.6, 11.6, 26.4, 24.2, 25.7, 7.8, 15.4, 11.5, 13.9, 22.1, 9.3, 10.7, 34.2, 12.6, 11.0, 21.8, 16.3, 10.9, 9.1, 7.4, 8.9, 7.3, 10.7, 18.8, 16.4, 21.9, 23.0, 8.6, 19.6, 11.1, 8.4, 8.8, 9.4, 7.8, 12.8, 11.2, 13.7, 18.6, 17.6, 20.4, 14.0, 13.0, 20.2, 28.7, 15.9, 13.0, 18.7, 15.9, 27.7, 11.5, 21.3, 6.9, 26.3, 14.3, 10.2, 13.6, 23.0, 9.7, 19.3, 13.3, 14.4, 10.9, 22.3, 15.6, 11.7, 10.3, 7.7, 22.5, 18.6, 18.9, 18.0, 13.1, 27.4, 20.6, 13.5, 13.7, 15.8, 11.8, 15.8, 21.6, 10.3, 21.2, 15.9, 11.9, 10.5, 10.5, 9.3, 11.1, 21.4, 11.7, 10.5, 18.2, 29.1, 9.2, 15.0, 21.5, 21.8, 31.5, 18.5, 16.2, 12.4, 12.4, 7.6, 14.1, 9.1, 18.8, 24.6, 9.6, 11.3, 10.2, 12.0, 10.4, 11.2, 9.7, 19.4, 19.6, 11.9, 10.2, 11.2, 7.6, 16.7, 10.3, 13.6, 10.7, 10.2, 15.9, 8.0, 32.7, 9.4, 17.2, 24.9, 16.5, 23.7, 17.8, 8.2, 5.5, 8.6, 9.9, 10.9, 18.4, 18.7, 19.2, 23.1, 10.1, 7.4, 6.5, 11.6, 8.7, 7.9, 10.1, 24.6, 20.4, 29.1, 25.4, 18.4, 21.4, 26.3, 10.4, 11.4, 8.5, 29.1, 17.2, 16.2, 28.4, 12.3, 20.2, 12.5, 11.9, 12.6, 22.1, 14.7, 10.0, 9.8, 10.6, 8.8, 9.4, 10.9, 9.3, 10.8, 7.6, 8.3, 13.6, 8.8, 20.1, 23.7, 8.5, 9.2, 8.1, 9.9, 15.3, 10.6, 22.6, 13.3, 10.2, 14.2, 21.5, 23.4, 9.3, 12.4, 19.3, 18.3, 20.5, 5.8, 19.2, 10.9, 11.4, 14.9, 8.6, 10.2, 10.4, 8.0, 22.8, 27.3, 22.2, 14.0, 12.0, 17.2, 5.7, 20.3, 14.7, 24.5, 17.8, 14.0, 16.2, 25.7, 12.8, 8.8, 15.6, 12.4, 14.8, 12.0, 21.5, 11.2, 9.6, 15.2, 22.2, 18.0, 14.7, 20.0, 20.9, 14.8, 11.1, 15.2, 4.9, 6.8, 9.9, 32.0, 20.7, 8.5, 7.9, 11.4, 8.2, 8.3, 7.9, 12.0, 27.8, 15.2, 8.8, 10.6, 13.5, 14.1, 15.4, 11.2, 19.0, 14.2, 17.1, 12.2, 14.6, 10.8, 22.2, 9.6, 11.6, 15.8, 17.4, 21.5, 12.9, 14.3, 19.8, 13.8, 10.0, 15.1, 14.0, 16.2, 18.8, 15.7, 11.7, 27.0, 8.6, 10.3, 5.7, 8.0, 8.0, 11.4, 23.4, 25.0, 22.4, 10.3, 23.3, 11.3, 10.5, 14.3, 16.1, 8.5, 27.5, 16.5, 21.0, 10.0, 7.0, 10.7, 8.7, 19.8, 10.7, 8.0, 11.5, 13.8, 11.9, 11.5, 36.6, 18.6, 18.1, 32.4, 7.5, 39.2, 8.9, 18.7, 7.9, 18.6, 15.8, 20.7, 19.4, 13.2, 16.3, 14.3, 14.9, 11.9, 9.0, 23.0, 19.7, 17.6, 18.0, 15.2, 18.2, 15.4, 8.4, 23.9, 16.6, 14.5, 13.8, 23.5, 16.9, 18.9, 14.1, 19.0, 11.2, 22.6, 16.0, 15.9, 14.9, 13.5, 10.8, 10.2, 10.3, 13.1, 19.7, 19.9, 19.1, 12.9, 18.4, 14.0, 21.6, 10.3, 7.8, 8.0, 18.9, 10.2, 15.6, 15.8, 25.6, 18.6, 20.7, 13.8, 33.9, 34.0, 27.6, 8.3, 25.5, 16.2, 11.6, 11.0, 13.0, 9.6, 6.3, 16.9, 14.8, 35.0, 5.3, 14.4, 12.4, 6.4, 17.7, 13.2, 14.1, 8.7, 8.1, 24.5, 12.7, 12.5, 16.6, 15.2, 20.2, 4.4, 7.5, 20.4, 33.2, 17.8, 16.1, 9.0, 9.3, 7.1, 19.1, 10.8, 14.8, 3.6, 4.8, 2.9, 29.2, 28.3, 32.2, 17.9, 10.2, 5.7, 7.2, 17.3, 14.2, 9.3, 11.4, 7.8, 27.9, 19.8, 20.9, 30.6, 14.6, 9.8, 7.1, 17.7, 13.6, 26.7, 20.5, 10.7, 36.2, 15.9, 12.4, 12.3, 12.5, 12.6, 23.6, 10.8, 25.6, 8.5, 10.3, 25.6, 14.9, 6.8, 8.4, 6.1, 17.2, 17.9, 16.0, 9.3, 23.6, 20.2, 10.5, 11.9, 9.2, 5.5, 9.7, 12.4, 8.2, 8.3, 9.7, 19.3, 14.7, 9.3, 9.6, 8.5, 18.8, 26.8, 17.5, 3.5, 17.9, 18.7, 11.1, 17.9, 19.0, 14.8, 29.5, 14.1, 8.1, 26.8, 10.0, 12.1, 16.2, 12.0, 9.9, 11.8, 20.9, 13.9, 21.1, 12.8, 20.2, 17.0, 20.9, 14.2, 13.0, 8.0, 12.0, 15.6, 19.5, 9.0, 24.1, 21.5, 20.1, 26.3, 15.4, 10.0, 20.8, 14.7, 13.5, 13.4, 13.7, 17.0, 10.5, 11.4, 9.2, 10.6, 13.1, 21.1, 20.1, 13.1, 18.6, 31.7, 17.9, 19.0, 18.5, 20.1, 13.1, 13.6, 12.7, 7.5, 0.0, 13.0, 7.4, 20.7, 24.2, 11.6, 10.1, 9.9, 10.8, 19.1, 17.0, 24.2, 16.6, 12.8, 12.7, 12.5, 20.8, 17.0, 8.7, 34.6, 10.4, 15.8, 20.8, 19.3, 15.4, 9.1, 11.0, 10.8, 11.2, 23.0, 8.4, 22.6, 20.2, 19.8, 21.2, 9.5, 8.9, 8.0, 9.0, 25.3, 15.7, 19.1, 17.5, 13.9, 12.2, 11.9, 19.5, 13.3, 14.7, 9.4, 18.5, 13.3, 13.2, 29.3, 12.0, 18.1, 11.7, 9.8, 20.8, 15.2, 25.3, 11.8, 7.7, 12.9, 7.6, 9.1, 13.3, 11.6, 28.1, 11.5, 11.7, 11.1, 20.1, 9.2, 10.7, 15.0, 10.9, 28.4, 16.4, 14.5, 19.5, 23.1, 6.9, 12.8, 18.2, 16.4, 11.6, 10.6, 12.4, 10.7, 14.4, 11.5, 8.8, 8.4, 17.9, 14.6, 11.2, 21.7, 25.6, 22.3, 19.2, 26.0, 16.8, 28.3, 13.1, 13.7, 14.3, 13.0, 24.8, 25.4, 15.5, 12.6, 20.7, 16.8, 22.0, 20.0, 15.7, 7.3, 13.6, 16.3, 15.0, 21.0, 10.7, 10.1, 12.2, 13.9, 14.0, 18.5, 17.8, 22.4, 22.9, 21.3, 13.3, 11.1, 17.2, 15.7, 17.1, 24.0, 19.5, 11.8, 12.7, 6.7, 14.6, 13.9, 9.4, 7.5, 10.1, 25.8, 27.4, 22.0, 9.2, 11.5, 7.5, 14.2, 14.7, 16.6, 9.3, 10.8, 11.6, 9.6, 16.3, 11.4, 9.5, 11.9, 16.4, 8.2, 15.0, 14.7, 7.2, 11.3, 6.2, 8.5, 9.9, 15.9, 11.1, 11.5, 10.4, 20.4, 11.1, 24.1, 10.3, 14.8, 9.8, 17.7, 19.3, 22.7, 4.2, 12.4, 10.1, 7.7, 7.0, 12.3, 9.2, 19.6, 14.4, 27.8, 14.2, 19.6, 7.5, 15.6, 14.6, 11.3, 22.5, 12.6, 10.9, 10.6, 10.6, 9.6, 9.0, 9.7, 18.8, 28.8, 13.5, 9.7, 35.3, 8.8, 31.2, 9.4, 9.3, 9.7, 15.1, 16.9, 13.5, 19.8, 11.2, 11.0, 11.8, 12.7, 17.9, 12.4, 8.1, 10.0, 8.2, 15.7, 17.3, 17.0, 14.2, 21.9, 17.1, 13.9, 21.6, 28.6, 17.3, 18.1, 7.1, 22.3, 13.6, 17.6, 15.4, 15.0, 25.3, 17.7, 10.4, 8.8, 12.9, 9.5, 18.5, 7.2, 9.5, 17.3, 17.1, 14.2, 13.8, 7.3, 22.1, 13.9, 11.5, 11.0, 21.2, 7.3, 7.9, 6.3, 19.0, 16.8, 9.4, 21.1, 12.2, 24.0, 18.8, 10.3, 11.7, 5.2, 11.9, 25.4, 12.7, 100.0, 7.3, 6.7, 12.5, 27.1, 10.0, 10.7, 9.2, 10.8, 10.5, 8.0, 14.0, 11.1, 17.5, 20.5, 8.3, 8.2, 18.4, 12.7, 16.6, 15.7, 16.6, 14.1, 10.0, 27.9, 9.9, 30.8, 18.4, 15.1, 13.3, 9.4, 24.0, 22.0, 17.7, 26.8, 14.1, 22.7, 8.4, 9.1, 9.7, 7.9, 22.8, 18.2, 7.8, 8.6, 9.1, 10.2, 5.5, 30.9, 15.5, 14.4, 15.5, 5.5, 11.5, 10.8, 12.7, 14.9, 13.4, 18.5, 14.4, 7.7, 24.8, 22.0, 28.8, 28.1, 16.0, 8.2, 0.0, 10.4, 29.6, 22.2, 10.2, 12.9, 17.5, 38.3, 36.4, 13.6, 14.4, 19.5, 24.3, 10.7, 29.7, 11.0, 11.7, 9.6, 10.4, 16.3, 10.5, 20.7, 18.5, 11.0, 4.2, 11.2, 13.6, 7.2, 9.5, 10.0, 13.1, 19.4, 20.3, 16.2, 13.1, 14.9, 10.3, 25.3, 30.2, 19.5, 14.9, 8.1, 16.7, 27.0, 21.5, 7.5, 24.0, 8.3, 16.3, 9.3, 13.0, 21.1, 14.2, 24.4, 11.2, 19.8, 20.5, 18.9, 20.5, 15.2, 17.0, 9.8, 10.8, 8.2, 6.8, 11.3, 15.7, 15.0, 16.8, 9.7, 14.7, 16.0, 10.9, 21.6, 21.5, 16.1, 14.3, 14.8, 18.0, 8.9, 9.9, 7.3, 15.1, 10.8, 12.8, 11.4, 20.0, 21.4, 9.9, 10.1, 9.5, 0.0, 20.2, 17.0, 33.8, 21.0, 12.6, 13.9, 8.3, 13.8, 10.8, 17.2, 11.0, 9.8, 12.4, 0.0, 14.2, 12.6, 9.0, 22.3, 26.2, 19.1, 18.3, 12.8, 17.2, 13.0, 11.7, 13.6, 10.6, 15.7, 16.5, 15.6, 9.2, 37.6, 11.4, 14.5, 30.6, 11.9, 13.0, 15.6, 11.7, 18.0, 10.9, 27.6, 17.4, 15.4, 14.4, 8.1, 9.3, 16.6, 26.7, 19.1, 24.7, 20.7, 11.9, 10.6, 0.0, 9.2, 15.2, 13.4, 10.3, 29.8, 16.1, 23.5, 11.6, 17.4, 14.2, 23.7, 15.8, 9.2, 11.7, 7.2, 9.9, 10.2, 9.5, 11.4, 18.7, 8.3, 12.4, 11.4, 11.2, 25.4, 15.0, 7.9, 9.6, 17.6, 10.4, 7.5, 25.2, 28.1, 25.7, 24.4, 7.3, 27.6, 15.9, 18.4, 19.2, 9.0, 22.9, 19.7, 11.3, 11.6, 10.8, 22.4, 9.4, 18.3, 12.0, 10.1, 9.5, 21.1, 22.1, 29.3, 25.2, 9.1, 16.0, 20.6, 27.8, 11.6, 19.4, 20.7, 19.3, 15.1, 21.6, 16.6, 25.0, 23.4, 24.2, 0.0, 17.1, 9.2, 13.0, 14.6, 0.0, 16.7, 9.8, 12.8, 11.2, 16.3, 15.5, 14.3, 16.5, 20.9, 18.3, 16.4, 10.8, 18.1, 23.0, 21.3, 10.9, 10.8, 15.3, 14.4, 24.1, 22.8, 23.7, 16.6, 9.0, 10.6, 10.4, 22.0, 6.2, 12.2, 26.0, 8.6, 14.2, 5.8, 6.8, 3.1, 11.6, 16.3, 15.3, 13.8, 25.2, 19.7, 15.8, 18.4, 6.8, 13.6, 18.6, 19.5, 9.7, 6.6, 17.5, 9.8, 13.9, 8.7, 7.5, 12.3, 2.3, 13.2, 22.0, 56.1, 22.3, 15.6, 9.3, 9.6, 21.2, 6.3, 6.5, 6.0, 10.7, 10.3, 23.3, 10.0, 12.3, 30.9, 11.4, 19.8, 11.4, 6.8, 18.3, 11.5, 30.2, 30.0, 30.4, 14.6, 14.7, 14.4, 8.5, 8.7, 10.2, 10.7, 25.7, 16.9, 11.2, 13.1, 36.6, 10.8, 29.5, 16.2, 14.8, 19.7, 14.5, 20.5, 11.7, 16.1, 7.9, 14.1, 19.3, 19.4, 20.0, 18.4, 20.1]}, {\"fillcolor\": \"rgba(44, 160, 101, 0.5)\", \"line\": {\"width\": 1}, \"marker\": {\"size\": 2}, \"name\": \"TRB%\", \"type\": \"box\", \"whiskerwidth\": 0.2, \"y\": [7.4, 14.7, 16.6, 15.1, 3.0, 16.8, 14.2, 11.0, 19.3, 4.9, 10.2, 7.9, 6.1, 8.6, 9.1, 8.4, 18.5, 6.3, 9.1, 16.3, 7.5, 7.0, 8.4, 9.1, 8.8, 8.9, 15.6, 8.3, 7.4, 5.8, 5.9, 12.5, 12.3, 9.6, 15.8, 17.0, 12.8, 8.1, 13.7, 10.8, 6.5, 18.5, 4.9, 4.7, 5.6, 22.6, 8.0, 6.4, 8.6, 6.0, 10.3, 7.4, 8.0, 5.3, 7.0, 8.7, 9.0, 5.7, 16.5, 4.9, 5.0, 4.9, 4.6, 4.7, 4.5, 9.4, 5.4, 10.6, 8.9, 6.0, 8.3, 7.7, 8.4, 11.1, 6.0, 20.8, 10.8, 6.4, 7.7, 10.1, 5.0, 13.5, 6.5, 15.8, 18.3, 24.3, 17.6, 9.7, 9.4, 11.0, 0.0, 6.7, 10.0, 6.8, 17.1, 12.7, 5.7, 10.4, 7.9, 8.5, 8.1, 8.8, 9.5, 3.9, 9.6, 4.6, 8.4, 5.3, 18.8, 25.2, 15.7, 5.2, 5.2, 5.2, 9.4, 19.2, 9.5, 16.1, 4.6, 8.0, 6.8, 17.8, 25.4, 6.7, 7.3, 9.8, 4.5, 4.7, 4.3, 21.4, 8.1, 6.8, 12.2, 16.4, 6.5, 5.5, 17.2, 3.8, 5.3, 10.5, 5.7, 5.4, 6.2, 6.1, 8.7, 10.7, 5.4, 14.3, 14.3, 14.3, 13.9, 11.4, 14.5, 14.0, 5.7, 21.9, 2.8, 11.7, 3.8, 7.9, 8.2, 5.6, 7.7, 12.4, 16.4, 15.7, 17.7, 8.0, 11.8, 10.0, 13.1, 5.3, 6.7, 12.0, 12.0, 11.9, 8.4, 7.5, 19.4, 9.2, 19.2, 10.4, 8.1, 5.9, 4.4, 6.4, 7.8, 5.8, 7.2, 6.8, 6.9, 6.7, 13.2, 15.5, 4.6, 5.0, 3.6, 12.4, 7.9, 19.6, 6.3, 11.2, 16.1, 8.5, 7.0, 7.8, 8.1, 11.0, 8.0, 5.9, 9.7, 6.9, 6.9, 6.7, 5.2, 12.4, 16.5, 8.0, 9.7, 9.9, 8.8, 6.1, 5.7, 7.1, 9.8, 4.6, 23.5, 23.6, 22.9, 7.5, 11.7, 21.1, 21.4, 20.6, 7.0, 11.3, 11.7, 4.4, 4.2, 4.5, 8.1, 8.3, 9.0, 6.6, 6.4, 6.7, 10.0, 8.5, 10.4, 7.4, 8.7, 6.7, 8.8, 5.4, 9.1, 14.4, 11.6, 14.2, 7.5, 7.0, 15.0, 8.7, 9.7, 22.2, 7.6, 11.9, 13.9, 11.0, 11.9, 10.3, 15.2, 4.4, 4.2, 2.9, 5.0, 6.5, 3.1, 7.1, 6.3, 4.5, 17.5, 8.2, 13.1, 5.5, 6.5, 7.5, 13.5, 9.8, 3.8, 4.0, 14.4, 6.9, 6.6, 5.9, 4.5, 11.7, 11.1, 10.7, 12.1, 5.3, 17.3, 6.4, 7.0, 9.8, 10.2, 8.6, 4.2, 4.2, 5.5, 8.6, 5.3, 7.1, 9.1, 19.3, 15.9, 5.0, 9.2, 9.2, 17.8, 7.7, 15.4, 5.7, 6.6, 9.8, 11.0, 8.1, 13.3, 12.6, 14.3, 8.8, 15.1, 7.9, 5.5, 5.4, 6.0, 9.1, 6.8, 9.0, 16.4, 17.6, 10.1, 10.5, 9.2, 16.8, 16.5, 17.1, 13.2, 6.7, 6.7, 4.1, 14.7, 5.5, 4.4, 5.6, 3.7, 6.3, 6.4, 6.8, 16.3, 9.2, 5.4, 7.0, 9.1, 6.9, 6.8, 20.8, 13.7, 10.5, 12.3, 8.3, 10.9, 5.0, 3.9, 3.7, 4.3, 11.6, 13.7, 4.9, 5.7, 6.2, 6.1, 12.7, 6.3, 19.1, 19.1, 18.7, 10.4, 4.5, 5.8, 5.6, 6.7, 13.2, 5.6, 6.0, 20.3, 7.5, 8.8, 20.0, 10.9, 13.9, 18.0, 5.1, 16.0, 9.8, 5.4, 6.8, 7.9, 5.7, 6.4, 10.0, 15.8, 7.8, 25.9, 7.4, 13.7, 10.5, 10.3, 15.3, 9.6, 17.0, 16.4, 17.3, 8.6, 7.5, 9.9, 11.7, 6.3, 14.5, 14.2, 28.7, 12.3, 18.2, 16.2, 20.2, 13.5, 6.4, 15.8, 5.3, 5.6, 4.8, 17.7, 20.0, 15.5, 16.7, 9.7, 13.7, 15.9, 6.6, 11.4, 10.0, 12.2, 10.7, 12.4, 8.6, 9.3, 17.3, 7.6, 6.8, 5.0, 9.3, 10.5, 7.5, 8.9, 6.1, 10.1, 11.3, 9.4, 7.0, 16.1, 9.6, 6.4, 10.6, 6.4, 13.8, 7.6, 18.0, 17.0, 17.8, 16.6, 17.5, 4.8, 8.3, 18.5, 7.0, 14.7, 12.0, 5.4, 11.8, 7.9, 7.9, 8.0, 4.8, 7.3, 7.7, 8.8, 8.3, 8.6, 7.3, 5.2, 7.3, 6.6, 8.2, 7.4, 5.0, 5.4, 5.1, 4.9, 5.1, 22.1, 9.7, 7.0, 9.0, 9.9, 7.5, 10.4, 5.2, 20.7, 10.4, 4.8, 4.7, 5.2, 7.1, 5.1, 5.7, 4.2, 5.2, 12.2, 5.4, 7.4, 6.5, 21.1, 8.8, 5.7, 4.1, 9.7, 6.0, 10.5, 8.8, 5.7, 13.7, 7.0, 17.8, 4.7, 3.1, 7.1, 3.3, 16.1, 18.0, 19.7, 5.2, 9.3, 7.6, 10.0, 15.9, 5.7, 18.0, 7.1, 24.0, 7.3, 7.3, 10.4, 8.7, 6.9, 3.9, 10.1, 4.8, 6.6, 4.5, 15.4, 8.8, 4.2, 16.6, 17.3, 4.5, 15.4, 5.1, 5.2, 4.2, 6.3, 6.0, 7.1, 4.5, 8.9, 8.3, 7.5, 13.4, 18.6, 9.4, 7.7, 7.4, 8.5, 13.4, 12.7, 20.7, 14.5, 7.6, 12.0, 4.5, 16.5, 7.8, 7.8, 8.4, 14.0, 4.1, 7.0, 15.7, 13.6, 16.0, 7.5, 7.1, 7.8, 12.1, 7.4, 14.4, 8.5, 4.4, 4.8, 4.8, 10.3, 15.6, 11.4, 11.5, 8.2, 6.5, 14.5, 15.5, 11.5, 7.8, 16.4, 7.3, 4.1, 5.9, 6.0, 13.2, 6.4, 13.4, 19.5, 17.4, 12.6, 6.7, 6.0, 5.0, 6.1, 7.8, 7.7, 7.9, 9.6, 15.1, 15.3, 8.1, 7.5, 4.8, 12.5, 11.0, 14.5, 13.3, 10.8, 7.7, 8.2, 8.1, 7.8, 5.3, 6.5, 13.7, 24.5, 7.5, 18.5, 17.6, 16.7, 19.0, 6.7, 6.5, 14.4, 4.8, 6.8, 7.5, 3.6, 7.2, 18.1, 9.1, 12.8, 5.4, 15.5, 6.4, 4.7, 4.3, 15.3, 16.4, 12.9, 15.8, 14.3, 6.9, 5.7, 6.7, 14.3, 12.9, 16.6, 7.8, 5.4, 17.2, 8.4, 3.8, 5.5, 6.2, 5.9, 9.3, 14.6, 7.1, 5.0, 7.3, 18.2, 12.9, 13.3, 11.6, 5.1, 9.1, 3.9, 1.3, 8.4, 6.9, 6.9, 6.9, 7.4, 9.4, 11.2, 7.5, 9.4, 13.6, 16.1, 17.9, 5.0, 28.4, 10.3, 10.7, 5.8, 16.1, 16.4, 15.9, 10.2, 13.5, 6.7, 6.0, 5.6, 7.6, 5.7, 5.9, 7.7, 5.1, 9.4, 17.1, 14.3, 27.6, 6.3, 8.5, 3.7, 11.0, 10.0, 13.6, 6.6, 11.7, 16.5, 8.2, 10.7, 3.7, 8.1, 11.6, 7.4, 12.5, 12.0, 12.5, 7.9, 15.1, 15.2, 14.1, 8.7, 16.5, 14.8, 14.9, 13.9, 6.2, 6.0, 6.3, 8.7, 11.6, 6.1, 11.8, 7.3, 3.9, 5.7, 5.8, 5.4, 8.3, 7.5, 8.3, 9.2, 0.0, 18.5, 5.5, 5.0, 6.0, 10.6, 4.5, 8.3, 7.4, 8.9, 4.6, 4.5, 4.9, 20.5, 18.2, 22.6, 10.1, 12.9, 8.6, 5.7, 6.2, 10.3, 8.2, 11.4, 7.8, 16.2, 17.5, 10.1, 13.1, 6.9, 6.1, 7.7, 8.3, 7.5, 8.9, 13.9, 6.0, 5.9, 6.5, 7.1, 6.7, 11.9, 10.5, 12.6, 12.3, 12.9, 5.3, 5.9, 4.8, 6.8, 14.5, 13.9, 4.4, 9.7, 15.4, 7.3, 15.4, 4.7, 6.9, 4.1, 4.9, 5.1, 4.4, 7.3, 8.9, 6.7, 6.0, 15.1, 5.4, 17.2, 6.5, 6.2, 8.8, 9.0, 8.9, 9.0, 10.1, 5.5, 12.1, 18.3, 6.7, 4.8, 4.2, 5.1, 5.7, 7.3, 10.9, 7.4, 13.1, 11.4, 25.4, 14.8, 7.2, 6.3, 7.8, 3.8, 4.1, 3.7, 10.4, 14.0, 12.1, 11.9, 10.8, 12.4, 10.0, 5.2, 6.9, 5.3, 9.6, 8.7, 11.2, 13.4, 14.7, 11.6, 7.6, 14.4, 6.1, 19.6, 15.9, 14.5, 10.4, 11.5, 13.9, 14.2, 13.9, 7.9, 11.2, 11.2, 10.9, 12.4, 12.0, 11.9, 7.1, 10.7, 9.7, 5.8, 8.6, 10.9, 11.2, 11.4, 9.6, 5.4, 17.0, 9.9, 6.2, 14.9, 3.8, 15.7, 6.8, 20.8, 11.4, 17.0, 6.4, 18.3, 4.8, 16.2, 12.4, 4.6, 15.2, 6.6, 4.8, 6.3, 8.6, 4.8, 8.0, 6.8, 7.6, 2.7, 5.5, 4.8, 18.5, 8.9, 8.3, 9.6, 11.8, 13.5, 19.3, 9.1, 6.3, 6.6, 7.0, 4.1, 13.3, 5.3, 12.1, 18.0, 12.0, 5.6, 3.7, 8.6, 6.6, 4.7, 8.6, 6.5, 16.1, 19.3, 17.9, 4.9, 10.5, 7.1, 9.6, 15.3, 5.8, 6.3, 24.5, 7.6, 6.2, 12.4, 8.8, 6.1, 5.4, 7.1, 10.0, 6.9, 6.6, 11.8, 9.3, 18.0, 19.0, 4.9, 14.8, 6.5, 4.9, 5.2, 5.4, 4.9, 8.2, 7.8, 8.4, 10.9, 10.4, 11.8, 8.5, 7.7, 11.5, 18.2, 10.4, 8.3, 10.9, 13.7, 20.2, 6.9, 15.1, 3.7, 18.4, 9.5, 6.2, 8.4, 14.7, 5.9, 14.7, 8.3, 8.9, 7.0, 13.7, 8.8, 9.5, 5.9, 5.0, 11.3, 11.2, 11.8, 10.2, 8.8, 16.3, 12.9, 8.0, 8.0, 13.2, 6.9, 11.4, 13.2, 6.5, 16.3, 10.5, 6.4, 5.9, 6.2, 5.6, 6.5, 14.1, 10.5, 6.1, 12.4, 20.2, 5.6, 9.9, 14.4, 13.8, 23.5, 13.1, 11.6, 8.2, 7.1, 5.3, 7.4, 5.7, 11.8, 15.0, 5.5, 6.5, 6.3, 6.6, 6.1, 6.0, 6.1, 13.0, 14.9, 7.8, 6.1, 6.5, 5.0, 9.9, 7.2, 8.1, 6.7, 6.1, 11.1, 4.8, 22.2, 5.9, 10.7, 21.0, 15.5, 13.8, 12.0, 5.1, 4.1, 5.3, 5.9, 5.9, 15.4, 11.2, 14.0, 15.4, 5.8, 4.7, 4.2, 7.2, 4.9, 4.5, 5.6, 18.3, 14.7, 22.2, 17.7, 11.8, 12.8, 16.1, 6.1, 6.8, 6.0, 25.6, 13.1, 14.8, 17.8, 7.3, 12.6, 7.0, 6.7, 7.0, 15.3, 12.9, 5.8, 5.6, 6.3, 4.9, 7.3, 11.9, 5.6, 6.9, 4.2, 5.0, 10.5, 5.5, 13.6, 19.7, 5.6, 5.7, 5.3, 6.0, 10.0, 6.3, 17.0, 12.1, 6.0, 7.9, 15.1, 17.2, 5.5, 7.7, 11.9, 11.5, 12.4, 3.6, 14.4, 6.2, 9.2, 11.3, 5.1, 5.8, 6.2, 4.7, 13.5, 21.1, 15.0, 11.7, 6.2, 9.1, 2.9, 11.4, 11.7, 17.9, 12.8, 8.0, 10.7, 19.7, 9.4, 5.1, 8.7, 6.9, 9.7, 7.0, 13.3, 6.6, 6.7, 8.2, 16.3, 15.2, 9.6, 16.1, 15.1, 8.8, 6.0, 7.4, 3.8, 4.4, 7.5, 19.5, 15.0, 5.5, 4.8, 8.8, 4.8, 4.8, 4.7, 7.3, 22.0, 9.3, 5.6, 6.1, 10.8, 8.2, 9.2, 6.5, 12.6, 9.8, 10.4, 6.8, 8.7, 6.7, 15.4, 7.9, 8.1, 10.3, 11.9, 14.8, 8.8, 8.1, 15.5, 11.3, 5.5, 9.1, 8.7, 9.5, 12.6, 8.1, 6.7, 18.7, 5.2, 6.1, 3.5, 4.9, 5.4, 6.9, 15.9, 16.2, 15.7, 6.2, 18.4, 7.5, 7.2, 8.7, 9.3, 5.6, 19.0, 9.3, 13.3, 5.8, 4.3, 6.1, 5.0, 14.1, 7.6, 5.1, 6.8, 7.6, 8.4, 8.2, 18.9, 12.5, 12.4, 23.1, 5.9, 30.3, 5.0, 11.3, 5.1, 12.2, 10.2, 15.4, 14.3, 8.1, 11.6, 9.3, 7.9, 6.9, 5.1, 15.4, 14.0, 13.3, 11.0, 9.7, 11.1, 14.2, 4.6, 17.4, 12.7, 14.1, 11.7, 14.1, 11.4, 12.2, 10.2, 11.5, 8.5, 14.3, 9.3, 9.0, 9.7, 7.3, 6.2, 6.5, 5.9, 8.2, 12.3, 12.4, 12.2, 8.4, 10.1, 9.3, 15.6, 6.5, 5.0, 5.7, 12.0, 5.5, 9.7, 10.4, 17.2, 12.0, 17.2, 8.0, 21.7, 21.7, 18.5, 5.0, 17.2, 10.1, 7.1, 6.7, 7.9, 6.3, 4.3, 11.0, 9.6, 23.8, 2.7, 9.1, 7.5, 3.8, 10.6, 9.0, 14.1, 5.3, 4.6, 18.5, 8.3, 7.2, 9.8, 10.1, 13.1, 4.4, 5.3, 13.8, 22.6, 11.6, 10.8, 5.8, 5.6, 4.3, 13.4, 6.0, 9.1, 2.0, 2.3, 1.9, 18.2, 17.8, 19.4, 11.3, 5.6, 3.3, 4.1, 9.9, 8.9, 5.1, 7.3, 4.8, 17.2, 14.4, 17.1, 21.1, 10.9, 5.4, 4.3, 10.8, 8.3, 19.4, 14.2, 6.5, 25.2, 9.0, 7.5, 7.1, 7.9, 7.3, 13.6, 6.1, 15.3, 4.9, 5.7, 17.0, 9.9, 4.2, 5.3, 3.6, 9.5, 9.6, 9.4, 6.2, 19.7, 14.9, 5.9, 7.2, 5.3, 4.2, 5.5, 7.9, 4.6, 5.1, 6.0, 11.4, 8.4, 5.6, 5.7, 5.4, 10.5, 17.4, 10.8, 5.1, 10.3, 10.2, 5.5, 13.2, 13.7, 11.7, 21.8, 9.6, 4.7, 18.7, 6.4, 7.4, 8.1, 7.4, 5.8, 7.0, 13.3, 8.7, 14.8, 7.6, 13.4, 11.8, 12.2, 11.2, 6.8, 5.5, 6.8, 8.8, 9.7, 5.3, 15.3, 13.4, 12.8, 15.3, 9.0, 6.1, 15.3, 8.3, 7.8, 7.5, 8.2, 12.8, 6.2, 6.8, 4.7, 6.4, 7.4, 13.6, 14.4, 7.3, 11.8, 23.5, 16.1, 12.2, 12.2, 12.4, 8.3, 7.6, 7.6, 5.0, 0.0, 13.1, 4.4, 12.6, 16.8, 6.9, 5.9, 5.7, 6.6, 12.3, 12.7, 18.6, 10.0, 7.6, 7.5, 7.4, 12.5, 14.8, 5.0, 24.2, 6.6, 9.5, 17.4, 13.2, 8.4, 5.6, 5.8, 5.5, 6.2, 16.4, 6.7, 12.7, 14.1, 13.7, 15.2, 5.3, 6.0, 5.3, 5.7, 17.8, 9.8, 10.8, 11.3, 8.0, 7.7, 7.4, 16.3, 7.6, 8.1, 6.2, 15.2, 9.6, 12.3, 19.5, 7.2, 11.7, 6.7, 6.0, 15.2, 11.8, 16.6, 6.0, 5.3, 10.9, 5.1, 5.7, 12.7, 12.5, 14.1, 6.4, 6.5, 6.3, 18.1, 7.2, 6.3, 10.7, 5.7, 19.8, 13.4, 8.1, 12.5, 17.0, 4.4, 7.8, 11.7, 13.1, 7.0, 8.5, 7.4, 6.7, 10.7, 6.6, 5.2, 5.0, 10.3, 9.8, 8.3, 12.9, 21.4, 15.9, 14.1, 18.0, 12.7, 14.4, 8.7, 13.1, 13.2, 12.9, 19.2, 16.5, 11.7, 7.2, 13.1, 10.5, 17.7, 14.0, 10.6, 4.0, 7.1, 10.4, 8.9, 14.3, 5.7, 5.4, 6.5, 8.7, 7.1, 9.7, 16.2, 15.6, 15.8, 15.1, 11.1, 10.0, 13.3, 14.9, 11.1, 16.0, 13.3, 7.0, 10.2, 4.5, 8.8, 9.7, 5.8, 3.7, 6.5, 16.3, 19.2, 17.8, 5.8, 6.7, 4.4, 9.4, 9.7, 10.4, 6.4, 5.9, 6.5, 5.0, 10.0, 7.2, 5.6, 6.7, 9.8, 17.0, 10.4, 9.3, 3.8, 5.6, 3.3, 4.9, 6.2, 12.2, 6.5, 6.9, 7.1, 13.6, 6.2, 16.2, 5.7, 8.0, 5.9, 8.7, 10.2, 14.0, 3.1, 7.0, 6.2, 4.5, 4.4, 7.9, 5.9, 16.9, 9.3, 19.4, 8.3, 13.0, 4.6, 8.3, 8.1, 6.2, 17.0, 8.1, 6.1, 6.2, 6.5, 7.0, 4.8, 7.6, 13.0, 17.1, 9.6, 5.9, 24.0, 6.3, 22.4, 5.1, 5.1, 5.1, 8.9, 10.7, 7.4, 12.0, 7.0, 6.2, 9.4, 8.3, 16.2, 10.0, 6.1, 6.6, 4.8, 11.2, 12.9, 13.2, 8.0, 14.3, 10.0, 15.3, 15.6, 17.6, 14.0, 14.3, 5.6, 13.8, 9.6, 11.1, 10.8, 16.9, 16.0, 10.0, 7.0, 4.4, 7.3, 6.0, 9.4, 4.3, 5.5, 10.8, 9.9, 8.6, 8.4, 4.7, 16.0, 7.7, 6.9, 6.9, 13.9, 4.3, 4.6, 3.7, 14.3, 9.3, 7.4, 17.1, 9.0, 17.2, 11.5, 5.6, 7.1, 4.5, 7.2, 19.2, 7.0, 55.9, 4.5, 4.1, 7.3, 21.5, 6.9, 7.1, 6.6, 6.4, 6.3, 6.3, 8.8, 6.0, 10.8, 12.6, 4.9, 5.0, 10.3, 8.4, 11.7, 8.0, 12.0, 8.4, 5.7, 14.1, 5.6, 22.2, 11.7, 8.2, 8.9, 6.2, 15.1, 14.2, 13.7, 19.4, 9.6, 13.8, 4.7, 6.2, 6.7, 5.1, 16.9, 11.5, 5.0, 4.2, 5.9, 6.2, 2.9, 19.2, 9.2, 7.8, 11.4, 3.5, 7.4, 7.2, 7.8, 10.3, 9.4, 12.5, 9.0, 4.2, 16.5, 15.3, 21.3, 17.7, 10.8, 5.3, 0.0, 6.5, 19.7, 15.6, 6.0, 7.4, 9.8, 18.5, 26.2, 7.3, 7.8, 11.2, 13.6, 6.0, 19.4, 8.0, 8.6, 6.7, 5.9, 9.5, 6.3, 18.7, 14.6, 6.3, 3.4, 6.1, 9.3, 4.0, 5.4, 5.7, 7.8, 10.8, 11.3, 8.9, 9.2, 8.3, 5.9, 14.2, 19.0, 13.1, 8.6, 4.1, 12.4, 18.8, 13.2, 4.4, 17.0, 6.2, 10.7, 5.5, 7.7, 13.1, 8.1, 17.4, 7.6, 12.0, 12.6, 11.0, 9.9, 8.6, 13.0, 5.3, 5.8, 4.4, 4.3, 7.0, 9.0, 8.6, 9.6, 5.7, 8.5, 9.6, 7.8, 10.9, 15.3, 9.3, 9.5, 8.6, 13.1, 5.7, 5.8, 5.4, 10.4, 6.8, 6.9, 7.7, 12.7, 15.2, 5.8, 5.8, 5.7, 0.0, 12.7, 10.1, 22.2, 12.8, 8.5, 7.6, 5.0, 8.5, 6.4, 10.2, 7.4, 8.4, 9.8, 3.2, 9.6, 7.1, 5.7, 13.1, 16.7, 12.3, 15.2, 11.7, 10.3, 7.3, 6.8, 8.0, 8.8, 11.6, 8.6, 12.0, 5.2, 26.5, 6.7, 8.5, 23.6, 6.6, 8.8, 10.8, 7.4, 10.9, 5.9, 19.3, 10.7, 8.9, 7.7, 5.5, 5.4, 9.8, 19.8, 11.1, 15.0, 13.0, 7.4, 6.6, 0.0, 6.5, 13.2, 9.0, 9.2, 18.6, 9.7, 14.0, 6.7, 15.4, 10.6, 13.5, 11.1, 5.2, 6.7, 4.8, 6.0, 6.3, 6.3, 6.1, 15.4, 6.2, 7.4, 7.4, 6.4, 18.7, 8.4, 4.6, 6.7, 12.1, 6.4, 4.2, 18.3, 18.5, 18.4, 18.2, 5.0, 19.1, 9.1, 11.0, 11.8, 4.5, 15.5, 14.5, 6.8, 7.0, 6.5, 14.6, 6.5, 12.1, 7.4, 6.0, 5.6, 16.0, 19.4, 19.8, 12.8, 5.8, 10.6, 11.7, 18.8, 7.7, 12.8, 19.4, 12.3, 8.6, 13.6, 10.0, 18.5, 17.2, 17.4, 13.6, 11.9, 4.9, 7.5, 8.4, 0.0, 9.5, 6.4, 8.2, 7.6, 9.7, 11.0, 9.4, 12.5, 15.6, 13.9, 14.4, 7.4, 11.4, 16.2, 14.7, 6.3, 9.2, 8.8, 10.0, 17.7, 15.9, 15.0, 8.6, 6.0, 6.0, 5.9, 11.2, 3.9, 9.9, 21.7, 6.2, 8.4, 4.7, 5.3, 3.1, 6.7, 9.9, 8.8, 8.1, 17.8, 12.9, 9.9, 11.3, 4.7, 8.3, 12.1, 13.0, 6.5, 4.5, 9.4, 6.4, 10.5, 18.1, 4.0, 6.5, 1.2, 7.0, 12.9, 28.2, 15.6, 9.0, 5.2, 5.4, 16.0, 4.2, 4.3, 4.2, 7.2, 6.2, 18.4, 6.7, 7.6, 20.0, 6.5, 12.8, 10.5, 4.1, 10.1, 6.8, 19.2, 19.1, 19.3, 9.2, 9.5, 8.5, 4.7, 4.9, 6.0, 6.8, 15.3, 10.4, 7.7, 7.7, 25.4, 6.9, 16.8, 10.0, 11.4, 13.3, 11.3, 12.4, 7.7, 12.1, 5.0, 11.1, 15.3, 15.2, 14.7, 16.0, 16.0]}, {\"fillcolor\": \"rgba(255, 65, 54, 0.5)\", \"line\": {\"width\": 1}, \"marker\": {\"size\": 2}, \"name\": \"AST%\", \"type\": \"box\", \"whiskerwidth\": 0.2, \"y\": [19.8, 6.6, 14.2, 11.6, 8.9, 7.9, 6.0, 15.0, 30.3, 0.0, 2.6, 4.7, 18.9, 14.8, 13.5, 15.5, 9.6, 9.2, 23.8, 7.4, 6.7, 6.3, 7.5, 14.6, 4.6, 14.5, 9.3, 13.5, 24.1, 7.5, 10.1, 12.3, 9.4, 18.4, 8.5, 5.9, 11.1, 27.4, 8.5, 14.9, 34.1, 1.9, 11.8, 8.8, 21.6, 4.5, 10.2, 10.0, 10.3, 9.8, 8.1, 7.2, 16.2, 7.6, 8.8, 7.7, 10.7, 22.6, 9.3, 10.1, 12.0, 5.0, 24.1, 23.6, 24.7, 13.7, 11.2, 15.0, 9.5, 5.0, 18.0, 18.2, 18.0, 9.4, 7.5, 7.1, 7.2, 17.4, 9.3, 26.5, 22.7, 28.9, 19.7, 12.3, 5.3, 9.1, 4.8, 9.1, 9.9, 5.9, 17.7, 16.1, 3.8, 15.6, 11.0, 7.1, 33.4, 12.6, 15.2, 5.2, 4.3, 5.8, 6.3, 27.7, 8.9, 6.5, 24.2, 5.0, 19.0, 6.0, 8.1, 31.9, 35.7, 31.3, 27.6, 5.1, 4.4, 10.3, 25.6, 9.7, 10.4, 13.7, 7.2, 9.2, 30.0, 26.2, 8.3, 7.8, 8.6, 18.4, 4.7, 4.1, 6.7, 8.3, 13.7, 24.1, 8.0, 4.8, 17.0, 6.9, 10.6, 17.6, 33.2, 3.3, 19.5, 13.2, 7.3, 22.2, 22.6, 21.2, 14.7, 17.7, 7.3, 15.2, 17.8, 9.6, 32.1, 16.6, 9.4, 6.5, 4.2, 22.4, 7.7, 26.8, 5.8, 6.5, 4.3, 9.2, 27.1, 39.5, 12.5, 11.0, 11.9, 12.5, 12.5, 12.6, 14.1, 7.0, 4.0, 18.4, 10.1, 11.5, 11.9, 14.0, 16.2, 13.3, 7.6, 19.3, 31.8, 8.1, 9.1, 7.1, 11.7, 7.9, 10.0, 11.5, 7.1, 21.2, 5.9, 2.6, 14.5, 5.3, 7.7, 16.8, 26.1, 12.9, 35.0, 5.7, 7.9, 8.0, 14.1, 8.1, 8.0, 8.4, 24.7, 39.4, 2.0, 17.0, 10.6, 9.4, 15.1, 15.9, 14.9, 18.6, 8.7, 28.3, 11.6, 9.5, 18.2, 20.7, 12.9, 12.1, 13.1, 9.9, 12.3, 7.4, 6.8, 14.4, 10.6, 15.1, 6.0, 10.7, 10.5, 8.9, 10.1, 8.6, 6.0, 11.5, 11.9, 22.6, 5.6, 12.8, 15.1, 11.4, 4.5, 8.6, 16.4, 11.8, 23.2, 30.6, 10.9, 5.7, 8.8, 12.8, 34.8, 11.3, 6.5, 6.3, 5.8, 6.7, 7.2, 11.1, 11.6, 12.9, 10.1, 9.2, 4.9, 9.8, 13.8, 7.1, 4.8, 10.3, 4.0, 3.4, 13.2, 22.3, 12.0, 20.1, 10.4, 2.1, 10.6, 9.2, 21.2, 14.3, 9.5, 7.5, 8.8, 9.6, 6.8, 21.7, 11.7, 24.2, 22.4, 7.7, 7.9, 7.1, 10.9, 10.1, 28.5, 3.8, 22.2, 28.7, 10.1, 20.6, 5.9, 19.5, 8.1, 10.0, 22.4, 5.1, 6.3, 18.7, 6.9, 25.2, 11.4, 12.1, 14.1, 13.2, 15.4, 4.6, 18.7, 39.3, 21.8, 22.4, 20.0, 33.5, 45.1, 14.1, 19.5, 10.0, 10.6, 9.6, 13.0, 8.8, 9.2, 8.4, 10.7, 11.6, 11.1, 17.5, 15.8, 17.9, 11.5, 11.2, 11.7, 4.4, 5.1, 8.3, 4.2, 35.5, 26.4, 9.9, 17.7, 32.1, 41.3, 18.2, 5.3, 6.4, 8.1, 4.6, 6.1, 15.3, 9.0, 7.4, 11.5, 14.6, 34.2, 13.7, 19.1, 12.3, 6.7, 8.0, 6.3, 8.0, 6.2, 15.6, 10.0, 37.6, 7.4, 6.7, 9.4, 10.5, 6.0, 10.5, 11.2, 7.2, 5.5, 17.2, 23.6, 8.0, 5.9, 23.9, 11.1, 7.4, 16.4, 29.4, 10.3, 39.2, 22.5, 6.6, 46.5, 21.0, 5.6, 10.9, 4.9, 9.5, 6.1, 3.3, 21.9, 4.8, 4.6, 4.9, 21.6, 16.8, 26.9, 12.0, 40.5, 12.1, 6.7, 10.6, 6.2, 9.1, 7.3, 10.9, 8.7, 10.1, 5.5, 8.2, 9.3, 5.5, 8.3, 13.3, 9.2, 10.9, 8.1, 6.1, 6.1, 7.2, 10.9, 5.4, 13.1, 18.0, 1.8, 11.1, 9.3, 5.5, 4.3, 2.2, 14.9, 11.3, 6.9, 7.2, 13.0, 13.4, 12.8, 8.6, 20.5, 21.0, 4.9, 8.6, 15.0, 11.5, 10.3, 8.7, 17.2, 2.0, 5.6, 3.1, 6.8, 2.6, 26.2, 27.9, 15.4, 7.1, 9.0, 12.0, 8.9, 6.4, 13.8, 18.6, 11.5, 24.2, 24.9, 7.4, 8.0, 3.2, 3.1, 3.4, 25.0, 15.2, 7.3, 14.4, 6.5, 0.0, 6.8, 18.7, 12.6, 22.7, 3.6, 8.3, 11.1, 37.3, 40.9, 30.8, 11.8, 21.0, 5.3, 8.9, 9.7, 9.7, 9.9, 23.8, 22.2, 22.9, 21.2, 27.2, 11.6, 28.0, 9.9, 17.0, 20.4, 9.8, 8.1, 14.9, 8.6, 6.5, 9.0, 4.4, 16.4, 15.6, 38.6, 8.6, 9.2, 5.9, 13.4, 7.0, 11.6, 8.3, 1.6, 21.1, 9.9, 17.0, 17.9, 10.5, 34.9, 4.4, 20.0, 3.9, 11.5, 9.7, 22.2, 9.1, 10.2, 20.5, 7.2, 27.3, 37.5, 25.6, 7.9, 32.7, 16.6, 2.5, 7.1, 18.0, 9.4, 21.9, 11.5, 17.0, 39.4, 40.4, 36.7, 17.2, 7.4, 9.4, 17.6, 19.7, 14.4, 19.0, 5.8, 5.7, 6.0, 11.8, 6.9, 8.2, 8.6, 12.6, 6.3, 17.6, 6.5, 4.4, 9.4, 10.3, 16.1, 15.1, 10.9, 4.0, 0.0, 4.7, 8.8, 7.9, 9.5, 26.2, 8.2, 2.8, 34.6, 20.4, 5.9, 7.7, 8.8, 7.4, 10.0, 11.3, 21.7, 15.6, 7.8, 7.4, 12.0, 31.4, 9.5, 11.9, 13.8, 34.9, 10.1, 5.0, 13.2, 18.6, 7.3, 6.7, 4.2, 14.6, 16.8, 25.0, 27.3, 34.8, 24.5, 51.2, 38.6, 11.6, 4.8, 7.0, 7.0, 39.9, 9.0, 9.2, 8.7, 9.4, 11.4, 17.1, 6.3, 11.3, 8.6, 5.4, 4.2, 6.9, 3.2, 19.7, 7.8, 4.8, 3.8, 6.4, 12.3, 10.9, 8.2, 8.5, 27.4, 28.6, 21.6, 12.1, 4.3, 10.9, 3.6, 19.4, 7.5, 24.0, 43.0, 9.8, 13.7, 3.1, 13.0, 5.8, 8.8, 29.0, 28.6, 24.2, 4.5, 5.1, 10.7, 32.4, 28.6, 4.4, 11.5, 31.1, 8.0, 12.5, 10.8, 9.8, 2.1, 21.3, 10.3, 3.0, 4.6, 2.0, 0.8, 5.8, 8.4, 17.5, 8.8, 42.2, 12.7, 34.5, 34.1, 34.9, 9.0, 9.8, 7.1, 12.7, 9.7, 15.4, 3.6, 11.7, 10.4, 0.0, 10.2, 12.4, 5.2, 4.3, 2.7, 5.6, 9.6, 8.0, 19.9, 14.5, 14.9, 13.1, 27.8, 22.8, 37.4, 30.3, 7.3, 23.0, 9.8, 6.2, 8.6, 9.3, 7.7, 10.4, 7.1, 11.3, 19.3, 12.2, 16.2, 15.8, 9.5, 28.7, 11.4, 10.7, 47.4, 6.4, 0.0, 6.6, 32.6, 6.3, 6.1, 7.2, 11.9, 7.0, 4.2, 3.9, 6.0, 7.7, 7.5, 7.8, 6.8, 5.5, 0.0, 5.7, 28.0, 24.4, 21.5, 20.4, 23.5, 10.3, 8.9, 14.3, 10.3, 0.0, 11.4, 14.7, 16.7, 12.8, 7.4, 20.3, 7.0, 4.1, 9.0, 25.7, 26.4, 23.2, 7.6, 3.4, 11.7, 39.3, 49.3, 34.0, 30.7, 6.5, 43.5, 5.4, 7.4, 12.0, 6.3, 11.0, 10.9, 11.2, 23.0, 22.7, 23.4, 14.2, 21.3, 9.3, 10.7, 7.3, 7.9, 5.4, 27.5, 16.3, 3.4, 13.5, 20.5, 24.7, 17.8, 19.4, 9.6, 27.3, 6.8, 9.9, 11.8, 9.0, 25.4, 5.2, 20.2, 14.2, 37.9, 11.0, 13.8, 27.2, 23.6, 35.2, 7.4, 6.3, 7.9, 8.4, 6.5, 14.6, 2.7, 8.2, 8.8, 3.9, 6.3, 5.2, 6.5, 30.0, 24.0, 4.7, 2.5, 32.1, 11.9, 15.6, 9.8, 27.1, 46.3, 5.1, 6.7, 20.1, 47.0, 1.0, 9.6, 9.8, 33.7, 5.6, 15.5, 16.1, 15.2, 7.8, 6.4, 4.4, 3.2, 14.0, 4.1, 10.2, 34.9, 5.6, 6.9, 12.4, 14.7, 8.0, 10.9, 10.8, 4.4, 31.9, 4.3, 9.9, 10.0, 8.1, 7.1, 6.9, 8.8, 4.4, 12.2, 3.7, 10.3, 6.8, 13.7, 6.1, 20.0, 21.9, 1.4, 10.0, 10.0, 9.6, 10.6, 7.8, 11.6, 14.4, 9.2, 26.9, 16.2, 6.6, 12.7, 15.6, 9.1, 11.1, 0.0, 17.9, 2.4, 11.4, 5.2, 31.8, 14.8, 15.8, 8.2, 12.1, 9.8, 13.1, 10.0, 26.0, 4.8, 9.2, 19.7, 13.9, 8.3, 21.4, 3.2, 7.8, 11.3, 5.1, 5.5, 8.9, 26.6, 7.5, 3.8, 6.0, 0.0, 15.3, 13.8, 22.0, 21.7, 9.6, 32.7, 9.9, 17.0, 8.4, 7.2, 14.0, 8.9, 5.6, 14.2, 33.7, 7.6, 10.0, 7.7, 2.7, 26.2, 9.0, 20.8, 18.4, 10.1, 20.9, 19.1, 4.4, 11.4, 8.1, 24.2, 5.0, 7.8, 22.2, 10.1, 7.6, 10.3, 21.9, 1.2, 34.6, 5.8, 8.1, 20.6, 8.9, 20.3, 12.8, 14.1, 15.6, 11.3, 33.3, 21.3, 40.3, 8.7, 8.4, 9.1, 11.8, 15.7, 18.9, 21.7, 8.0, 6.2, 20.3, 8.3, 7.4, 17.2, 10.3, 12.7, 7.5, 10.4, 21.8, 9.3, 29.0, 5.6, 7.7, 10.0, 10.5, 8.9, 27.2, 35.4, 7.2, 14.5, 9.5, 18.2, 10.6, 9.3, 12.9, 3.0, 7.6, 16.3, 18.2, 8.2, 9.0, 11.2, 8.0, 14.1, 15.5, 9.5, 9.6, 10.9, 37.3, 10.7, 5.9, 13.2, 10.1, 8.0, 14.4, 16.7, 7.0, 33.9, 0.0, 6.6, 5.0, 14.8, 6.9, 3.9, 16.3, 12.1, 26.6, 35.0, 36.3, 36.0, 11.8, 6.4, 11.7, 7.6, 14.4, 29.2, 25.7, 32.4, 7.4, 11.4, 11.4, 18.0, 18.0, 17.9, 10.8, 13.9, 4.4, 7.3, 4.5, 6.3, 27.7, 5.3, 19.3, 9.0, 3.1, 4.5, 6.9, 7.3, 8.0, 5.4, 8.4, 24.4, 9.9, 3.3, 10.9, 11.1, 9.1, 18.6, 24.6, 22.3, 36.1, 9.1, 8.1, 10.9, 15.5, 18.3, 12.5, 8.5, 13.0, 10.6, 9.6, 33.6, 18.6, 21.0, 0.0, 10.8, 8.5, 12.2, 29.9, 7.1, 30.6, 36.9, 29.3, 8.9, 6.4, 8.2, 8.8, 6.4, 8.9, 3.3, 9.2, 18.5, 17.7, 19.5, 21.6, 3.7, 5.0, 6.0, 1.5, 7.9, 20.9, 19.1, 22.3, 19.4, 11.3, 3.9, 2.6, 18.9, 14.9, 16.4, 13.2, 12.1, 11.0, 12.7, 16.1, 8.2, 3.7, 3.9, 29.0, 5.2, 9.1, 23.1, 9.2, 27.3, 18.7, 4.8, 24.2, 10.5, 4.9, 0.0, 0.0, 0.0, 10.1, 5.4, 15.9, 8.2, 18.6, 11.9, 9.7, 8.9, 29.1, 16.0, 13.6, 7.1, 52.7, 8.9, 22.5, 32.8, 8.5, 16.2, 2.9, 7.9, 7.5, 7.2, 10.4, 40.7, 43.2, 37.0, 17.9, 21.8, 11.0, 12.9, 9.7, 10.6, 4.0, 18.6, 18.7, 18.5, 7.7, 7.7, 48.0, 25.5, 5.3, 16.5, 41.4, 7.0, 21.2, 6.8, 10.5, 8.8, 22.0, 9.8, 10.4, 5.1, 3.2, 15.8, 8.6, 15.9, 14.3, 17.7, 6.9, 11.4, 7.9, 12.0, 16.2, 13.1, 19.2, 9.6, 12.3, 17.2, 15.5, 34.4, 10.0, 12.4, 32.7, 6.4, 7.4, 8.5, 13.9, 5.3, 9.8, 4.0, 12.9, 12.8, 13.4, 5.6, 7.0, 11.3, 23.9, 5.0, 24.9, 36.4, 22.5, 5.5, 3.7, 27.4, 10.0, 25.7, 46.2, 18.6, 17.6, 72.3, 15.4, 49.6, 2.4, 10.1, 11.7, 29.3, 8.9, 12.4, 7.6, 7.4, 5.0, 3.5, 7.2, 4.7, 22.5, 23.3, 6.0, 5.4, 9.5, 6.3, 6.6, 4.9, 0.0, 5.4, 5.4, 7.4, 6.4, 9.9, 9.1, 8.4, 7.9, 8.8, 7.6, 10.4, 12.4, 4.7, 26.6, 14.5, 8.8, 9.3, 4.8, 17.3, 22.8, 13.0, 7.7, 15.7, 16.3, 13.7, 17.7, 27.7, 29.4, 3.9, 14.2, 16.2, 10.2, 9.9, 13.1, 5.5, 18.8, 6.0, 9.6, 5.3, 31.1, 12.3, 12.3, 6.3, 16.3, 12.9, 11.0, 10.7, 9.0, 15.0, 24.3, 20.7, 7.6, 5.9, 23.0, 17.6, 7.2, 8.8, 20.7, 7.5, 24.8, 15.1, 11.2, 9.0, 6.7, 5.7, 11.5, 20.0, 8.6, 10.1, 0.0, 6.8, 9.4, 3.3, 9.8, 5.2, 11.2, 14.4, 24.5, 13.2, 34.5, 12.7, 22.8, 25.7, 20.7, 25.8, 27.4, 20.6, 7.5, 6.1, 15.2, 22.7, 10.1, 3.2, 16.0, 31.2, 6.6, 11.1, 1.3, 4.6, 4.8, 7.7, 23.1, 25.7, 7.0, 20.6, 3.2, 8.6, 20.3, 6.0, 12.5, 8.6, 7.5, 9.5, 19.4, 23.1, 0.0, 7.2, 7.1, 17.2, 16.0, 6.5, 21.7, 24.5, 20.3, 25.9, 31.3, 17.7, 14.1, 6.3, 7.9, 22.7, 16.3, 23.2, 16.9, 24.1, 6.0, 11.7, 14.8, 31.4, 4.9, 9.1, 9.4, 8.8, 11.2, 24.8, 14.7, 14.1, 7.9, 16.1, 8.3, 18.8, 5.9, 6.5, 4.2, 5.7, 10.5, 12.3, 6.8, 4.7, 4.2, 0.0, 4.3, 17.4, 9.6, 27.6, 9.8, 6.3, 8.1, 24.5, 7.3, 50.7, 9.6, 20.0, 13.6, 7.3, 8.8, 22.6, 20.0, 6.4, 16.5, 16.1, 17.7, 18.2, 10.5, 7.7, 9.6, 10.3, 10.3, 10.3, 8.6, 22.8, 8.1, 12.3, 35.9, 9.2, 13.4, 8.3, 10.1, 24.4, 7.8, 15.5, 5.2, 5.9, 3.3, 16.7, 17.2, 10.5, 29.7, 20.3, 28.2, 30.3, 41.3, 11.0, 6.6, 30.4, 28.6, 37.2, 8.1, 13.0, 18.6, 20.9, 12.6, 10.5, 16.6, 3.9, 0.0, 28.0, 5.7, 20.0, 13.5, 7.9, 7.4, 14.6, 17.8, 9.4, 12.6, 6.1, 5.3, 10.3, 11.3, 10.8, 10.3, 12.2, 12.6, 29.9, 6.2, 10.6, 4.2, 18.9, 8.4, 8.6, 13.7, 9.2, 9.5, 0.0, 28.7, 35.5, 13.5, 8.5, 14.8, 5.6, 9.8, 29.9, 9.5, 7.0, 20.4, 4.7, 6.2, 2.2, 13.6, 3.1, 5.2, 9.0, 18.0, 4.4, 4.9, 0.0, 5.9, 6.5, 4.4, 3.8, 8.8, 6.9, 18.9, 9.3, 2.4, 7.1, 17.5, 17.9, 17.3, 13.8, 9.4, 7.8, 5.9, 21.8, 3.7, 22.6, 14.0, 11.9, 19.5, 26.0, 15.1, 7.5, 4.1, 4.2, 4.0, 14.1, 8.1, 9.0, 7.0, 5.4, 10.6, 5.0, 12.7, 6.2, 21.6, 14.8, 5.8, 9.0, 12.5, 15.2, 7.8, 13.6, 9.0, 14.3, 27.8, 12.8, 6.6, 46.8, 8.0, 17.7, 18.3, 16.2, 35.7, 18.1, 5.0, 8.1, 19.8, 21.4, 15.9, 6.1, 8.2, 2.5, 2.7, 6.7, 5.7, 6.1, 9.3, 5.1, 16.9, 8.4, 21.1, 16.8, 13.2, 18.0, 19.3, 13.5, 3.9, 12.7, 8.7, 15.0, 4.6, 4.7, 37.0, 22.8, 7.1, 5.9, 9.0, 15.2, 38.9, 5.8, 26.8, 7.2, 0.0, 12.5, 9.9, 8.5, 3.0, 9.9, 24.2, 7.8, 2.9, 13.2, 3.2, 22.0, 5.0, 5.9, 8.0, 12.9, 24.8, 27.7, 11.2, 28.1, 0.0, 7.1, 36.4, 14.4, 9.9, 32.5, 5.0, 9.3, 4.6, 7.7, 13.2, 18.4, 6.6, 30.5, 9.3, 17.5, 7.4, 3.4, 22.3, 23.8, 29.1, 46.9, 15.0, 13.9, 15.4, 24.1, 57.3, 6.0, 17.7, 3.8, 10.6, 5.2, 35.9, 40.1, 25.9, 5.1, 5.6, 4.7, 7.1, 7.0, 7.2, 6.4, 15.5, 2.5, 6.0, 18.2, 2.6, 5.8, 8.4, 9.1, 12.2, 6.1, 8.1, 6.0, 5.5, 11.0, 8.2, 11.3, 5.4, 15.2, 5.8, 7.1, 14.7, 5.1, 0.0, 23.7, 6.5, 5.0, 15.5, 6.8, 9.3, 7.5, 15.5, 9.8, 29.2, 9.9, 18.5, 26.2, 8.0, 9.6, 20.1, 21.0, 7.4, 12.5, 11.9, 13.5, 9.3, 16.9, 8.9, 13.8, 8.5, 10.5, 6.5, 8.7, 10.1, 25.7, 17.9, 26.0, 9.1, 24.4, 0.0, 10.4, 10.5, 9.8, 5.0, 7.5, 8.1, 6.7, 16.3, 9.3, 25.9, 8.5, 12.4, 4.5, 11.5, 8.4, 36.4, 10.0, 20.6, 5.0, 16.7, 4.2, 9.4, 26.7, 0.0, 26.9, 5.7, 10.5, 9.7, 19.4, 17.8, 9.5, 13.7, 7.8, 6.6, 9.4, 8.1, 10.4, 19.3, 22.9, 12.0, 8.9, 7.1, 26.4, 22.2, 8.7, 16.6, 3.2, 23.0, 8.7, 8.4, 5.4, 16.9, 6.9, 6.0, 8.6, 4.3, 3.0, 7.6, 30.3, 4.5, 10.8, 7.1, 3.9, 9.2, 6.2, 27.4, 10.1, 25.0, 4.7, 7.5, 35.0, 12.5, 9.5, 0.0, 14.3, 15.6, 33.3, 25.5, 9.4, 5.9, 18.0, 6.6, 7.0, 5.9, 17.8, 31.2, 29.7, 5.8, 7.8, 22.5, 3.4, 13.5, 8.4, 7.8, 14.8, 24.6, 31.1, 7.9, 7.5, 9.5, 31.3, 8.9, 10.1, 21.7, 20.1, 9.8, 14.5, 22.6, 5.2, 6.9, 11.7, 11.7, 10.6, 7.8, 5.1, 30.1, 8.9, 29.0, 4.3, 8.3, 8.0, 28.1, 25.6, 31.5, 44.2, 45.1, 10.1, 16.9, 16.4, 17.7, 13.0, 10.2, 11.8, 9.9, 14.3, 21.3, 22.2, 7.6, 9.2, 0.0, 8.6, 10.0, 9.5, 12.8, 9.5, 15.0, 15.5, 14.0, 14.4, 24.9, 10.1, 3.9, 14.2, 12.3, 9.7, 10.4, 8.4, 15.8, 23.6, 9.4, 7.1, 4.4, 16.2, 22.9, 15.3, 17.7, 30.7, 4.8, 7.8, 15.9, 10.7, 35.1, 10.1, 7.2, 32.8, 44.4, 10.0, 5.7, 13.9, 7.2, 22.5, 8.5, 12.4, 5.6, 2.9, 3.5, 0.0, 3.9, 21.2, 7.1, 16.1, 11.0, 9.4, 12.7, 5.9, 6.4, 6.7, 11.6, 8.0, 9.7, 9.1, 15.4, 18.6, 9.4, 11.3, 11.2, 9.1, 17.7, 10.6, 5.3, 26.0, 30.9, 27.1, 16.8, 6.0, 11.6, 12.3, 9.8, 30.9, 10.1, 29.5, 6.6, 5.2, 6.4, 7.0, 12.3, 5.0, 10.6, 15.8, 6.5, 6.0, 7.5, 8.0, 8.4, 2.7, 7.5, 9.1, 7.2, 17.7, 7.5, 3.2, 13.9, 19.4, 16.9, 18.7, 10.2, 18.2, 20.5, 10.1, 13.3, 10.8, 8.2, 11.0, 41.2, 7.1, 4.8, 24.5, 24.1, 25.0, 20.2, 16.4, 7.3, 7.1, 14.6, 23.0, 14.0, 14.0, 6.3, 10.4, 20.0, 9.4, 12.0, 16.8, 2.4, 5.9, 5.8, 5.9, 21.2, 18.7, 8.7, 15.2, 11.2, 11.5, 0.0, 13.1, 28.2, 16.4, 6.1, 0.0, 40.9, 29.9, 34.9, 35.5, 33.7, 13.7, 12.2, 15.1, 14.4, 7.2, 5.4, 6.3, 10.1, 13.2, 8.5, 11.8, 2.6, 13.9, 2.1, 10.4, 15.8, 14.9, 7.6, 13.2, 5.6, 5.7, 0.0, 17.5, 6.0, 0.0, 6.8, 42.2, 13.6, 13.0, 15.2, 9.3, 17.5, 28.4, 35.7, 12.7, 3.9, 9.1, 6.3, 16.0, 8.1, 13.5, 37.4, 13.3, 16.5, 4.8, 23.7, 7.4, 0.0, 6.5, 11.1, 2.7, 11.9, 18.6, 0.0, 10.8, 8.3, 30.6, 11.3, 9.1, 27.1, 25.1, 28.8, 4.2, 11.2, 4.3, 7.8, 7.5, 10.8, 12.4, 7.0, 9.1, 28.0, 17.8, 22.8, 5.7, 3.8, 8.0, 23.5, 23.3, 23.9, 19.8, 27.4, 44.5, 11.8, 49.8, 9.3, 3.5, 19.6, 6.9, 8.2, 16.3, 7.0, 7.7, 8.6, 7.7, 13.0, 19.6, 10.0, 3.5, 8.5, 7.4, 6.7, 6.5, 7.0, 8.8]}, {\"fillcolor\": \"rgba(207, 114, 255, 0.5)\", \"line\": {\"width\": 1}, \"marker\": {\"size\": 2}, \"name\": \"STL%\", \"type\": \"box\", \"whiskerwidth\": 0.2, \"y\": [1.5, 2.0, 1.8, 0.8, 0.7, 1.0, 1.4, 2.1, 1.8, 8.8, 0.7, 1.6, 1.6, 1.8, 2.1, 1.7, 1.3, 0.8, 2.3, 0.8, 0.9, 1.0, 0.8, 0.7, 1.7, 1.5, 0.7, 2.5, 1.9, 1.4, 0.9, 1.2, 1.0, 1.5, 1.4, 0.7, 1.4, 2.4, 1.3, 3.5, 1.2, 1.8, 1.0, 0.9, 1.6, 2.7, 3.0, 4.0, 2.6, 2.5, 1.6, 0.6, 1.2, 1.5, 1.4, 1.7, 1.1, 1.1, 0.8, 1.0, 0.9, 1.4, 1.4, 1.5, 1.3, 1.4, 1.1, 1.3, 2.9, 1.2, 2.7, 3.2, 2.6, 0.9, 1.7, 1.0, 0.9, 2.2, 1.5, 2.6, 3.0, 2.4, 2.1, 2.0, 1.1, 1.1, 1.1, 1.0, 1.1, 0.6, 0.0, 1.5, 1.5, 1.3, 0.6, 0.9, 2.0, 1.2, 0.9, 2.9, 2.6, 3.1, 1.2, 1.3, 1.4, 1.2, 1.9, 1.6, 2.2, 1.2, 2.0, 0.8, 1.0, 0.8, 1.6, 1.5, 1.9, 2.2, 1.0, 1.5, 1.4, 1.9, 2.5, 1.4, 2.4, 1.0, 2.0, 2.2, 1.9, 1.0, 1.6, 2.0, 0.5, 0.9, 1.2, 1.0, 1.5, 1.0, 1.6, 1.7, 1.0, 1.4, 2.4, 1.1, 1.9, 1.1, 1.0, 1.7, 1.7, 1.8, 1.4, 2.8, 1.5, 1.8, 2.1, 1.2, 0.0, 1.1, 0.9, 0.9, 1.1, 2.3, 1.6, 2.2, 1.6, 1.8, 1.2, 1.0, 1.0, 2.7, 1.6, 1.6, 0.8, 0.8, 1.0, 0.6, 3.0, 1.7, 0.0, 1.6, 1.7, 2.3, 1.0, 1.9, 1.7, 1.9, 1.2, 1.6, 2.1, 2.3, 2.5, 2.1, 1.7, 1.7, 1.5, 1.5, 1.5, 1.4, 1.1, 1.4, 1.5, 1.2, 0.7, 1.8, 1.8, 0.7, 2.2, 1.4, 1.1, 1.0, 1.8, 0.9, 1.0, 0.8, 1.2, 1.7, 0.8, 1.5, 2.4, 2.5, 2.3, 1.7, 1.7, 1.6, 1.4, 2.5, 1.0, 1.0, 0.9, 2.2, 0.8, 0.9, 0.8, 1.3, 0.9, 1.3, 1.2, 1.4, 0.8, 1.5, 1.0, 2.0, 1.7, 0.9, 0.6, 1.0, 1.5, 0.8, 1.9, 1.3, 1.1, 2.4, 2.4, 2.4, 1.6, 0.8, 2.5, 0.7, 1.9, 1.5, 1.5, 1.0, 0.3, 0.5, 2.0, 1.3, 2.4, 1.0, 1.1, 1.0, 1.1, 1.3, 1.2, 0.9, 1.3, 2.8, 1.9, 2.9, 1.1, 0.7, 1.3, 1.1, 0.9, 1.8, 1.8, 3.3, 2.0, 1.6, 1.1, 0.7, 2.2, 1.4, 2.0, 1.4, 1.3, 1.0, 1.3, 1.3, 1.3, 1.8, 1.5, 1.3, 1.3, 0.8, 0.8, 0.7, 1.5, 1.4, 2.5, 1.3, 2.0, 1.4, 0.9, 1.4, 2.9, 1.6, 1.8, 1.5, 1.2, 0.8, 0.7, 1.6, 2.4, 2.6, 1.4, 1.2, 1.3, 1.1, 1.6, 0.9, 4.5, 3.0, 1.9, 1.8, 2.3, 1.6, 8.9, 1.4, 1.9, 1.1, 2.3, 2.5, 1.8, 1.3, 1.0, 1.5, 1.3, 1.7, 1.6, 1.6, 1.1, 1.5, 1.1, 1.2, 1.1, 1.5, 1.1, 1.6, 1.8, 1.9, 1.1, 1.6, 1.8, 2.3, 1.9, 1.3, 1.5, 0.9, 1.1, 0.7, 3.4, 0.8, 1.0, 1.0, 0.9, 1.4, 2.0, 0.3, 3.1, 0.9, 0.9, 1.5, 2.8, 1.6, 1.3, 2.8, 1.6, 1.6, 1.8, 1.6, 2.4, 1.1, 1.8, 1.5, 1.2, 2.1, 0.8, 1.3, 1.0, 1.4, 4.3, 1.6, 1.3, 1.1, 1.2, 1.7, 2.9, 2.1, 1.7, 1.1, 2.5, 1.9, 1.3, 1.3, 1.0, 1.9, 1.6, 1.5, 1.8, 1.3, 0.0, 1.7, 2.5, 2.5, 2.6, 2.4, 1.3, 1.5, 0.5, 0.0, 0.6, 0.6, 0.4, 0.9, 1.1, 3.4, 1.1, 0.8, 0.9, 0.6, 1.6, 2.0, 1.0, 0.7, 4.1, 2.6, 1.2, 1.7, 2.1, 1.0, 1.5, 1.5, 1.5, 2.6, 2.4, 1.1, 1.1, 1.6, 2.0, 0.1, 1.3, 1.5, 2.5, 2.4, 2.5, 1.1, 1.7, 1.8, 0.7, 2.0, 1.8, 1.6, 1.1, 1.5, 1.7, 0.7, 0.8, 0.8, 0.8, 2.0, 1.4, 2.3, 1.2, 0.5, 1.5, 1.4, 1.7, 1.8, 2.7, 4.0, 2.1, 1.5, 2.6, 2.1, 1.7, 1.5, 1.7, 0.7, 1.5, 1.0, 1.4, 2.3, 1.0, 0.0, 1.9, 1.5, 1.9, 1.3, 0.6, 2.2, 2.1, 2.6, 2.2, 3.4, 1.1, 2.7, 0.9, 1.2, 2.4, 2.0, 4.8, 1.8, 1.6, 1.9, 1.2, 2.2, 1.6, 2.1, 0.7, 1.3, 2.3, 2.5, 1.4, 1.8, 2.2, 2.9, 2.1, 1.5, 1.7, 0.0, 3.0, 1.4, 0.8, 0.0, 1.0, 1.1, 2.1, 1.4, 1.0, 0.9, 1.4, 1.8, 0.9, 1.6, 2.2, 2.3, 3.3, 1.5, 2.1, 1.1, 1.3, 2.0, 1.0, 2.8, 1.3, 2.2, 0.0, 2.6, 2.2, 2.0, 1.2, 0.7, 1.5, 1.9, 1.4, 2.0, 1.2, 1.6, 1.7, 1.8, 1.5, 1.5, 1.3, 1.6, 1.9, 1.4, 0.5, 1.5, 2.7, 2.7, 2.4, 2.8, 1.1, 1.6, 1.2, 1.7, 1.3, 1.3, 1.0, 1.1, 1.5, 2.2, 2.4, 1.5, 1.4, 1.6, 0.0, 1.9, 1.1, 1.2, 1.0, 1.4, 0.8, 1.5, 2.6, 2.3, 2.7, 0.7, 1.5, 1.1, 1.0, 2.0, 2.2, 1.1, 1.2, 0.5, 2.0, 1.8, 0.9, 1.4, 1.5, 2.5, 3.0, 0.7, 1.5, 1.5, 1.1, 1.3, 0.7, 2.1, 2.3, 2.2, 1.7, 1.4, 1.5, 1.2, 2.3, 1.2, 1.0, 1.3, 1.7, 1.9, 1.9, 2.0, 1.8, 1.1, 2.0, 1.1, 1.3, 2.9, 1.3, 1.0, 1.4, 1.0, 1.5, 1.6, 0.7, 0.9, 0.9, 0.8, 2.1, 1.2, 1.0, 2.1, 2.3, 2.5, 0.9, 1.1, 1.1, 1.7, 0.6, 2.6, 1.5, 1.4, 1.7, 1.7, 1.7, 1.1, 3.7, 0.6, 1.1, 1.7, 2.2, 1.6, 1.1, 0.5, 1.0, 2.3, 1.8, 1.3, 2.2, 2.6, 0.8, 1.3, 1.9, 2.1, 1.8, 1.6, 2.3, 0.6, 1.7, 0.4, 0.5, 0.0, 1.5, 2.1, 2.1, 2.4, 2.6, 1.3, 1.1, 1.5, 1.0, 3.0, 5.0, 0.9, 3.2, 2.8, 1.6, 1.9, 2.1, 0.0, 1.5, 2.0, 1.5, 0.8, 0.8, 0.8, 1.1, 1.6, 2.1, 1.0, 0.9, 1.4, 1.7, 1.3, 2.9, 1.8, 0.6, 1.2, 2.9, 4.5, 0.0, 0.0, 0.0, 0.9, 0.7, 1.9, 2.4, 2.3, 2.4, 1.8, 2.1, 1.2, 1.6, 1.4, 2.8, 1.3, 2.7, 1.3, 2.9, 0.7, 0.7, 0.6, 1.2, 1.9, 1.7, 1.7, 1.6, 0.6, 0.5, 0.6, 1.6, 1.9, 11.1, 1.6, 2.5, 3.5, 3.4, 3.4, 3.3, 1.1, 0.7, 1.3, 1.4, 0.0, 1.6, 1.6, 1.2, 1.9, 2.1, 1.3, 1.2, 1.4, 1.0, 1.7, 1.5, 2.4, 2.0, 2.1, 2.0, 2.3, 2.7, 2.1, 1.2, 1.3, 2.8, 0.9, 1.3, 1.7, 2.3, 1.5, 1.1, 2.8, 1.2, 1.0, 1.5, 2.7, 2.5, 2.9, 1.4, 1.4, 1.3, 1.5, 1.1, 2.7, 1.0, 0.9, 1.9, 2.1, 1.8, 2.4, 0.0, 4.3, 1.2, 0.8, 1.7, 0.9, 1.2, 2.1, 1.5, 1.4, 2.9, 2.9, 2.0, 1.6, 1.9, 1.1, 1.3, 1.2, 1.3, 1.6, 0.8, 1.7, 0.8, 1.9, 1.6, 3.7, 0.9, 0.7, 0.9, 1.8, 1.6, 1.1, 0.8, 2.0, 2.1, 2.9, 1.6, 2.2, 2.5, 2.6, 1.0, 1.3, 3.0, 1.2, 2.4, 1.5, 1.6, 1.2, 1.8, 2.5, 1.4, 1.8, 0.8, 1.7, 1.7, 0.6, 1.9, 1.7, 2.7, 1.2, 1.2, 2.6, 2.7, 2.4, 1.2, 0.5, 1.6, 10.3, 1.0, 0.5, 2.9, 0.9, 0.8, 3.5, 1.5, 1.9, 1.4, 2.0, 1.0, 1.5, 2.5, 0.9, 1.7, 1.3, 1.1, 2.8, 1.8, 0.6, 2.0, 1.0, 1.8, 1.5, 1.2, 1.3, 1.6, 0.9, 2.3, 1.5, 1.5, 1.1, 3.1, 2.3, 0.5, 1.2, 1.4, 2.9, 1.1, 1.0, 1.9, 1.0, 2.2, 2.0, 2.5, 1.4, 1.2, 1.2, 1.4, 1.2, 2.5, 2.2, 2.4, 2.0, 1.4, 2.0, 2.9, 1.9, 2.5, 1.4, 1.6, 1.1, 0.0, 1.4, 1.7, 1.5, 1.6, 1.1, 2.0, 0.7, 2.2, 2.7, 1.5, 1.2, 2.7, 1.1, 1.5, 3.0, 1.2, 1.8, 1.7, 1.6, 1.2, 1.6, 1.5, 1.0, 2.1, 1.0, 2.8, 2.3, 1.7, 1.0, 1.3, 1.7, 1.5, 2.7, 2.4, 5.1, 2.1, 1.9, 1.2, 2.1, 1.1, 0.9, 2.7, 2.0, 1.6, 1.9, 1.2, 1.2, 1.1, 2.2, 1.8, 2.4, 1.2, 1.4, 0.9, 1.1, 1.9, 1.4, 0.9, 2.0, 1.9, 2.7, 1.2, 1.2, 1.2, 1.6, 1.4, 1.0, 1.3, 2.0, 2.0, 2.0, 1.3, 1.6, 1.3, 1.3, 1.3, 1.2, 2.2, 1.4, 2.4, 2.0, 0.0, 1.3, 1.5, 1.0, 3.2, 1.0, 1.1, 1.7, 1.4, 1.0, 1.4, 0.9, 2.4, 1.6, 1.2, 2.1, 1.2, 2.4, 2.1, 2.4, 1.9, 3.2, 1.3, 1.5, 1.3, 1.5, 1.5, 0.9, 0.9, 0.3, 2.0, 1.7, 0.8, 2.0, 2.3, 1.7, 1.7, 1.2, 2.0, 1.4, 1.3, 0.8, 0.8, 0.8, 1.7, 1.3, 2.0, 0.8, 1.4, 1.6, 1.1, 1.0, 1.4, 1.6, 1.4, 2.7, 1.2, 1.2, 1.1, 2.7, 1.0, 1.6, 1.1, 0.7, 2.2, 1.4, 0.7, 1.0, 1.2, 0.9, 1.6, 1.2, 1.3, 1.7, 1.0, 0.6, 1.5, 1.9, 1.8, 2.1, 1.9, 1.8, 2.0, 1.2, 1.2, 1.2, 1.0, 2.8, 0.3, 1.5, 1.2, 1.4, 1.8, 0.0, 1.2, 0.4, 1.2, 2.9, 1.0, 1.7, 2.2, 1.6, 1.8, 1.1, 1.2, 1.0, 1.8, 1.5, 1.7, 1.8, 1.3, 1.0, 1.6, 1.7, 3.9, 0.4, 0.7, 0.7, 1.7, 0.7, 1.8, 0.0, 1.6, 0.0, 1.0, 0.0, 2.3, 1.7, 2.7, 1.6, 1.5, 1.2, 1.7, 1.8, 1.7, 1.2, 0.9, 1.6, 0.7, 1.1, 1.9, 1.2, 1.2, 2.2, 0.6, 1.4, 2.9, 2.8, 0.0, 0.0, 0.0, 1.1, 1.1, 1.3, 0.7, 2.4, 1.8, 1.6, 1.5, 1.4, 1.3, 1.1, 1.4, 3.1, 1.7, 2.6, 2.1, 1.3, 1.6, 1.2, 2.2, 1.1, 1.8, 2.1, 3.1, 3.2, 3.0, 3.0, 3.2, 1.2, 1.1, 1.7, 1.6, 1.7, 1.1, 1.1, 1.1, 1.7, 2.1, 2.7, 1.1, 1.6, 0.9, 3.5, 0.9, 2.1, 1.5, 1.1, 2.4, 1.3, 2.1, 1.5, 1.7, 1.5, 2.7, 1.4, 1.9, 2.0, 1.9, 0.6, 1.1, 1.7, 1.2, 1.6, 1.8, 1.4, 2.8, 3.7, 1.7, 1.9, 2.1, 1.7, 1.8, 1.7, 0.9, 0.8, 1.3, 1.1, 1.4, 1.1, 0.9, 2.1, 1.9, 2.8, 1.0, 1.2, 1.1, 1.7, 0.9, 1.0, 1.3, 1.0, 1.5, 1.2, 1.8, 1.9, 2.2, 2.5, 2.7, 2.8, 0.0, 1.6, 2.9, 1.1, 1.4, 2.9, 1.5, 1.0, 0.0, 1.2, 1.6, 1.7, 1.7, 1.9, 1.2, 1.8, 1.0, 1.5, 1.1, 2.3, 1.6, 0.7, 1.2, 0.0, 1.3, 1.8, 0.7, 2.4, 1.0, 1.0, 3.1, 1.7, 1.7, 2.1, 1.2, 2.5, 0.7, 2.3, 1.2, 2.5, 1.5, 0.9, 2.0, 2.3, 1.5, 1.2, 1.3, 1.3, 1.4, 1.4, 1.6, 0.0, 0.7, 2.3, 1.5, 2.1, 1.5, 1.2, 0.8, 2.3, 0.7, 1.7, 1.3, 2.0, 1.2, 1.2, 1.0, 1.3, 2.0, 1.8, 2.3, 1.9, 3.3, 2.2, 1.4, 1.5, 1.7, 0.0, 0.4, 1.3, 1.9, 0.8, 1.4, 2.6, 2.5, 1.8, 1.9, 1.1, 2.2, 1.7, 2.3, 1.8, 1.3, 0.0, 3.0, 1.9, 1.2, 1.1, 1.8, 1.7, 1.8, 1.6, 0.8, 2.1, 0.9, 1.1, 0.7, 1.3, 2.0, 2.0, 2.1, 2.9, 1.2, 1.4, 1.2, 1.6, 1.2, 2.0, 2.6, 0.9, 1.7, 0.7, 0.9, 1.4, 1.3, 1.5, 1.4, 1.6, 1.5, 1.0, 1.7, 1.6, 2.6, 1.5, 0.9, 0.8, 0.9, 3.0, 1.5, 0.8, 0.3, 1.2, 2.0, 1.7, 1.6, 2.1, 1.5, 2.4, 2.2, 2.4, 1.9, 0.9, 1.6, 2.0, 2.3, 1.9, 1.8, 0.6, 2.0, 1.6, 0.2, 1.5, 1.8, 1.2, 0.9, 1.5, 1.7, 0.8, 1.4, 0.8, 2.2, 0.0, 2.2, 1.0, 1.8, 1.0, 0.9, 1.4, 0.9, 1.4, 1.0, 0.8, 1.6, 1.1, 0.0, 1.1, 2.3, 2.0, 3.0, 0.8, 1.2, 1.2, 1.4, 1.2, 2.0, 0.9, 2.1, 1.9, 1.2, 1.2, 0.0, 1.9, 2.3, 0.9, 1.0, 0.6, 1.5, 1.2, 1.3, 1.5, 1.0, 0.8, 1.4, 2.2, 1.7, 1.5, 1.5, 2.2, 2.0, 2.2, 1.7, 1.3, 1.2, 1.4, 0.0, 0.8, 1.0, 0.5, 1.8, 2.6, 1.1, 1.6, 3.0, 0.0, 1.2, 1.6, 1.0, 0.8, 1.9, 1.9, 2.0, 1.0, 1.6, 11.1, 1.8, 1.0, 2.1, 1.9, 1.8, 0.6, 3.1, 1.0, 1.7, 1.2, 1.0, 1.7, 1.2, 1.1, 1.0, 1.3, 0.6, 1.3, 1.4, 1.2, 1.3, 1.2, 1.5, 1.2, 2.2, 1.8, 1.6, 1.2, 2.7, 0.5, 0.8, 1.9, 3.0, 3.0, 4.2, 1.3, 2.3, 1.4, 1.6, 0.8, 0.4, 1.4, 2.0, 1.2, 1.4, 1.8, 2.9, 0.9, 1.6, 1.6, 2.3, 1.9, 1.4, 1.3, 1.2, 0.7, 6.2, 0.4, 0.5, 0.2, 1.2, 1.2, 1.2, 1.3, 2.3, 1.8, 1.1, 2.3, 1.9, 2.6, 1.3, 1.0, 1.7, 0.7, 1.4, 0.7, 1.3, 1.4, 1.2, 3.1, 1.3, 3.2, 1.6, 2.3, 2.3, 2.1, 1.5, 3.1, 3.7, 2.4, 2.4, 1.1, 1.6, 0.0, 0.0, 0.0, 1.5, 1.3, 0.9, 1.7, 1.4, 2.8, 2.2, 0.4, 1.5, 1.1, 1.5, 1.3, 3.1, 3.0, 1.5, 1.5, 1.4, 1.8, 1.5, 0.7, 1.2, 1.6, 1.6, 1.5, 1.9, 1.8, 2.0, 1.4, 2.2, 0.8, 2.4, 1.9, 0.9, 3.9, 2.2, 1.2, 1.5, 2.0, 1.3, 1.1, 1.1, 0.9, 1.9, 1.3, 1.2, 1.9, 1.4, 2.7, 1.1, 2.2, 2.2, 2.3, 1.8, 2.6, 1.1, 2.3, 1.2, 3.8, 1.0, 3.0, 1.3, 2.1, 1.1, 1.7, 1.6, 1.5, 1.7, 0.9, 2.6, 1.0, 1.2, 0.9, 1.0, 0.7, 0.6, 0.0, 1.1, 0.0, 0.9, 1.9, 2.5, 1.7, 1.4, 1.1, 1.2, 0.8, 1.2, 0.9, 1.6, 1.5, 2.0, 1.5, 2.8, 2.1, 1.2, 2.4, 1.5, 1.6, 2.7, 2.9, 3.1, 2.8, 2.4, 2.3, 1.1, 1.2, 1.1, 1.4, 1.8, 1.0, 1.1, 0.6, 0.9, 1.2, 0.6, 1.3, 2.5, 3.0, 1.0, 2.1, 1.9, 1.3, 3.1, 2.3, 1.2, 2.5, 1.8, 0.7, 0.9, 1.1, 1.2, 1.8, 1.2, 2.0, 0.9, 0.9, 1.4, 1.9, 1.4, 2.9, 0.7, 1.7, 2.0, 0.9, 1.7, 2.1, 2.1, 2.8, 1.1, 3.3, 1.2, 2.4, 0.9, 1.5, 1.6, 1.2, 0.7, 2.7, 1.6, 1.3, 1.1, 1.6, 1.9, 1.3, 2.1, 0.5, 2.8, 1.3, 1.3, 0.7, 1.8, 1.1, 3.2, 2.3, 3.2, 0.9, 1.2, 0.0, 1.8, 1.8, 1.5, 0.0, 3.2, 2.8, 3.7, 1.4, 1.6, 2.9, 1.6, 1.8, 2.0, 0.7, 1.4, 1.5, 1.8, 2.7, 1.4, 7.0, 1.0, 2.1, 1.8, 0.0, 1.8, 1.4, 1.3, 2.1, 2.6, 2.0, 1.2, 1.9, 0.8, 0.7, 0.9, 1.6, 1.1, 1.5, 1.5, 1.5, 1.3, 0.8, 2.3, 1.6, 0.8, 0.8, 1.3, 2.2, 2.6, 1.0, 0.9, 1.2, 1.5, 1.5, 1.6, 1.2, 1.2, 1.3, 2.4, 0.8, 2.0, 0.8, 1.1, 1.3, 1.3, 1.0, 3.7, 1.5, 0.9, 1.7, 1.4, 0.9, 1.3, 0.0, 2.2, 1.7, 3.3, 1.0, 0.8, 1.3, 1.0, 1.5, 1.5, 1.4, 2.3, 1.8, 1.7, 1.3, 1.3, 1.8, 1.6, 1.4, 1.1, 0.9, 1.3, 1.7, 2.8, 1.3, 1.5, 0.3, 2.3, 0.9, 2.0, 1.1, 0.7, 1.9, 2.8, 0.0, 1.1, 1.2, 1.5, 1.0, 1.0, 1.5, 0.9, 1.8, 1.8, 2.0, 1.3, 1.0, 1.1, 1.0, 1.3, 0.7, 1.8, 2.4, 1.4, 1.8, 2.1, 1.3, 2.6, 0.9, 1.3, 1.1, 1.6, 1.4, 3.2, 1.5, 0.0, 0.0, 1.1, 2.4, 0.4, 2.1, 1.8, 1.7, 1.7, 1.6, 1.8, 2.0, 1.7, 2.0, 1.6, 1.3, 1.4, 1.4, 1.4, 0.0, 0.9, 0.8, 1.0, 0.7, 1.6, 1.8, 2.2, 1.1, 1.7, 3.0, 1.6, 3.1, 3.1, 2.8, 2.0, 0.9, 1.1, 1.9, 1.7, 1.1, 1.8, 1.8, 1.8, 2.5, 1.5, 2.5, 0.5, 1.4, 0.0, 1.5, 3.2, 0.8, 1.8, 1.0, 1.0, 1.5, 1.3, 1.1, 1.2, 0.9, 1.0, 1.7, 1.0, 1.5, 1.8, 1.9, 1.7, 2.3, 0.9, 4.3, 1.4, 0.4, 2.1, 1.4, 0.0, 1.5, 1.8, 0.8, 0.4, 1.3, 1.7, 1.1, 1.9, 1.6, 1.5, 0.9, 1.2, 1.8, 2.3, 2.2, 1.3, 0.5, 0.4, 0.8, 1.6, 1.3, 0.9, 1.8, 1.3, 1.5, 2.0, 0.7, 0.4, 1.7, 2.2, 1.1, 2.1, 0.0, 1.6, 2.8, 1.5, 1.9, 1.0, 1.2, 1.4, 5.9, 0.9, 0.7, 1.6, 1.4, 2.0, 2.8, 1.5, 1.4, 1.4, 2.6, 1.3, 3.1, 2.5, 3.3, 1.1, 1.9, 1.7, 1.6, 1.3, 0.9, 0.4, 0.0, 0.4, 3.5, 1.7, 1.6, 1.9, 1.6, 0.9, 24.9, 1.7, 1.3, 1.3, 1.9, 12.5, 2.6, 2.2, 2.2, 2.5, 1.7, 1.5, 1.4, 1.7, 1.7, 0.9, 1.3, 2.0, 2.4, 1.5, 2.0, 1.7, 1.4, 1.7, 0.8, 1.2, 0.9, 1.4, 2.0, 2.3, 1.6, 1.6, 0.0, 1.7, 2.2, 3.8, 1.9, 2.0, 0.8, 0.5, 1.8, 2.2, 1.9, 2.7, 1.4, 1.1, 1.2, 0.8, 3.2, 1.3, 1.6, 1.8, 2.5, 1.4, 1.4, 0.8, 2.2, 0.5, 0.0, 1.1, 0.8, 4.3, 0.5, 1.2, 0.0, 1.3, 1.7, 2.2, 1.8, 1.6, 0.8, 1.1, 0.6, 1.1, 1.1, 0.7, 2.0, 0.9, 1.1, 1.1, 1.0, 2.7, 2.0, 1.5, 2.2, 1.1, 0.6, 1.6, 2.0, 1.9, 2.0, 1.3, 1.6, 2.0, 1.5, 2.5, 1.5, 0.6, 2.2, 1.4, 1.5, 3.4, 1.4, 3.2, 2.9, 3.2, 1.6, 2.5, 0.9, 1.3, 2.6, 1.1, 0.7, 0.6, 0.9, 0.9]}, {\"fillcolor\": \"rgba(127, 96, 0, 0.5)\", \"line\": {\"width\": 1}, \"marker\": {\"size\": 2}, \"name\": \"BLK%\", \"type\": \"box\", \"whiskerwidth\": 0.2, \"y\": [1.0, 2.4, 3.0, 3.4, 1.1, 4.5, 1.2, 2.7, 3.9, 0.0, 2.0, 1.3, 0.2, 0.7, 0.8, 0.7, 2.6, 0.6, 1.1, 7.0, 0.4, 0.6, 0.2, 1.6, 2.4, 1.6, 3.7, 2.2, 1.6, 0.5, 0.4, 5.4, 2.2, 1.6, 3.8, 4.6, 2.7, 1.1, 4.8, 2.7, 0.5, 12.2, 0.7, 0.9, 0.0, 4.4, 1.2, 1.1, 1.2, 1.3, 2.5, 0.8, 0.6, 1.1, 2.1, 1.5, 0.7, 0.2, 3.8, 0.5, 0.3, 1.1, 0.5, 0.6, 0.4, 1.3, 1.2, 1.4, 0.7, 2.8, 1.4, 2.4, 1.2, 3.9, 0.5, 3.9, 0.5, 1.8, 1.8, 3.4, 3.5, 3.3, 1.4, 2.0, 2.2, 0.9, 2.3, 1.4, 1.5, 1.1, 0.0, 2.6, 3.5, 0.5, 1.8, 3.9, 0.9, 1.7, 0.2, 3.2, 4.1, 2.7, 2.7, 0.8, 1.1, 0.7, 0.9, 0.5, 6.0, 1.8, 3.8, 0.2, 0.0, 0.2, 1.1, 3.0, 1.6, 3.4, 0.7, 1.2, 0.4, 0.0, 4.4, 1.0, 1.3, 2.6, 0.4, 0.5, 0.3, 4.4, 1.6, 1.4, 2.0, 3.7, 1.2, 0.6, 4.8, 0.7, 0.3, 1.5, 0.1, 0.4, 1.5, 0.0, 0.9, 0.9, 0.4, 3.2, 3.3, 2.9, 1.6, 1.0, 2.0, 2.3, 1.6, 5.8, 0.0, 1.8, 1.1, 0.8, 3.2, 0.5, 2.0, 2.8, 2.3, 2.7, 1.3, 1.6, 0.9, 1.7, 4.0, 1.0, 0.6, 1.0, 1.0, 1.1, 1.8, 1.9, 0.0, 1.1, 4.9, 0.6, 1.1, 0.5, 0.3, 0.6, 0.9, 1.8, 1.8, 1.2, 1.4, 1.1, 1.7, 5.6, 0.5, 0.4, 0.9, 3.9, 1.0, 1.5, 1.1, 0.6, 4.3, 2.7, 0.6, 1.4, 1.4, 4.1, 1.5, 0.1, 2.3, 0.7, 1.0, 0.2, 0.3, 1.4, 4.2, 2.1, 1.0, 1.1, 0.3, 1.6, 1.7, 1.2, 5.1, 0.3, 3.0, 2.9, 3.4, 0.9, 1.4, 1.3, 1.3, 1.4, 0.6, 2.9, 4.4, 0.2, 0.0, 0.3, 0.9, 0.2, 4.5, 0.7, 0.7, 0.7, 1.5, 0.9, 1.2, 1.0, 1.8, 0.6, 1.1, 0.3, 0.0, 3.9, 1.0, 0.8, 1.0, 1.0, 3.0, 6.5, 4.2, 0.7, 1.2, 1.8, 2.7, 4.4, 3.7, 5.0, 1.7, 0.7, 0.8, 1.6, 0.5, 0.4, 0.0, 0.5, 0.9, 0.5, 7.3, 0.7, 1.3, 1.6, 1.8, 1.9, 1.2, 0.2, 1.1, 1.2, 2.5, 2.3, 0.9, 1.3, 0.4, 1.1, 1.5, 1.9, 0.4, 0.2, 1.5, 1.0, 1.0, 2.3, 2.0, 3.4, 0.2, 0.2, 0.0, 1.5, 1.3, 0.7, 0.9, 4.2, 7.7, 1.3, 1.5, 1.1, 6.0, 0.6, 3.5, 0.6, 1.6, 0.9, 1.8, 0.4, 1.5, 1.2, 2.0, 1.3, 0.0, 0.8, 1.1, 1.0, 1.5, 1.1, 5.3, 0.0, 3.9, 4.5, 1.6, 1.6, 1.6, 1.3, 1.3, 1.3, 2.6, 1.0, 1.1, 0.3, 1.6, 1.2, 1.0, 1.2, 0.8, 0.0, 1.1, 0.7, 10.0, 0.4, 0.7, 1.1, 1.0, 0.4, 0.6, 1.5, 2.0, 0.7, 0.8, 0.6, 0.7, 0.2, 0.4, 0.6, 0.2, 1.7, 1.8, 0.0, 1.1, 1.4, 1.2, 2.7, 2.1, 0.5, 0.0, 2.6, 2.1, 1.2, 1.4, 1.5, 0.8, 4.1, 2.2, 1.5, 1.2, 1.8, 1.7, 4.2, 0.9, 8.4, 1.3, 0.9, 2.5, 2.4, 0.7, 1.0, 2.2, 2.2, 0.5, 0.5, 1.1, 2.3, 7.3, 1.6, 1.5, 1.4, 2.5, 12.5, 0.9, 3.2, 0.0, 4.3, 1.6, 1.4, 1.8, 1.3, 0.5, 2.9, 3.1, 0.0, 3.5, 4.0, 4.3, 3.6, 1.4, 2.3, 3.8, 0.2, 0.2, 0.2, 2.4, 5.5, 1.9, 3.1, 1.5, 3.7, 4.6, 0.2, 1.5, 0.9, 2.8, 1.0, 9.5, 0.5, 2.1, 1.6, 1.0, 1.1, 0.6, 2.9, 0.6, 1.8, 1.5, 1.0, 1.7, 1.3, 1.2, 0.6, 1.5, 2.1, 0.7, 2.2, 0.2, 1.4, 1.0, 6.3, 1.6, 0.4, 2.2, 0.4, 0.2, 1.2, 5.3, 1.0, 2.1, 1.4, 0.5, 4.3, 0.7, 0.5, 0.8, 0.6, 0.9, 1.2, 0.6, 0.9, 0.6, 2.0, 0.5, 0.4, 0.2, 1.0, 1.2, 3.5, 0.5, 0.3, 0.0, 0.4, 7.8, 0.7, 1.1, 1.1, 1.0, 1.3, 0.5, 0.4, 3.2, 0.9, 1.2, 1.0, 2.5, 0.7, 0.7, 0.6, 0.8, 0.7, 1.8, 0.5, 1.0, 0.0, 4.0, 1.3, 1.6, 0.7, 1.2, 1.5, 1.1, 1.7, 0.0, 0.0, 0.5, 6.3, 0.2, 0.0, 0.0, 0.6, 6.2, 4.3, 4.8, 0.1, 0.8, 0.4, 0.9, 4.5, 1.0, 2.3, 1.7, 4.8, 0.5, 0.8, 2.2, 1.5, 0.1, 0.8, 1.4, 1.0, 2.6, 0.7, 3.6, 1.0, 0.6, 6.2, 2.1, 0.8, 4.3, 1.2, 0.1, 0.8, 0.0, 0.0, 0.0, 0.3, 1.7, 1.1, 0.7, 4.0, 4.0, 1.3, 0.8, 0.9, 0.5, 0.9, 3.2, 7.0, 0.8, 1.3, 2.2, 0.5, 3.6, 0.8, 4.0, 2.8, 2.9, 0.0, 0.6, 2.4, 6.0, 1.8, 1.1, 0.9, 1.3, 1.2, 0.0, 1.1, 1.6, 0.7, 0.8, 0.3, 1.2, 1.1, 3.4, 1.3, 0.9, 0.7, 9.3, 5.1, 1.0, 0.9, 2.3, 0.6, 0.6, 1.3, 1.4, 3.4, 0.9, 3.5, 3.4, 1.5, 5.8, 0.9, 0.5, 0.6, 0.5, 0.3, 0.3, 0.4, 1.6, 3.3, 3.2, 0.7, 0.0, 0.3, 1.1, 1.2, 1.0, 2.4, 4.1, 0.4, 0.9, 1.3, 1.6, 0.9, 1.0, 5.2, 5.4, 0.9, 2.8, 1.1, 1.0, 1.3, 0.1, 1.6, 1.9, 0.0, 0.4, 0.5, 0.2, 1.5, 3.9, 0.7, 1.1, 0.4, 2.9, 0.4, 0.3, 0.4, 2.1, 5.3, 1.8, 1.2, 0.9, 0.5, 1.4, 1.0, 4.8, 3.7, 1.2, 0.4, 0.2, 3.1, 0.8, 0.0, 0.4, 0.1, 0.4, 0.9, 4.9, 0.6, 0.6, 0.2, 2.6, 6.1, 7.6, 1.3, 0.6, 0.9, 0.3, 0.0, 0.4, 0.4, 0.3, 0.5, 0.5, 3.3, 3.9, 2.7, 1.4, 2.4, 2.8, 1.3, 0.9, 0.0, 0.6, 1.2, 0.5, 3.7, 3.6, 3.9, 0.6, 3.2, 0.3, 0.1, 0.1, 0.0, 0.3, 0.3, 0.0, 0.4, 2.0, 2.6, 5.0, 0.0, 0.8, 0.7, 0.9, 1.2, 0.9, 3.8, 0.6, 2.1, 1.0, 1.3, 0.6, 0.1, 0.7, 1.6, 0.4, 1.0, 0.0, 1.0, 0.7, 2.9, 3.1, 1.9, 1.0, 2.9, 4.3, 4.2, 4.9, 1.0, 0.8, 1.2, 1.7, 2.1, 0.0, 2.1, 0.8, 0.3, 0.1, 0.1, 0.0, 0.9, 0.8, 0.8, 1.1, 0.0, 0.5, 0.7, 0.7, 0.7, 1.8, 0.4, 0.3, 0.0, 0.5, 0.4, 0.5, 0.0, 1.9, 2.0, 1.8, 0.3, 0.3, 0.2, 0.8, 1.0, 0.1, 3.3, 3.1, 1.9, 5.6, 0.8, 0.2, 1.8, 0.0, 0.0, 0.0, 0.8, 0.4, 1.1, 1.7, 1.0, 0.9, 1.2, 0.0, 0.8, 2.5, 2.1, 3.9, 4.2, 3.8, 0.0, 0.0, 0.0, 0.6, 2.1, 2.7, 1.2, 0.4, 3.3, 0.4, 2.1, 1.2, 1.0, 0.9, 0.2, 0.3, 0.0, 0.4, 0.0, 0.6, 1.2, 2.3, 1.8, 2.2, 0.8, 0.8, 0.0, 0.9, 0.3, 1.0, 0.7, 0.4, 2.6, 2.7, 0.9, 0.8, 1.0, 0.6, 1.2, 1.3, 1.1, 0.2, 2.0, 0.5, 9.2, 1.5, 1.3, 0.6, 0.2, 0.0, 0.0, 0.0, 1.4, 5.3, 5.1, 6.8, 4.5, 4.2, 1.3, 0.7, 0.5, 0.9, 0.8, 0.8, 0.8, 2.6, 2.3, 2.2, 0.0, 3.3, 0.3, 6.7, 2.8, 2.1, 1.0, 1.8, 2.9, 6.4, 2.5, 0.4, 3.2, 1.8, 1.0, 3.4, 1.1, 9.5, 0.8, 2.6, 0.7, 0.7, 0.4, 2.4, 1.3, 3.2, 1.4, 0.6, 3.2, 1.4, 0.5, 2.1, 0.1, 0.0, 1.1, 6.1, 1.6, 2.9, 1.5, 5.8, 0.8, 2.1, 1.5, 0.6, 2.7, 0.9, 0.7, 0.7, 0.4, 0.4, 0.4, 0.5, 1.3, 1.9, 0.5, 0.5, 5.2, 0.6, 1.5, 2.1, 0.7, 3.8, 2.2, 0.0, 1.7, 0.2, 0.3, 0.1, 1.7, 0.8, 0.0, 3.3, 1.6, 0.6, 0.4, 1.2, 1.4, 0.4, 0.4, 0.5, 4.7, 3.3, 5.4, 0.4, 0.9, 0.6, 1.2, 3.5, 0.0, 0.3, 3.2, 0.7, 1.0, 2.5, 0.6, 0.3, 1.1, 1.3, 4.6, 0.9, 0.1, 3.0, 0.9, 4.8, 2.9, 0.6, 3.9, 0.6, 0.1, 1.4, 1.2, 1.7, 0.2, 0.3, 0.2, 1.9, 2.2, 1.5, 0.8, 0.8, 3.6, 4.7, 1.7, 0.7, 0.8, 2.9, 5.9, 1.0, 2.4, 0.8, 3.4, 4.7, 0.6, 2.4, 3.0, 0.9, 2.1, 1.5, 1.1, 2.3, 1.1, 1.4, 2.4, 0.8, 0.6, 0.0, 1.3, 1.4, 1.0, 0.0, 0.6, 2.1, 0.8, 1.0, 9.7, 1.0, 4.6, 1.9, 0.5, 2.0, 1.0, 0.2, 1.0, 1.8, 1.2, 2.1, 2.1, 4.3, 0.5, 3.6, 4.1, 0.6, 2.8, 2.2, 2.4, 2.2, 1.9, 4.5, 0.8, 0.3, 0.9, 0.6, 0.3, 1.5, 3.0, 0.9, 0.2, 0.0, 0.3, 0.7, 0.4, 0.9, 1.6, 3.6, 2.9, 0.1, 0.1, 0.2, 0.5, 1.2, 2.6, 3.9, 1.8, 3.1, 0.4, 5.4, 0.8, 2.0, 1.5, 4.3, 1.7, 1.2, 0.3, 0.0, 0.3, 0.9, 1.1, 3.8, 2.0, 1.2, 1.2, 0.6, 0.4, 0.4, 0.3, 1.1, 1.0, 1.2, 2.5, 2.2, 2.9, 2.8, 2.3, 1.1, 2.0, 0.8, 1.7, 1.3, 0.0, 4.1, 4.4, 1.4, 1.0, 1.1, 0.2, 0.0, 0.3, 3.3, 1.7, 0.2, 0.1, 0.6, 0.5, 1.2, 2.2, 1.2, 1.2, 1.3, 0.6, 2.7, 0.2, 2.1, 5.9, 0.6, 0.4, 0.0, 0.7, 0.9, 0.0, 7.6, 15.1, 0.6, 0.9, 4.1, 2.5, 1.0, 0.6, 1.7, 1.5, 1.9, 0.4, 3.5, 1.4, 0.3, 3.8, 0.1, 0.1, 0.4, 0.1, 2.2, 3.3, 3.9, 4.4, 0.0, 0.0, 0.0, 1.8, 0.8, 4.9, 2.9, 1.9, 1.8, 0.9, 1.0, 0.4, 1.0, 0.4, 1.3, 0.4, 1.8, 0.7, 0.8, 1.1, 3.2, 4.9, 1.1, 1.5, 2.0, 1.1, 1.1, 0.4, 2.2, 0.9, 0.1, 1.0, 0.6, 1.7, 0.5, 2.0, 0.3, 0.2, 0.6, 1.4, 3.2, 0.3, 0.5, 1.2, 0.3, 0.4, 1.6, 0.5, 1.4, 1.2, 1.7, 0.2, 1.2, 0.5, 4.3, 0.7, 0.8, 4.6, 4.3, 5.8, 2.6, 1.0, 3.0, 1.6, 0.8, 0.6, 0.3, 0.8, 0.0, 0.0, 0.5, 1.9, 0.8, 0.7, 0.6, 0.3, 0.4, 0.8, 3.3, 3.3, 3.4, 1.4, 1.8, 0.3, 0.3, 0.4, 0.9, 1.6, 4.3, 1.0, 5.1, 0.1, 0.8, 0.0, 1.4, 1.7, 1.4, 0.5, 1.1, 1.7, 1.6, 1.7, 0.0, 3.0, 0.6, 9.7, 1.3, 6.0, 0.6, 0.5, 0.0, 2.7, 0.9, 6.8, 3.7, 1.5, 6.6, 1.1, 0.0, 0.4, 0.5, 1.2, 2.9, 2.4, 2.0, 0.0, 2.2, 2.6, 0.3, 3.7, 3.0, 2.4, 1.4, 2.0, 1.6, 2.0, 1.1, 2.1, 0.5, 4.7, 1.1, 0.6, 2.5, 0.8, 0.8, 1.7, 0.7, 0.5, 1.3, 1.1, 1.7, 1.3, 1.0, 0.0, 2.8, 2.3, 0.7, 0.0, 2.5, 0.4, 3.1, 1.0, 4.1, 1.4, 3.3, 1.2, 3.9, 3.9, 3.1, 0.6, 1.2, 0.5, 1.3, 1.1, 1.8, 0.5, 0.9, 0.5, 0.6, 0.0, 0.0, 1.1, 0.5, 0.6, 0.6, 0.9, 2.2, 0.4, 0.1, 4.1, 1.2, 1.9, 2.2, 0.4, 0.2, 0.0, 0.8, 2.8, 1.5, 1.1, 3.2, 0.6, 0.3, 0.4, 1.2, 0.8, 0.5, 0.0, 0.0, 0.0, 3.4, 3.6, 2.7, 2.6, 0.7, 0.5, 0.4, 0.8, 1.4, 0.3, 0.5, 0.3, 5.1, 6.8, 2.2, 3.7, 1.2, 0.1, 0.0, 1.1, 0.4, 2.9, 3.1, 1.3, 3.1, 0.9, 0.7, 0.4, 0.9, 2.3, 3.8, 0.0, 0.6, 0.2, 1.2, 7.7, 1.2, 0.3, 0.0, 0.4, 1.0, 0.7, 1.5, 0.8, 2.4, 2.7, 1.5, 1.1, 0.7, 1.0, 0.6, 1.4, 0.0, 0.1, 0.3, 2.1, 0.5, 0.3, 0.4, 0.2, 3.7, 3.5, 2.3, 0.0, 0.9, 0.0, 0.0, 2.6, 2.6, 2.5, 6.4, 1.4, 1.4, 2.0, 0.5, 4.1, 7.7, 4.0, 0.6, 2.6, 3.4, 1.1, 1.5, 0.7, 0.9, 2.8, 1.0, 3.2, 0.6, 0.3, 0.5, 1.3, 0.0, 1.4, 0.6, 3.3, 3.6, 2.1, 0.6, 0.7, 6.1, 1.3, 0.4, 0.5, 0.3, 2.6, 0.6, 1.1, 0.4, 1.6, 1.5, 1.9, 3.7, 0.6, 3.2, 3.6, 7.7, 4.2, 4.3, 4.0, 1.5, 0.3, 1.3, 0.8, 0.0, 0.0, 0.3, 1.3, 1.5, 0.5, 0.2, 0.2, 0.0, 1.1, 3.2, 9.1, 3.2, 0.8, 1.5, 1.6, 3.0, 3.7, 0.6, 4.3, 0.6, 1.5, 2.0, 2.9, 0.3, 0.4, 1.0, 1.2, 0.8, 3.1, 0.9, 1.8, 0.5, 0.6, 0.0, 0.5, 0.3, 1.0, 0.8, 5.1, 1.8, 1.8, 1.1, 0.5, 1.5, 1.5, 0.0, 0.6, 1.2, 1.2, 3.0, 4.2, 4.1, 0.9, 0.7, 1.4, 0.6, 0.2, 3.6, 4.1, 1.5, 0.5, 1.6, 5.0, 1.1, 1.2, 1.9, 2.1, 0.0, 0.3, 0.3, 0.2, 7.1, 0.7, 0.5, 0.8, 0.4, 6.1, 3.5, 0.7, 2.3, 1.8, 1.4, 0.8, 1.5, 2.3, 0.7, 0.3, 1.5, 1.1, 2.8, 0.3, 0.3, 1.2, 0.0, 1.5, 2.2, 0.0, 3.0, 4.0, 3.7, 4.5, 7.1, 2.4, 1.4, 1.0, 1.7, 0.0, 6.9, 0.0, 3.4, 0.8, 1.5, 1.6, 2.0, 4.4, 1.1, 0.1, 0.7, 1.2, 0.3, 4.4, 0.7, 1.0, 0.0, 1.3, 3.6, 1.5, 1.9, 3.4, 3.3, 3.6, 2.4, 2.6, 2.0, 2.8, 1.3, 0.9, 2.6, 0.9, 1.0, 0.6, 2.4, 3.0, 0.5, 1.1, 0.4, 1.4, 0.5, 3.6, 1.9, 0.5, 0.4, 2.7, 1.2, 0.5, 0.7, 1.4, 1.4, 1.4, 0.7, 0.3, 1.9, 0.7, 1.6, 6.2, 1.3, 1.7, 0.4, 0.0, 0.5, 0.3, 1.1, 4.5, 1.5, 1.0, 1.2, 4.2, 0.5, 2.6, 1.2, 0.7, 0.5, 0.0, 1.3, 3.4, 1.6, 1.1, 1.5, 1.3, 0.4, 0.4, 1.2, 2.9, 1.2, 2.9, 1.2, 5.9, 0.4, 0.6, 0.9, 1.9, 1.7, 1.8, 1.1, 0.7, 1.4, 0.4, 1.7, 0.0, 4.4, 0.9, 1.7, 1.7, 5.0, 0.8, 3.7, 0.4, 0.2, 1.0, 0.7, 1.0, 0.4, 2.0, 1.7, 2.1, 0.6, 0.8, 6.0, 4.3, 2.1, 0.7, 0.7, 1.1, 3.0, 3.3, 1.5, 4.4, 1.6, 2.8, 2.5, 1.8, 3.0, 4.6, 1.6, 1.6, 1.1, 2.5, 1.0, 8.9, 3.3, 1.8, 0.8, 0.0, 0.5, 1.8, 0.2, 1.3, 1.0, 2.0, 0.5, 1.6, 1.0, 0.5, 2.9, 2.2, 1.1, 1.0, 2.3, 0.5, 0.2, 1.0, 5.5, 2.1, 1.3, 2.9, 0.7, 5.1, 1.0, 0.3, 1.5, 1.9, 1.5, 4.9, 0.6, 0.0, 0.5, 0.5, 0.5, 0.0, 1.0, 0.9, 1.1, 0.8, 0.7, 1.5, 1.0, 0.0, 1.4, 2.3, 0.7, 0.4, 0.6, 1.0, 3.5, 0.0, 3.8, 0.5, 0.2, 0.0, 0.2, 5.7, 1.0, 2.4, 2.3, 1.4, 2.0, 3.1, 0.7, 1.9, 1.4, 3.7, 0.5, 0.3, 0.2, 0.4, 3.8, 2.4, 0.7, 0.8, 1.2, 0.1, 0.0, 3.5, 2.4, 1.2, 2.0, 0.5, 0.9, 0.8, 1.0, 1.5, 1.1, 2.3, 0.4, 0.2, 5.6, 3.9, 2.9, 2.8, 0.9, 0.0, 0.0, 0.6, 2.9, 2.6, 0.7, 0.4, 0.4, 0.0, 4.3, 1.3, 1.6, 4.0, 0.0, 0.3, 4.8, 1.0, 1.1, 1.0, 0.6, 1.0, 1.1, 2.4, 3.2, 1.1, 1.2, 0.4, 0.8, 0.1, 0.7, 0.9, 0.7, 1.6, 1.9, 0.5, 1.3, 1.2, 0.5, 3.9, 3.6, 2.6, 1.2, 0.0, 1.9, 6.0, 1.9, 1.1, 2.6, 0.2, 4.2, 0.4, 3.7, 3.1, 1.4, 1.5, 1.6, 0.8, 0.7, 1.0, 0.0, 1.7, 3.4, 0.8, 0.9, 0.6, 0.5, 0.8, 1.1, 0.9, 1.5, 1.8, 1.5, 0.9, 2.4, 0.0, 4.7, 1.5, 1.4, 1.0, 1.6, 1.3, 1.0, 1.9, 0.4, 1.7, 1.2, 1.0, 1.9, 3.2, 0.6, 0.5, 0.8, 0.0, 2.9, 1.2, 4.4, 3.8, 1.9, 0.7, 3.8, 1.8, 0.7, 4.5, 0.9, 1.1, 1.3, 0.0, 1.4, 0.8, 0.3, 2.0, 4.2, 0.9, 3.1, 4.5, 2.2, 0.7, 1.4, 3.5, 2.7, 0.5, 0.0, 0.5, 0.4, 2.4, 0.7, 0.9, 1.7, 0.8, 1.4, 3.5, 1.0, 4.2, 1.5, 2.2, 1.1, 1.4, 0.5, 2.0, 0.6, 0.2, 3.5, 3.6, 0.0, 2.0, 0.9, 0.8, 0.0, 1.5, 4.9, 4.6, 2.8, 1.2, 0.6, 2.0, 0.5, 3.2, 3.7, 1.8, 2.8, 0.7, 1.4, 0.8, 1.0, 0.8, 0.9, 0.6, 7.3, 0.9, 1.5, 1.3, 0.3, 8.2, 0.6, 0.7, 1.3, 3.2, 0.9, 0.9, 1.8, 0.0, 1.0, 2.9, 0.4, 5.6, 0.9, 0.7, 1.7, 0.0, 1.0, 2.7, 0.8, 0.4, 1.2, 1.5, 0.9, 2.2, 1.6, 0.7, 0.7, 0.0, 4.3, 4.1, 2.1, 0.9, 1.6, 1.2, 6.1, 0.3, 3.9, 6.7, 3.6, 2.0, 1.7, 0.4, 1.4, 4.7, 4.8, 0.0, 1.2, 0.1, 1.5, 1.6, 0.0, 0.6, 1.4, 1.0, 1.0, 0.9, 1.1, 0.8, 1.4, 4.7, 2.8, 5.2, 0.9, 1.5, 1.3, 1.7, 1.2, 0.9, 1.5, 9.6, 2.4, 1.7, 0.6, 0.7, 2.4, 0.3, 0.3, 0.0, 0.6, 3.1, 0.0, 0.3, 0.5, 0.8, 1.1, 0.0, 1.5, 0.8, 0.4, 1.0, 1.6, 6.1, 0.6, 1.3, 0.7, 1.2, 2.0, 2.1, 0.6, 0.7, 0.0, 1.2, 4.0, 0.0, 1.2, 0.6, 0.0, 0.6, 0.8, 0.0, 1.3, 2.0, 0.9, 1.6, 4.3, 0.3, 0.4, 0.2, 0.9, 1.1, 1.3, 1.8, 1.1, 3.5, 1.2, 5.7, 7.7, 0.3, 0.5, 1.0, 1.6, 1.9, 1.3, 2.6, 2.5, 2.7, 0.8, 0.7, 2.8, 1.3, 0.6, 1.8, 1.1, 0.8, 5.9, 1.5, 1.2, 1.6, 1.1, 0.0, 1.2, 1.7, 1.8, 1.8, 0.4, 1.2, 2.8, 2.5, 2.2, 2.9, 3.0]}, {\"fillcolor\": \"rgba(93, 164, 214, 0.5)\", \"line\": {\"width\": 1}, \"marker\": {\"size\": 2}, \"name\": \"TOV%\", \"type\": \"box\", \"whiskerwidth\": 0.2, \"y\": [19.7, 12.6, 17.1, 8.8, 13.9, 13.0, 9.7, 16.0, 14.8, 17.4, 5.8, 11.3, 12.0, 11.6, 13.7, 10.6, 11.7, 6.1, 17.8, 13.7, 7.9, 7.8, 8.0, 11.7, 8.3, 16.3, 13.8, 13.6, 11.0, 6.7, 8.8, 16.7, 14.4, 13.8, 9.6, 14.8, 11.5, 13.3, 17.2, 13.2, 15.4, 7.8, 12.4, 12.4, 12.3, 15.1, 11.8, 12.8, 11.2, 10.2, 8.4, 10.6, 10.0, 12.3, 11.9, 10.1, 12.2, 12.5, 9.6, 9.3, 10.3, 6.3, 7.5, 6.9, 8.6, 10.8, 10.3, 10.7, 15.3, 9.3, 8.2, 7.1, 8.4, 13.3, 7.3, 10.0, 9.7, 14.2, 8.8, 12.0, 12.1, 11.9, 17.3, 9.0, 23.4, 26.0, 23.0, 13.9, 15.4, 9.2, 0.0, 11.1, 4.3, 9.6, 11.2, 14.5, 9.1, 8.2, 10.0, 10.5, 14.8, 8.4, 10.1, 16.9, 8.8, 11.1, 11.6, 8.7, 8.4, 14.6, 12.7, 20.4, 34.6, 18.9, 11.7, 14.0, 10.7, 11.9, 13.4, 12.8, 8.7, 0.0, 12.4, 14.2, 16.2, 12.3, 7.7, 6.8, 8.3, 13.2, 9.3, 8.9, 10.6, 20.1, 17.1, 15.7, 10.5, 9.4, 9.5, 11.4, 8.8, 11.9, 15.0, 4.2, 12.7, 8.5, 3.7, 13.6, 13.4, 14.6, 12.3, 10.0, 10.6, 15.8, 15.0, 12.1, 9.7, 12.3, 8.2, 7.8, 6.8, 17.7, 10.4, 26.8, 14.3, 15.6, 11.7, 11.5, 13.8, 14.5, 11.0, 8.9, 13.0, 9.8, 10.3, 8.8, 11.1, 10.4, 7.9, 12.8, 14.4, 14.6, 9.2, 11.0, 14.7, 9.4, 13.9, 12.3, 14.1, 11.2, 10.2, 12.2, 10.7, 10.5, 6.9, 6.7, 7.5, 11.8, 11.0, 15.1, 13.8, 10.0, 10.7, 13.6, 18.4, 13.1, 11.3, 10.1, 12.1, 9.1, 15.6, 5.3, 6.5, 3.3, 11.4, 13.3, 0.0, 15.3, 14.7, 12.9, 21.2, 11.7, 12.5, 9.0, 15.1, 9.0, 21.4, 21.3, 21.6, 12.4, 10.6, 13.3, 13.1, 13.7, 9.4, 10.0, 11.4, 9.8, 8.8, 10.1, 10.1, 8.6, 7.6, 10.3, 17.0, 8.9, 13.6, 10.0, 6.8, 14.2, 9.2, 9.2, 8.6, 9.6, 7.4, 11.5, 8.4, 14.0, 11.4, 10.8, 11.5, 8.9, 14.0, 11.2, 18.1, 11.1, 13.8, 9.8, 5.7, 13.4, 8.8, 10.6, 10.1, 8.6, 11.8, 19.6, 25.0, 18.8, 7.4, 8.4, 13.2, 11.5, 9.2, 6.7, 9.4, 21.8, 18.6, 12.1, 10.3, 3.5, 10.9, 6.2, 11.3, 12.0, 9.6, 9.1, 9.3, 11.5, 4.1, 6.6, 15.0, 14.6, 11.1, 10.8, 12.1, 5.5, 12.4, 12.4, 11.1, 10.1, 11.7, 16.6, 10.7, 16.1, 13.4, 15.9, 8.8, 16.2, 17.6, 9.8, 11.5, 18.2, 9.8, 11.2, 15.0, 11.0, 15.4, 14.1, 17.4, 8.7, 0.0, 15.8, 15.7, 16.0, 15.1, 20.1, 11.1, 17.9, 19.2, 12.7, 8.7, 7.8, 10.4, 9.9, 9.0, 10.6, 10.1, 13.1, 13.4, 15.0, 13.8, 9.1, 10.0, 14.4, 7.4, 7.6, 8.5, 10.2, 9.1, 22.1, 9.1, 7.6, 8.8, 17.8, 13.6, 16.2, 5.9, 9.2, 10.2, 8.0, 13.6, 12.3, 7.0, 6.6, 7.7, 12.5, 19.3, 13.6, 16.5, 13.8, 5.7, 10.5, 11.8, 24.0, 25.4, 16.8, 9.7, 16.7, 11.5, 11.4, 11.8, 9.9, 5.1, 7.2, 12.1, 23.8, 11.2, 13.7, 18.9, 10.3, 25.5, 11.2, 14.7, 16.7, 11.4, 10.1, 7.4, 16.1, 13.9, 9.8, 16.3, 14.0, 11.0, 9.3, 10.9, 11.1, 6.4, 14.8, 14.9, 10.7, 8.7, 11.3, 11.0, 10.4, 11.6, 12.0, 17.6, 13.2, 9.5, 0.0, 10.0, 13.9, 12.9, 14.8, 13.8, 12.7, 16.8, 10.7, 10.3, 11.8, 15.9, 15.2, 7.2, 11.1, 14.4, 11.9, 13.5, 11.0, 9.5, 7.2, 15.6, 8.9, 14.3, 12.7, 10.3, 19.0, 11.5, 15.6, 9.5, 9.3, 9.0, 11.6, 13.4, 13.8, 13.3, 9.6, 17.0, 18.8, 14.8, 16.3, 11.7, 14.2, 10.6, 10.0, 12.9, 16.5, 12.9, 16.6, 11.2, 17.9, 23.2, 18.1, 22.1, 4.3, 14.3, 10.1, 9.4, 14.6, 12.7, 16.2, 11.2, 14.9, 18.7, 10.3, 10.3, 9.8, 9.6, 10.1, 10.4, 12.7, 10.4, 7.7, 8.1, 25.0, 8.3, 13.3, 14.1, 12.9, 11.3, 9.3, 9.1, 19.5, 20.1, 18.2, 14.7, 18.2, 16.0, 9.6, 13.2, 13.2, 13.6, 12.6, 14.3, 15.1, 13.3, 15.1, 13.8, 13.6, 15.2, 13.5, 16.3, 13.1, 8.6, 8.8, 7.5, 11.0, 6.9, 8.9, 15.3, 0.0, 14.3, 21.9, 10.5, 9.3, 11.8, 10.1, 6.3, 9.5, 21.1, 15.9, 10.7, 10.4, 15.8, 16.9, 15.2, 18.4, 15.0, 9.7, 12.1, 10.4, 12.0, 14.5, 7.2, 11.7, 11.9, 22.2, 26.8, 21.4, 6.6, 16.0, 21.5, 15.6, 12.0, 16.4, 10.2, 13.8, 11.4, 12.3, 26.2, 26.6, 25.3, 15.1, 13.4, 8.0, 10.1, 12.2, 10.7, 12.4, 13.0, 13.1, 12.8, 18.2, 11.6, 16.9, 8.7, 16.8, 13.9, 14.0, 10.5, 11.9, 16.3, 10.5, 13.5, 7.7, 11.1, 21.4, 22.2, 21.3, 9.0, 9.4, 8.6, 10.2, 10.3, 8.1, 14.9, 12.5, 13.8, 17.6, 9.8, 13.3, 12.1, 13.6, 13.8, 10.5, 17.6, 11.8, 15.2, 10.3, 11.1, 13.8, 15.3, 13.8, 10.2, 19.1, 9.9, 8.9, 17.5, 8.5, 10.4, 13.9, 20.9, 11.8, 17.2, 14.6, 12.7, 17.0, 15.3, 5.9, 9.5, 12.2, 6.9, 12.9, 9.7, 10.8, 8.5, 16.0, 15.0, 11.1, 18.1, 13.8, 10.5, 5.5, 10.7, 9.8, 12.8, 12.4, 15.4, 12.3, 12.8, 11.6, 13.7, 9.5, 9.9, 8.4, 16.1, 16.7, 12.9, 14.1, 14.9, 9.0, 11.0, 15.1, 17.8, 20.4, 14.6, 10.0, 12.0, 15.7, 9.4, 13.1, 10.5, 12.6, 17.7, 19.0, 8.6, 12.9, 10.0, 12.8, 13.8, 18.7, 15.0, 25.0, 8.6, 9.7, 9.0, 12.3, 9.8, 14.4, 10.8, 13.0, 14.5, 16.1, 15.0, 20.2, 13.3, 27.3, 8.6, 9.1, 10.8, 24.3, 22.4, 26.0, 16.6, 10.5, 11.6, 9.1, 19.5, 13.3, 18.3, 13.0, 8.7, 0.0, 8.2, 12.4, 5.5, 14.9, 14.8, 15.0, 7.1, 11.5, 24.3, 10.4, 11.0, 7.7, 17.3, 19.0, 16.7, 16.5, 10.7, 19.6, 16.2, 17.0, 8.1, 7.7, 8.7, 6.5, 15.9, 17.1, 14.3, 14.3, 18.2, 21.2, 13.9, 13.9, 9.5, 8.7, 12.7, 15.5, 0.0, 15.9, 20.2, 26.5, 25.3, 32.1, 10.9, 14.4, 15.7, 17.5, 8.8, 9.4, 6.3, 10.7, 10.9, 11.9, 25.4, 10.6, 17.3, 17.6, 20.1, 21.4, 16.9, 7.5, 7.1, 6.1, 8.5, 20.5, 12.8, 10.5, 10.6, 10.5, 17.2, 10.5, 12.4, 8.8, 14.7, 9.8, 9.0, 13.0, 16.1, 22.7, 11.8, 23.6, 25.8, 22.6, 14.9, 8.1, 20.4, 15.8, 9.5, 16.4, 12.7, 11.3, 7.4, 12.2, 17.3, 18.7, 15.7, 15.4, 15.4, 15.5, 15.0, 10.5, 10.3, 11.2, 14.3, 14.4, 14.3, 13.6, 15.8, 14.1, 16.9, 28.1, 41.2, 19.4, 10.8, 10.2, 14.4, 11.0, 17.6, 12.4, 12.2, 9.3, 16.6, 15.1, 13.7, 13.1, 12.8, 13.5, 13.2, 10.8, 14.2, 10.2, 14.6, 9.5, 12.2, 6.8, 6.3, 10.6, 10.8, 12.6, 10.3, 19.7, 13.9, 6.9, 11.2, 14.4, 10.0, 12.0, 8.8, 8.3, 18.7, 30.7, 15.6, 13.7, 14.3, 11.3, 8.8, 11.7, 14.9, 8.9, 9.4, 22.4, 0.0, 10.1, 12.2, 7.6, 7.7, 18.0, 6.4, 7.9, 18.0, 4.2, 7.5, 10.0, 9.7, 10.5, 12.2, 9.8, 10.0, 19.6, 14.1, 8.7, 19.6, 7.8, 14.6, 12.8, 13.2, 9.3, 14.5, 8.4, 3.0, 10.8, 15.1, 8.0, 14.8, 10.6, 12.9, 10.8, 11.4, 6.9, 11.8, 7.6, 13.8, 11.2, 9.9, 17.6, 13.3, 12.8, 14.8, 11.3, 9.6, 10.3, 11.3, 12.6, 15.5, 15.3, 15.1, 16.2, 21.6, 14.0, 15.7, 8.1, 9.2, 12.6, 11.3, 14.2, 10.0, 7.1, 10.7, 11.4, 4.5, 9.6, 25.0, 9.0, 10.2, 10.9, 8.8, 8.4, 19.6, 12.0, 10.5, 19.3, 0.0, 16.5, 10.2, 12.8, 12.9, 28.8, 9.5, 16.3, 13.3, 15.3, 8.1, 9.6, 8.3, 8.4, 12.7, 12.9, 11.2, 8.4, 13.0, 13.2, 17.7, 8.9, 9.5, 18.9, 16.9, 9.3, 11.6, 10.5, 13.1, 11.3, 13.5, 1.4, 7.1, 15.4, 12.9, 10.3, 13.3, 18.6, 10.9, 17.1, 11.7, 11.2, 14.7, 10.1, 13.7, 11.4, 14.3, 14.1, 14.8, 19.9, 28.8, 16.3, 10.6, 13.3, 7.2, 8.0, 8.7, 12.7, 12.8, 11.1, 16.2, 13.6, 12.1, 19.2, 16.5, 9.0, 10.7, 12.4, 12.9, 16.3, 11.4, 21.2, 6.8, 13.0, 9.2, 9.9, 7.5, 10.8, 15.9, 13.4, 13.2, 10.6, 20.0, 9.8, 11.4, 7.2, 14.1, 6.8, 14.8, 12.5, 10.3, 15.7, 18.0, 13.8, 14.0, 11.1, 13.2, 12.7, 11.3, 14.0, 13.8, 14.4, 13.5, 13.9, 11.2, 10.5, 8.8, 17.0, 24.8, 17.9, 10.3, 10.4, 9.2, 10.4, 10.5, 16.3, 17.9, 11.4, 18.8, 13.8, 13.2, 5.8, 10.9, 13.7, 12.9, 14.2, 14.4, 12.1, 16.4, 14.0, 16.4, 16.7, 14.7, 15.0, 13.9, 15.0, 14.8, 9.2, 0.0, 7.8, 10.5, 16.0, 12.1, 13.4, 8.9, 12.2, 24.3, 9.4, 9.8, 9.4, 14.0, 8.9, 15.4, 13.3, 8.9, 8.4, 7.1, 11.6, 12.9, 19.5, 20.3, 15.7, 9.4, 9.6, 9.0, 14.9, 15.1, 14.8, 16.6, 7.8, 14.5, 12.8, 12.6, 14.9, 15.7, 12.5, 11.6, 15.4, 11.3, 13.7, 12.1, 17.7, 12.3, 19.2, 15.5, 11.7, 9.8, 9.4, 11.7, 7.8, 12.8, 13.2, 13.6, 13.3, 13.8, 11.4, 11.2, 7.2, 20.3, 12.3, 16.5, 14.2, 15.5, 13.5, 15.3, 4.4, 19.0, 3.6, 12.3, 21.5, 13.3, 10.7, 11.6, 11.6, 14.7, 16.0, 12.6, 4.6, 15.0, 17.9, 8.2, 13.8, 17.2, 7.7, 17.0, 19.5, 10.8, 25.4, 18.7, 17.9, 5.1, 7.7, 0.0, 6.4, 12.0, 17.0, 12.5, 12.4, 10.8, 16.8, 10.4, 14.3, 11.8, 20.4, 11.3, 13.4, 18.7, 13.2, 17.9, 12.0, 18.8, 13.4, 8.3, 10.4, 10.0, 11.3, 27.0, 23.2, 34.9, 17.9, 24.6, 13.5, 9.5, 10.5, 9.7, 10.5, 11.0, 10.9, 11.4, 9.7, 16.9, 24.7, 13.4, 6.6, 14.7, 21.0, 10.8, 15.9, 9.7, 9.4, 14.1, 13.8, 14.8, 15.8, 11.7, 11.7, 11.7, 9.7, 16.9, 17.1, 16.7, 12.8, 11.5, 12.0, 13.6, 15.2, 21.1, 11.8, 0.0, 0.0, 12.9, 10.4, 16.2, 10.3, 11.1, 11.9, 11.6, 9.5, 10.2, 11.1, 9.6, 8.5, 10.4, 8.1, 8.0, 8.6, 7.4, 7.2, 12.6, 16.9, 10.3, 20.4, 18.9, 20.8, 9.3, 14.3, 13.0, 13.4, 10.1, 17.5, 18.1, 18.5, 0.0, 12.3, 16.8, 14.2, 10.6, 16.6, 14.8, 8.3, 7.8, 7.1, 15.6, 13.0, 3.1, 6.9, 13.8, 14.4, 26.3, 11.7, 6.9, 11.6, 11.2, 12.0, 9.7, 9.8, 9.6, 16.0, 8.4, 15.1, 7.7, 13.7, 13.3, 15.2, 11.7, 11.2, 12.6, 14.3, 6.2, 13.3, 9.0, 7.9, 13.8, 8.0, 19.2, 22.9, 10.4, 6.8, 17.3, 16.8, 19.3, 11.5, 15.0, 19.8, 13.5, 13.6, 9.6, 9.4, 12.7, 9.2, 16.2, 14.6, 17.7, 13.4, 14.5, 15.3, 33.4, 33.4, 9.7, 12.9, 16.6, 9.7, 12.7, 12.7, 12.6, 14.1, 17.2, 10.7, 10.9, 10.0, 7.6, 12.5, 7.1, 15.2, 11.0, 9.3, 11.1, 7.9, 10.1, 12.0, 8.2, 8.5, 16.3, 14.1, 11.9, 18.2, 19.4, 11.2, 18.7, 10.0, 13.2, 10.7, 12.5, 12.6, 13.1, 11.8, 18.3, 16.0, 23.6, 10.6, 13.5, 13.2, 14.4, 13.9, 8.1, 12.3, 9.8, 8.9, 7.0, 11.0, 13.0, 8.0, 9.1, 12.7, 17.2, 16.9, 8.2, 18.1, 18.8, 8.7, 9.0, 7.6, 12.7, 15.1, 12.5, 16.3, 10.5, 12.5, 9.0, 20.8, 10.4, 4.2, 17.2, 5.0, 18.0, 17.9, 13.8, 17.0, 26.9, 12.0, 12.9, 13.4, 12.2, 16.8, 10.6, 11.4, 14.3, 13.3, 13.9, 20.0, 12.9, 11.1, 9.8, 11.8, 18.0, 8.8, 8.2, 7.4, 5.7, 14.1, 11.3, 10.6, 12.8, 0.0, 12.7, 14.9, 16.3, 11.9, 11.7, 12.5, 15.0, 8.5, 10.0, 13.8, 6.0, 10.1, 12.8, 9.9, 11.7, 14.1, 19.8, 9.1, 14.1, 10.6, 10.9, 9.7, 19.5, 9.9, 12.5, 9.8, 12.5, 7.6, 0.0, 16.0, 21.3, 14.0, 14.7, 11.9, 9.4, 9.0, 12.7, 14.1, 11.2, 9.0, 14.4, 13.1, 10.9, 13.3, 16.8, 16.7, 10.3, 15.1, 10.7, 8.3, 11.8, 17.5, 0.0, 9.2, 8.2, 11.7, 11.2, 18.2, 12.9, 10.3, 43.6, 0.0, 13.4, 16.1, 6.1, 11.8, 17.5, 17.8, 16.2, 12.3, 15.7, 12.5, 16.5, 9.5, 15.5, 8.8, 8.0, 22.7, 16.0, 13.1, 13.1, 8.0, 12.5, 7.4, 13.8, 12.9, 11.5, 13.4, 9.5, 12.7, 11.3, 6.8, 13.2, 12.9, 14.0, 9.9, 17.3, 10.2, 8.5, 15.5, 9.1, 8.1, 8.7, 12.3, 20.8, 21.6, 0.0, 10.2, 15.7, 15.3, 12.2, 12.1, 10.0, 10.9, 13.8, 11.9, 5.4, 17.8, 19.1, 7.7, 13.9, 9.9, 10.0, 12.3, 12.1, 9.9, 8.1, 5.8, 34.7, 6.6, 7.4, 4.4, 9.8, 10.2, 11.9, 15.9, 11.1, 19.6, 18.3, 14.8, 12.1, 14.4, 8.7, 7.4, 11.6, 16.6, 16.5, 7.6, 22.7, 12.6, 13.1, 16.7, 16.8, 13.6, 11.9, 12.7, 11.8, 14.7, 19.7, 12.5, 12.5, 12.4, 19.9, 6.6, 10.1, 15.5, 15.2, 15.9, 14.5, 9.7, 14.4, 10.6, 14.6, 31.3, 19.4, 18.2, 9.3, 12.5, 9.1, 8.5, 14.0, 11.4, 12.9, 10.8, 16.7, 15.0, 29.2, 17.4, 23.8, 15.1, 14.0, 17.7, 21.6, 20.9, 23.7, 17.2, 4.9, 8.4, 7.2, 10.8, 4.9, 10.4, 15.7, 26.6, 14.0, 8.8, 15.7, 16.2, 8.6, 8.7, 10.6, 9.5, 12.4, 9.1, 9.1, 22.5, 11.9, 8.0, 6.2, 11.2, 9.7, 20.1, 12.6, 15.6, 14.0, 29.1, 11.3, 11.9, 15.1, 23.5, 13.4, 12.7, 12.9, 13.1, 13.7, 10.8, 15.6, 14.2, 8.8, 10.2, 15.5, 17.1, 15.8, 15.5, 19.5, 11.9, 0.0, 16.5, 14.4, 12.3, 10.7, 8.6, 8.0, 10.8, 12.6, 11.3, 14.3, 9.5, 14.1, 14.2, 11.1, 8.1, 17.1, 11.3, 12.5, 9.5, 16.2, 10.7, 16.4, 8.8, 22.0, 15.9, 15.7, 20.3, 12.0, 9.4, 10.5, 17.6, 16.7, 20.2, 9.0, 8.1, 10.1, 7.2, 15.0, 16.3, 11.3, 11.8, 10.1, 6.2, 15.1, 6.1, 5.1, 11.6, 10.9, 10.2, 14.4, 10.4, 13.3, 13.3, 13.6, 5.4, 6.8, 15.1, 25.7, 11.3, 6.8, 15.8, 7.5, 14.7, 11.7, 7.3, 10.8, 23.0, 7.0, 23.7, 10.2, 20.4, 13.6, 18.6, 8.1, 11.7, 15.6, 14.1, 14.3, 17.0, 11.5, 11.1, 14.0, 10.1, 9.2, 11.7, 20.0, 18.1, 16.5, 12.1, 20.1, 16.6, 11.7, 6.4, 16.1, 17.8, 16.0, 42.3, 13.9, 0.0, 13.3, 13.3, 12.5, 0.0, 12.1, 16.3, 6.4, 10.9, 12.8, 12.5, 12.0, 7.9, 10.4, 7.4, 7.6, 9.5, 11.4, 8.9, 10.6, 0.0, 11.2, 9.9, 15.4, 0.0, 15.5, 11.5, 10.3, 10.7, 16.2, 24.5, 13.5, 11.0, 8.0, 20.6, 11.9, 16.4, 9.9, 10.9, 11.6, 9.3, 14.3, 15.9, 10.9, 8.4, 9.5, 10.8, 6.3, 18.9, 12.3, 8.1, 11.6, 10.7, 9.1, 9.2, 9.1, 7.9, 6.2, 10.4, 13.3, 8.5, 8.6, 9.9, 16.2, 14.3, 10.4, 23.0, 33.3, 9.5, 12.0, 12.0, 11.8, 8.3, 9.0, 33.3, 15.9, 16.9, 17.3, 12.9, 10.2, 6.6, 15.6, 11.4, 13.0, 9.0, 13.8, 11.5, 16.6, 11.9, 9.9, 11.7, 6.0, 9.1, 14.1, 6.5, 9.8, 16.4, 23.5, 8.7, 8.8, 8.2, 12.4, 8.1, 4.8, 14.1, 13.1, 11.5, 12.2, 11.5, 9.8, 15.7, 10.0, 10.8, 13.5, 9.9, 8.8, 13.2, 11.2, 22.5, 6.6, 12.4, 9.4, 12.6, 12.8, 12.4, 15.4, 15.1, 9.5, 12.6, 12.8, 12.1, 10.8, 12.0, 7.4, 6.2, 9.0, 14.0, 13.5, 10.1, 11.2, 0.0, 12.8, 11.5, 16.7, 11.3, 11.7, 13.3, 14.0, 12.0, 17.1, 13.6, 9.8, 11.0, 12.3, 8.6, 8.0, 9.6, 3.2, 34.7, 14.1, 7.2, 15.1, 9.7, 15.8, 17.4, 14.1, 14.4, 10.4, 14.8, 11.2, 34.6, 39.1, 17.0, 12.2, 8.4, 13.5, 16.1, 8.6, 6.9, 15.6, 5.9, 17.1, 11.0, 9.5, 12.3, 14.2, 8.4, 0.0, 8.9, 14.0, 16.1, 11.9, 7.6, 13.3, 12.2, 7.7, 8.2, 6.3, 8.5, 9.6, 10.4, 11.0, 9.1, 9.7, 9.4, 9.4, 7.8, 14.0, 11.1, 10.8, 14.1, 15.8, 11.1, 16.6, 13.6, 12.0, 10.2, 13.5, 9.6, 14.7, 9.1, 16.3, 24.7, 11.0, 8.2, 13.6, 10.1, 15.0, 14.6, 8.6, 9.3, 8.8, 10.3, 10.0, 5.0, 15.5, 13.2, 7.7, 19.0, 11.8, 10.1, 14.4, 12.6, 12.6, 10.0, 17.7, 14.7, 18.6, 17.4, 10.6, 23.8, 15.8, 8.7, 14.6, 12.7, 9.3, 23.7, 16.2, 16.8, 15.3, 16.6, 12.8, 11.0, 17.0, 13.2, 17.8, 20.2, 25.4, 18.1, 6.0, 19.8, 13.1, 14.8, 18.5, 10.8, 12.2, 21.8, 11.4, 12.7, 17.1, 13.4, 19.1, 16.0, 16.3, 0.0, 11.2, 13.9, 12.5, 10.3, 0.0, 12.5, 14.0, 18.5, 18.3, 18.8, 8.2, 8.0, 8.4, 18.7, 23.4, 16.6, 16.3, 7.4, 10.5, 10.3, 14.4, 7.1, 15.3, 21.2, 17.3, 16.3, 12.5, 11.0, 12.9, 9.1, 9.3, 0.0, 11.1, 14.4, 0.0, 5.3, 22.7, 14.5, 15.7, 11.1, 12.3, 8.5, 18.1, 16.8, 15.3, 8.3, 12.4, 10.2, 15.5, 19.9, 11.1, 19.5, 14.4, 18.0, 10.1, 18.4, 11.4, 0.0, 7.5, 13.5, 45.0, 12.0, 14.6, 0.0, 20.9, 10.7, 16.4, 13.4, 17.2, 16.6, 15.5, 17.5, 12.1, 9.5, 11.8, 16.3, 9.9, 10.5, 13.7, 11.6, 12.1, 17.6, 11.8, 11.2, 10.7, 12.0, 9.6, 15.5, 15.7, 15.0, 13.7, 10.4, 17.0, 14.1, 16.4, 12.6, 5.5, 20.3, 12.3, 8.8, 24.2, 9.7, 13.5, 8.8, 13.9, 12.6, 13.9, 14.5, 7.0, 10.4, 14.6, 11.3, 12.1, 9.6, 15.3]}, {\"fillcolor\": \"rgba(255, 65, 54, 0.5)\", \"line\": {\"width\": 1}, \"marker\": {\"size\": 2}, \"name\": \"USG%\", \"type\": \"box\", \"whiskerwidth\": 0.2, \"y\": [13.5, 16.4, 15.8, 26.9, 24.4, 15.9, 13.7, 12.6, 32.3, 22.5, 20.5, 15.5, 11.7, 16.6, 13.8, 18.2, 21.2, 16.8, 16.9, 17.8, 20.9, 23.7, 16.3, 20.0, 14.1, 13.2, 15.2, 22.0, 28.4, 18.7, 19.8, 13.7, 13.4, 12.2, 14.1, 12.7, 16.5, 22.9, 13.8, 15.7, 32.9, 23.6, 16.2, 14.2, 22.9, 23.6, 13.6, 18.8, 11.5, 12.2, 15.1, 14.3, 20.7, 20.9, 11.5, 22.1, 15.2, 19.1, 17.6, 15.8, 16.7, 13.7, 24.8, 26.1, 22.8, 19.0, 23.2, 19.2, 8.5, 16.3, 22.3, 23.0, 22.1, 15.9, 18.1, 18.2, 18.6, 18.0, 16.7, 19.4, 24.7, 16.1, 19.0, 17.5, 8.5, 13.0, 8.0, 11.8, 11.2, 14.2, 16.2, 11.8, 10.9, 27.6, 23.7, 16.6, 27.3, 13.3, 20.2, 15.6, 14.2, 16.5, 12.4, 20.8, 19.1, 16.6, 30.4, 17.6, 29.5, 12.7, 16.7, 17.9, 13.7, 18.4, 27.9, 16.0, 16.6, 19.6, 24.9, 15.1, 17.3, 18.5, 22.9, 10.4, 20.1, 29.0, 17.2, 16.5, 17.7, 33.3, 12.7, 11.9, 15.5, 15.5, 13.5, 21.3, 19.4, 10.6, 16.3, 14.0, 17.4, 22.1, 24.5, 23.5, 19.3, 23.8, 16.1, 20.7, 22.3, 16.3, 22.1, 29.5, 17.2, 23.2, 18.3, 17.8, 23.1, 21.8, 22.0, 12.8, 15.4, 13.4, 14.1, 13.1, 19.4, 20.4, 17.6, 17.8, 30.2, 40.5, 23.5, 20.0, 17.0, 22.8, 23.5, 21.3, 16.5, 13.5, 21.9, 19.0, 18.6, 21.3, 25.1, 15.1, 17.3, 14.4, 10.4, 21.9, 25.4, 15.7, 15.2, 16.3, 21.6, 17.9, 18.1, 19.1, 16.3, 18.9, 14.1, 19.6, 15.7, 12.2, 22.9, 10.4, 17.5, 23.2, 29.6, 16.3, 12.8, 18.5, 23.9, 14.3, 12.9, 17.0, 24.5, 31.6, 13.3, 17.8, 19.4, 19.1, 20.4, 18.5, 19.2, 16.5, 11.1, 14.1, 15.0, 14.4, 16.8, 13.7, 22.1, 23.1, 22.9, 23.4, 18.1, 15.7, 13.5, 18.1, 20.9, 17.6, 22.3, 17.9, 17.9, 18.5, 17.4, 18.7, 18.4, 23.8, 22.5, 30.5, 15.9, 15.3, 15.5, 15.1, 16.8, 22.1, 30.3, 14.8, 24.0, 29.3, 12.8, 16.7, 18.6, 27.4, 19.6, 23.4, 12.9, 14.8, 16.3, 13.7, 25.1, 17.8, 18.9, 18.4, 15.8, 9.4, 9.9, 9.3, 25.5, 16.3, 20.2, 15.4, 13.9, 19.4, 20.4, 15.0, 24.4, 25.1, 13.4, 18.5, 19.6, 15.0, 31.6, 24.6, 17.3, 20.9, 19.1, 19.5, 18.0, 17.1, 28.8, 25.6, 24.9, 14.3, 14.3, 14.3, 16.0, 15.9, 19.4, 15.1, 24.0, 19.0, 17.8, 20.0, 13.8, 16.6, 14.6, 11.0, 20.8, 14.1, 19.9, 17.0, 15.4, 27.9, 18.0, 18.6, 24.6, 25.0, 24.0, 12.0, 15.7, 22.5, 17.6, 17.4, 18.1, 18.3, 23.8, 20.0, 16.2, 13.1, 19.1, 18.2, 21.3, 24.6, 26.5, 23.3, 17.2, 19.0, 19.5, 16.4, 27.8, 20.9, 14.5, 15.5, 13.9, 14.0, 15.0, 16.7, 12.1, 17.4, 27.3, 23.9, 18.6, 22.7, 31.9, 23.5, 23.1, 14.4, 14.9, 13.8, 12.9, 25.2, 15.0, 15.0, 15.0, 20.8, 22.1, 24.3, 14.6, 16.4, 12.9, 14.9, 17.6, 17.7, 18.4, 14.9, 22.1, 19.3, 13.2, 13.9, 11.2, 15.8, 17.2, 25.6, 17.7, 11.3, 12.5, 28.9, 15.9, 20.0, 19.4, 17.9, 14.8, 21.7, 21.1, 31.5, 20.3, 28.8, 17.1, 15.8, 30.9, 17.7, 22.6, 24.4, 16.4, 12.3, 14.9, 10.3, 20.8, 26.1, 23.4, 26.9, 18.1, 17.1, 19.2, 18.0, 28.4, 16.3, 20.1, 7.4, 21.8, 20.3, 20.5, 20.1, 15.5, 20.4, 14.3, 19.0, 19.9, 16.7, 8.6, 18.3, 30.2, 15.2, 16.6, 15.2, 12.3, 14.2, 13.4, 23.4, 19.6, 32.2, 9.1, 16.5, 20.0, 16.3, 12.4, 13.5, 20.5, 26.4, 14.9, 14.9, 20.2, 18.5, 21.0, 19.5, 14.6, 18.6, 17.8, 15.5, 22.5, 24.2, 18.8, 17.8, 16.1, 11.6, 13.8, 12.7, 14.3, 18.3, 13.2, 23.7, 13.2, 12.5, 18.1, 28.4, 21.0, 11.6, 21.6, 20.1, 22.4, 25.0, 12.9, 15.3, 16.3, 10.9, 10.7, 11.6, 23.9, 20.8, 12.9, 21.6, 17.9, 31.5, 19.5, 21.6, 19.2, 23.2, 21.3, 16.9, 19.9, 26.7, 27.1, 25.8, 18.7, 18.9, 12.8, 20.1, 16.0, 15.1, 20.6, 23.0, 17.5, 15.7, 20.6, 20.9, 12.8, 23.7, 21.3, 25.6, 34.1, 21.8, 11.5, 27.6, 17.5, 15.3, 17.9, 10.9, 23.2, 16.5, 28.9, 15.0, 21.3, 21.6, 19.4, 23.3, 27.8, 14.8, 13.0, 12.6, 19.5, 28.4, 18.3, 15.0, 21.1, 11.3, 17.2, 22.0, 13.5, 14.2, 29.1, 19.6, 18.5, 27.9, 14.6, 20.6, 22.6, 20.3, 13.1, 26.1, 13.8, 17.7, 20.3, 16.6, 23.8, 20.7, 19.7, 19.3, 17.5, 17.2, 18.2, 19.6, 14.1, 21.5, 19.2, 24.6, 24.7, 27.0, 16.7, 16.1, 18.5, 32.8, 17.6, 14.0, 17.0, 23.4, 15.5, 19.8, 17.6, 15.5, 16.5, 17.5, 17.2, 19.1, 28.4, 18.3, 16.4, 18.6, 21.9, 23.8, 20.5, 28.4, 14.4, 10.5, 31.3, 18.0, 16.6, 14.1, 22.5, 14.6, 17.9, 10.4, 26.2, 20.7, 18.1, 21.3, 21.8, 23.8, 22.7, 15.9, 13.3, 23.1, 18.8, 13.1, 19.6, 22.2, 23.3, 18.3, 18.9, 13.3, 12.9, 26.2, 22.6, 24.6, 22.1, 28.6, 32.3, 26.3, 18.1, 15.3, 17.8, 26.3, 16.2, 15.1, 17.6, 15.7, 17.4, 20.3, 17.4, 17.0, 16.4, 15.8, 15.3, 18.4, 13.6, 17.0, 22.5, 24.7, 25.1, 23.9, 14.4, 14.0, 18.4, 14.6, 25.9, 26.6, 22.6, 14.4, 15.8, 20.5, 18.1, 13.6, 19.9, 22.0, 20.6, 15.2, 19.6, 13.7, 23.0, 15.8, 18.6, 26.9, 21.9, 15.9, 26.3, 15.5, 21.7, 25.4, 19.5, 12.5, 13.1, 15.1, 13.0, 26.6, 19.8, 18.3, 19.4, 18.2, 20.5, 18.3, 19.0, 18.9, 19.2, 17.7, 17.2, 12.8, 20.1, 23.3, 19.9, 15.3, 14.8, 15.8, 8.9, 17.8, 18.7, 16.8, 17.0, 23.8, 13.4, 23.9, 14.4, 22.0, 19.0, 23.3, 16.5, 16.9, 15.3, 18.1, 25.3, 16.7, 15.5, 23.8, 24.4, 21.8, 19.5, 15.7, 19.5, 22.7, 20.8, 13.7, 17.0, 23.1, 14.1, 16.4, 11.3, 24.9, 19.2, 17.7, 25.2, 21.1, 19.1, 14.2, 20.7, 24.5, 20.6, 13.1, 23.7, 17.0, 19.0, 16.9, 18.3, 13.6, 12.9, 17.7, 19.9, 19.2, 12.0, 11.2, 16.3, 13.8, 13.4, 13.9, 15.1, 17.5, 38.3, 16.6, 17.3, 13.4, 11.6, 12.7, 9.6, 15.0, 15.4, 14.5, 14.7, 15.5, 24.3, 17.9, 16.7, 19.0, 9.0, 18.6, 14.9, 13.9, 15.5, 22.5, 22.6, 22.1, 20.2, 16.6, 23.6, 19.5, 18.2, 20.3, 31.7, 18.3, 20.0, 11.2, 14.8, 17.9, 17.0, 22.8, 21.4, 14.6, 18.7, 18.7, 18.6, 17.4, 20.1, 15.6, 20.6, 13.2, 14.0, 11.0, 18.6, 15.1, 9.5, 19.7, 24.8, 25.3, 24.5, 30.1, 26.7, 32.8, 14.1, 29.1, 18.4, 14.2, 21.1, 20.5, 23.4, 23.6, 25.3, 13.9, 14.3, 27.8, 25.8, 32.1, 17.0, 15.1, 17.8, 15.9, 12.7, 27.6, 14.0, 24.1, 23.9, 25.6, 14.7, 14.2, 14.8, 19.5, 19.6, 26.7, 17.3, 34.7, 22.5, 24.0, 21.7, 25.9, 26.1, 9.0, 18.2, 21.0, 38.4, 21.1, 23.9, 22.6, 22.3, 18.9, 16.4, 19.5, 14.7, 13.3, 17.3, 13.6, 14.9, 14.1, 12.8, 17.1, 30.5, 15.8, 26.0, 21.5, 21.2, 22.0, 15.6, 19.6, 13.1, 30.5, 12.6, 17.9, 18.4, 25.9, 13.0, 16.8, 16.9, 10.8, 17.5, 10.2, 15.4, 15.8, 14.4, 24.7, 22.3, 29.7, 7.0, 15.7, 16.7, 17.5, 18.1, 15.9, 17.9, 23.0, 13.9, 21.4, 16.4, 18.5, 20.0, 25.3, 29.7, 19.7, 19.2, 15.3, 11.5, 12.8, 12.9, 27.2, 11.4, 23.0, 14.6, 24.7, 19.8, 16.9, 17.8, 22.9, 11.0, 11.4, 25.3, 25.9, 16.2, 24.4, 16.9, 18.2, 19.9, 16.1, 18.5, 18.5, 21.3, 17.8, 13.2, 12.7, 14.7, 19.5, 22.8, 21.7, 19.2, 10.6, 22.4, 18.7, 35.4, 21.5, 16.4, 24.9, 18.5, 11.0, 17.4, 32.6, 20.4, 29.6, 12.7, 15.2, 15.9, 17.4, 29.8, 17.0, 16.7, 20.7, 19.4, 24.1, 12.7, 14.4, 30.6, 20.7, 17.5, 21.2, 19.8, 21.8, 20.0, 17.1, 11.7, 24.7, 18.2, 21.0, 18.9, 23.9, 18.4, 20.1, 15.9, 16.8, 14.1, 19.4, 15.0, 22.0, 15.1, 13.2, 18.3, 23.0, 15.6, 23.4, 24.6, 22.4, 9.2, 30.4, 14.6, 14.2, 23.2, 17.3, 20.3, 18.9, 18.0, 19.0, 14.6, 18.8, 19.8, 19.8, 20.2, 20.2, 20.4, 29.8, 32.5, 14.5, 17.9, 16.5, 15.1, 19.3, 18.9, 20.2, 13.7, 12.8, 17.1, 25.7, 20.2, 19.1, 16.9, 12.9, 21.6, 15.8, 20.3, 13.2, 19.1, 28.9, 16.2, 15.4, 16.6, 13.5, 17.9, 21.5, 20.6, 18.4, 16.3, 13.0, 19.5, 18.0, 25.0, 20.4, 17.6, 12.1, 13.5, 29.5, 21.7, 29.1, 31.4, 24.2, 13.4, 18.1, 20.1, 16.7, 20.0, 19.0, 20.9, 13.5, 13.6, 15.9, 17.9, 17.8, 18.4, 19.6, 16.8, 16.0, 15.1, 16.2, 19.3, 16.1, 15.4, 17.0, 17.1, 23.4, 13.7, 17.9, 18.0, 23.8, 15.2, 25.2, 26.2, 13.7, 15.4, 22.0, 24.0, 19.5, 23.5, 14.9, 14.8, 15.5, 14.7, 15.3, 13.6, 21.5, 22.9, 20.0, 20.4, 25.8, 17.4, 19.8, 31.3, 22.2, 14.2, 16.5, 27.3, 17.7, 23.4, 26.1, 17.9, 23.3, 28.5, 22.2, 15.7, 19.2, 22.6, 23.5, 19.5, 17.2, 9.4, 20.1, 16.8, 14.7, 19.3, 27.1, 16.5, 17.3, 20.4, 21.1, 17.6, 23.9, 20.0, 26.7, 15.0, 23.1, 14.0, 20.5, 23.0, 9.3, 24.3, 23.5, 15.9, 18.4, 24.2, 26.0, 21.9, 16.9, 16.1, 25.7, 22.8, 15.5, 19.7, 20.5, 16.4, 17.2, 20.4, 14.2, 18.8, 12.4, 19.2, 23.1, 14.5, 25.5, 13.5, 21.2, 27.3, 22.9, 20.9, 16.2, 20.9, 21.2, 20.5, 12.8, 12.9, 27.1, 17.7, 20.3, 20.4, 17.8, 17.1, 15.5, 16.2, 20.7, 18.4, 17.8, 18.7, 21.1, 15.1, 13.7, 11.0, 21.2, 24.6, 13.8, 19.4, 9.1, 19.8, 19.9, 19.6, 16.1, 19.8, 18.8, 27.3, 18.2, 17.7, 17.7, 12.5, 24.1, 19.5, 17.4, 12.3, 21.8, 13.2, 18.9, 17.3, 11.9, 17.4, 22.1, 22.9, 23.6, 22.1, 13.7, 29.7, 15.5, 16.7, 20.2, 15.1, 25.3, 14.9, 19.2, 20.3, 21.8, 26.6, 14.0, 15.0, 29.6, 16.9, 16.2, 13.9, 15.2, 13.0, 26.3, 11.7, 24.4, 24.3, 24.8, 12.4, 12.0, 24.9, 18.8, 20.9, 16.7, 21.8, 15.7, 13.5, 13.0, 31.6, 17.7, 26.5, 28.6, 13.2, 13.2, 15.2, 18.0, 31.6, 20.7, 27.2, 22.6, 22.0, 23.3, 12.7, 16.8, 12.5, 15.1, 19.4, 16.2, 15.4, 22.1, 33.5, 9.1, 18.5, 21.6, 15.4, 23.0, 16.8, 20.0, 16.5, 16.2, 14.4, 9.4, 24.5, 10.9, 17.9, 15.4, 20.9, 23.6, 17.2, 12.1, 17.9, 28.3, 29.1, 14.1, 17.3, 13.0, 14.8, 19.1, 20.0, 25.3, 15.6, 16.4, 13.1, 21.1, 22.3, 27.7, 14.1, 20.5, 26.5, 22.0, 25.3, 19.2, 14.4, 14.1, 13.2, 16.4, 15.7, 28.1, 10.4, 10.4, 18.2, 28.6, 18.7, 21.9, 14.3, 12.9, 18.0, 18.5, 19.2, 15.6, 14.2, 27.5, 22.7, 18.1, 13.4, 19.6, 22.7, 26.5, 20.1, 19.2, 15.4, 19.9, 15.6, 14.9, 20.9, 14.4, 16.3, 20.3, 10.3, 19.7, 11.2, 22.0, 19.7, 19.5, 23.3, 19.8, 10.1, 26.3, 13.0, 19.6, 20.7, 18.9, 36.5, 37.5, 33.1, 19.2, 14.9, 22.7, 25.5, 17.0, 10.7, 19.5, 30.1, 21.7, 32.6, 12.0, 12.0, 12.3, 14.9, 18.3, 16.3, 14.2, 34.3, 20.5, 14.0, 14.1, 22.4, 13.8, 14.0, 13.7, 14.3, 14.2, 27.8, 16.2, 24.7, 17.9, 16.8, 36.0, 13.0, 19.1, 19.3, 19.0, 26.7, 27.2, 26.0, 18.1, 18.3, 20.7, 24.2, 16.5, 19.6, 19.9, 19.5, 11.6, 17.9, 23.5, 16.3, 19.3, 20.0, 18.4, 19.5, 15.4, 26.4, 21.3, 25.8, 15.0, 28.9, 12.3, 26.3, 19.3, 19.2, 19.5, 16.7, 20.1, 22.1, 14.7, 11.8, 12.1, 24.9, 11.8, 16.0, 13.5, 16.2, 22.7, 14.4, 20.3, 28.0, 16.2, 34.2, 17.6, 19.7, 18.4, 16.5, 21.7, 12.9, 16.4, 12.8, 19.8, 19.6, 20.3, 27.6, 17.9, 16.6, 18.8, 21.3, 20.4, 22.9, 19.7, 23.5, 11.5, 19.3, 23.5, 16.9, 18.7, 18.6, 22.9, 19.7, 19.2, 15.7, 20.9, 20.8, 20.9, 11.2, 13.9, 16.8, 30.8, 9.2, 17.3, 26.4, 30.0, 26.1, 12.2, 17.6, 18.1, 15.8, 11.4, 13.6, 39.8, 22.0, 18.5, 14.8, 20.9, 12.5, 13.4, 13.6, 15.3, 18.4, 21.8, 27.3, 14.6, 23.8, 25.0, 15.2, 14.5, 15.8, 15.3, 19.2, 23.2, 18.5, 17.8, 20.7, 21.7, 19.5, 19.0, 14.4, 17.6, 31.1, 15.5, 17.3, 16.6, 11.6, 11.5, 13.8, 31.5, 26.6, 13.0, 13.4, 29.2, 17.5, 26.4, 24.9, 21.7, 14.0, 19.6, 14.0, 17.8, 16.4, 19.4, 11.6, 14.6, 11.9, 27.5, 19.9, 20.4, 15.7, 16.4, 17.6, 13.6, 23.8, 12.3, 20.1, 16.9, 19.4, 10.6, 15.5, 22.5, 24.4, 24.3, 17.4, 20.3, 20.5, 16.8, 22.6, 21.5, 23.5, 21.6, 14.8, 21.2, 15.8, 14.8, 20.2, 17.0, 17.6, 15.8, 12.6, 17.6, 17.8, 17.3, 9.5, 25.8, 11.8, 21.1, 18.3, 25.0, 18.5, 18.0, 24.1, 21.4, 19.0, 10.4, 15.3, 16.9, 26.5, 20.2, 17.8, 12.5, 24.4, 23.1, 20.9, 19.6, 23.9, 21.6, 15.8, 14.8, 12.8, 18.1, 18.3, 17.5, 13.1, 15.5, 8.7, 12.1, 15.1, 19.1, 16.7, 21.1, 16.9, 9.0, 17.2, 22.8, 19.7, 20.1, 19.6, 21.4, 29.2, 15.3, 16.8, 19.3, 20.3, 10.1, 12.8, 17.8, 25.7, 19.3, 19.8, 18.5, 17.1, 17.4, 9.6, 26.6, 15.4, 23.6, 15.8, 13.3, 15.3, 12.0, 16.1, 20.1, 14.0, 13.1, 18.0, 11.2, 18.8, 16.7, 12.1, 23.6, 16.4, 18.7, 19.0, 17.1, 19.1, 31.3, 6.4, 22.1, 14.2, 9.8, 34.0, 13.1, 26.1, 11.3, 13.6, 27.5, 18.5, 19.5, 20.3, 15.4, 20.6, 17.2, 13.1, 29.6, 26.3, 29.2, 30.6, 16.3, 17.2, 16.1, 17.9, 41.7, 10.8, 18.2, 22.7, 29.0, 20.9, 22.1, 23.7, 18.1, 17.2, 20.4, 14.4, 16.3, 17.1, 17.4, 16.2, 19.8, 14.9, 16.3, 16.6, 13.3, 19.5, 16.4, 15.5, 16.5, 14.4, 20.3, 14.4, 16.7, 15.9, 16.8, 29.1, 16.3, 14.6, 14.8, 19.3, 13.5, 14.4, 20.3, 31.2, 23.2, 12.4, 8.1, 14.4, 19.5, 13.7, 10.0, 16.1, 17.4, 25.2, 20.7, 18.3, 15.1, 16.8, 22.5, 27.6, 16.2, 26.9, 20.7, 21.2, 19.8, 13.9, 12.7, 19.6, 13.2, 15.4, 14.9, 14.3, 23.7, 26.1, 28.7, 26.0, 8.8, 31.7, 43.9, 23.5, 24.4, 16.7, 18.4, 14.3, 14.2, 14.4, 19.1, 18.5, 29.8, 21.4, 11.9, 14.0, 15.9, 15.7, 25.1, 22.5, 24.9, 15.8, 12.5, 16.0, 16.9, 18.9, 11.0, 19.0, 19.4, 19.8, 14.7, 16.6, 12.9, 16.3, 21.8, 14.8, 10.6, 14.3, 18.1, 17.2, 26.5, 27.7, 24.1, 17.9, 15.4, 17.4, 25.9, 13.4, 17.5, 18.1, 31.9, 17.2, 19.0, 11.9, 23.7, 17.3, 15.1, 21.3, 11.6, 10.0, 15.8, 31.0, 17.2, 30.0, 15.3, 12.1, 17.0, 15.5, 13.5, 9.8, 29.6, 17.4, 16.3, 20.3, 20.0, 17.3, 42.9, 21.2, 10.2, 24.7, 30.4, 23.8, 17.3, 33.4, 13.7, 12.5, 16.0, 17.7, 28.4, 23.1, 18.3, 18.5, 20.4, 10.4, 17.0, 15.1, 16.7, 23.3, 23.4, 12.8, 15.2, 15.6, 13.8, 23.1, 20.6, 19.3, 25.6, 20.4, 24.6, 25.7, 29.0, 14.7, 16.9, 24.7, 24.7, 15.5, 11.3, 16.0, 17.4, 16.6, 17.2, 22.4, 17.8, 19.3, 28.9, 29.3, 28.4, 19.9, 36.1, 23.8, 20.2, 21.5, 18.2, 20.7, 16.6, 23.3, 23.2, 23.5, 19.6, 18.0, 13.5, 11.1, 17.9, 15.0, 19.9, 17.4, 24.3, 18.9, 16.3, 16.9, 15.4, 12.2, 23.1, 18.2, 18.5, 22.2, 16.6, 24.3, 27.3, 18.3, 16.3, 18.4, 16.2, 24.2, 19.4, 11.5, 15.9, 14.1, 22.2, 31.0, 15.0, 11.6, 15.8, 16.1, 14.8, 26.0, 14.2, 27.1, 31.6, 22.5, 15.6, 12.8, 13.5, 19.1, 16.4, 18.6, 13.0, 13.9, 20.9, 11.1, 22.0, 12.7, 15.2, 14.8, 20.5, 21.8, 17.2, 16.1, 13.7, 16.9, 19.0, 16.0, 15.2, 22.5, 22.4, 29.5, 14.6, 16.9, 19.3, 17.0, 30.6, 16.1, 16.1, 22.5, 30.6, 31.3, 16.6, 12.4, 23.5, 20.4, 25.1, 21.7, 21.1, 17.6, 15.6, 14.6, 21.9, 17.1, 17.6, 12.8, 12.8, 26.5, 15.0, 14.4, 16.3, 19.2, 12.1, 16.0, 19.0, 19.0, 12.8, 24.6, 12.8, 12.1, 22.0, 29.1, 24.9, 22.4, 23.3, 19.6, 24.9, 16.1, 9.7, 16.9, 23.0, 19.5, 13.7, 24.9, 16.8, 24.4, 24.8, 23.7, 20.7, 22.8, 15.7, 17.1, 19.5, 18.3, 20.9, 17.2, 13.8, 20.5, 16.9, 15.6, 14.6, 17.0, 9.0, 21.0, 23.5, 20.9, 30.1, 21.7, 15.7, 17.0, 18.4, 18.7, 11.0, 24.4, 20.5, 18.3, 10.8, 22.1, 24.5, 19.3, 21.9, 21.8, 22.1, 16.8, 15.9, 17.6, 16.6, 12.8, 14.8, 15.0, 18.4, 26.0, 15.5, 18.9, 12.0, 22.1, 16.8, 17.7, 25.3, 27.6, 16.0, 18.2, 15.2, 15.2, 17.5, 20.6, 8.6, 10.2, 12.5, 16.9, 25.4, 25.6, 25.0, 17.3, 20.4, 22.9, 30.8, 22.1, 12.5, 20.0, 16.4, 22.6, 12.9, 15.7, 22.3, 22.0, 17.0, 21.6, 19.4, 21.7, 14.4, 10.6, 15.9, 8.4, 16.7, 21.6, 22.3, 20.0, 19.4, 20.6, 16.4, 15.5, 28.8, 28.9, 28.7, 10.7, 23.7, 12.6, 12.1, 14.8, 22.9, 15.6, 20.0, 9.1, 18.5, 17.5, 19.1, 14.5, 11.5, 18.1, 26.2, 24.3, 30.7, 25.0, 27.4, 29.1, 16.6, 34.1, 15.4, 10.3, 28.5, 24.7, 23.4, 17.5, 14.8, 20.1, 29.4, 19.6, 16.3, 17.2, 15.7, 17.5, 17.3, 15.7, 16.4, 17.9, 13.9, 17.6]}],\n",
              "                        {\"margin\": {\"b\": 80, \"l\": 40, \"r\": 30, \"t\": 100}, \"paper_bgcolor\": \"rgb(243, 243, 243)\", \"plot_bgcolor\": \"rgb(243, 243, 243)\", \"showlegend\": false, \"template\": {\"data\": {\"bar\": [{\"error_x\": {\"color\": \"#2a3f5f\"}, \"error_y\": {\"color\": \"#2a3f5f\"}, \"marker\": {\"line\": {\"color\": \"#E5ECF6\", \"width\": 0.5}}, \"type\": \"bar\"}], \"barpolar\": [{\"marker\": {\"line\": {\"color\": \"#E5ECF6\", \"width\": 0.5}}, \"type\": \"barpolar\"}], \"carpet\": [{\"aaxis\": {\"endlinecolor\": \"#2a3f5f\", \"gridcolor\": \"white\", \"linecolor\": \"white\", \"minorgridcolor\": \"white\", \"startlinecolor\": \"#2a3f5f\"}, \"baxis\": {\"endlinecolor\": \"#2a3f5f\", \"gridcolor\": \"white\", \"linecolor\": \"white\", \"minorgridcolor\": \"white\", \"startlinecolor\": \"#2a3f5f\"}, \"type\": \"carpet\"}], \"choropleth\": [{\"colorbar\": {\"outlinewidth\": 0, \"ticks\": \"\"}, \"type\": \"choropleth\"}], \"contour\": [{\"colorbar\": {\"outlinewidth\": 0, \"ticks\": \"\"}, \"colorscale\": [[0.0, \"#0d0887\"], [0.1111111111111111, \"#46039f\"], [0.2222222222222222, \"#7201a8\"], [0.3333333333333333, \"#9c179e\"], [0.4444444444444444, \"#bd3786\"], [0.5555555555555556, \"#d8576b\"], [0.6666666666666666, \"#ed7953\"], [0.7777777777777778, \"#fb9f3a\"], [0.8888888888888888, \"#fdca26\"], [1.0, \"#f0f921\"]], \"type\": \"contour\"}], \"contourcarpet\": [{\"colorbar\": {\"outlinewidth\": 0, \"ticks\": \"\"}, \"type\": \"contourcarpet\"}], \"heatmap\": [{\"colorbar\": {\"outlinewidth\": 0, \"ticks\": \"\"}, \"colorscale\": [[0.0, \"#0d0887\"], [0.1111111111111111, \"#46039f\"], [0.2222222222222222, \"#7201a8\"], [0.3333333333333333, \"#9c179e\"], [0.4444444444444444, \"#bd3786\"], [0.5555555555555556, \"#d8576b\"], [0.6666666666666666, \"#ed7953\"], [0.7777777777777778, \"#fb9f3a\"], [0.8888888888888888, \"#fdca26\"], [1.0, \"#f0f921\"]], \"type\": \"heatmap\"}], \"heatmapgl\": [{\"colorbar\": {\"outlinewidth\": 0, \"ticks\": \"\"}, \"colorscale\": [[0.0, \"#0d0887\"], [0.1111111111111111, \"#46039f\"], [0.2222222222222222, \"#7201a8\"], [0.3333333333333333, \"#9c179e\"], [0.4444444444444444, \"#bd3786\"], [0.5555555555555556, \"#d8576b\"], [0.6666666666666666, \"#ed7953\"], [0.7777777777777778, \"#fb9f3a\"], [0.8888888888888888, \"#fdca26\"], [1.0, \"#f0f921\"]], \"type\": \"heatmapgl\"}], \"histogram\": [{\"marker\": {\"colorbar\": {\"outlinewidth\": 0, \"ticks\": \"\"}}, \"type\": \"histogram\"}], \"histogram2d\": [{\"colorbar\": {\"outlinewidth\": 0, \"ticks\": \"\"}, \"colorscale\": [[0.0, \"#0d0887\"], [0.1111111111111111, \"#46039f\"], [0.2222222222222222, \"#7201a8\"], [0.3333333333333333, \"#9c179e\"], [0.4444444444444444, \"#bd3786\"], [0.5555555555555556, \"#d8576b\"], [0.6666666666666666, \"#ed7953\"], [0.7777777777777778, \"#fb9f3a\"], [0.8888888888888888, \"#fdca26\"], [1.0, \"#f0f921\"]], \"type\": \"histogram2d\"}], \"histogram2dcontour\": [{\"colorbar\": {\"outlinewidth\": 0, \"ticks\": \"\"}, \"colorscale\": [[0.0, \"#0d0887\"], [0.1111111111111111, \"#46039f\"], [0.2222222222222222, \"#7201a8\"], [0.3333333333333333, \"#9c179e\"], [0.4444444444444444, \"#bd3786\"], [0.5555555555555556, \"#d8576b\"], [0.6666666666666666, \"#ed7953\"], [0.7777777777777778, \"#fb9f3a\"], [0.8888888888888888, \"#fdca26\"], [1.0, \"#f0f921\"]], \"type\": \"histogram2dcontour\"}], \"mesh3d\": [{\"colorbar\": {\"outlinewidth\": 0, \"ticks\": \"\"}, \"type\": \"mesh3d\"}], \"parcoords\": [{\"line\": {\"colorbar\": {\"outlinewidth\": 0, \"ticks\": \"\"}}, \"type\": \"parcoords\"}], \"pie\": [{\"automargin\": true, \"type\": \"pie\"}], \"scatter\": [{\"marker\": {\"colorbar\": {\"outlinewidth\": 0, \"ticks\": \"\"}}, \"type\": \"scatter\"}], \"scatter3d\": [{\"line\": {\"colorbar\": {\"outlinewidth\": 0, \"ticks\": \"\"}}, \"marker\": {\"colorbar\": {\"outlinewidth\": 0, \"ticks\": \"\"}}, \"type\": \"scatter3d\"}], \"scattercarpet\": [{\"marker\": {\"colorbar\": {\"outlinewidth\": 0, \"ticks\": \"\"}}, \"type\": \"scattercarpet\"}], \"scattergeo\": [{\"marker\": {\"colorbar\": {\"outlinewidth\": 0, \"ticks\": \"\"}}, \"type\": \"scattergeo\"}], \"scattergl\": [{\"marker\": {\"colorbar\": {\"outlinewidth\": 0, \"ticks\": \"\"}}, \"type\": \"scattergl\"}], \"scattermapbox\": [{\"marker\": {\"colorbar\": {\"outlinewidth\": 0, \"ticks\": \"\"}}, \"type\": \"scattermapbox\"}], \"scatterpolar\": [{\"marker\": {\"colorbar\": {\"outlinewidth\": 0, \"ticks\": \"\"}}, \"type\": \"scatterpolar\"}], \"scatterpolargl\": [{\"marker\": {\"colorbar\": {\"outlinewidth\": 0, \"ticks\": \"\"}}, \"type\": \"scatterpolargl\"}], \"scatterternary\": [{\"marker\": {\"colorbar\": {\"outlinewidth\": 0, \"ticks\": \"\"}}, \"type\": \"scatterternary\"}], \"surface\": [{\"colorbar\": {\"outlinewidth\": 0, \"ticks\": \"\"}, \"colorscale\": [[0.0, \"#0d0887\"], [0.1111111111111111, \"#46039f\"], [0.2222222222222222, \"#7201a8\"], [0.3333333333333333, \"#9c179e\"], [0.4444444444444444, \"#bd3786\"], [0.5555555555555556, \"#d8576b\"], [0.6666666666666666, \"#ed7953\"], [0.7777777777777778, \"#fb9f3a\"], [0.8888888888888888, \"#fdca26\"], [1.0, \"#f0f921\"]], \"type\": \"surface\"}], \"table\": [{\"cells\": {\"fill\": {\"color\": \"#EBF0F8\"}, \"line\": {\"color\": \"white\"}}, \"header\": {\"fill\": {\"color\": \"#C8D4E3\"}, \"line\": {\"color\": \"white\"}}, \"type\": \"table\"}]}, \"layout\": {\"annotationdefaults\": {\"arrowcolor\": \"#2a3f5f\", \"arrowhead\": 0, \"arrowwidth\": 1}, \"coloraxis\": {\"colorbar\": {\"outlinewidth\": 0, \"ticks\": \"\"}}, \"colorscale\": {\"diverging\": [[0, \"#8e0152\"], [0.1, \"#c51b7d\"], [0.2, \"#de77ae\"], [0.3, \"#f1b6da\"], [0.4, \"#fde0ef\"], [0.5, \"#f7f7f7\"], [0.6, \"#e6f5d0\"], [0.7, \"#b8e186\"], [0.8, \"#7fbc41\"], [0.9, \"#4d9221\"], [1, \"#276419\"]], \"sequential\": [[0.0, \"#0d0887\"], [0.1111111111111111, \"#46039f\"], [0.2222222222222222, \"#7201a8\"], [0.3333333333333333, \"#9c179e\"], [0.4444444444444444, \"#bd3786\"], [0.5555555555555556, \"#d8576b\"], [0.6666666666666666, \"#ed7953\"], [0.7777777777777778, \"#fb9f3a\"], [0.8888888888888888, \"#fdca26\"], [1.0, \"#f0f921\"]], \"sequentialminus\": [[0.0, \"#0d0887\"], [0.1111111111111111, \"#46039f\"], [0.2222222222222222, \"#7201a8\"], [0.3333333333333333, \"#9c179e\"], [0.4444444444444444, \"#bd3786\"], [0.5555555555555556, \"#d8576b\"], [0.6666666666666666, \"#ed7953\"], [0.7777777777777778, \"#fb9f3a\"], [0.8888888888888888, \"#fdca26\"], [1.0, \"#f0f921\"]]}, \"colorway\": [\"#636efa\", \"#EF553B\", \"#00cc96\", \"#ab63fa\", \"#FFA15A\", \"#19d3f3\", \"#FF6692\", \"#B6E880\", \"#FF97FF\", \"#FECB52\"], \"font\": {\"color\": \"#2a3f5f\"}, \"geo\": {\"bgcolor\": \"white\", \"lakecolor\": \"white\", \"landcolor\": \"#E5ECF6\", \"showlakes\": true, \"showland\": true, \"subunitcolor\": \"white\"}, \"hoverlabel\": {\"align\": \"left\"}, \"hovermode\": \"closest\", \"mapbox\": {\"style\": \"light\"}, \"paper_bgcolor\": \"white\", \"plot_bgcolor\": \"#E5ECF6\", \"polar\": {\"angularaxis\": {\"gridcolor\": \"white\", \"linecolor\": \"white\", \"ticks\": \"\"}, \"bgcolor\": \"#E5ECF6\", \"radialaxis\": {\"gridcolor\": \"white\", \"linecolor\": \"white\", \"ticks\": \"\"}}, \"scene\": {\"xaxis\": {\"backgroundcolor\": \"#E5ECF6\", \"gridcolor\": \"white\", \"gridwidth\": 2, \"linecolor\": \"white\", \"showbackground\": true, \"ticks\": \"\", \"zerolinecolor\": \"white\"}, \"yaxis\": {\"backgroundcolor\": \"#E5ECF6\", \"gridcolor\": \"white\", \"gridwidth\": 2, \"linecolor\": \"white\", \"showbackground\": true, \"ticks\": \"\", \"zerolinecolor\": \"white\"}, \"zaxis\": {\"backgroundcolor\": \"#E5ECF6\", \"gridcolor\": \"white\", \"gridwidth\": 2, \"linecolor\": \"white\", \"showbackground\": true, \"ticks\": \"\", \"zerolinecolor\": \"white\"}}, \"shapedefaults\": {\"line\": {\"color\": \"#2a3f5f\"}}, \"ternary\": {\"aaxis\": {\"gridcolor\": \"white\", \"linecolor\": \"white\", \"ticks\": \"\"}, \"baxis\": {\"gridcolor\": \"white\", \"linecolor\": \"white\", \"ticks\": \"\"}, \"bgcolor\": \"#E5ECF6\", \"caxis\": {\"gridcolor\": \"white\", \"linecolor\": \"white\", \"ticks\": \"\"}}, \"title\": {\"x\": 0.05}, \"xaxis\": {\"automargin\": true, \"gridcolor\": \"white\", \"linecolor\": \"white\", \"ticks\": \"\", \"title\": {\"standoff\": 15}, \"zerolinecolor\": \"white\", \"zerolinewidth\": 2}, \"yaxis\": {\"automargin\": true, \"gridcolor\": \"white\", \"linecolor\": \"white\", \"ticks\": \"\", \"title\": {\"standoff\": 15}, \"zerolinecolor\": \"white\", \"zerolinewidth\": 2}}}, \"title\": {\"text\": \"All Players stats that is in percentage (%) over the past 5 years\"}, \"yaxis\": {\"autorange\": true, \"dtick\": 5, \"gridcolor\": \"rgb(255, 255, 255)\", \"gridwidth\": 1, \"showgrid\": true, \"zeroline\": true, \"zerolinecolor\": \"rgb(255, 255, 255)\", \"zerolinewidth\": 2}},\n",
              "                        {\"responsive\": true}\n",
              "                    ).then(function(){\n",
              "                            \n",
              "var gd = document.getElementById('7188d706-09f4-453d-a7eb-65a4e95b34c9');\n",
              "var x = new MutationObserver(function (mutations, observer) {{\n",
              "        var display = window.getComputedStyle(gd).display;\n",
              "        if (!display || display === 'none') {{\n",
              "            console.log([gd, 'removed!']);\n",
              "            Plotly.purge(gd);\n",
              "            observer.disconnect();\n",
              "        }}\n",
              "}});\n",
              "\n",
              "// Listen for the removal of the full notebook cells\n",
              "var notebookContainer = gd.closest('#notebook-container');\n",
              "if (notebookContainer) {{\n",
              "    x.observe(notebookContainer, {childList: true});\n",
              "}}\n",
              "\n",
              "// Listen for the clearing of the current output cell\n",
              "var outputEl = gd.closest('.output');\n",
              "if (outputEl) {{\n",
              "    x.observe(outputEl, {childList: true});\n",
              "}}\n",
              "\n",
              "                        })\n",
              "                };\n",
              "                \n",
              "            </script>\n",
              "        </div>\n",
              "</body>\n",
              "</html>"
            ]
          },
          "metadata": {
            "tags": []
          }
        }
      ]
    },
    {
      "cell_type": "markdown",
      "metadata": {
        "id": "IZa2nBgxn4Yv"
      },
      "source": [
        "## Boxplot of Ohio's player statistics"
      ]
    },
    {
      "cell_type": "code",
      "metadata": {
        "id": "KUkPSK76oKO7"
      },
      "source": [
        "pt1.head()\n",
        "ohio_pt1 = pt1.loc[pt1['State'] == \"Ohio\"]"
      ],
      "execution_count": null,
      "outputs": []
    },
    {
      "cell_type": "markdown",
      "metadata": {
        "id": "jcw8NgfcpKYS"
      },
      "source": [
        "### Ohio's players statistics on efficiency"
      ]
    },
    {
      "cell_type": "code",
      "metadata": {
        "colab": {
          "base_uri": "https://localhost:8080/",
          "height": 542
        },
        "id": "oVvaaOXYo05k",
        "outputId": "2b4669df-6b93-4caa-d918-742ac577ce88"
      },
      "source": [
        "import plotly.graph_objects as go\n",
        "\n",
        "x_data = [\"PER\", \"OWS\", \"DWS\", \"WS\",\n",
        "                  \"OBPM\", \"DBPM\", \"BPM\"]\n",
        "\n",
        "y_data = [ohio_pt1[\"PER\"], ohio_pt1[\"OWS\"], ohio_pt1[\"DWS\"],\n",
        "          ohio_pt1[\"WS\"], ohio_pt1[\"OBPM\"], ohio_pt1[\"DBPM\"], ohio_pt1[\"BPM\"]]\n",
        "\n",
        "colors = ['rgba(93, 164, 214, 0.5)', 'rgba(255, 144, 14, 0.5)', 'rgba(44, 160, 101, 0.5)',\n",
        "          'rgba(255, 65, 54, 0.5)', 'rgba(207, 114, 255, 0.5)', 'rgba(127, 96, 0, 0.5)','rgba(93, 164, 214, 0.5)']\n",
        "\n",
        "fig = go.Figure()\n",
        "\n",
        "for xd, yd, cls in zip(x_data, y_data, colors):\n",
        "        fig.add_trace(go.Box(\n",
        "            y=yd,\n",
        "            name=xd,\n",
        "            whiskerwidth=0.2,\n",
        "            fillcolor=cls,\n",
        "            marker_size=2,\n",
        "            line_width=1)\n",
        "        )\n",
        "\n",
        "\n",
        "fig.update_layout(\n",
        "    title='Ohio Players Statistics (Efficiency) over the past 5 years',\n",
        "    yaxis=dict(\n",
        "        autorange=True,\n",
        "        showgrid=True,\n",
        "        zeroline=True,\n",
        "        dtick=5,\n",
        "        gridcolor='rgb(255, 255, 255)',\n",
        "        gridwidth=1,\n",
        "        zerolinecolor='rgb(255, 255, 255)',\n",
        "        zerolinewidth=2,\n",
        "    ),\n",
        "    margin=dict(\n",
        "        l=40,\n",
        "        r=30,\n",
        "        b=80,\n",
        "        t=100,\n",
        "    ),\n",
        "    paper_bgcolor='rgb(243, 243, 243)',\n",
        "    plot_bgcolor='rgb(243, 243, 243)',\n",
        "    showlegend=False,\n",
        ")\n",
        "\n",
        "fig.show()"
      ],
      "execution_count": null,
      "outputs": [
        {
          "output_type": "display_data",
          "data": {
            "text/html": [
              "<html>\n",
              "<head><meta charset=\"utf-8\" /></head>\n",
              "<body>\n",
              "    <div>\n",
              "            <script src=\"https://cdnjs.cloudflare.com/ajax/libs/mathjax/2.7.5/MathJax.js?config=TeX-AMS-MML_SVG\"></script><script type=\"text/javascript\">if (window.MathJax) {MathJax.Hub.Config({SVG: {font: \"STIX-Web\"}});}</script>\n",
              "                <script type=\"text/javascript\">window.PlotlyConfig = {MathJaxConfig: 'local'};</script>\n",
              "        <script src=\"https://cdn.plot.ly/plotly-latest.min.js\"></script>    \n",
              "            <div id=\"6367d913-98ce-45f2-9bec-b9163fc9b0e5\" class=\"plotly-graph-div\" style=\"height:525px; width:100%;\"></div>\n",
              "            <script type=\"text/javascript\">\n",
              "                \n",
              "                    window.PLOTLYENV=window.PLOTLYENV || {};\n",
              "                    \n",
              "                if (document.getElementById(\"6367d913-98ce-45f2-9bec-b9163fc9b0e5\")) {\n",
              "                    Plotly.newPlot(\n",
              "                        '6367d913-98ce-45f2-9bec-b9163fc9b0e5',\n",
              "                        [{\"fillcolor\": \"rgba(93, 164, 214, 0.5)\", \"line\": {\"width\": 1}, \"marker\": {\"size\": 2}, \"name\": \"PER\", \"type\": \"box\", \"whiskerwidth\": 0.2, \"y\": [13.2, 16.8, 11.5, 13.5, 13.0, 10.5, 11.3, 19.5, -0.7, 12.5, 11.5, 15.3, 12.0, 18.4, 8.5, 5.6, 21.5, 25.9, 11.1, 18.8, 4.6, 18.7, 4.7, 11.1, 15.6, 12.2, 11.3, 14.9, 3.4, 19.9, 27.5, 9.7, 10.3, 11.6, 12.5, 19.0, 14.2, 14.6, 8.4, 15.9, 7.6, 11.4, 15.6, 23.0, 27.0, 8.3, 13.5, 7.2, 21.1, 6.5, 9.0, 15.3, 11.4, 11.1, 15.4, 10.2, 13.9, 14.8, 12.2, 5.9, 12.7, 28.6, 13.4, 22.4, 11.0, 11.6, 6.4, 12.3, 13.6, 15.9]}, {\"fillcolor\": \"rgba(255, 144, 14, 0.5)\", \"line\": {\"width\": 1}, \"marker\": {\"size\": 2}, \"name\": \"OWS\", \"type\": \"box\", \"whiskerwidth\": 0.2, \"y\": [0.6, 1.9, 0.5, 0.5, 1.5, 0.3, 0.2, 1.0, -0.2, 1.1, 1.2, 0.2, -0.1, 2.1, 1.4, 0.0, 8.4, 7.4, 1.2, 5.8, -0.1, 2.5, -0.4, 0.1, 4.7, -0.3, 2.2, 0.9, 0.0, 3.2, 9.6, 1.4, 0.0, 0.7, 0.0, 4.7, 0.1, 1.8, -0.1, 5.6, 0.1, -0.3, 2.3, 7.4, 9.8, 1.3, 1.6, -0.5, 4.0, 0.0, 0.7, 5.0, 0.4, 0.6, 0.8, 1.1, 0.7, 3.1, 0.8, -0.3, 0.6, 11.0, 2.8, 4.7, 0.5, -0.1, -0.2, -0.1, 1.8, 0.4]}, {\"fillcolor\": \"rgba(44, 160, 101, 0.5)\", \"line\": {\"width\": 1}, \"marker\": {\"size\": 2}, \"name\": \"DWS\", \"type\": \"box\", \"whiskerwidth\": 0.2, \"y\": [0.3, -0.1, -0.1, 0.0, 0.0, 0.0, 0.0, 0.4, 0.0, 0.3, 0.2, 0.1, -0.5, 0.5, 0.5, 0.2, 2.0, 2.9, 0.4, 2.9, 0.5, 1.3, 0.2, 1.1, 2.1, 0.7, 1.6, 0.6, 0.0, 1.7, 4.0, 1.3, 0.1, 0.5, 0.2, 3.8, 0.1, 1.9, 1.8, 3.1, 0.2, 0.4, 1.4, 1.5, 3.0, 0.8, 0.4, 0.9, 2.4, 0.0, 1.4, 2.3, 0.2, 0.2, 0.2, 0.6, 0.5, 0.8, 0.3, 0.1, 0.2, 3.0, 0.6, 1.6, 0.4, 0.0, 0.2, 0.1, 0.7, 0.9]}, {\"fillcolor\": \"rgba(255, 65, 54, 0.5)\", \"line\": {\"width\": 1}, \"marker\": {\"size\": 2}, \"name\": \"WS\", \"type\": \"box\", \"whiskerwidth\": 0.2, \"y\": [0.9, 1.8, 0.4, 0.5, 1.5, 0.2, 0.2, 1.3, -0.2, 1.4, 1.5, 0.3, -0.6, 2.6, 1.9, 0.2, 10.4, 10.4, 1.5, 8.7, 0.4, 3.9, -0.2, 1.2, 6.8, 0.5, 3.8, 1.5, 0.0, 5.0, 13.6, 2.7, 0.1, 1.2, 0.2, 8.5, 0.2, 3.7, 1.7, 8.7, 0.3, 0.1, 3.7, 8.9, 12.9, 2.1, 2.0, 0.4, 6.4, 0.0, 2.0, 7.3, 0.6, 0.8, 1.0, 1.7, 1.2, 3.9, 1.1, -0.2, 0.8, 14.0, 3.4, 6.4, 0.9, -0.1, 0.0, -0.1, 2.5, 1.3]}, {\"fillcolor\": \"rgba(207, 114, 255, 0.5)\", \"line\": {\"width\": 1}, \"marker\": {\"size\": 2}, \"name\": \"OBPM\", \"type\": \"box\", \"whiskerwidth\": 0.2, \"y\": [-0.2, 2.1, -1.4, -0.7, -1.0, -2.3, 0.6, 3.3, -7.8, -1.8, -1.4, 0.1, -1.4, 1.4, -2.0, -4.0, 4.4, 6.1, 0.2, 3.2, -3.7, 0.4, -8.6, -1.5, 0.1, -2.6, -0.7, 1.3, -5.0, 3.2, 7.0, -1.6, -2.7, -0.2, -3.3, 3.0, 0.7, -1.7, -3.0, 0.5, -2.7, -3.1, 1.4, 4.7, 6.4, -2.5, 1.9, -4.6, 3.3, -13.4, -2.3, 0.0, -1.2, -1.0, 0.5, -1.9, -0.4, -0.3, -0.7, -3.6, -0.8, 7.3, 1.5, 4.5, -2.1, -1.8, -3.4, -1.2, -1.0, -0.1]}, {\"fillcolor\": \"rgba(127, 96, 0, 0.5)\", \"line\": {\"width\": 1}, \"marker\": {\"size\": 2}, \"name\": \"DBPM\", \"type\": \"box\", \"whiskerwidth\": 0.2, \"y\": [-1.2, -2.6, -3.0, -1.2, -1.1, -1.8, -1.3, -1.6, -3.2, -0.3, -1.8, -0.8, -3.3, -1.9, -0.8, -1.6, -0.4, 1.0, -0.9, -0.4, 0.3, -0.1, -1.1, 1.4, -1.4, 0.0, -0.5, -0.2, -0.9, -0.8, 2.0, 0.5, -0.3, -0.1, 0.5, 0.3, -3.0, 0.3, 1.4, -0.3, -0.4, 0.7, -0.4, -1.3, 1.2, -0.6, -1.6, 2.4, -1.2, -1.7, 0.1, -0.7, -1.8, -1.5, -1.8, -1.0, 0.1, -1.5, -0.5, -1.9, -0.7, 1.4, -1.2, -1.3, -0.7, -3.5, 0.0, -3.6, -1.9, -0.1]}, {\"fillcolor\": \"rgba(93, 164, 214, 0.5)\", \"line\": {\"width\": 1}, \"marker\": {\"size\": 2}, \"name\": \"BPM\", \"type\": \"box\", \"whiskerwidth\": 0.2, \"y\": [-1.4, -0.5, -4.5, -2.0, -2.1, -4.1, -0.7, 1.6, -11.0, -2.1, -3.2, -0.7, -4.7, -0.5, -2.8, -5.6, 4.1, 7.1, -0.7, 2.7, -3.4, 0.3, -9.7, -0.1, -1.2, -2.6, -1.2, 1.0, -5.9, 2.3, 9.0, -1.2, -3.0, -0.3, -2.8, 3.3, -2.4, -1.4, -1.5, 0.2, -3.1, -2.4, 1.0, 3.4, 7.6, -3.1, 0.3, -2.3, 2.1, -15.0, -2.3, -0.7, -3.0, -2.5, -1.3, -3.0, -0.3, -1.8, -1.2, -5.5, -1.5, 8.7, 0.2, 3.3, -2.9, -5.4, -3.3, -4.8, -2.9, -0.2]}],\n",
              "                        {\"margin\": {\"b\": 80, \"l\": 40, \"r\": 30, \"t\": 100}, \"paper_bgcolor\": \"rgb(243, 243, 243)\", \"plot_bgcolor\": \"rgb(243, 243, 243)\", \"showlegend\": false, \"template\": {\"data\": {\"bar\": [{\"error_x\": {\"color\": \"#2a3f5f\"}, \"error_y\": {\"color\": \"#2a3f5f\"}, \"marker\": {\"line\": {\"color\": \"#E5ECF6\", \"width\": 0.5}}, \"type\": \"bar\"}], \"barpolar\": [{\"marker\": {\"line\": {\"color\": \"#E5ECF6\", \"width\": 0.5}}, \"type\": \"barpolar\"}], \"carpet\": [{\"aaxis\": {\"endlinecolor\": \"#2a3f5f\", \"gridcolor\": \"white\", \"linecolor\": \"white\", \"minorgridcolor\": \"white\", \"startlinecolor\": \"#2a3f5f\"}, \"baxis\": {\"endlinecolor\": \"#2a3f5f\", \"gridcolor\": \"white\", \"linecolor\": \"white\", \"minorgridcolor\": \"white\", \"startlinecolor\": \"#2a3f5f\"}, \"type\": \"carpet\"}], \"choropleth\": [{\"colorbar\": {\"outlinewidth\": 0, \"ticks\": \"\"}, \"type\": \"choropleth\"}], \"contour\": [{\"colorbar\": {\"outlinewidth\": 0, \"ticks\": \"\"}, \"colorscale\": [[0.0, \"#0d0887\"], [0.1111111111111111, \"#46039f\"], [0.2222222222222222, \"#7201a8\"], [0.3333333333333333, \"#9c179e\"], [0.4444444444444444, \"#bd3786\"], [0.5555555555555556, \"#d8576b\"], [0.6666666666666666, \"#ed7953\"], [0.7777777777777778, \"#fb9f3a\"], [0.8888888888888888, \"#fdca26\"], [1.0, \"#f0f921\"]], \"type\": \"contour\"}], \"contourcarpet\": [{\"colorbar\": {\"outlinewidth\": 0, \"ticks\": \"\"}, \"type\": \"contourcarpet\"}], \"heatmap\": [{\"colorbar\": {\"outlinewidth\": 0, \"ticks\": \"\"}, \"colorscale\": [[0.0, \"#0d0887\"], [0.1111111111111111, \"#46039f\"], [0.2222222222222222, \"#7201a8\"], [0.3333333333333333, \"#9c179e\"], [0.4444444444444444, \"#bd3786\"], [0.5555555555555556, \"#d8576b\"], [0.6666666666666666, \"#ed7953\"], [0.7777777777777778, \"#fb9f3a\"], [0.8888888888888888, \"#fdca26\"], [1.0, \"#f0f921\"]], \"type\": \"heatmap\"}], \"heatmapgl\": [{\"colorbar\": {\"outlinewidth\": 0, \"ticks\": \"\"}, \"colorscale\": [[0.0, \"#0d0887\"], [0.1111111111111111, \"#46039f\"], [0.2222222222222222, \"#7201a8\"], [0.3333333333333333, \"#9c179e\"], [0.4444444444444444, \"#bd3786\"], [0.5555555555555556, \"#d8576b\"], [0.6666666666666666, \"#ed7953\"], [0.7777777777777778, \"#fb9f3a\"], [0.8888888888888888, \"#fdca26\"], [1.0, \"#f0f921\"]], \"type\": \"heatmapgl\"}], \"histogram\": [{\"marker\": {\"colorbar\": {\"outlinewidth\": 0, \"ticks\": \"\"}}, \"type\": \"histogram\"}], \"histogram2d\": [{\"colorbar\": {\"outlinewidth\": 0, \"ticks\": \"\"}, \"colorscale\": [[0.0, \"#0d0887\"], [0.1111111111111111, \"#46039f\"], [0.2222222222222222, \"#7201a8\"], [0.3333333333333333, \"#9c179e\"], [0.4444444444444444, \"#bd3786\"], [0.5555555555555556, \"#d8576b\"], [0.6666666666666666, \"#ed7953\"], [0.7777777777777778, \"#fb9f3a\"], [0.8888888888888888, \"#fdca26\"], [1.0, \"#f0f921\"]], \"type\": \"histogram2d\"}], \"histogram2dcontour\": [{\"colorbar\": {\"outlinewidth\": 0, \"ticks\": \"\"}, \"colorscale\": [[0.0, \"#0d0887\"], [0.1111111111111111, \"#46039f\"], [0.2222222222222222, \"#7201a8\"], [0.3333333333333333, \"#9c179e\"], [0.4444444444444444, \"#bd3786\"], [0.5555555555555556, \"#d8576b\"], [0.6666666666666666, \"#ed7953\"], [0.7777777777777778, \"#fb9f3a\"], [0.8888888888888888, \"#fdca26\"], [1.0, \"#f0f921\"]], \"type\": \"histogram2dcontour\"}], \"mesh3d\": [{\"colorbar\": {\"outlinewidth\": 0, \"ticks\": \"\"}, \"type\": \"mesh3d\"}], \"parcoords\": [{\"line\": {\"colorbar\": {\"outlinewidth\": 0, \"ticks\": \"\"}}, \"type\": \"parcoords\"}], \"pie\": [{\"automargin\": true, \"type\": \"pie\"}], \"scatter\": [{\"marker\": {\"colorbar\": {\"outlinewidth\": 0, \"ticks\": \"\"}}, \"type\": \"scatter\"}], \"scatter3d\": [{\"line\": {\"colorbar\": {\"outlinewidth\": 0, \"ticks\": \"\"}}, \"marker\": {\"colorbar\": {\"outlinewidth\": 0, \"ticks\": \"\"}}, \"type\": \"scatter3d\"}], \"scattercarpet\": [{\"marker\": {\"colorbar\": {\"outlinewidth\": 0, \"ticks\": \"\"}}, \"type\": \"scattercarpet\"}], \"scattergeo\": [{\"marker\": {\"colorbar\": {\"outlinewidth\": 0, \"ticks\": \"\"}}, \"type\": \"scattergeo\"}], \"scattergl\": [{\"marker\": {\"colorbar\": {\"outlinewidth\": 0, \"ticks\": \"\"}}, \"type\": \"scattergl\"}], \"scattermapbox\": [{\"marker\": {\"colorbar\": {\"outlinewidth\": 0, \"ticks\": \"\"}}, \"type\": \"scattermapbox\"}], \"scatterpolar\": [{\"marker\": {\"colorbar\": {\"outlinewidth\": 0, \"ticks\": \"\"}}, \"type\": \"scatterpolar\"}], \"scatterpolargl\": [{\"marker\": {\"colorbar\": {\"outlinewidth\": 0, \"ticks\": \"\"}}, \"type\": \"scatterpolargl\"}], \"scatterternary\": [{\"marker\": {\"colorbar\": {\"outlinewidth\": 0, \"ticks\": \"\"}}, \"type\": \"scatterternary\"}], \"surface\": [{\"colorbar\": {\"outlinewidth\": 0, \"ticks\": \"\"}, \"colorscale\": [[0.0, \"#0d0887\"], [0.1111111111111111, \"#46039f\"], [0.2222222222222222, \"#7201a8\"], [0.3333333333333333, \"#9c179e\"], [0.4444444444444444, \"#bd3786\"], [0.5555555555555556, \"#d8576b\"], [0.6666666666666666, \"#ed7953\"], [0.7777777777777778, \"#fb9f3a\"], [0.8888888888888888, \"#fdca26\"], [1.0, \"#f0f921\"]], \"type\": \"surface\"}], \"table\": [{\"cells\": {\"fill\": {\"color\": \"#EBF0F8\"}, \"line\": {\"color\": \"white\"}}, \"header\": {\"fill\": {\"color\": \"#C8D4E3\"}, \"line\": {\"color\": \"white\"}}, \"type\": \"table\"}]}, \"layout\": {\"annotationdefaults\": {\"arrowcolor\": \"#2a3f5f\", \"arrowhead\": 0, \"arrowwidth\": 1}, \"coloraxis\": {\"colorbar\": {\"outlinewidth\": 0, \"ticks\": \"\"}}, \"colorscale\": {\"diverging\": [[0, \"#8e0152\"], [0.1, \"#c51b7d\"], [0.2, \"#de77ae\"], [0.3, \"#f1b6da\"], [0.4, \"#fde0ef\"], [0.5, \"#f7f7f7\"], [0.6, \"#e6f5d0\"], [0.7, \"#b8e186\"], [0.8, \"#7fbc41\"], [0.9, \"#4d9221\"], [1, \"#276419\"]], \"sequential\": [[0.0, \"#0d0887\"], [0.1111111111111111, \"#46039f\"], [0.2222222222222222, \"#7201a8\"], [0.3333333333333333, \"#9c179e\"], [0.4444444444444444, \"#bd3786\"], [0.5555555555555556, \"#d8576b\"], [0.6666666666666666, \"#ed7953\"], [0.7777777777777778, \"#fb9f3a\"], [0.8888888888888888, \"#fdca26\"], [1.0, \"#f0f921\"]], \"sequentialminus\": [[0.0, \"#0d0887\"], [0.1111111111111111, \"#46039f\"], [0.2222222222222222, \"#7201a8\"], [0.3333333333333333, \"#9c179e\"], [0.4444444444444444, \"#bd3786\"], [0.5555555555555556, \"#d8576b\"], [0.6666666666666666, \"#ed7953\"], [0.7777777777777778, \"#fb9f3a\"], [0.8888888888888888, \"#fdca26\"], [1.0, \"#f0f921\"]]}, \"colorway\": [\"#636efa\", \"#EF553B\", \"#00cc96\", \"#ab63fa\", \"#FFA15A\", \"#19d3f3\", \"#FF6692\", \"#B6E880\", \"#FF97FF\", \"#FECB52\"], \"font\": {\"color\": \"#2a3f5f\"}, \"geo\": {\"bgcolor\": \"white\", \"lakecolor\": \"white\", \"landcolor\": \"#E5ECF6\", \"showlakes\": true, \"showland\": true, \"subunitcolor\": \"white\"}, \"hoverlabel\": {\"align\": \"left\"}, \"hovermode\": \"closest\", \"mapbox\": {\"style\": \"light\"}, \"paper_bgcolor\": \"white\", \"plot_bgcolor\": \"#E5ECF6\", \"polar\": {\"angularaxis\": {\"gridcolor\": \"white\", \"linecolor\": \"white\", \"ticks\": \"\"}, \"bgcolor\": \"#E5ECF6\", \"radialaxis\": {\"gridcolor\": \"white\", \"linecolor\": \"white\", \"ticks\": \"\"}}, \"scene\": {\"xaxis\": {\"backgroundcolor\": \"#E5ECF6\", \"gridcolor\": \"white\", \"gridwidth\": 2, \"linecolor\": \"white\", \"showbackground\": true, \"ticks\": \"\", \"zerolinecolor\": \"white\"}, \"yaxis\": {\"backgroundcolor\": \"#E5ECF6\", \"gridcolor\": \"white\", \"gridwidth\": 2, \"linecolor\": \"white\", \"showbackground\": true, \"ticks\": \"\", \"zerolinecolor\": \"white\"}, \"zaxis\": {\"backgroundcolor\": \"#E5ECF6\", \"gridcolor\": \"white\", \"gridwidth\": 2, \"linecolor\": \"white\", \"showbackground\": true, \"ticks\": \"\", \"zerolinecolor\": \"white\"}}, \"shapedefaults\": {\"line\": {\"color\": \"#2a3f5f\"}}, \"ternary\": {\"aaxis\": {\"gridcolor\": \"white\", \"linecolor\": \"white\", \"ticks\": \"\"}, \"baxis\": {\"gridcolor\": \"white\", \"linecolor\": \"white\", \"ticks\": \"\"}, \"bgcolor\": \"#E5ECF6\", \"caxis\": {\"gridcolor\": \"white\", \"linecolor\": \"white\", \"ticks\": \"\"}}, \"title\": {\"x\": 0.05}, \"xaxis\": {\"automargin\": true, \"gridcolor\": \"white\", \"linecolor\": \"white\", \"ticks\": \"\", \"title\": {\"standoff\": 15}, \"zerolinecolor\": \"white\", \"zerolinewidth\": 2}, \"yaxis\": {\"automargin\": true, \"gridcolor\": \"white\", \"linecolor\": \"white\", \"ticks\": \"\", \"title\": {\"standoff\": 15}, \"zerolinecolor\": \"white\", \"zerolinewidth\": 2}}}, \"title\": {\"text\": \"Ohio Players Statistics (Efficiency) over the past 5 years\"}, \"yaxis\": {\"autorange\": true, \"dtick\": 5, \"gridcolor\": \"rgb(255, 255, 255)\", \"gridwidth\": 1, \"showgrid\": true, \"zeroline\": true, \"zerolinecolor\": \"rgb(255, 255, 255)\", \"zerolinewidth\": 2}},\n",
              "                        {\"responsive\": true}\n",
              "                    ).then(function(){\n",
              "                            \n",
              "var gd = document.getElementById('6367d913-98ce-45f2-9bec-b9163fc9b0e5');\n",
              "var x = new MutationObserver(function (mutations, observer) {{\n",
              "        var display = window.getComputedStyle(gd).display;\n",
              "        if (!display || display === 'none') {{\n",
              "            console.log([gd, 'removed!']);\n",
              "            Plotly.purge(gd);\n",
              "            observer.disconnect();\n",
              "        }}\n",
              "}});\n",
              "\n",
              "// Listen for the removal of the full notebook cells\n",
              "var notebookContainer = gd.closest('#notebook-container');\n",
              "if (notebookContainer) {{\n",
              "    x.observe(notebookContainer, {childList: true});\n",
              "}}\n",
              "\n",
              "// Listen for the clearing of the current output cell\n",
              "var outputEl = gd.closest('.output');\n",
              "if (outputEl) {{\n",
              "    x.observe(outputEl, {childList: true});\n",
              "}}\n",
              "\n",
              "                        })\n",
              "                };\n",
              "                \n",
              "            </script>\n",
              "        </div>\n",
              "</body>\n",
              "</html>"
            ]
          },
          "metadata": {
            "tags": []
          }
        }
      ]
    },
    {
      "cell_type": "markdown",
      "metadata": {
        "id": "fbxKAjc5papl"
      },
      "source": [
        "### Ohio's players statistics that are in percentage"
      ]
    },
    {
      "cell_type": "code",
      "metadata": {
        "colab": {
          "base_uri": "https://localhost:8080/",
          "height": 542
        },
        "id": "eulAahlYpmTS",
        "outputId": "d30ea7e0-39a5-4f8a-dcec-c867af95f5a0"
      },
      "source": [
        "import plotly.graph_objects as go\n",
        "\n",
        "x_data = [\"ORB%\", \"DRB%\", \"TRB%\", \"AST%\",\n",
        "                  \"STL%\", \"BLK%\", \"TOV%\", \"USG%\"]\n",
        "\n",
        "y_data = [ohio_pt1[\"ORB%\"], ohio_pt1[\"DRB%\"], ohio_pt1[\"TRB%\"],\n",
        "          ohio_pt1[\"AST%\"], ohio_pt1[\"STL%\"], ohio_pt1[\"BLK%\"], ohio_pt1[\"TOV%\"], ohio_pt1[\"USG%\"]]\n",
        "\n",
        "colors = ['rgba(93, 164, 214, 0.5)', 'rgba(255, 144, 14, 0.5)', 'rgba(44, 160, 101, 0.5)',\n",
        "          'rgba(255, 65, 54, 0.5)', 'rgba(207, 114, 255, 0.5)', 'rgba(127, 96, 0, 0.5)','rgba(93, 164, 214, 0.5)','rgba(255, 65, 54, 0.5)']\n",
        "\n",
        "fig = go.Figure()\n",
        "\n",
        "for xd, yd, cls in zip(x_data, y_data, colors):\n",
        "        fig.add_trace(go.Box(\n",
        "            y=yd,  \n",
        "            name=xd,\n",
        "            whiskerwidth=0.2,\n",
        "            fillcolor=cls,\n",
        "            marker_size=2,\n",
        "            line_width=1)\n",
        "        )\n",
        "\n",
        "fig.update_layout(\n",
        "    title='Ohio Players stats that is in percentage (%) over the past 5 years',\n",
        "    yaxis=dict(\n",
        "        autorange=True,\n",
        "        showgrid=True,\n",
        "        zeroline=True,\n",
        "        dtick=5,\n",
        "        gridcolor='rgb(255, 255, 255)',\n",
        "        gridwidth=1,\n",
        "        zerolinecolor='rgb(255, 255, 255)',\n",
        "        zerolinewidth=2,\n",
        "    ),\n",
        "    margin=dict(\n",
        "        l=40,\n",
        "        r=30,\n",
        "        b=80,\n",
        "        t=100,\n",
        "    ),\n",
        "    paper_bgcolor='rgb(243, 243, 243)',\n",
        "    plot_bgcolor='rgb(243, 243, 243)',\n",
        "    showlegend=False\n",
        ")\n",
        "\n",
        "fig.show()"
      ],
      "execution_count": null,
      "outputs": [
        {
          "output_type": "display_data",
          "data": {
            "text/html": [
              "<html>\n",
              "<head><meta charset=\"utf-8\" /></head>\n",
              "<body>\n",
              "    <div>\n",
              "            <script src=\"https://cdnjs.cloudflare.com/ajax/libs/mathjax/2.7.5/MathJax.js?config=TeX-AMS-MML_SVG\"></script><script type=\"text/javascript\">if (window.MathJax) {MathJax.Hub.Config({SVG: {font: \"STIX-Web\"}});}</script>\n",
              "                <script type=\"text/javascript\">window.PlotlyConfig = {MathJaxConfig: 'local'};</script>\n",
              "        <script src=\"https://cdn.plot.ly/plotly-latest.min.js\"></script>    \n",
              "            <div id=\"080227f1-1957-4e00-a7a9-0d963f95ef39\" class=\"plotly-graph-div\" style=\"height:525px; width:100%;\"></div>\n",
              "            <script type=\"text/javascript\">\n",
              "                \n",
              "                    window.PLOTLYENV=window.PLOTLYENV || {};\n",
              "                    \n",
              "                if (document.getElementById(\"080227f1-1957-4e00-a7a9-0d963f95ef39\")) {\n",
              "                    Plotly.newPlot(\n",
              "                        '080227f1-1957-4e00-a7a9-0d963f95ef39',\n",
              "                        [{\"fillcolor\": \"rgba(93, 164, 214, 0.5)\", \"line\": {\"width\": 1}, \"marker\": {\"size\": 2}, \"name\": \"ORB%\", \"type\": \"box\", \"whiskerwidth\": 0.2, \"y\": [2.8, 3.9, 0.9, 3.7, 1.6, 1.5, 0.0, 5.9, 0.0, 4.4, 2.0, 1.8, 2.3, 15.4, 3.1, 1.7, 2.3, 2.4, 1.6, 6.5, 0.7, 11.4, 7.7, 4.2, 14.5, 1.8, 2.0, 3.1, 0.0, 3.0, 4.7, 1.3, 2.7, 2.0, 14.4, 7.0, 2.0, 9.5, 2.8, 13.5, 1.6, 0.9, 3.0, 2.3, 4.0, 2.0, 0.9, 2.6, 8.9, 26.3, 2.3, 13.9, 0.2, 0.8, 2.3, 3.5, 2.1, 3.7, 3.4, 3.9, 1.7, 3.7, 0.7, 7.0, 3.2, 3.7, 2.9, 2.0, 13.4, 4.2]}, {\"fillcolor\": \"rgba(255, 144, 14, 0.5)\", \"line\": {\"width\": 1}, \"marker\": {\"size\": 2}, \"name\": \"DRB%\", \"type\": \"box\", \"whiskerwidth\": 0.2, \"y\": [19.0, 9.9, 9.9, 5.1, 8.8, 7.7, 13.4, 40.0, 6.6, 14.4, 14.8, 10.6, 8.0, 25.7, 7.3, 7.8, 7.5, 16.6, 9.0, 26.3, 14.0, 20.4, 20.3, 13.5, 19.7, 6.5, 7.8, 20.4, 22.5, 7.6, 18.8, 9.6, 10.7, 10.2, 16.5, 28.4, 9.9, 19.2, 14.6, 23.3, 12.3, 10.5, 19.3, 7.5, 20.7, 11.6, 11.2, 11.9, 29.3, 8.2, 9.9, 19.6, 9.7, 13.5, 7.9, 10.8, 20.3, 11.2, 7.3, 11.4, 9.5, 22.3, 10.9, 29.8, 16.6, 6.8, 13.6, 6.5, 23.3, 14.7]}, {\"fillcolor\": \"rgba(44, 160, 101, 0.5)\", \"line\": {\"width\": 1}, \"marker\": {\"size\": 2}, \"name\": \"TRB%\", \"type\": \"box\", \"whiskerwidth\": 0.2, \"y\": [10.6, 6.8, 5.2, 4.4, 5.0, 4.5, 6.4, 22.2, 3.1, 9.2, 8.1, 6.0, 5.0, 20.3, 5.2, 4.8, 5.0, 9.6, 5.3, 16.6, 7.4, 15.9, 14.1, 8.9, 17.2, 4.2, 4.9, 11.8, 11.3, 5.3, 11.8, 5.5, 6.7, 6.1, 15.5, 17.8, 6.0, 14.4, 8.7, 18.4, 7.1, 5.9, 11.4, 5.0, 12.6, 6.9, 6.2, 7.4, 19.5, 17.0, 6.2, 16.9, 5.1, 7.4, 5.1, 7.2, 11.3, 7.6, 5.4, 7.7, 5.7, 13.1, 5.9, 18.6, 10.0, 5.3, 8.3, 4.3, 18.4, 9.5]}, {\"fillcolor\": \"rgba(255, 65, 54, 0.5)\", \"line\": {\"width\": 1}, \"marker\": {\"size\": 2}, \"name\": \"AST%\", \"type\": \"box\", \"whiskerwidth\": 0.2, \"y\": [15.0, 15.6, 31.3, 16.2, 11.5, 15.1, 10.1, 12.8, 4.9, 8.1, 12.1, 20.0, 15.3, 11.2, 21.1, 7.7, 25.0, 38.6, 5.4, 10.7, 9.0, 5.6, 7.2, 9.3, 2.7, 15.6, 26.2, 9.1, 18.2, 26.6, 36.0, 6.4, 7.3, 4.5, 4.5, 12.2, 22.3, 3.9, 9.8, 4.0, 7.5, 22.7, 4.9, 29.7, 41.3, 6.6, 6.1, 9.5, 9.8, 0.0, 7.8, 4.6, 25.9, 4.7, 12.0, 6.0, 7.5, 8.0, 14.0, 3.9, 8.4, 44.4, 8.0, 9.8, 8.7, 13.0, 8.1, 25.1, 4.3, 23.3]}, {\"fillcolor\": \"rgba(207, 114, 255, 0.5)\", \"line\": {\"width\": 1}, \"marker\": {\"size\": 2}, \"name\": \"STL%\", \"type\": \"box\", \"whiskerwidth\": 0.2, \"y\": [1.3, 1.3, 0.8, 1.7, 1.5, 1.5, 0.6, 0.5, 1.9, 1.8, 1.2, 2.3, 0.8, 1.2, 0.9, 0.7, 2.2, 2.3, 1.0, 1.0, 1.0, 0.8, 0.6, 2.9, 0.8, 2.9, 1.2, 0.9, 0.0, 1.7, 2.0, 1.3, 1.2, 1.2, 2.2, 1.2, 0.0, 0.9, 2.1, 0.9, 0.8, 2.3, 1.2, 1.6, 1.6, 0.8, 0.6, 3.0, 1.4, 3.8, 1.6, 0.8, 0.6, 0.6, 1.5, 1.5, 1.5, 1.1, 1.6, 2.0, 1.4, 1.9, 1.0, 1.3, 1.6, 0.5, 1.6, 1.1, 0.7, 1.9]}, {\"fillcolor\": \"rgba(127, 96, 0, 0.5)\", \"line\": {\"width\": 1}, \"marker\": {\"size\": 2}, \"name\": \"BLK%\", \"type\": \"box\", \"whiskerwidth\": 0.2, \"y\": [1.4, 0.5, 0.2, 0.3, 0.4, 0.3, 0.7, 0.7, 0.0, 1.5, 0.4, 1.5, 0.2, 1.2, 0.1, 0.3, 0.6, 1.6, 0.9, 1.2, 0.5, 3.9, 1.9, 1.1, 2.2, 1.0, 0.4, 1.5, 0.0, 0.9, 1.5, 0.9, 3.9, 1.8, 4.3, 1.4, 0.7, 3.5, 1.2, 1.8, 0.4, 1.5, 2.1, 0.8, 1.3, 0.5, 0.8, 1.5, 0.9, 6.2, 1.1, 2.9, 1.0, 0.4, 0.4, 0.8, 1.9, 1.6, 1.9, 1.0, 0.8, 2.0, 1.5, 1.2, 0.4, 1.1, 1.2, 0.4, 1.3, 2.5]}, {\"fillcolor\": \"rgba(93, 164, 214, 0.5)\", \"line\": {\"width\": 1}, \"marker\": {\"size\": 2}, \"name\": \"TOV%\", \"type\": \"box\", \"whiskerwidth\": 0.2, \"y\": [10.7, 9.6, 18.9, 14.7, 6.7, 10.1, 17.0, 11.2, 25.0, 8.8, 11.0, 15.1, 12.3, 12.1, 15.9, 17.6, 11.8, 15.3, 5.5, 10.0, 16.6, 15.0, 32.1, 15.5, 12.2, 12.0, 17.7, 7.2, 20.0, 11.4, 13.2, 10.9, 0.0, 7.8, 24.3, 11.3, 13.5, 15.0, 14.8, 10.4, 12.5, 14.3, 8.8, 10.3, 16.1, 11.8, 9.5, 21.6, 10.9, 29.1, 12.9, 10.8, 20.2, 10.1, 9.3, 9.2, 8.8, 9.4, 12.0, 11.0, 3.2, 16.1, 9.6, 9.6, 13.4, 15.7, 19.9, 15.5, 11.8, 15.7]}, {\"fillcolor\": \"rgba(255, 65, 54, 0.5)\", \"line\": {\"width\": 1}, \"marker\": {\"size\": 2}, \"name\": \"USG%\", \"type\": \"box\", \"whiskerwidth\": 0.2, \"y\": [19.2, 27.6, 18.4, 17.3, 19.1, 17.6, 17.4, 27.4, 9.9, 14.6, 18.6, 18.1, 25.2, 17.7, 12.6, 14.1, 26.2, 32.3, 15.8, 21.7, 8.9, 18.1, 17.7, 15.6, 14.0, 24.0, 15.9, 18.3, 15.1, 29.5, 31.4, 13.4, 15.1, 16.2, 13.7, 23.4, 26.7, 16.1, 13.2, 11.7, 13.7, 24.2, 19.3, 30.8, 30.0, 12.2, 15.8, 11.5, 26.4, 23.6, 14.0, 11.3, 18.1, 14.4, 24.1, 15.1, 15.6, 19.3, 15.4, 18.5, 18.3, 31.6, 16.0, 25.1, 15.7, 25.6, 12.9, 28.9, 12.6, 24.3]}],\n",
              "                        {\"margin\": {\"b\": 80, \"l\": 40, \"r\": 30, \"t\": 100}, \"paper_bgcolor\": \"rgb(243, 243, 243)\", \"plot_bgcolor\": \"rgb(243, 243, 243)\", \"showlegend\": false, \"template\": {\"data\": {\"bar\": [{\"error_x\": {\"color\": \"#2a3f5f\"}, \"error_y\": {\"color\": \"#2a3f5f\"}, \"marker\": {\"line\": {\"color\": \"#E5ECF6\", \"width\": 0.5}}, \"type\": \"bar\"}], \"barpolar\": [{\"marker\": {\"line\": {\"color\": \"#E5ECF6\", \"width\": 0.5}}, \"type\": \"barpolar\"}], \"carpet\": [{\"aaxis\": {\"endlinecolor\": \"#2a3f5f\", \"gridcolor\": \"white\", \"linecolor\": \"white\", \"minorgridcolor\": \"white\", \"startlinecolor\": \"#2a3f5f\"}, \"baxis\": {\"endlinecolor\": \"#2a3f5f\", \"gridcolor\": \"white\", \"linecolor\": \"white\", \"minorgridcolor\": \"white\", \"startlinecolor\": \"#2a3f5f\"}, \"type\": \"carpet\"}], \"choropleth\": [{\"colorbar\": {\"outlinewidth\": 0, \"ticks\": \"\"}, \"type\": \"choropleth\"}], \"contour\": [{\"colorbar\": {\"outlinewidth\": 0, \"ticks\": \"\"}, \"colorscale\": [[0.0, \"#0d0887\"], [0.1111111111111111, \"#46039f\"], [0.2222222222222222, \"#7201a8\"], [0.3333333333333333, \"#9c179e\"], [0.4444444444444444, \"#bd3786\"], [0.5555555555555556, \"#d8576b\"], [0.6666666666666666, \"#ed7953\"], [0.7777777777777778, \"#fb9f3a\"], [0.8888888888888888, \"#fdca26\"], [1.0, \"#f0f921\"]], \"type\": \"contour\"}], \"contourcarpet\": [{\"colorbar\": {\"outlinewidth\": 0, \"ticks\": \"\"}, \"type\": \"contourcarpet\"}], \"heatmap\": [{\"colorbar\": {\"outlinewidth\": 0, \"ticks\": \"\"}, \"colorscale\": [[0.0, \"#0d0887\"], [0.1111111111111111, \"#46039f\"], [0.2222222222222222, \"#7201a8\"], [0.3333333333333333, \"#9c179e\"], [0.4444444444444444, \"#bd3786\"], [0.5555555555555556, \"#d8576b\"], [0.6666666666666666, \"#ed7953\"], [0.7777777777777778, \"#fb9f3a\"], [0.8888888888888888, \"#fdca26\"], [1.0, \"#f0f921\"]], \"type\": \"heatmap\"}], \"heatmapgl\": [{\"colorbar\": {\"outlinewidth\": 0, \"ticks\": \"\"}, \"colorscale\": [[0.0, \"#0d0887\"], [0.1111111111111111, \"#46039f\"], [0.2222222222222222, \"#7201a8\"], [0.3333333333333333, \"#9c179e\"], [0.4444444444444444, \"#bd3786\"], [0.5555555555555556, \"#d8576b\"], [0.6666666666666666, \"#ed7953\"], [0.7777777777777778, \"#fb9f3a\"], [0.8888888888888888, \"#fdca26\"], [1.0, \"#f0f921\"]], \"type\": \"heatmapgl\"}], \"histogram\": [{\"marker\": {\"colorbar\": {\"outlinewidth\": 0, \"ticks\": \"\"}}, \"type\": \"histogram\"}], \"histogram2d\": [{\"colorbar\": {\"outlinewidth\": 0, \"ticks\": \"\"}, \"colorscale\": [[0.0, \"#0d0887\"], [0.1111111111111111, \"#46039f\"], [0.2222222222222222, \"#7201a8\"], [0.3333333333333333, \"#9c179e\"], [0.4444444444444444, \"#bd3786\"], [0.5555555555555556, \"#d8576b\"], [0.6666666666666666, \"#ed7953\"], [0.7777777777777778, \"#fb9f3a\"], [0.8888888888888888, \"#fdca26\"], [1.0, \"#f0f921\"]], \"type\": \"histogram2d\"}], \"histogram2dcontour\": [{\"colorbar\": {\"outlinewidth\": 0, \"ticks\": \"\"}, \"colorscale\": [[0.0, \"#0d0887\"], [0.1111111111111111, \"#46039f\"], [0.2222222222222222, \"#7201a8\"], [0.3333333333333333, \"#9c179e\"], [0.4444444444444444, \"#bd3786\"], [0.5555555555555556, \"#d8576b\"], [0.6666666666666666, \"#ed7953\"], [0.7777777777777778, \"#fb9f3a\"], [0.8888888888888888, \"#fdca26\"], [1.0, \"#f0f921\"]], \"type\": \"histogram2dcontour\"}], \"mesh3d\": [{\"colorbar\": {\"outlinewidth\": 0, \"ticks\": \"\"}, \"type\": \"mesh3d\"}], \"parcoords\": [{\"line\": {\"colorbar\": {\"outlinewidth\": 0, \"ticks\": \"\"}}, \"type\": \"parcoords\"}], \"pie\": [{\"automargin\": true, \"type\": \"pie\"}], \"scatter\": [{\"marker\": {\"colorbar\": {\"outlinewidth\": 0, \"ticks\": \"\"}}, \"type\": \"scatter\"}], \"scatter3d\": [{\"line\": {\"colorbar\": {\"outlinewidth\": 0, \"ticks\": \"\"}}, \"marker\": {\"colorbar\": {\"outlinewidth\": 0, \"ticks\": \"\"}}, \"type\": \"scatter3d\"}], \"scattercarpet\": [{\"marker\": {\"colorbar\": {\"outlinewidth\": 0, \"ticks\": \"\"}}, \"type\": \"scattercarpet\"}], \"scattergeo\": [{\"marker\": {\"colorbar\": {\"outlinewidth\": 0, \"ticks\": \"\"}}, \"type\": \"scattergeo\"}], \"scattergl\": [{\"marker\": {\"colorbar\": {\"outlinewidth\": 0, \"ticks\": \"\"}}, \"type\": \"scattergl\"}], \"scattermapbox\": [{\"marker\": {\"colorbar\": {\"outlinewidth\": 0, \"ticks\": \"\"}}, \"type\": \"scattermapbox\"}], \"scatterpolar\": [{\"marker\": {\"colorbar\": {\"outlinewidth\": 0, \"ticks\": \"\"}}, \"type\": \"scatterpolar\"}], \"scatterpolargl\": [{\"marker\": {\"colorbar\": {\"outlinewidth\": 0, \"ticks\": \"\"}}, \"type\": \"scatterpolargl\"}], \"scatterternary\": [{\"marker\": {\"colorbar\": {\"outlinewidth\": 0, \"ticks\": \"\"}}, \"type\": \"scatterternary\"}], \"surface\": [{\"colorbar\": {\"outlinewidth\": 0, \"ticks\": \"\"}, \"colorscale\": [[0.0, \"#0d0887\"], [0.1111111111111111, \"#46039f\"], [0.2222222222222222, \"#7201a8\"], [0.3333333333333333, \"#9c179e\"], [0.4444444444444444, \"#bd3786\"], [0.5555555555555556, \"#d8576b\"], [0.6666666666666666, \"#ed7953\"], [0.7777777777777778, \"#fb9f3a\"], [0.8888888888888888, \"#fdca26\"], [1.0, \"#f0f921\"]], \"type\": \"surface\"}], \"table\": [{\"cells\": {\"fill\": {\"color\": \"#EBF0F8\"}, \"line\": {\"color\": \"white\"}}, \"header\": {\"fill\": {\"color\": \"#C8D4E3\"}, \"line\": {\"color\": \"white\"}}, \"type\": \"table\"}]}, \"layout\": {\"annotationdefaults\": {\"arrowcolor\": \"#2a3f5f\", \"arrowhead\": 0, \"arrowwidth\": 1}, \"coloraxis\": {\"colorbar\": {\"outlinewidth\": 0, \"ticks\": \"\"}}, \"colorscale\": {\"diverging\": [[0, \"#8e0152\"], [0.1, \"#c51b7d\"], [0.2, \"#de77ae\"], [0.3, \"#f1b6da\"], [0.4, \"#fde0ef\"], [0.5, \"#f7f7f7\"], [0.6, \"#e6f5d0\"], [0.7, \"#b8e186\"], [0.8, \"#7fbc41\"], [0.9, \"#4d9221\"], [1, \"#276419\"]], \"sequential\": [[0.0, \"#0d0887\"], [0.1111111111111111, \"#46039f\"], [0.2222222222222222, \"#7201a8\"], [0.3333333333333333, \"#9c179e\"], [0.4444444444444444, \"#bd3786\"], [0.5555555555555556, \"#d8576b\"], [0.6666666666666666, \"#ed7953\"], [0.7777777777777778, \"#fb9f3a\"], [0.8888888888888888, \"#fdca26\"], [1.0, \"#f0f921\"]], \"sequentialminus\": [[0.0, \"#0d0887\"], [0.1111111111111111, \"#46039f\"], [0.2222222222222222, \"#7201a8\"], [0.3333333333333333, \"#9c179e\"], [0.4444444444444444, \"#bd3786\"], [0.5555555555555556, \"#d8576b\"], [0.6666666666666666, \"#ed7953\"], [0.7777777777777778, \"#fb9f3a\"], [0.8888888888888888, \"#fdca26\"], [1.0, \"#f0f921\"]]}, \"colorway\": [\"#636efa\", \"#EF553B\", \"#00cc96\", \"#ab63fa\", \"#FFA15A\", \"#19d3f3\", \"#FF6692\", \"#B6E880\", \"#FF97FF\", \"#FECB52\"], \"font\": {\"color\": \"#2a3f5f\"}, \"geo\": {\"bgcolor\": \"white\", \"lakecolor\": \"white\", \"landcolor\": \"#E5ECF6\", \"showlakes\": true, \"showland\": true, \"subunitcolor\": \"white\"}, \"hoverlabel\": {\"align\": \"left\"}, \"hovermode\": \"closest\", \"mapbox\": {\"style\": \"light\"}, \"paper_bgcolor\": \"white\", \"plot_bgcolor\": \"#E5ECF6\", \"polar\": {\"angularaxis\": {\"gridcolor\": \"white\", \"linecolor\": \"white\", \"ticks\": \"\"}, \"bgcolor\": \"#E5ECF6\", \"radialaxis\": {\"gridcolor\": \"white\", \"linecolor\": \"white\", \"ticks\": \"\"}}, \"scene\": {\"xaxis\": {\"backgroundcolor\": \"#E5ECF6\", \"gridcolor\": \"white\", \"gridwidth\": 2, \"linecolor\": \"white\", \"showbackground\": true, \"ticks\": \"\", \"zerolinecolor\": \"white\"}, \"yaxis\": {\"backgroundcolor\": \"#E5ECF6\", \"gridcolor\": \"white\", \"gridwidth\": 2, \"linecolor\": \"white\", \"showbackground\": true, \"ticks\": \"\", \"zerolinecolor\": \"white\"}, \"zaxis\": {\"backgroundcolor\": \"#E5ECF6\", \"gridcolor\": \"white\", \"gridwidth\": 2, \"linecolor\": \"white\", \"showbackground\": true, \"ticks\": \"\", \"zerolinecolor\": \"white\"}}, \"shapedefaults\": {\"line\": {\"color\": \"#2a3f5f\"}}, \"ternary\": {\"aaxis\": {\"gridcolor\": \"white\", \"linecolor\": \"white\", \"ticks\": \"\"}, \"baxis\": {\"gridcolor\": \"white\", \"linecolor\": \"white\", \"ticks\": \"\"}, \"bgcolor\": \"#E5ECF6\", \"caxis\": {\"gridcolor\": \"white\", \"linecolor\": \"white\", \"ticks\": \"\"}}, \"title\": {\"x\": 0.05}, \"xaxis\": {\"automargin\": true, \"gridcolor\": \"white\", \"linecolor\": \"white\", \"ticks\": \"\", \"title\": {\"standoff\": 15}, \"zerolinecolor\": \"white\", \"zerolinewidth\": 2}, \"yaxis\": {\"automargin\": true, \"gridcolor\": \"white\", \"linecolor\": \"white\", \"ticks\": \"\", \"title\": {\"standoff\": 15}, \"zerolinecolor\": \"white\", \"zerolinewidth\": 2}}}, \"title\": {\"text\": \"Ohio Players stats that is in percentage (%) over the past 5 years\"}, \"yaxis\": {\"autorange\": true, \"dtick\": 5, \"gridcolor\": \"rgb(255, 255, 255)\", \"gridwidth\": 1, \"showgrid\": true, \"zeroline\": true, \"zerolinecolor\": \"rgb(255, 255, 255)\", \"zerolinewidth\": 2}},\n",
              "                        {\"responsive\": true}\n",
              "                    ).then(function(){\n",
              "                            \n",
              "var gd = document.getElementById('080227f1-1957-4e00-a7a9-0d963f95ef39');\n",
              "var x = new MutationObserver(function (mutations, observer) {{\n",
              "        var display = window.getComputedStyle(gd).display;\n",
              "        if (!display || display === 'none') {{\n",
              "            console.log([gd, 'removed!']);\n",
              "            Plotly.purge(gd);\n",
              "            observer.disconnect();\n",
              "        }}\n",
              "}});\n",
              "\n",
              "// Listen for the removal of the full notebook cells\n",
              "var notebookContainer = gd.closest('#notebook-container');\n",
              "if (notebookContainer) {{\n",
              "    x.observe(notebookContainer, {childList: true});\n",
              "}}\n",
              "\n",
              "// Listen for the clearing of the current output cell\n",
              "var outputEl = gd.closest('.output');\n",
              "if (outputEl) {{\n",
              "    x.observe(outputEl, {childList: true});\n",
              "}}\n",
              "\n",
              "                        })\n",
              "                };\n",
              "                \n",
              "            </script>\n",
              "        </div>\n",
              "</body>\n",
              "</html>"
            ]
          },
          "metadata": {
            "tags": []
          }
        }
      ]
    },
    {
      "cell_type": "markdown",
      "metadata": {
        "id": "nEz13sgdqChr"
      },
      "source": [
        "# Preprocessing data"
      ]
    },
    {
      "cell_type": "code",
      "metadata": {
        "id": "kFqcP23fmP7s"
      },
      "source": [
        "#CONVERT CATEGORICAL VALUE\n",
        "\n",
        "pt1['Pos']= pd.Categorical(pt1['Pos']) # Convert position category to numeric\n",
        "pt1['Pos'] = pt1.Pos.cat.codes\n",
        "\n",
        "pt2['Pos']= pd.Categorical(pt2['Pos']) # Convert position category to numeric\n",
        "pt2['Pos'] = pt2.Pos.cat.codes"
      ],
      "execution_count": null,
      "outputs": []
    },
    {
      "cell_type": "code",
      "metadata": {
        "id": "KqLNY1ep4vIy"
      },
      "source": [
        "pt1['Tm']= pd.Categorical(pt1['Tm']) # Convert position category to numeric\n",
        "pt1['Tm'] = pt1.Tm.cat.codes\n",
        "\n",
        "pt2['Tm']= pd.Categorical(pt2['Tm']) # Convert position category to numeric\n",
        "pt2['Tm'] = pt2.Tm.cat.codes"
      ],
      "execution_count": null,
      "outputs": []
    },
    {
      "cell_type": "code",
      "metadata": {
        "colab": {
          "base_uri": "https://localhost:8080/",
          "height": 204
        },
        "id": "TbJwEDjq4Y4-",
        "outputId": "e6f9a259-f7de-4971-cff2-4d90234fae9f"
      },
      "source": [
        "x_train = pt1.select_dtypes('number').drop(columns = ['Unnamed: 0', 'Rk','Norm','Salary'])\n",
        "y_train = pt1['Norm']\n",
        "x_train.head()"
      ],
      "execution_count": null,
      "outputs": [
        {
          "output_type": "execute_result",
          "data": {
            "text/html": [
              "<div>\n",
              "<style scoped>\n",
              "    .dataframe tbody tr th:only-of-type {\n",
              "        vertical-align: middle;\n",
              "    }\n",
              "\n",
              "    .dataframe tbody tr th {\n",
              "        vertical-align: top;\n",
              "    }\n",
              "\n",
              "    .dataframe thead th {\n",
              "        text-align: right;\n",
              "    }\n",
              "</style>\n",
              "<table border=\"1\" class=\"dataframe\">\n",
              "  <thead>\n",
              "    <tr style=\"text-align: right;\">\n",
              "      <th></th>\n",
              "      <th>Pos</th>\n",
              "      <th>Age</th>\n",
              "      <th>Tm</th>\n",
              "      <th>G</th>\n",
              "      <th>MP</th>\n",
              "      <th>PER</th>\n",
              "      <th>TS%</th>\n",
              "      <th>3PAr</th>\n",
              "      <th>FTr</th>\n",
              "      <th>ORB%</th>\n",
              "      <th>DRB%</th>\n",
              "      <th>TRB%</th>\n",
              "      <th>AST%</th>\n",
              "      <th>STL%</th>\n",
              "      <th>BLK%</th>\n",
              "      <th>TOV%</th>\n",
              "      <th>USG%</th>\n",
              "      <th>OWS</th>\n",
              "      <th>DWS</th>\n",
              "      <th>WS</th>\n",
              "      <th>WS/48</th>\n",
              "      <th>OBPM</th>\n",
              "      <th>DBPM</th>\n",
              "      <th>BPM</th>\n",
              "      <th>VORP</th>\n",
              "      <th>Year</th>\n",
              "    </tr>\n",
              "  </thead>\n",
              "  <tbody>\n",
              "    <tr>\n",
              "      <th>2</th>\n",
              "      <td>2</td>\n",
              "      <td>22</td>\n",
              "      <td>0</td>\n",
              "      <td>34</td>\n",
              "      <td>428</td>\n",
              "      <td>7.6</td>\n",
              "      <td>0.474</td>\n",
              "      <td>0.673</td>\n",
              "      <td>0.082</td>\n",
              "      <td>2.6</td>\n",
              "      <td>12.3</td>\n",
              "      <td>7.4</td>\n",
              "      <td>19.8</td>\n",
              "      <td>1.5</td>\n",
              "      <td>1.0</td>\n",
              "      <td>19.7</td>\n",
              "      <td>13.5</td>\n",
              "      <td>-0.1</td>\n",
              "      <td>0.2</td>\n",
              "      <td>0.1</td>\n",
              "      <td>0.011</td>\n",
              "      <td>-3.8</td>\n",
              "      <td>-0.5</td>\n",
              "      <td>-4.3</td>\n",
              "      <td>-0.2</td>\n",
              "      <td>19</td>\n",
              "    </tr>\n",
              "    <tr>\n",
              "      <th>3</th>\n",
              "      <td>0</td>\n",
              "      <td>25</td>\n",
              "      <td>20</td>\n",
              "      <td>80</td>\n",
              "      <td>2669</td>\n",
              "      <td>18.5</td>\n",
              "      <td>0.591</td>\n",
              "      <td>0.002</td>\n",
              "      <td>0.361</td>\n",
              "      <td>14.7</td>\n",
              "      <td>14.8</td>\n",
              "      <td>14.7</td>\n",
              "      <td>6.6</td>\n",
              "      <td>2.0</td>\n",
              "      <td>2.4</td>\n",
              "      <td>12.6</td>\n",
              "      <td>16.4</td>\n",
              "      <td>5.1</td>\n",
              "      <td>4.0</td>\n",
              "      <td>9.1</td>\n",
              "      <td>0.163</td>\n",
              "      <td>0.7</td>\n",
              "      <td>0.4</td>\n",
              "      <td>1.1</td>\n",
              "      <td>2.1</td>\n",
              "      <td>19</td>\n",
              "    </tr>\n",
              "    <tr>\n",
              "      <th>4</th>\n",
              "      <td>0</td>\n",
              "      <td>21</td>\n",
              "      <td>15</td>\n",
              "      <td>82</td>\n",
              "      <td>1913</td>\n",
              "      <td>17.9</td>\n",
              "      <td>0.623</td>\n",
              "      <td>0.031</td>\n",
              "      <td>0.465</td>\n",
              "      <td>9.2</td>\n",
              "      <td>24.0</td>\n",
              "      <td>16.6</td>\n",
              "      <td>14.2</td>\n",
              "      <td>1.8</td>\n",
              "      <td>3.0</td>\n",
              "      <td>17.1</td>\n",
              "      <td>15.8</td>\n",
              "      <td>3.4</td>\n",
              "      <td>3.4</td>\n",
              "      <td>6.8</td>\n",
              "      <td>0.171</td>\n",
              "      <td>-0.4</td>\n",
              "      <td>2.2</td>\n",
              "      <td>1.8</td>\n",
              "      <td>1.8</td>\n",
              "      <td>19</td>\n",
              "    </tr>\n",
              "    <tr>\n",
              "      <th>7</th>\n",
              "      <td>0</td>\n",
              "      <td>33</td>\n",
              "      <td>26</td>\n",
              "      <td>81</td>\n",
              "      <td>2687</td>\n",
              "      <td>22.9</td>\n",
              "      <td>0.576</td>\n",
              "      <td>0.032</td>\n",
              "      <td>0.312</td>\n",
              "      <td>10.3</td>\n",
              "      <td>19.8</td>\n",
              "      <td>15.1</td>\n",
              "      <td>11.6</td>\n",
              "      <td>0.8</td>\n",
              "      <td>3.4</td>\n",
              "      <td>8.8</td>\n",
              "      <td>26.9</td>\n",
              "      <td>6.4</td>\n",
              "      <td>2.9</td>\n",
              "      <td>9.3</td>\n",
              "      <td>0.167</td>\n",
              "      <td>2.4</td>\n",
              "      <td>-0.6</td>\n",
              "      <td>1.8</td>\n",
              "      <td>2.6</td>\n",
              "      <td>19</td>\n",
              "    </tr>\n",
              "    <tr>\n",
              "      <th>9</th>\n",
              "      <td>4</td>\n",
              "      <td>23</td>\n",
              "      <td>29</td>\n",
              "      <td>38</td>\n",
              "      <td>416</td>\n",
              "      <td>7.5</td>\n",
              "      <td>0.516</td>\n",
              "      <td>0.556</td>\n",
              "      <td>0.337</td>\n",
              "      <td>0.8</td>\n",
              "      <td>5.1</td>\n",
              "      <td>3.0</td>\n",
              "      <td>8.9</td>\n",
              "      <td>0.7</td>\n",
              "      <td>1.1</td>\n",
              "      <td>13.9</td>\n",
              "      <td>24.4</td>\n",
              "      <td>-0.4</td>\n",
              "      <td>0.4</td>\n",
              "      <td>0.0</td>\n",
              "      <td>0.002</td>\n",
              "      <td>-4.2</td>\n",
              "      <td>-2.1</td>\n",
              "      <td>-6.3</td>\n",
              "      <td>-0.5</td>\n",
              "      <td>19</td>\n",
              "    </tr>\n",
              "  </tbody>\n",
              "</table>\n",
              "</div>"
            ],
            "text/plain": [
              "   Pos  Age  Tm   G    MP   PER    TS%  ...   WS  WS/48  OBPM  DBPM  BPM  VORP  Year\n",
              "2    2   22   0  34   428   7.6  0.474  ...  0.1  0.011  -3.8  -0.5 -4.3  -0.2    19\n",
              "3    0   25  20  80  2669  18.5  0.591  ...  9.1  0.163   0.7   0.4  1.1   2.1    19\n",
              "4    0   21  15  82  1913  17.9  0.623  ...  6.8  0.171  -0.4   2.2  1.8   1.8    19\n",
              "7    0   33  26  81  2687  22.9  0.576  ...  9.3  0.167   2.4  -0.6  1.8   2.6    19\n",
              "9    4   23  29  38   416   7.5  0.516  ...  0.0  0.002  -4.2  -2.1 -6.3  -0.5    19\n",
              "\n",
              "[5 rows x 26 columns]"
            ]
          },
          "metadata": {
            "tags": []
          },
          "execution_count": 11
        }
      ]
    },
    {
      "cell_type": "code",
      "metadata": {
        "colab": {
          "base_uri": "https://localhost:8080/",
          "height": 204
        },
        "id": "M87XxtYN4zKs",
        "outputId": "3f055738-42a9-4e98-d1fa-f5501b2d30ac"
      },
      "source": [
        "x_test = pt2.select_dtypes('number').drop(columns = ['Unnamed: 0', 'Rk','Norm','Salary'])\n",
        "y_test = pt2['Norm']\n",
        "x_test.head()"
      ],
      "execution_count": null,
      "outputs": [
        {
          "output_type": "execute_result",
          "data": {
            "text/html": [
              "<div>\n",
              "<style scoped>\n",
              "    .dataframe tbody tr th:only-of-type {\n",
              "        vertical-align: middle;\n",
              "    }\n",
              "\n",
              "    .dataframe tbody tr th {\n",
              "        vertical-align: top;\n",
              "    }\n",
              "\n",
              "    .dataframe thead th {\n",
              "        text-align: right;\n",
              "    }\n",
              "</style>\n",
              "<table border=\"1\" class=\"dataframe\">\n",
              "  <thead>\n",
              "    <tr style=\"text-align: right;\">\n",
              "      <th></th>\n",
              "      <th>Pos</th>\n",
              "      <th>Age</th>\n",
              "      <th>Tm</th>\n",
              "      <th>G</th>\n",
              "      <th>MP</th>\n",
              "      <th>PER</th>\n",
              "      <th>TS%</th>\n",
              "      <th>3PAr</th>\n",
              "      <th>FTr</th>\n",
              "      <th>ORB%</th>\n",
              "      <th>DRB%</th>\n",
              "      <th>TRB%</th>\n",
              "      <th>AST%</th>\n",
              "      <th>STL%</th>\n",
              "      <th>BLK%</th>\n",
              "      <th>TOV%</th>\n",
              "      <th>USG%</th>\n",
              "      <th>OWS</th>\n",
              "      <th>DWS</th>\n",
              "      <th>WS</th>\n",
              "      <th>WS/48</th>\n",
              "      <th>OBPM</th>\n",
              "      <th>DBPM</th>\n",
              "      <th>BPM</th>\n",
              "      <th>VORP</th>\n",
              "      <th>Year</th>\n",
              "    </tr>\n",
              "  </thead>\n",
              "  <tbody>\n",
              "    <tr>\n",
              "      <th>0</th>\n",
              "      <td>0</td>\n",
              "      <td>26</td>\n",
              "      <td>20</td>\n",
              "      <td>63</td>\n",
              "      <td>1680</td>\n",
              "      <td>20.5</td>\n",
              "      <td>0.604</td>\n",
              "      <td>0.006</td>\n",
              "      <td>0.421</td>\n",
              "      <td>14.0</td>\n",
              "      <td>24.0</td>\n",
              "      <td>19.2</td>\n",
              "      <td>13.2</td>\n",
              "      <td>1.5</td>\n",
              "      <td>3.4</td>\n",
              "      <td>14.2</td>\n",
              "      <td>17.3</td>\n",
              "      <td>3.8</td>\n",
              "      <td>2.7</td>\n",
              "      <td>6.5</td>\n",
              "      <td>0.185</td>\n",
              "      <td>1.9</td>\n",
              "      <td>1.1</td>\n",
              "      <td>2.9</td>\n",
              "      <td>2.1</td>\n",
              "      <td>20</td>\n",
              "    </tr>\n",
              "    <tr>\n",
              "      <th>1</th>\n",
              "      <td>1</td>\n",
              "      <td>22</td>\n",
              "      <td>15</td>\n",
              "      <td>72</td>\n",
              "      <td>2417</td>\n",
              "      <td>20.3</td>\n",
              "      <td>0.598</td>\n",
              "      <td>0.018</td>\n",
              "      <td>0.484</td>\n",
              "      <td>8.5</td>\n",
              "      <td>24.9</td>\n",
              "      <td>17.0</td>\n",
              "      <td>24.2</td>\n",
              "      <td>1.7</td>\n",
              "      <td>3.8</td>\n",
              "      <td>17.6</td>\n",
              "      <td>21.2</td>\n",
              "      <td>4.6</td>\n",
              "      <td>3.9</td>\n",
              "      <td>8.5</td>\n",
              "      <td>0.168</td>\n",
              "      <td>1.4</td>\n",
              "      <td>2.0</td>\n",
              "      <td>3.4</td>\n",
              "      <td>3.3</td>\n",
              "      <td>20</td>\n",
              "    </tr>\n",
              "    <tr>\n",
              "      <th>2</th>\n",
              "      <td>0</td>\n",
              "      <td>34</td>\n",
              "      <td>26</td>\n",
              "      <td>53</td>\n",
              "      <td>1754</td>\n",
              "      <td>19.7</td>\n",
              "      <td>0.571</td>\n",
              "      <td>0.198</td>\n",
              "      <td>0.241</td>\n",
              "      <td>6.3</td>\n",
              "      <td>17.8</td>\n",
              "      <td>12.0</td>\n",
              "      <td>11.4</td>\n",
              "      <td>1.0</td>\n",
              "      <td>4.4</td>\n",
              "      <td>7.8</td>\n",
              "      <td>23.4</td>\n",
              "      <td>3.0</td>\n",
              "      <td>1.4</td>\n",
              "      <td>4.5</td>\n",
              "      <td>0.122</td>\n",
              "      <td>1.8</td>\n",
              "      <td>-0.5</td>\n",
              "      <td>1.4</td>\n",
              "      <td>1.5</td>\n",
              "      <td>20</td>\n",
              "    </tr>\n",
              "    <tr>\n",
              "      <th>4</th>\n",
              "      <td>4</td>\n",
              "      <td>21</td>\n",
              "      <td>18</td>\n",
              "      <td>47</td>\n",
              "      <td>591</td>\n",
              "      <td>8.9</td>\n",
              "      <td>0.473</td>\n",
              "      <td>0.500</td>\n",
              "      <td>0.139</td>\n",
              "      <td>1.6</td>\n",
              "      <td>13.5</td>\n",
              "      <td>7.5</td>\n",
              "      <td>21.1</td>\n",
              "      <td>1.3</td>\n",
              "      <td>1.1</td>\n",
              "      <td>16.1</td>\n",
              "      <td>23.3</td>\n",
              "      <td>-0.7</td>\n",
              "      <td>0.4</td>\n",
              "      <td>-0.2</td>\n",
              "      <td>-0.020</td>\n",
              "      <td>-3.2</td>\n",
              "      <td>-1.4</td>\n",
              "      <td>-4.6</td>\n",
              "      <td>-0.4</td>\n",
              "      <td>20</td>\n",
              "    </tr>\n",
              "    <tr>\n",
              "      <th>5</th>\n",
              "      <td>4</td>\n",
              "      <td>24</td>\n",
              "      <td>14</td>\n",
              "      <td>38</td>\n",
              "      <td>718</td>\n",
              "      <td>12.0</td>\n",
              "      <td>0.609</td>\n",
              "      <td>0.562</td>\n",
              "      <td>0.179</td>\n",
              "      <td>1.2</td>\n",
              "      <td>11.1</td>\n",
              "      <td>6.2</td>\n",
              "      <td>10.0</td>\n",
              "      <td>0.7</td>\n",
              "      <td>0.2</td>\n",
              "      <td>10.9</td>\n",
              "      <td>17.6</td>\n",
              "      <td>0.8</td>\n",
              "      <td>0.4</td>\n",
              "      <td>1.2</td>\n",
              "      <td>0.082</td>\n",
              "      <td>-0.1</td>\n",
              "      <td>-1.2</td>\n",
              "      <td>-1.3</td>\n",
              "      <td>0.1</td>\n",
              "      <td>20</td>\n",
              "    </tr>\n",
              "  </tbody>\n",
              "</table>\n",
              "</div>"
            ],
            "text/plain": [
              "   Pos  Age  Tm   G    MP   PER    TS%  ...   WS  WS/48  OBPM  DBPM  BPM  VORP  Year\n",
              "0    0   26  20  63  1680  20.5  0.604  ...  6.5  0.185   1.9   1.1  2.9   2.1    20\n",
              "1    1   22  15  72  2417  20.3  0.598  ...  8.5  0.168   1.4   2.0  3.4   3.3    20\n",
              "2    0   34  26  53  1754  19.7  0.571  ...  4.5  0.122   1.8  -0.5  1.4   1.5    20\n",
              "4    4   21  18  47   591   8.9  0.473  ... -0.2 -0.020  -3.2  -1.4 -4.6  -0.4    20\n",
              "5    4   24  14  38   718  12.0  0.609  ...  1.2  0.082  -0.1  -1.2 -1.3   0.1    20\n",
              "\n",
              "[5 rows x 26 columns]"
            ]
          },
          "metadata": {
            "tags": []
          },
          "execution_count": 12
        }
      ]
    },
    {
      "cell_type": "markdown",
      "metadata": {
        "id": "jQ80BP6tsbwe"
      },
      "source": [
        "### **Features Selected From Article **\n",
        "https://thesportjournal.org/article/determinants-of-nba-player-salaries/#:~:text=We%20found%20that%20points%20per,personal%20fouls%20were%20statistically%20significant."
      ]
    },
    {
      "cell_type": "code",
      "metadata": {
        "id": "ctvUccc_qAxj"
      },
      "source": [
        "# Features from Web\n",
        "\n",
        "x_train_1 = x_train[['TS%', '3PAr','FTr','TRB%','AST%','STL%','BLK%','MP']]\n",
        "x_test_1 = x_test[['TS%', '3PAr','FTr','TRB%','AST%','STL%','BLK%','MP']]"
      ],
      "execution_count": null,
      "outputs": []
    },
    {
      "cell_type": "code",
      "metadata": {
        "id": "Su76UKdCq2hl"
      },
      "source": [
        "from sklearn.linear_model import LinearRegression\n",
        "from sklearn.preprocessing import StandardScaler\n",
        "\n",
        "\n",
        "# create scalecr\n",
        "scaler = StandardScaler()\n",
        "X_train = scaler.fit_transform(x_train)\n",
        "x_test = scaler.transform(x_test)"
      ],
      "execution_count": null,
      "outputs": []
    },
    {
      "cell_type": "code",
      "metadata": {
        "id": "hZTwG9zGq3UX"
      },
      "source": [
        "lin_model = LinearRegression()\n",
        "lin_model.fit(x_train_1, y_train)\n",
        "score = lin_model.score(x_test_1, y_test)\n",
        "y_pred = lin_model.predict(x_test_1)"
      ],
      "execution_count": null,
      "outputs": []
    },
    {
      "cell_type": "code",
      "metadata": {
        "colab": {
          "base_uri": "https://localhost:8080/"
        },
        "id": "CW0t20NtrPl1",
        "outputId": "94b7112c-72c2-4454-f989-fa4e7e587e58"
      },
      "source": [
        "score"
      ],
      "execution_count": null,
      "outputs": [
        {
          "output_type": "execute_result",
          "data": {
            "text/plain": [
              "0.3771593189535822"
            ]
          },
          "metadata": {
            "tags": []
          },
          "execution_count": 18
        }
      ]
    },
    {
      "cell_type": "code",
      "metadata": {
        "colab": {
          "base_uri": "https://localhost:8080/"
        },
        "id": "6hAuG81ca7ij",
        "outputId": "7ede3fe8-64ab-4024-a8f7-8dcacf268727"
      },
      "source": [
        "pt2.Year.unique()"
      ],
      "execution_count": null,
      "outputs": [
        {
          "output_type": "execute_result",
          "data": {
            "text/plain": [
              "array([20])"
            ]
          },
          "metadata": {
            "tags": []
          },
          "execution_count": 62
        }
      ]
    },
    {
      "cell_type": "code",
      "metadata": {
        "id": "WUIoxntYa_me"
      },
      "source": [
        "result = pt1.append(pt2)"
      ],
      "execution_count": null,
      "outputs": []
    },
    {
      "cell_type": "code",
      "metadata": {
        "colab": {
          "base_uri": "https://localhost:8080/"
        },
        "id": "iXfH7TnRboXY",
        "outputId": "bb8794d1-c76b-4fd3-877c-c6833c27f05e"
      },
      "source": [
        "result.Year.unique()"
      ],
      "execution_count": null,
      "outputs": [
        {
          "output_type": "execute_result",
          "data": {
            "text/plain": [
              "array([19, 15, 16, 17, 18, 20])"
            ]
          },
          "metadata": {
            "tags": []
          },
          "execution_count": 64
        }
      ]
    },
    {
      "cell_type": "markdown",
      "metadata": {
        "id": "CSY0frqZdBEd"
      },
      "source": [
        "# Running models"
      ]
    },
    {
      "cell_type": "markdown",
      "metadata": {
        "id": "P_jKp8pt4WWZ"
      },
      "source": [
        "Testing model on all attributes"
      ]
    },
    {
      "cell_type": "markdown",
      "metadata": {
        "id": "BSvmkXGyh7bL"
      },
      "source": [
        "## RFE for Linear Regression"
      ]
    },
    {
      "cell_type": "code",
      "metadata": {
        "colab": {
          "base_uri": "https://localhost:8080/"
        },
        "id": "_OsXabZ6ecMe",
        "outputId": "7187825b-0a46-4ba2-8f12-93af6645888d"
      },
      "source": [
        "from sklearn.feature_selection import RFE\n",
        "from sklearn.linear_model import LinearRegression\n",
        "\n",
        "model = LinearRegression()\n",
        "rfe = RFE(model, 8)\n",
        "fit = rfe.fit(x_train, y_train)\n",
        "print(\"Num Features: %d\" % fit.n_features_)\n",
        "print(\"Selected Features: %s\" % fit.support_)\n",
        "print(\"Feature Ranking: %s\" % fit.ranking_)"
      ],
      "execution_count": null,
      "outputs": [
        {
          "output_type": "stream",
          "text": [
            "Num Features: 8\n",
            "Selected Features: [False False False False False False  True  True  True False False False\n",
            " False False False False False False  True  True  True  True False False\n",
            "  True False]\n",
            "Feature Ranking: [ 4  2 17 15 19 18  1  1  1 14  7  6 12  3 11  9  5 16  1  1  1  1  8 13\n",
            "  1 10]\n"
          ],
          "name": "stdout"
        }
      ]
    },
    {
      "cell_type": "code",
      "metadata": {
        "id": "60_ccHwPfMAi"
      },
      "source": [
        "# Pos\tAge\tTm\tG\tMP\tPER\tTS%\t3PAr\tFTr\tORB%\tDRB%\tTRB%\tAST%\tSTL%\tBLK%\tTOV%\tUSG%\tOWS\tDWS\tWS\tWS/48\tOBPM\tDBPM\tBPM\tVORP\tYear\n",
        "\n",
        "#Select features from RFE\n",
        "features_selected_from_RFE = ['TS%', '3PAr', 'FTr', 'DWS', \"WS\", \"WS/48\", \"OBPM\", \"VORP\"]\n",
        "newTrain_x = x_train[features_selected_from_RFE].copy()\n",
        "newTest_x = x_test[features_selected_from_RFE].copy()\n",
        "x_test = newTest_x\n",
        "x_train = newTrain_x"
      ],
      "execution_count": null,
      "outputs": []
    },
    {
      "cell_type": "markdown",
      "metadata": {
        "id": "x7MS4b9IbCs3"
      },
      "source": [
        "### Linear Regression - ALL Attributes"
      ]
    },
    {
      "cell_type": "code",
      "metadata": {
        "colab": {
          "base_uri": "https://localhost:8080/",
          "height": 221
        },
        "id": "EFFeyWiXfxNG",
        "outputId": "b8b9eb1c-7753-4405-d5b4-e5687d372f41"
      },
      "source": [
        "# Linear Regression RFE\n",
        "\n",
        "from sklearn.linear_model import LinearRegression\n",
        "from sklearn.preprocessing import StandardScaler\n",
        "\n",
        "\n",
        "# create scalecr\n",
        "scaler = StandardScaler()\n",
        "X_train = scaler.fit_transform(x_train)\n",
        "X_test = scaler.transform(x_test)\n",
        "\n",
        "lin_model = LinearRegression()\n",
        "\n",
        "lin_model.fit(X_train, y_train)\n",
        "y_pred = lin_model.predict(X_test)\n",
        "\n",
        "score = lin_model.score(X_test, y_test)\n",
        "print(score)\n",
        "y_salary_compare =pd.DataFrame({'Actual':y_test, 'Predicted':y_pred, 'player':pt2.Player, 'error': abs(y_test-y_pred)})\n",
        "y_salary_compare.head()"
      ],
      "execution_count": null,
      "outputs": [
        {
          "output_type": "stream",
          "text": [
            "0.4950410118993311\n"
          ],
          "name": "stdout"
        },
        {
          "output_type": "execute_result",
          "data": {
            "text/html": [
              "<div>\n",
              "<style scoped>\n",
              "    .dataframe tbody tr th:only-of-type {\n",
              "        vertical-align: middle;\n",
              "    }\n",
              "\n",
              "    .dataframe tbody tr th {\n",
              "        vertical-align: top;\n",
              "    }\n",
              "\n",
              "    .dataframe thead th {\n",
              "        text-align: right;\n",
              "    }\n",
              "</style>\n",
              "<table border=\"1\" class=\"dataframe\">\n",
              "  <thead>\n",
              "    <tr style=\"text-align: right;\">\n",
              "      <th></th>\n",
              "      <th>Actual</th>\n",
              "      <th>Predicted</th>\n",
              "      <th>player</th>\n",
              "      <th>error</th>\n",
              "    </tr>\n",
              "  </thead>\n",
              "  <tbody>\n",
              "    <tr>\n",
              "      <th>0</th>\n",
              "      <td>0.688100</td>\n",
              "      <td>0.410912</td>\n",
              "      <td>Steven Adams</td>\n",
              "      <td>0.277188</td>\n",
              "    </tr>\n",
              "    <tr>\n",
              "      <th>1</th>\n",
              "      <td>0.118947</td>\n",
              "      <td>0.527075</td>\n",
              "      <td>Bam Adebayo</td>\n",
              "      <td>0.408128</td>\n",
              "    </tr>\n",
              "    <tr>\n",
              "      <th>2</th>\n",
              "      <td>0.558057</td>\n",
              "      <td>0.346648</td>\n",
              "      <td>LaMarcus Aldridge</td>\n",
              "      <td>0.211409</td>\n",
              "    </tr>\n",
              "    <tr>\n",
              "      <th>4</th>\n",
              "      <td>0.072388</td>\n",
              "      <td>0.101855</td>\n",
              "      <td>Nickeil Alexander-Walker</td>\n",
              "      <td>0.029466</td>\n",
              "    </tr>\n",
              "    <tr>\n",
              "      <th>5</th>\n",
              "      <td>0.059185</td>\n",
              "      <td>0.130320</td>\n",
              "      <td>Grayson Allen</td>\n",
              "      <td>0.071135</td>\n",
              "    </tr>\n",
              "  </tbody>\n",
              "</table>\n",
              "</div>"
            ],
            "text/plain": [
              "     Actual  Predicted                    player     error\n",
              "0  0.688100   0.410912              Steven Adams  0.277188\n",
              "1  0.118947   0.527075               Bam Adebayo  0.408128\n",
              "2  0.558057   0.346648         LaMarcus Aldridge  0.211409\n",
              "4  0.072388   0.101855  Nickeil Alexander-Walker  0.029466\n",
              "5  0.059185   0.130320             Grayson Allen  0.071135"
            ]
          },
          "metadata": {
            "tags": []
          },
          "execution_count": 15
        }
      ]
    },
    {
      "cell_type": "code",
      "metadata": {
        "colab": {
          "base_uri": "https://localhost:8080/",
          "height": 215
        },
        "id": "sDZckU4G5Er3",
        "outputId": "74a367cf-e0d4-40ce-d263-4dffa3937043"
      },
      "source": [
        "from sklearn.linear_model import LinearRegression\n",
        "from sklearn.preprocessing import StandardScaler\n",
        "\n",
        "\n",
        "# create scalecr\n",
        "scaler = StandardScaler()\n",
        "X_train = scaler.fit_transform(x_train)\n",
        "X_test = scaler.transform(x_test)\n",
        "\n",
        "lin_model = LinearRegression()\n",
        "\n",
        "lin_model.fit(X_train, y_train)\n",
        "y_pred = lin_model.predict(X_test)\n",
        "\n",
        "score = lin_model.score(X_test, y_test)\n",
        "print(score)\n",
        "y_salary_compare =pd.DataFrame({'Actual':y_test, 'Predicted':y_pred, 'player':pt2.Player, 'error': abs(y_test-y_pred)})\n",
        "y_salary_compare.head()"
      ],
      "execution_count": null,
      "outputs": [
        {
          "output_type": "stream",
          "text": [
            "0.5688648689911695\n"
          ],
          "name": "stdout"
        },
        {
          "output_type": "execute_result",
          "data": {
            "text/html": [
              "<div>\n",
              "<style scoped>\n",
              "    .dataframe tbody tr th:only-of-type {\n",
              "        vertical-align: middle;\n",
              "    }\n",
              "\n",
              "    .dataframe tbody tr th {\n",
              "        vertical-align: top;\n",
              "    }\n",
              "\n",
              "    .dataframe thead th {\n",
              "        text-align: right;\n",
              "    }\n",
              "</style>\n",
              "<table border=\"1\" class=\"dataframe\">\n",
              "  <thead>\n",
              "    <tr style=\"text-align: right;\">\n",
              "      <th></th>\n",
              "      <th>Actual</th>\n",
              "      <th>Predicted</th>\n",
              "      <th>player</th>\n",
              "      <th>error</th>\n",
              "    </tr>\n",
              "  </thead>\n",
              "  <tbody>\n",
              "    <tr>\n",
              "      <th>0</th>\n",
              "      <td>0.688100</td>\n",
              "      <td>0.372307</td>\n",
              "      <td>Steven Adams</td>\n",
              "      <td>0.315793</td>\n",
              "    </tr>\n",
              "    <tr>\n",
              "      <th>1</th>\n",
              "      <td>0.118947</td>\n",
              "      <td>0.505561</td>\n",
              "      <td>Bam Adebayo</td>\n",
              "      <td>0.386613</td>\n",
              "    </tr>\n",
              "    <tr>\n",
              "      <th>2</th>\n",
              "      <td>0.558057</td>\n",
              "      <td>0.449389</td>\n",
              "      <td>LaMarcus Aldridge</td>\n",
              "      <td>0.108668</td>\n",
              "    </tr>\n",
              "    <tr>\n",
              "      <th>4</th>\n",
              "      <td>0.072388</td>\n",
              "      <td>0.003875</td>\n",
              "      <td>Nickeil Alexander-Walker</td>\n",
              "      <td>0.068513</td>\n",
              "    </tr>\n",
              "    <tr>\n",
              "      <th>5</th>\n",
              "      <td>0.059185</td>\n",
              "      <td>0.101627</td>\n",
              "      <td>Grayson Allen</td>\n",
              "      <td>0.042443</td>\n",
              "    </tr>\n",
              "  </tbody>\n",
              "</table>\n",
              "</div>"
            ],
            "text/plain": [
              "     Actual  Predicted                    player     error\n",
              "0  0.688100   0.372307              Steven Adams  0.315793\n",
              "1  0.118947   0.505561               Bam Adebayo  0.386613\n",
              "2  0.558057   0.449389         LaMarcus Aldridge  0.108668\n",
              "4  0.072388   0.003875  Nickeil Alexander-Walker  0.068513\n",
              "5  0.059185   0.101627             Grayson Allen  0.042443"
            ]
          },
          "metadata": {
            "tags": []
          },
          "execution_count": 51
        }
      ]
    },
    {
      "cell_type": "code",
      "metadata": {
        "id": "xvtCzFT-8bvm"
      },
      "source": [
        "df3 = y_salary_compare.loc[y_salary_compare.error >= 0.3]\n",
        "df3 = df3.reset_index(drop = True)\n",
        "#print(df3)\n",
        "\n",
        "#df4 = y_salary_compare.loc[df.y_pred >= 0.5]\n",
        "#df4 = df4.reset_index(drop = True)\n",
        "#print(df4)"
      ],
      "execution_count": null,
      "outputs": []
    },
    {
      "cell_type": "code",
      "metadata": {
        "colab": {
          "base_uri": "https://localhost:8080/",
          "height": 1000
        },
        "id": "PO18mcl9gqt0",
        "outputId": "ce64d5ed-25f6-4547-97f0-ba91650ed885"
      },
      "source": [
        "df3 #RFE"
      ],
      "execution_count": null,
      "outputs": [
        {
          "output_type": "execute_result",
          "data": {
            "text/html": [
              "<div>\n",
              "<style scoped>\n",
              "    .dataframe tbody tr th:only-of-type {\n",
              "        vertical-align: middle;\n",
              "    }\n",
              "\n",
              "    .dataframe tbody tr th {\n",
              "        vertical-align: top;\n",
              "    }\n",
              "\n",
              "    .dataframe thead th {\n",
              "        text-align: right;\n",
              "    }\n",
              "</style>\n",
              "<table border=\"1\" class=\"dataframe\">\n",
              "  <thead>\n",
              "    <tr style=\"text-align: right;\">\n",
              "      <th></th>\n",
              "      <th>Actual</th>\n",
              "      <th>Predicted</th>\n",
              "      <th>player</th>\n",
              "      <th>error</th>\n",
              "    </tr>\n",
              "  </thead>\n",
              "  <tbody>\n",
              "    <tr>\n",
              "      <th>0</th>\n",
              "      <td>0.118947</td>\n",
              "      <td>0.527075</td>\n",
              "      <td>Bam Adebayo</td>\n",
              "      <td>0.408128</td>\n",
              "    </tr>\n",
              "    <tr>\n",
              "      <th>1</th>\n",
              "      <td>0.090915</td>\n",
              "      <td>0.397834</td>\n",
              "      <td>Jarrett Allen</td>\n",
              "      <td>0.306920</td>\n",
              "    </tr>\n",
              "    <tr>\n",
              "      <th>2</th>\n",
              "      <td>0.802256</td>\n",
              "      <td>0.246433</td>\n",
              "      <td>Mike Conley</td>\n",
              "      <td>0.555823</td>\n",
              "    </tr>\n",
              "    <tr>\n",
              "      <th>3</th>\n",
              "      <td>1.000000</td>\n",
              "      <td>0.247761</td>\n",
              "      <td>Stephen Curry</td>\n",
              "      <td>0.752239</td>\n",
              "    </tr>\n",
              "    <tr>\n",
              "      <th>4</th>\n",
              "      <td>0.401979</td>\n",
              "      <td>0.070850</td>\n",
              "      <td>Gorgui Dieng</td>\n",
              "      <td>0.331128</td>\n",
              "    </tr>\n",
              "    <tr>\n",
              "      <th>5</th>\n",
              "      <td>0.668547</td>\n",
              "      <td>0.357946</td>\n",
              "      <td>Andre Drummond</td>\n",
              "      <td>0.310601</td>\n",
              "    </tr>\n",
              "    <tr>\n",
              "      <th>6</th>\n",
              "      <td>0.668547</td>\n",
              "      <td>0.159392</td>\n",
              "      <td>Andre Drummond</td>\n",
              "      <td>0.509155</td>\n",
              "    </tr>\n",
              "    <tr>\n",
              "      <th>7</th>\n",
              "      <td>0.824306</td>\n",
              "      <td>0.413941</td>\n",
              "      <td>Paul George</td>\n",
              "      <td>0.410365</td>\n",
              "    </tr>\n",
              "    <tr>\n",
              "      <th>8</th>\n",
              "      <td>0.096296</td>\n",
              "      <td>0.433387</td>\n",
              "      <td>Shai Gilgeous-Alexander</td>\n",
              "      <td>0.337091</td>\n",
              "    </tr>\n",
              "    <tr>\n",
              "      <th>9</th>\n",
              "      <td>0.517295</td>\n",
              "      <td>0.176921</td>\n",
              "      <td>Draymond Green</td>\n",
              "      <td>0.340373</td>\n",
              "    </tr>\n",
              "    <tr>\n",
              "      <th>10</th>\n",
              "      <td>0.855943</td>\n",
              "      <td>0.154217</td>\n",
              "      <td>Blake Griffin</td>\n",
              "      <td>0.701726</td>\n",
              "    </tr>\n",
              "    <tr>\n",
              "      <th>11</th>\n",
              "      <td>0.455996</td>\n",
              "      <td>0.134470</td>\n",
              "      <td>Gary Harris</td>\n",
              "      <td>0.321526</td>\n",
              "    </tr>\n",
              "    <tr>\n",
              "      <th>12</th>\n",
              "      <td>0.798925</td>\n",
              "      <td>0.407846</td>\n",
              "      <td>Tobias Harris</td>\n",
              "      <td>0.391079</td>\n",
              "    </tr>\n",
              "    <tr>\n",
              "      <th>13</th>\n",
              "      <td>0.778033</td>\n",
              "      <td>0.365905</td>\n",
              "      <td>Kyrie Irving</td>\n",
              "      <td>0.412128</td>\n",
              "    </tr>\n",
              "    <tr>\n",
              "      <th>14</th>\n",
              "      <td>0.373133</td>\n",
              "      <td>0.057214</td>\n",
              "      <td>James Johnson</td>\n",
              "      <td>0.315919</td>\n",
              "    </tr>\n",
              "    <tr>\n",
              "      <th>15</th>\n",
              "      <td>0.726829</td>\n",
              "      <td>0.345486</td>\n",
              "      <td>Kevin Love</td>\n",
              "      <td>0.381342</td>\n",
              "    </tr>\n",
              "    <tr>\n",
              "      <th>16</th>\n",
              "      <td>0.682554</td>\n",
              "      <td>0.358698</td>\n",
              "      <td>CJ McCollum</td>\n",
              "      <td>0.323855</td>\n",
              "    </tr>\n",
              "    <tr>\n",
              "      <th>17</th>\n",
              "      <td>0.120808</td>\n",
              "      <td>0.433546</td>\n",
              "      <td>Donovan Mitchell</td>\n",
              "      <td>0.312738</td>\n",
              "    </tr>\n",
              "    <tr>\n",
              "      <th>18</th>\n",
              "      <td>0.488300</td>\n",
              "      <td>0.135790</td>\n",
              "      <td>Victor Oladipo</td>\n",
              "      <td>0.352510</td>\n",
              "    </tr>\n",
              "    <tr>\n",
              "      <th>19</th>\n",
              "      <td>0.961691</td>\n",
              "      <td>0.507485</td>\n",
              "      <td>Chris Paul</td>\n",
              "      <td>0.454206</td>\n",
              "    </tr>\n",
              "    <tr>\n",
              "      <th>20</th>\n",
              "      <td>0.662442</td>\n",
              "      <td>0.154656</td>\n",
              "      <td>Otto Porter</td>\n",
              "      <td>0.507786</td>\n",
              "    </tr>\n",
              "    <tr>\n",
              "      <th>21</th>\n",
              "      <td>0.666163</td>\n",
              "      <td>0.359319</td>\n",
              "      <td>D'Angelo Russell</td>\n",
              "      <td>0.306844</td>\n",
              "    </tr>\n",
              "    <tr>\n",
              "      <th>22</th>\n",
              "      <td>0.666163</td>\n",
              "      <td>0.358326</td>\n",
              "      <td>D'Angelo Russell</td>\n",
              "      <td>0.307837</td>\n",
              "    </tr>\n",
              "    <tr>\n",
              "      <th>23</th>\n",
              "      <td>0.666163</td>\n",
              "      <td>0.210381</td>\n",
              "      <td>D'Angelo Russell</td>\n",
              "      <td>0.455782</td>\n",
              "    </tr>\n",
              "    <tr>\n",
              "      <th>24</th>\n",
              "      <td>0.230132</td>\n",
              "      <td>0.547857</td>\n",
              "      <td>Jayson Tatum</td>\n",
              "      <td>0.317726</td>\n",
              "    </tr>\n",
              "    <tr>\n",
              "      <th>25</th>\n",
              "      <td>0.799396</td>\n",
              "      <td>0.473116</td>\n",
              "      <td>Kemba Walker</td>\n",
              "      <td>0.326279</td>\n",
              "    </tr>\n",
              "    <tr>\n",
              "      <th>26</th>\n",
              "      <td>0.961691</td>\n",
              "      <td>0.409979</td>\n",
              "      <td>Russell Westbrook</td>\n",
              "      <td>0.551712</td>\n",
              "    </tr>\n",
              "    <tr>\n",
              "      <th>27</th>\n",
              "      <td>0.053947</td>\n",
              "      <td>0.472406</td>\n",
              "      <td>Hassan Whiteside</td>\n",
              "      <td>0.418459</td>\n",
              "    </tr>\n",
              "    <tr>\n",
              "      <th>28</th>\n",
              "      <td>0.686922</td>\n",
              "      <td>0.293969</td>\n",
              "      <td>Andrew Wiggins</td>\n",
              "      <td>0.392953</td>\n",
              "    </tr>\n",
              "    <tr>\n",
              "      <th>29</th>\n",
              "      <td>0.686922</td>\n",
              "      <td>0.270808</td>\n",
              "      <td>Andrew Wiggins</td>\n",
              "      <td>0.416113</td>\n",
              "    </tr>\n",
              "    <tr>\n",
              "      <th>30</th>\n",
              "      <td>0.686922</td>\n",
              "      <td>0.203721</td>\n",
              "      <td>Andrew Wiggins</td>\n",
              "      <td>0.483200</td>\n",
              "    </tr>\n",
              "    <tr>\n",
              "      <th>31</th>\n",
              "      <td>0.152810</td>\n",
              "      <td>0.509618</td>\n",
              "      <td>Trae Young</td>\n",
              "      <td>0.356808</td>\n",
              "    </tr>\n",
              "  </tbody>\n",
              "</table>\n",
              "</div>"
            ],
            "text/plain": [
              "      Actual  Predicted                   player     error\n",
              "0   0.118947   0.527075              Bam Adebayo  0.408128\n",
              "1   0.090915   0.397834            Jarrett Allen  0.306920\n",
              "2   0.802256   0.246433              Mike Conley  0.555823\n",
              "3   1.000000   0.247761            Stephen Curry  0.752239\n",
              "4   0.401979   0.070850             Gorgui Dieng  0.331128\n",
              "5   0.668547   0.357946           Andre Drummond  0.310601\n",
              "6   0.668547   0.159392           Andre Drummond  0.509155\n",
              "7   0.824306   0.413941              Paul George  0.410365\n",
              "8   0.096296   0.433387  Shai Gilgeous-Alexander  0.337091\n",
              "9   0.517295   0.176921           Draymond Green  0.340373\n",
              "10  0.855943   0.154217            Blake Griffin  0.701726\n",
              "11  0.455996   0.134470              Gary Harris  0.321526\n",
              "12  0.798925   0.407846            Tobias Harris  0.391079\n",
              "13  0.778033   0.365905             Kyrie Irving  0.412128\n",
              "14  0.373133   0.057214            James Johnson  0.315919\n",
              "15  0.726829   0.345486               Kevin Love  0.381342\n",
              "16  0.682554   0.358698              CJ McCollum  0.323855\n",
              "17  0.120808   0.433546         Donovan Mitchell  0.312738\n",
              "18  0.488300   0.135790           Victor Oladipo  0.352510\n",
              "19  0.961691   0.507485               Chris Paul  0.454206\n",
              "20  0.662442   0.154656              Otto Porter  0.507786\n",
              "21  0.666163   0.359319         D'Angelo Russell  0.306844\n",
              "22  0.666163   0.358326         D'Angelo Russell  0.307837\n",
              "23  0.666163   0.210381         D'Angelo Russell  0.455782\n",
              "24  0.230132   0.547857             Jayson Tatum  0.317726\n",
              "25  0.799396   0.473116             Kemba Walker  0.326279\n",
              "26  0.961691   0.409979        Russell Westbrook  0.551712\n",
              "27  0.053947   0.472406         Hassan Whiteside  0.418459\n",
              "28  0.686922   0.293969           Andrew Wiggins  0.392953\n",
              "29  0.686922   0.270808           Andrew Wiggins  0.416113\n",
              "30  0.686922   0.203721           Andrew Wiggins  0.483200\n",
              "31  0.152810   0.509618               Trae Young  0.356808"
            ]
          },
          "metadata": {
            "tags": []
          },
          "execution_count": 22
        }
      ]
    },
    {
      "cell_type": "code",
      "metadata": {
        "colab": {
          "base_uri": "https://localhost:8080/",
          "height": 621
        },
        "id": "zYDIEUK8HLCD",
        "outputId": "49d136d8-d8d9-403a-e324-86b58803d4ad"
      },
      "source": [
        "plt.figure(figsize=(20,10))\n",
        "plt.plot(y_salary_compare['Predicted'],y_salary_compare['Predicted'], color = 'black')\n",
        "plt.scatter(y_salary_compare['Predicted'], y_salary_compare['Actual'])\n",
        "plt.ylabel('Actual Salary')\n",
        "plt.xlabel('Predicted Salary')\n",
        "plt.title('RFE Attributes - Simple Linear Regression Model')\n",
        "#for i in range(df4.shape[0]):\n",
        "    #plt.text(x=df4.Predicted[i],y=df4.Actual[i],s=df4.player[i])\n",
        "\n",
        "for i in range(df3.shape[0]):\n",
        "  plt.text(x=df3.Predicted[i],y=df3.Actual[i],s=df3.player[i])"
      ],
      "execution_count": null,
      "outputs": [
        {
          "output_type": "display_data",
          "data": {
            "image/png": "[encoded data removed]",
            "text/plain": [
              "<Figure size 1440x720 with 1 Axes>"
            ]
          },
          "metadata": {
            "tags": [],
            "needs_background": "light"
          }
        }
      ]
    },
    {
      "cell_type": "code",
      "metadata": {
        "colab": {
          "base_uri": "https://localhost:8080/",
          "height": 215
        },
        "id": "SYC0rSqQItXr",
        "outputId": "74b7dbde-2c15-4217-c7b2-81b6eec2580c"
      },
      "source": [
        "\n",
        "from sklearn.linear_model import LinearRegression\n",
        "from sklearn.preprocessing import StandardScaler\n",
        "\n",
        "\n",
        "# create scalecr\n",
        "scaler = StandardScaler()\n",
        "X_train = scaler.fit_transform(x_train)\n",
        "x_test = scaler.transform(x_test)\n",
        "\n",
        "lin_model = LinearRegression()\n",
        "\n",
        "lin_model.fit(X_train, y_train)\n",
        "y_pred = lin_model.predict(x_test)\n",
        "\n",
        "score = lin_model.score(x_test, y_test)\n",
        "print(score)\n",
        "y_salary_compare =pd.DataFrame({'Actual':y_test, 'Predicted':y_pred})\n",
        "y_salary_compare.head()"
      ],
      "execution_count": null,
      "outputs": [
        {
          "output_type": "stream",
          "text": [
            "0.3976884272875484\n"
          ],
          "name": "stdout"
        },
        {
          "output_type": "execute_result",
          "data": {
            "text/html": [
              "<div>\n",
              "<style scoped>\n",
              "    .dataframe tbody tr th:only-of-type {\n",
              "        vertical-align: middle;\n",
              "    }\n",
              "\n",
              "    .dataframe tbody tr th {\n",
              "        vertical-align: top;\n",
              "    }\n",
              "\n",
              "    .dataframe thead th {\n",
              "        text-align: right;\n",
              "    }\n",
              "</style>\n",
              "<table border=\"1\" class=\"dataframe\">\n",
              "  <thead>\n",
              "    <tr style=\"text-align: right;\">\n",
              "      <th></th>\n",
              "      <th>Actual</th>\n",
              "      <th>Predicted</th>\n",
              "    </tr>\n",
              "  </thead>\n",
              "  <tbody>\n",
              "    <tr>\n",
              "      <th>0</th>\n",
              "      <td>0.688100</td>\n",
              "      <td>0.386728</td>\n",
              "    </tr>\n",
              "    <tr>\n",
              "      <th>1</th>\n",
              "      <td>0.118947</td>\n",
              "      <td>0.523370</td>\n",
              "    </tr>\n",
              "    <tr>\n",
              "      <th>2</th>\n",
              "      <td>0.558057</td>\n",
              "      <td>0.302466</td>\n",
              "    </tr>\n",
              "    <tr>\n",
              "      <th>4</th>\n",
              "      <td>0.072388</td>\n",
              "      <td>0.121547</td>\n",
              "    </tr>\n",
              "    <tr>\n",
              "      <th>5</th>\n",
              "      <td>0.059185</td>\n",
              "      <td>0.183320</td>\n",
              "    </tr>\n",
              "  </tbody>\n",
              "</table>\n",
              "</div>"
            ],
            "text/plain": [
              "     Actual  Predicted\n",
              "0  0.688100   0.386728\n",
              "1  0.118947   0.523370\n",
              "2  0.558057   0.302466\n",
              "4  0.072388   0.121547\n",
              "5  0.059185   0.183320"
            ]
          },
          "metadata": {
            "tags": []
          },
          "execution_count": 13
        }
      ]
    },
    {
      "cell_type": "code",
      "metadata": {
        "id": "8jTvkVLvDX5h"
      },
      "source": [
        "y_score = lin_model.score(y_test, y_pred)"
      ],
      "execution_count": null,
      "outputs": []
    },
    {
      "cell_type": "markdown",
      "metadata": {
        "id": "3d7UEog0lerF"
      },
      "source": [
        "### **Linear Regression - Correlation Matrix**"
      ]
    },
    {
      "cell_type": "code",
      "metadata": {
        "colab": {
          "base_uri": "https://localhost:8080/",
          "height": 611
        },
        "id": "R5oeeT0mmN7D",
        "outputId": "492d8309-8bb0-4f6b-c5a0-428d783367ca"
      },
      "source": [
        "corr = pt1.corr()\n",
        "mask = np.zeros_like(corr)\n",
        "mask[np.triu_indices_from(mask)] = True\n",
        "plt.figure(figsize = (10,10))\n",
        "sns.heatmap(corr, mask = mask, square = True)"
      ],
      "execution_count": null,
      "outputs": [
        {
          "output_type": "execute_result",
          "data": {
            "text/plain": [
              "<matplotlib.axes._subplots.AxesSubplot at 0x7fac68585dd0>"
            ]
          },
          "metadata": {
            "tags": []
          },
          "execution_count": 33
        },
        {
          "output_type": "display_data",
          "data": {
            "image/png": "[encoded data removed]",
            "text/plain": [
              "<Figure size 720x720 with 2 Axes>"
            ]
          },
          "metadata": {
            "tags": [],
            "needs_background": "light"
          }
        }
      ]
    },
    {
      "cell_type": "code",
      "metadata": {
        "colab": {
          "base_uri": "https://localhost:8080/"
        },
        "id": "QdsUbcwnUFxg",
        "outputId": "511ee31b-e8ee-445e-a1a8-b27d486fd705"
      },
      "source": [
        "corr1 = pd.DataFrame(corr.loc[corr['Norm']>0.4])\n",
        "\n",
        "list_features_corr = corr1.index.values\n",
        "print(list_features_corr)"
      ],
      "execution_count": null,
      "outputs": [
        {
          "output_type": "stream",
          "text": [
            "['MP' 'PER' 'USG%' 'OWS' 'DWS' 'WS' 'OBPM' 'BPM' 'VORP' 'Salary' 'Norm']\n"
          ],
          "name": "stdout"
        }
      ]
    },
    {
      "cell_type": "code",
      "metadata": {
        "colab": {
          "base_uri": "https://localhost:8080/",
          "height": 198
        },
        "id": "iRiJiohCVLBi",
        "outputId": "41338fd5-edd3-4360-c5de-fa6a84037fd5"
      },
      "source": [
        "x_train.head()"
      ],
      "execution_count": null,
      "outputs": [
        {
          "output_type": "execute_result",
          "data": {
            "text/html": [
              "<div>\n",
              "<style scoped>\n",
              "    .dataframe tbody tr th:only-of-type {\n",
              "        vertical-align: middle;\n",
              "    }\n",
              "\n",
              "    .dataframe tbody tr th {\n",
              "        vertical-align: top;\n",
              "    }\n",
              "\n",
              "    .dataframe thead th {\n",
              "        text-align: right;\n",
              "    }\n",
              "</style>\n",
              "<table border=\"1\" class=\"dataframe\">\n",
              "  <thead>\n",
              "    <tr style=\"text-align: right;\">\n",
              "      <th></th>\n",
              "      <th>Pos</th>\n",
              "      <th>Age</th>\n",
              "      <th>Tm</th>\n",
              "      <th>G</th>\n",
              "      <th>MP</th>\n",
              "      <th>PER</th>\n",
              "      <th>TS%</th>\n",
              "      <th>3PAr</th>\n",
              "      <th>FTr</th>\n",
              "      <th>ORB%</th>\n",
              "      <th>DRB%</th>\n",
              "      <th>TRB%</th>\n",
              "      <th>AST%</th>\n",
              "      <th>STL%</th>\n",
              "      <th>BLK%</th>\n",
              "      <th>TOV%</th>\n",
              "      <th>USG%</th>\n",
              "      <th>OWS</th>\n",
              "      <th>DWS</th>\n",
              "      <th>WS</th>\n",
              "      <th>WS/48</th>\n",
              "      <th>OBPM</th>\n",
              "      <th>DBPM</th>\n",
              "      <th>BPM</th>\n",
              "      <th>VORP</th>\n",
              "      <th>Year</th>\n",
              "    </tr>\n",
              "  </thead>\n",
              "  <tbody>\n",
              "    <tr>\n",
              "      <th>2</th>\n",
              "      <td>2</td>\n",
              "      <td>22</td>\n",
              "      <td>0</td>\n",
              "      <td>34</td>\n",
              "      <td>428</td>\n",
              "      <td>7.6</td>\n",
              "      <td>0.474</td>\n",
              "      <td>0.673</td>\n",
              "      <td>0.082</td>\n",
              "      <td>2.6</td>\n",
              "      <td>12.3</td>\n",
              "      <td>7.4</td>\n",
              "      <td>19.8</td>\n",
              "      <td>1.5</td>\n",
              "      <td>1.0</td>\n",
              "      <td>19.7</td>\n",
              "      <td>13.5</td>\n",
              "      <td>-0.1</td>\n",
              "      <td>0.2</td>\n",
              "      <td>0.1</td>\n",
              "      <td>0.011</td>\n",
              "      <td>-3.8</td>\n",
              "      <td>-0.5</td>\n",
              "      <td>-4.3</td>\n",
              "      <td>-0.2</td>\n",
              "      <td>19</td>\n",
              "    </tr>\n",
              "    <tr>\n",
              "      <th>3</th>\n",
              "      <td>0</td>\n",
              "      <td>25</td>\n",
              "      <td>20</td>\n",
              "      <td>80</td>\n",
              "      <td>2669</td>\n",
              "      <td>18.5</td>\n",
              "      <td>0.591</td>\n",
              "      <td>0.002</td>\n",
              "      <td>0.361</td>\n",
              "      <td>14.7</td>\n",
              "      <td>14.8</td>\n",
              "      <td>14.7</td>\n",
              "      <td>6.6</td>\n",
              "      <td>2.0</td>\n",
              "      <td>2.4</td>\n",
              "      <td>12.6</td>\n",
              "      <td>16.4</td>\n",
              "      <td>5.1</td>\n",
              "      <td>4.0</td>\n",
              "      <td>9.1</td>\n",
              "      <td>0.163</td>\n",
              "      <td>0.7</td>\n",
              "      <td>0.4</td>\n",
              "      <td>1.1</td>\n",
              "      <td>2.1</td>\n",
              "      <td>19</td>\n",
              "    </tr>\n",
              "    <tr>\n",
              "      <th>4</th>\n",
              "      <td>0</td>\n",
              "      <td>21</td>\n",
              "      <td>15</td>\n",
              "      <td>82</td>\n",
              "      <td>1913</td>\n",
              "      <td>17.9</td>\n",
              "      <td>0.623</td>\n",
              "      <td>0.031</td>\n",
              "      <td>0.465</td>\n",
              "      <td>9.2</td>\n",
              "      <td>24.0</td>\n",
              "      <td>16.6</td>\n",
              "      <td>14.2</td>\n",
              "      <td>1.8</td>\n",
              "      <td>3.0</td>\n",
              "      <td>17.1</td>\n",
              "      <td>15.8</td>\n",
              "      <td>3.4</td>\n",
              "      <td>3.4</td>\n",
              "      <td>6.8</td>\n",
              "      <td>0.171</td>\n",
              "      <td>-0.4</td>\n",
              "      <td>2.2</td>\n",
              "      <td>1.8</td>\n",
              "      <td>1.8</td>\n",
              "      <td>19</td>\n",
              "    </tr>\n",
              "    <tr>\n",
              "      <th>7</th>\n",
              "      <td>0</td>\n",
              "      <td>33</td>\n",
              "      <td>26</td>\n",
              "      <td>81</td>\n",
              "      <td>2687</td>\n",
              "      <td>22.9</td>\n",
              "      <td>0.576</td>\n",
              "      <td>0.032</td>\n",
              "      <td>0.312</td>\n",
              "      <td>10.3</td>\n",
              "      <td>19.8</td>\n",
              "      <td>15.1</td>\n",
              "      <td>11.6</td>\n",
              "      <td>0.8</td>\n",
              "      <td>3.4</td>\n",
              "      <td>8.8</td>\n",
              "      <td>26.9</td>\n",
              "      <td>6.4</td>\n",
              "      <td>2.9</td>\n",
              "      <td>9.3</td>\n",
              "      <td>0.167</td>\n",
              "      <td>2.4</td>\n",
              "      <td>-0.6</td>\n",
              "      <td>1.8</td>\n",
              "      <td>2.6</td>\n",
              "      <td>19</td>\n",
              "    </tr>\n",
              "    <tr>\n",
              "      <th>9</th>\n",
              "      <td>4</td>\n",
              "      <td>23</td>\n",
              "      <td>29</td>\n",
              "      <td>38</td>\n",
              "      <td>416</td>\n",
              "      <td>7.5</td>\n",
              "      <td>0.516</td>\n",
              "      <td>0.556</td>\n",
              "      <td>0.337</td>\n",
              "      <td>0.8</td>\n",
              "      <td>5.1</td>\n",
              "      <td>3.0</td>\n",
              "      <td>8.9</td>\n",
              "      <td>0.7</td>\n",
              "      <td>1.1</td>\n",
              "      <td>13.9</td>\n",
              "      <td>24.4</td>\n",
              "      <td>-0.4</td>\n",
              "      <td>0.4</td>\n",
              "      <td>0.0</td>\n",
              "      <td>0.002</td>\n",
              "      <td>-4.2</td>\n",
              "      <td>-2.1</td>\n",
              "      <td>-6.3</td>\n",
              "      <td>-0.5</td>\n",
              "      <td>19</td>\n",
              "    </tr>\n",
              "  </tbody>\n",
              "</table>\n",
              "</div>"
            ],
            "text/plain": [
              "   Pos  Age  Tm   G    MP   PER    TS%  ...   WS  WS/48  OBPM  DBPM  BPM  VORP  Year\n",
              "2    2   22   0  34   428   7.6  0.474  ...  0.1  0.011  -3.8  -0.5 -4.3  -0.2    19\n",
              "3    0   25  20  80  2669  18.5  0.591  ...  9.1  0.163   0.7   0.4  1.1   2.1    19\n",
              "4    0   21  15  82  1913  17.9  0.623  ...  6.8  0.171  -0.4   2.2  1.8   1.8    19\n",
              "7    0   33  26  81  2687  22.9  0.576  ...  9.3  0.167   2.4  -0.6  1.8   2.6    19\n",
              "9    4   23  29  38   416   7.5  0.516  ...  0.0  0.002  -4.2  -2.1 -6.3  -0.5    19\n",
              "\n",
              "[5 rows x 26 columns]"
            ]
          },
          "metadata": {
            "tags": []
          },
          "execution_count": 24
        }
      ]
    },
    {
      "cell_type": "code",
      "metadata": {
        "id": "OM36iQANFkxX"
      },
      "source": [
        "'''Extracted correlated'''\n",
        "#train_corr = pt1[['MP','OWS','DWS','WS','VORP']]\n",
        "x_train = x_train[['MP', 'PER', 'USG%', 'OWS', 'DWS' ,'WS' ,'OBPM', 'BPM', 'VORP']]\n",
        "x_test = x_test[['MP', 'PER', 'USG%', 'OWS', 'DWS' ,'WS' ,'OBPM', 'BPM', 'VORP']]\n",
        "y_train = pt1['Norm']\n",
        "y_test = pt2['Norm']"
      ],
      "execution_count": null,
      "outputs": []
    },
    {
      "cell_type": "code",
      "metadata": {
        "colab": {
          "base_uri": "https://localhost:8080/"
        },
        "id": "XHcRRdKapyI6",
        "outputId": "74119365-e624-4167-f381-453cf5fd116b"
      },
      "source": [
        "\n",
        "\n",
        "\n",
        "\n",
        "from sklearn.linear_model import LinearRegression\n",
        "from sklearn.preprocessing import StandardScaler\n",
        "from sklearn.model_selection import train_test_split\n",
        "\n",
        "\n",
        "# create scalecr\n",
        "scaler = StandardScaler()\n",
        "X_train = scaler.fit_transform(x_train)\n",
        "X_test = scaler.transform(x_test)\n",
        "\n",
        "lin_model = LinearRegression()\n",
        "\n",
        "lin_model.fit(X_train, y_train)\n",
        "y_pred = lin_model.predict(X_test)\n",
        "\n",
        "\n",
        "score = lin_model.score(X_test, y_test)\n",
        "score"
      ],
      "execution_count": null,
      "outputs": [
        {
          "output_type": "execute_result",
          "data": {
            "text/plain": [
              "0.5013751326899993"
            ]
          },
          "metadata": {
            "tags": []
          },
          "execution_count": 28
        }
      ]
    },
    {
      "cell_type": "code",
      "metadata": {
        "id": "2jNLyfhTDhAH"
      },
      "source": [
        "corr_compare = pd.DataFrame({'actual': y_test, 'predicted': y_pred, 'player': pt2.Player, 'error': abs(y_test-y_pred)})"
      ],
      "execution_count": null,
      "outputs": []
    },
    {
      "cell_type": "code",
      "metadata": {
        "colab": {
          "base_uri": "https://localhost:8080/",
          "height": 198
        },
        "id": "xzl5MKD5W7e3",
        "outputId": "44b4f82e-9ed5-4366-8b52-0c7de3d3df5e"
      },
      "source": [
        "corr_compare.head()"
      ],
      "execution_count": null,
      "outputs": [
        {
          "output_type": "execute_result",
          "data": {
            "text/html": [
              "<div>\n",
              "<style scoped>\n",
              "    .dataframe tbody tr th:only-of-type {\n",
              "        vertical-align: middle;\n",
              "    }\n",
              "\n",
              "    .dataframe tbody tr th {\n",
              "        vertical-align: top;\n",
              "    }\n",
              "\n",
              "    .dataframe thead th {\n",
              "        text-align: right;\n",
              "    }\n",
              "</style>\n",
              "<table border=\"1\" class=\"dataframe\">\n",
              "  <thead>\n",
              "    <tr style=\"text-align: right;\">\n",
              "      <th></th>\n",
              "      <th>actual</th>\n",
              "      <th>predicted</th>\n",
              "      <th>player</th>\n",
              "      <th>error</th>\n",
              "    </tr>\n",
              "  </thead>\n",
              "  <tbody>\n",
              "    <tr>\n",
              "      <th>0</th>\n",
              "      <td>0.688100</td>\n",
              "      <td>0.357649</td>\n",
              "      <td>Steven Adams</td>\n",
              "      <td>0.330452</td>\n",
              "    </tr>\n",
              "    <tr>\n",
              "      <th>1</th>\n",
              "      <td>0.118947</td>\n",
              "      <td>0.503398</td>\n",
              "      <td>Bam Adebayo</td>\n",
              "      <td>0.384450</td>\n",
              "    </tr>\n",
              "    <tr>\n",
              "      <th>2</th>\n",
              "      <td>0.558057</td>\n",
              "      <td>0.341514</td>\n",
              "      <td>LaMarcus Aldridge</td>\n",
              "      <td>0.216543</td>\n",
              "    </tr>\n",
              "    <tr>\n",
              "      <th>4</th>\n",
              "      <td>0.072388</td>\n",
              "      <td>0.115157</td>\n",
              "      <td>Nickeil Alexander-Walker</td>\n",
              "      <td>0.042768</td>\n",
              "    </tr>\n",
              "    <tr>\n",
              "      <th>5</th>\n",
              "      <td>0.059185</td>\n",
              "      <td>0.141671</td>\n",
              "      <td>Grayson Allen</td>\n",
              "      <td>0.082486</td>\n",
              "    </tr>\n",
              "  </tbody>\n",
              "</table>\n",
              "</div>"
            ],
            "text/plain": [
              "     actual  predicted                    player     error\n",
              "0  0.688100   0.357649              Steven Adams  0.330452\n",
              "1  0.118947   0.503398               Bam Adebayo  0.384450\n",
              "2  0.558057   0.341514         LaMarcus Aldridge  0.216543\n",
              "4  0.072388   0.115157  Nickeil Alexander-Walker  0.042768\n",
              "5  0.059185   0.141671             Grayson Allen  0.082486"
            ]
          },
          "metadata": {
            "tags": []
          },
          "execution_count": 33
        }
      ]
    },
    {
      "cell_type": "code",
      "metadata": {
        "colab": {
          "base_uri": "https://localhost:8080/"
        },
        "id": "BDjEXmqwE8-T",
        "outputId": "11a126f5-bf3a-4409-dd00-38d2b12f15d0"
      },
      "source": [
        "df5 = corr_compare.loc[corr_compare.error >= 0.3]\n",
        "df5 = df5.reset_index(drop = True)\n",
        "print(df5)\n",
        "\n",
        "#df6 = corr_compare.loc[corr_compare.predicted >= 0.5]\n",
        "#df6 = df6.reset_index(drop = True)\n",
        "#print(df6)"
      ],
      "execution_count": null,
      "outputs": [
        {
          "output_type": "stream",
          "text": [
            "      actual  predicted                   player     error\n",
            "0   0.688100   0.357649             Steven Adams  0.330452\n",
            "1   0.118947   0.503398              Bam Adebayo  0.384450\n",
            "2   0.802256   0.262533              Mike Conley  0.539724\n",
            "3   1.000000   0.228253            Stephen Curry  0.771747\n",
            "4   0.401979   0.080541             Gorgui Dieng  0.321438\n",
            "5   0.668547   0.350189           Andre Drummond  0.318358\n",
            "6   0.668547   0.155245           Andre Drummond  0.513302\n",
            "7   0.824306   0.438065              Paul George  0.386241\n",
            "8   0.096296   0.444662  Shai Gilgeous-Alexander  0.348367\n",
            "9   0.517295   0.164320           Draymond Green  0.352974\n",
            "10  0.855943   0.165143            Blake Griffin  0.690800\n",
            "11  0.798925   0.426610            Tobias Harris  0.372315\n",
            "12  0.778033   0.351383             Kyrie Irving  0.426649\n",
            "13  0.726829   0.362845               Kevin Love  0.363984\n",
            "14  0.120808   0.485000         Donovan Mitchell  0.364192\n",
            "15  0.488300   0.151476           Victor Oladipo  0.336824\n",
            "16  0.961691   0.514739               Chris Paul  0.446952\n",
            "17  0.662442   0.146538              Otto Porter  0.515905\n",
            "18  0.666163   0.343686         D'Angelo Russell  0.322477\n",
            "19  0.666163   0.212276         D'Angelo Russell  0.453887\n",
            "20  0.230132   0.562918             Jayson Tatum  0.332787\n",
            "21  0.799396   0.479233             Kemba Walker  0.320163\n",
            "22  0.961691   0.455345        Russell Westbrook  0.506346\n",
            "23  0.053947   0.434047         Hassan Whiteside  0.380101\n",
            "24  0.686922   0.322408           Andrew Wiggins  0.364514\n",
            "25  0.686922   0.287205           Andrew Wiggins  0.399717\n",
            "26  0.686922   0.178229           Andrew Wiggins  0.508693\n",
            "27  0.152810   0.551306               Trae Young  0.398496\n"
          ],
          "name": "stdout"
        }
      ]
    },
    {
      "cell_type": "code",
      "metadata": {
        "colab": {
          "base_uri": "https://localhost:8080/",
          "height": 621
        },
        "id": "yIPMOwG7Dd3b",
        "outputId": "e78cc13e-fa99-4832-be41-e2e716345001"
      },
      "source": [
        "plt.figure(figsize=(20,10))\n",
        "plt.plot(corr_compare['predicted'],corr_compare['predicted'], color = 'black')\n",
        "plt.scatter(corr_compare['predicted'], corr_compare['actual'])\n",
        "plt.ylabel('Actual Salary')\n",
        "plt.xlabel('Predicted Salary')\n",
        "plt.title('Simple Linear Regression - Attributes attained from correlation matrix')\n",
        "for i in range(df5.shape[0]):\n",
        "   plt.text(x=df5.predicted[i],y=df5.actual[i],s=df5.player[i])\n",
        "\n",
        "#for i in range(df6.shape[0]):\n",
        "   #plt.text(x=df6.predicted[i],y=df6.actual[i],s=df6.player[i])"
      ],
      "execution_count": null,
      "outputs": [
        {
          "output_type": "display_data",
          "data": {
            "image/png": "[encoded data removed]",
            "text/plain": [
              "<Figure size 1440x720 with 1 Axes>"
            ]
          },
          "metadata": {
            "tags": [],
            "needs_background": "light"
          }
        }
      ]
    },
    {
      "cell_type": "markdown",
      "metadata": {
        "id": "gtCCHPMl__pM"
      },
      "source": [
        "### **Random Forest Regressor**"
      ]
    },
    {
      "cell_type": "code",
      "metadata": {
        "colab": {
          "base_uri": "https://localhost:8080/"
        },
        "id": "4-UtvPvUf_N0",
        "outputId": "d02ca480-7abe-4e24-9028-ba95f99f2186"
      },
      "source": [
        "#Random Forest Regressor (RFE Features)\n",
        "\n",
        "from sklearn.ensemble import RandomForestRegressor\n",
        "from sklearn.preprocessing import StandardScaler\n",
        "\n",
        "\n",
        "\n",
        "# create scalecr\n",
        "scaler = StandardScaler()\n",
        "X_train = scaler.fit_transform(x_train)\n",
        "X_test = scaler.transform(x_test)\n",
        "# Instantiate model with 1000 decision trees\n",
        "#rf = RandomForestRegressor(n_estimators = 200)\n",
        "rf = RandomForestRegressor(max_depth = 10, random_state = 42)\n",
        "rf.fit(X_train, y_train)\n",
        "y_pred = rf.predict(X_test)\n",
        "\n",
        "\n",
        "score = rf.score(X_test, y_test )\n",
        "print(score) #RFE"
      ],
      "execution_count": null,
      "outputs": [
        {
          "output_type": "stream",
          "text": [
            "0.4921119786943316\n"
          ],
          "name": "stdout"
        }
      ]
    },
    {
      "cell_type": "code",
      "metadata": {
        "id": "LRzQsdqfADze"
      },
      "source": [
        "# Import the model we are using\n",
        "from sklearn.ensemble import RandomForestRegressor\n",
        "from sklearn.preprocessing import StandardScaler\n",
        "\n",
        "\n",
        "\n",
        "# create scalecr\n",
        "scaler = StandardScaler()\n",
        "X_train = scaler.fit_transform(x_train)\n",
        "X_test = scaler.transform(x_test)\n",
        "# Instantiate model with 1000 decision trees\n",
        "#rf = RandomForestRegressor(n_estimators = 200)\n",
        "rf = RandomForestRegressor(max_depth = 10, random_state = 42)\n",
        "rf.fit(X_train, y_train)\n",
        "y_pred = rf.predict(X_test)\n",
        "\n",
        "\n",
        "score = rf.score(X_test, y_test )\n"
      ],
      "execution_count": null,
      "outputs": []
    },
    {
      "cell_type": "code",
      "metadata": {
        "colab": {
          "base_uri": "https://localhost:8080/"
        },
        "id": "2221qhuds0DB",
        "outputId": "c9c75642-96a2-46f5-9dcf-0dc5a9c31507"
      },
      "source": [
        "score #Correlatin Matrix attributes"
      ],
      "execution_count": null,
      "outputs": [
        {
          "output_type": "execute_result",
          "data": {
            "text/plain": [
              "0.49450036672786896"
            ]
          },
          "metadata": {
            "tags": []
          },
          "execution_count": 37
        }
      ]
    },
    {
      "cell_type": "code",
      "metadata": {
        "colab": {
          "base_uri": "https://localhost:8080/"
        },
        "id": "FlMimdLnJHs2",
        "outputId": "920c44ac-a4fd-4525-e41c-ac32a318ce33"
      },
      "source": [
        "print(score) #score for all attributes"
      ],
      "execution_count": null,
      "outputs": [
        {
          "output_type": "stream",
          "text": [
            "0.5039988683149506\n"
          ],
          "name": "stdout"
        }
      ]
    },
    {
      "cell_type": "code",
      "metadata": {
        "colab": {
          "base_uri": "https://localhost:8080/"
        },
        "id": "ghpX4pmiro0B",
        "outputId": "901ec325-963a-40b9-ef9d-b2d43a7cef10"
      },
      "source": [
        "rf.fit(x_train_1, y_train) #Website Attributes\n",
        "score = rf.score(x_test_1, y_test)\n",
        "score"
      ],
      "execution_count": null,
      "outputs": [
        {
          "output_type": "execute_result",
          "data": {
            "text/plain": [
              "0.3893425176086171"
            ]
          },
          "metadata": {
            "tags": []
          },
          "execution_count": 21
        }
      ]
    },
    {
      "cell_type": "code",
      "metadata": {
        "colab": {
          "base_uri": "https://localhost:8080/"
        },
        "id": "m-fedKR8BBGG",
        "outputId": "45ae0a3c-7647-4875-9e15-e06acdbc442a"
      },
      "source": [
        "errors = abs(y_pred - y_test)\n",
        "# Print out the mean absolute error (mae)\n",
        "print('Mean Absolute Error:', round(np.mean(errors), 2), 'degrees.')"
      ],
      "execution_count": null,
      "outputs": [
        {
          "output_type": "stream",
          "text": [
            "Mean Absolute Error: 0.09 degrees.\n"
          ],
          "name": "stdout"
        }
      ]
    },
    {
      "cell_type": "code",
      "metadata": {
        "colab": {
          "base_uri": "https://localhost:8080/"
        },
        "id": "1XfLdsqBBF-t",
        "outputId": "f804be27-45b3-42b3-f3f1-11699d0c66be"
      },
      "source": [
        "from sklearn import metrics\n",
        "\n",
        "print('Mean Absolute Error:', metrics.mean_absolute_error(y_test, y_pred))\n",
        "print('Mean Squared Error:', metrics.mean_squared_error(y_test, y_pred))\n",
        "print('Root Mean Squared Error:', np.sqrt(metrics.mean_squared_error(y_test, y_pred)))"
      ],
      "execution_count": null,
      "outputs": [
        {
          "output_type": "stream",
          "text": [
            "Mean Absolute Error: 0.08975246112589956\n",
            "Mean Squared Error: 0.017574441022987913\n",
            "Root Mean Squared Error: 0.1325686275971352\n"
          ],
          "name": "stdout"
        }
      ]
    },
    {
      "cell_type": "code",
      "metadata": {
        "id": "nHRB0fPiDC7k"
      },
      "source": [
        "import matplotlib.pyplot as plt\n",
        "# Dataframe with predictions and dates\n",
        "#predictions_data = pd.DataFrame(data = {'curren salary': test_dates, 'prediction': predictions})\n",
        "# Plot the actual values\n",
        "df = pd.DataFrame({'y_actual': y_test,'y_pred': y_pred, 'player': pt2['Player'], 'error': abs(y_test-y_pred)})\n",
        "#print(df)\n",
        "#sns.scatterplot(df['y_pred'], df['y_actual'], sizes = 10)\n",
        "#sns.lineplot(df['y_pred'],df['y_pred'], palette='set1')\n",
        "\n",
        "\n",
        " "
      ],
      "execution_count": null,
      "outputs": []
    },
    {
      "cell_type": "code",
      "metadata": {
        "colab": {
          "base_uri": "https://localhost:8080/"
        },
        "id": "vXQqPtzAaoVc",
        "outputId": "13c1d615-1493-4fef-9454-be9101b87fac"
      },
      "source": [
        "df1 = df.loc[df.error >= 0.3]\n",
        "df1 = df1.reset_index(drop = True)\n",
        "print(df1) #RFE\n",
        "\n",
        "#df2 = df.loc[df.y_pred >= 0.5]\n",
        "#df2 = df2.reset_index(drop = True)\n",
        "#print(df2)\n"
      ],
      "execution_count": null,
      "outputs": [
        {
          "output_type": "stream",
          "text": [
            "    y_actual    y_pred                   player     error\n",
            "0   0.118947  0.550037              Bam Adebayo  0.431090\n",
            "1   0.802256  0.218278              Mike Conley  0.583978\n",
            "2   1.000000  0.095525            Stephen Curry  0.904475\n",
            "3   0.401979  0.083521             Gorgui Dieng  0.318458\n",
            "4   0.668547  0.283185           Andre Drummond  0.385362\n",
            "5   0.668547  0.298927           Andre Drummond  0.369620\n",
            "6   0.668547  0.111859           Andre Drummond  0.556688\n",
            "7   0.188336  0.500737             De'Aaron Fox  0.312401\n",
            "8   0.096296  0.514692  Shai Gilgeous-Alexander  0.418396\n",
            "9   0.855943  0.108159            Blake Griffin  0.747784\n",
            "10  0.798925  0.486416            Tobias Harris  0.312508\n",
            "11  0.118707  0.422385             Jaxson Hayes  0.303678\n",
            "12  0.639440  0.273998               Al Horford  0.365442\n",
            "13  0.059637  0.362250            Dwight Howard  0.302613\n",
            "14  0.120808  0.485535         Donovan Mitchell  0.364727\n",
            "15  0.488300  0.120137           Victor Oladipo  0.368163\n",
            "16  0.961691  0.660259               Chris Paul  0.301431\n",
            "17  0.662442  0.156179              Otto Porter  0.506264\n",
            "18  0.666163  0.292374         D'Angelo Russell  0.373789\n",
            "19  0.710574  0.345302            Pascal Siakam  0.365272\n",
            "20  0.710574  0.361611              Ben Simmons  0.348963\n",
            "21  0.230132  0.610081             Jayson Tatum  0.379950\n",
            "22  0.961691  0.459506        Russell Westbrook  0.502185\n",
            "23  0.686922  0.350207           Andrew Wiggins  0.336714\n",
            "24  0.686922  0.287371           Andrew Wiggins  0.399551\n",
            "25  0.686922  0.123679           Andrew Wiggins  0.563242\n",
            "26  0.152810  0.634333               Trae Young  0.481523\n"
          ],
          "name": "stdout"
        }
      ]
    },
    {
      "cell_type": "code",
      "metadata": {
        "colab": {
          "base_uri": "https://localhost:8080/",
          "height": 621
        },
        "id": "4ZV1TLnm4LCr",
        "outputId": "dd50f718-5354-4cd0-d3a0-d85d78d6d284"
      },
      "source": [
        "plt.figure(figsize=(20,10))\n",
        "plt.plot(df['y_pred'],df['y_pred'], color = 'black')\n",
        "plt.scatter(df['y_pred'], df['y_actual'])\n",
        "plt.ylabel('Actual Salary')\n",
        "plt.xlabel('Predicted Salary')\n",
        "plt.title('Random Forest Regressor - All Attributes')\n",
        "for i in range(df1.shape[0]):\n",
        "    plt.text(x=df1.y_pred[i],y=df1.y_actual[i],s=df1.player[i])\n",
        "    #plt.text(x=df2.y_pred[i],y=df2.y_actual[i],s=df2.player[i])"
      ],
      "execution_count": null,
      "outputs": [
        {
          "output_type": "display_data",
          "data": {
            "image/png": "[encoded data removed]",
            "text/plain": [
              "<Figure size 1440x720 with 1 Axes>"
            ]
          },
          "metadata": {
            "tags": [],
            "needs_background": "light"
          }
        }
      ]
    },
    {
      "cell_type": "markdown",
      "metadata": {
        "id": "2ElrjCw9lUR9"
      },
      "source": [
        "# Insert EDA on 5 years data"
      ]
    },
    {
      "cell_type": "code",
      "metadata": {
        "colab": {
          "base_uri": "https://localhost:8080/",
          "height": 634
        },
        "id": "Ef5Kupx2QMKs",
        "outputId": "b3a9dcab-5475-4563-ece7-9039a59c15aa"
      },
      "source": [
        "\n",
        "plt.figure(figsize = (10,10))\n",
        "sns.boxplot(x = pt1['Year'], y = pt1['Salary'], hue = pt1.Year)"
      ],
      "execution_count": null,
      "outputs": [
        {
          "output_type": "execute_result",
          "data": {
            "text/plain": [
              "<matplotlib.axes._subplots.AxesSubplot at 0x7f0091d07fd0>"
            ]
          },
          "metadata": {
            "tags": []
          },
          "execution_count": 26
        },
        {
          "output_type": "display_data",
          "data": {
            "image/png": "[encoded data removed]",
            "text/plain": [
              "<Figure size 720x720 with 1 Axes>"
            ]
          },
          "metadata": {
            "tags": []
          }
        }
      ]
    },
    {
      "cell_type": "code",
      "metadata": {
        "colab": {
          "base_uri": "https://localhost:8080/",
          "height": 634
        },
        "id": "uvk0CrQbRnbz",
        "outputId": "be19f1be-44dc-40de-facb-3d1992db0661"
      },
      "source": [
        "\n",
        "plt.figure(figsize = (15,10))\n",
        "sns.barplot(x = pt1.Tm, y = pt1['Salary'])"
      ],
      "execution_count": null,
      "outputs": [
        {
          "output_type": "execute_result",
          "data": {
            "text/plain": [
              "<matplotlib.axes._subplots.AxesSubplot at 0x7f009030c550>"
            ]
          },
          "metadata": {
            "tags": []
          },
          "execution_count": 25
        },
        {
          "output_type": "display_data",
          "data": {
            "image/png": "[encoded data removed]",
            "text/plain": [
              "<Figure size 1080x720 with 1 Axes>"
            ]
          },
          "metadata": {
            "tags": []
          }
        }
      ]
    },
    {
      "cell_type": "code",
      "metadata": {
        "colab": {
          "base_uri": "https://localhost:8080/",
          "height": 634
        },
        "id": "Ew4leEobS93t",
        "outputId": "6454f243-4a1f-44a4-8f55-80a4577541e2"
      },
      "source": [
        "\n",
        "plt.figure(figsize = (10,10))\n",
        "sns.boxplot(x = pt1['Pos'], y = pt1['Salary'], hue = pt1.Pos)"
      ],
      "execution_count": null,
      "outputs": [
        {
          "output_type": "execute_result",
          "data": {
            "text/plain": [
              "<matplotlib.axes._subplots.AxesSubplot at 0x7facfb469bd0>"
            ]
          },
          "metadata": {
            "tags": []
          },
          "execution_count": 10
        },
        {
          "output_type": "display_data",
          "data": {
            "image/png": "[encoded data removed]",
            "text/plain": [
              "<Figure size 720x720 with 1 Axes>"
            ]
          },
          "metadata": {
            "tags": [],
            "needs_background": "light"
          }
        }
      ]
    },
    {
      "cell_type": "code",
      "metadata": {
        "id": "r4VRKW1ldBfx"
      },
      "source": [
        "num = pt1.select_dtypes('number').drop(columns = ['Norm','Salary'])\n",
        "g = sns.FacetGrid(data=num)\n",
        "g.map(plt.dist,'age')"
      ],
      "execution_count": null,
      "outputs": []
    },
    {
      "cell_type": "code",
      "metadata": {
        "id": "osCy7F5ep-nN"
      },
      "source": [
        ""
      ],
      "execution_count": null,
      "outputs": []
    }
  ]
}